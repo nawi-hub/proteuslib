{
 "cells": [
  {
   "cell_type": "markdown",
   "metadata": {},
   "source": [
    "# AEESP Workshop Tutorial on WaterTAP\n",
    "## Prerequisites\n",
    "### * Python\n",
    "### * Pyomo\n",
    "### * IDAES"
   ]
  },
  {
   "cell_type": "markdown",
   "metadata": {},
   "source": [
    "## Pyomo Example"
   ]
  },
  {
   "cell_type": "markdown",
   "metadata": {},
   "source": [
    "$${\\Huge\n",
    "\\begin{array}\n",
    " \\text{\\min} & x_1^2 + x_2^2  \\\\\n",
    " \\text{s.t.} & x_1 + 2 x_2 \\geq 1 \n",
    "\\end{array}}$$"
   ]
  },
  {
   "cell_type": "markdown",
   "metadata": {},
   "source": [
    "### Solving Graphically"
   ]
  },
  {
   "cell_type": "code",
   "execution_count": null,
   "metadata": {},
   "outputs": [],
   "source": [
    "import matplotlib.pyplot as plt\n",
    "import numpy as np\n",
    "\n",
    "v= np.linspace(-1,1,1000)\n",
    "x1, x2 = np.meshgrid(v,v)\n",
    "z = x1**2 + x2**2\n",
    "def _z(x1,x2):\n",
    "    if x1 + 2*x2 >= 1:\n",
    "        return x1**2 + x2**2\n",
    "    else:\n",
    "        return float('nan')\n",
    "z = np.vectorize(_z)(x1,x2)\n",
    "plt.figure(figsize=(16,12))\n",
    "plt.xlim(-1,1)\n",
    "plt.ylim(-1,1)\n",
    "plt.axline((-1,1),(1,0), color='r')\n",
    "plt.contourf(x1,x2,z,25)\n",
    "plt.plot(0.2,0.4,'ro')\n",
    "plt.colorbar()\n",
    "plt.show()"
   ]
  },
  {
   "cell_type": "markdown",
   "metadata": {},
   "source": [
    "### Solving with Pyomo"
   ]
  },
  {
   "cell_type": "code",
   "execution_count": null,
   "metadata": {},
   "outputs": [],
   "source": [
    "import pyomo.environ as pyo\n",
    "from idaes.core.solvers import get_solver\n",
    "\n",
    "m = pyo.ConcreteModel()\n",
    "m.x = pyo.Var([1, 2], domain=pyo.Reals)\n",
    "m.obj = pyo.Objective(expr=m.x[1]**2 + m.x[2]**2)\n",
    "m.con = pyo.Constraint(expr=m.x[1] + 2*m.x[2] >= 1)\n",
    "\n",
    "solver = get_solver()\n",
    "results = solver.solve(m, tee=False)\n",
    "\n",
    "if pyo.check_optimal_termination(results):\n",
    "print(f\"\\nx1: {m.x[1].value:.2f}, x2: {m.x[2].value:.2f}, objective: {pyo.value(m.obj):.2f}\")"
   ]
  },
  {
   "cell_type": "markdown",
   "metadata": {},
   "source": [
    "## Property Model Example"
   ]
  },
  {
   "cell_type": "code",
   "execution_count": null,
   "metadata": {},
   "outputs": [],
   "source": []
  },
  {
   "cell_type": "code",
   "execution_count": null,
   "metadata": {},
   "outputs": [],
   "source": []
  },
  {
   "cell_type": "code",
   "execution_count": null,
   "metadata": {},
   "outputs": [],
   "source": []
  },
  {
   "cell_type": "code",
   "execution_count": null,
   "metadata": {},
   "outputs": [],
   "source": []
  },
  {
   "cell_type": "code",
   "execution_count": null,
   "metadata": {},
   "outputs": [],
   "source": []
  },
  {
   "cell_type": "markdown",
   "metadata": {},
   "source": [
    "## Introduction to the Reverse Osmosis Unit Model\n",
    "This section shows how to build, initialize, simulate, and optimize a simplified reverse osmosis (RO) unit model using WaterTAP. In this example, we will minimize the specific energy consumption of the RO unit."
   ]
  },
  {
   "cell_type": "markdown",
   "metadata": {},
   "source": [
    "### Step 1: Import libraries."
   ]
  },
  {
   "cell_type": "code",
   "execution_count": null,
   "metadata": {},
   "outputs": [],
   "source": [
    "# Imports from Pyomo, including \"value\" for getting the \n",
    "# value of Pyomo objects\n",
    "from pyomo.environ import ConcreteModel, Objective, Expression, value\n",
    "\n",
    "# Imports from IDAES\n",
    "# Import flowsheet block from IDAES core\n",
    "from idaes.core import FlowsheetBlock\n",
    "# Import function to get default solver\n",
    "from idaes.core.solvers import get_solver\n",
    "# Import function to check degrees of freedom\n",
    "from idaes.core.util.model_statistics import degrees_of_freedom\n",
    "# Import utility function for calculating scaling factors\n",
    "from idaes.core.util.scaling import calculate_scaling_factors\n",
    "\n",
    "# Imports from WaterTAP\n",
    "# Import NaCl property model\n",
    "from watertap.property_models.NaCl_prop_pack import NaClParameterBlock\n",
    "# Import RO model\n",
    "from watertap.unit_models.reverse_osmosis_0D import (ReverseOsmosis0D,\n",
    "        ConcentrationPolarizationType, MassTransferCoefficient)"
   ]
  },
  {
   "cell_type": "markdown",
   "metadata": {},
   "source": [
    "### Step 2: Start building the RO model."
   ]
  },
  {
   "cell_type": "code",
   "execution_count": null,
   "metadata": {},
   "outputs": [],
   "source": [
    "# Create a Pyomo concrete model, flowsheet, and NaCl property parameter block.\n",
    "m = ConcreteModel()\n",
    "m.fs = FlowsheetBlock(default={'dynamic':False})\n",
    "m.fs.properties = NaClParameterBlock()"
   ]
  },
  {
   "cell_type": "code",
   "execution_count": null,
   "metadata": {},
   "outputs": [],
   "source": [
    "# Add an RO unit to the flowsheet.\n",
    "m.fs.unit = ReverseOsmosis0D(default={\n",
    "    \"property_package\": m.fs.properties,\n",
    "    \"concentration_polarization_type\": ConcentrationPolarizationType.none,\n",
    "    \"mass_transfer_coefficient\": MassTransferCoefficient.none,\n",
    "    \"has_pressure_change\": False,\n",
    "    })"
   ]
  },
  {
   "cell_type": "markdown",
   "metadata": {},
   "source": [
    "### Step 3: Specify values for system variables."
   ]
  },
  {
   "cell_type": "code",
   "execution_count": null,
   "metadata": {},
   "outputs": [],
   "source": [
    "m.fs.unit.inlet.flow_mass_phase_comp[0, 'Liq', 'NaCl'].fix(0.035)  # mass flow rate of NaCl (kg/s)\n",
    "m.fs.unit.inlet.flow_mass_phase_comp[0, 'Liq', 'H2O'].fix(0.965)   # mass flow rate of water (kg/s)\n",
    "m.fs.unit.inlet.pressure[0].fix(50e5)                              # feed pressure (Pa)\n",
    "m.fs.unit.inlet.temperature[0].fix(298.15)                         # feed temperature (K)\n",
    "m.fs.unit.area.fix(50)                                             # membrane area (m^2)\n",
    "m.fs.unit.A_comp.fix(4.2e-12)                                      # membrane water permeability (m/Pa/s)\n",
    "m.fs.unit.B_comp.fix(3.5e-8)                                       # membrane salt permeability (m/s)\n",
    "m.fs.unit.permeate.pressure[0].fix(101325)                         # permeate pressure (Pa)"
   ]
  },
  {
   "cell_type": "markdown",
   "metadata": {},
   "source": [
    "### Step 4: Scale all variables."
   ]
  },
  {
   "cell_type": "code",
   "execution_count": null,
   "metadata": {},
   "outputs": [],
   "source": [
    "# Set scaling factors for component mass flowrates.\n",
    "m.fs.properties.set_default_scaling('flow_mass_phase_comp', 1, index=('Liq', 'H2O'))\n",
    "m.fs.properties.set_default_scaling('flow_mass_phase_comp', 1e2, index=('Liq', 'NaCl'))\n",
    "\n",
    "# Calculate scaling factors for all other variables.\n",
    "calculate_scaling_factors(m)"
   ]
  },
  {
   "cell_type": "markdown",
   "metadata": {},
   "source": [
    "### Step 5: Initialize the model."
   ]
  },
  {
   "cell_type": "code",
   "execution_count": null,
   "metadata": {},
   "outputs": [],
   "source": [
    "m.fs.unit.initialize()"
   ]
  },
  {
   "cell_type": "markdown",
   "metadata": {},
   "source": [
    "### Step 6: Setup a solver and run a simulation."
   ]
  },
  {
   "cell_type": "code",
   "execution_count": null,
   "metadata": {},
   "outputs": [],
   "source": [
    "# Check that degrees of freedom = 0 before attempting simulation.\n",
    "# This means that the performance of the flowsheet is completely\n",
    "# determined by the system variables that were fixed above.\n",
    "assert degrees_of_freedom(m) == 0"
   ]
  },
  {
   "cell_type": "code",
   "execution_count": null,
   "metadata": {},
   "outputs": [],
   "source": [
    "# Setup solver\n",
    "solver = get_solver()"
   ]
  },
  {
   "cell_type": "code",
   "execution_count": null,
   "metadata": {},
   "outputs": [],
   "source": [
    "# Run simulation\n",
    "simulation_results = solver.solve(m)"
   ]
  },
  {
   "cell_type": "code",
   "execution_count": null,
   "metadata": {},
   "outputs": [],
   "source": [
    "# Display all results\n",
    "m.fs.unit.display()"
   ]
  },
  {
   "cell_type": "markdown",
   "metadata": {},
   "source": [
    "### Step 7: Unfix variables, set variable bounds, and run optimization to minimize specific energy consumption."
   ]
  },
  {
   "cell_type": "code",
   "execution_count": null,
   "metadata": {},
   "outputs": [],
   "source": [
    "# Unfix membrane area and feed pressure\n",
    "m.fs.unit.area.unfix()                  # membrane area (m^2)\n",
    "m.fs.unit.inlet.pressure[0].unfix()     # feed pressure (Pa)"
   ]
  },
  {
   "cell_type": "code",
   "execution_count": null,
   "metadata": {},
   "outputs": [],
   "source": [
    "# Set lower and upper bounds for membrane area (m^2)\n",
    "m.fs.unit.area.setlb(1)\n",
    "m.fs.unit.area.setub(500)"
   ]
  },
  {
   "cell_type": "code",
   "execution_count": null,
   "metadata": {},
   "outputs": [],
   "source": [
    "# Set lower and upper bounds for feed pressure (Pa)\n",
    "m.fs.unit.inlet.pressure[0].setlb(10e5)\n",
    "m.fs.unit.inlet.pressure[0].setub(80e5)"
   ]
  },
  {
   "cell_type": "code",
   "execution_count": null,
   "metadata": {},
   "outputs": [],
   "source": [
    "# Assume 100% efficiency of pumps and ERD and no pressure losses\n",
    "#--> Pump power consumption ~ Qp*Pf/3.6e6\n",
    "m.fs.specific_energy_consumption = Expression(\n",
    "    expr=m.fs.unit.inlet.pressure[0]/(3.6e6))"
   ]
  },
  {
   "cell_type": "code",
   "execution_count": null,
   "metadata": {},
   "outputs": [],
   "source": [
    "# Define objective function to minimize the specific energy consumption.\n",
    "m.fs.objective = Objective(expr=m.fs.specific_energy_consumption)"
   ]
  },
  {
   "cell_type": "code",
   "execution_count": null,
   "metadata": {},
   "outputs": [],
   "source": [
    "# Set the water recovery to 50%\n",
    "m.fs.unit.recovery_vol_phase[0,'Liq'].fix(0.50)"
   ]
  },
  {
   "cell_type": "code",
   "execution_count": null,
   "metadata": {},
   "outputs": [],
   "source": [
    "# The solver will find the membrane area and \n",
    "# inlet pressure that achieve 50% recovery while minimizing\n",
    "# specific energy consumption. Since we fixed the \n",
    "# volumetric water recovery, a degree of freedom \n",
    "# was removed from the model.\n",
    "print(degrees_of_freedom(m))"
   ]
  },
  {
   "cell_type": "code",
   "execution_count": null,
   "metadata": {},
   "outputs": [],
   "source": [
    "optimization_results = solver.solve(m)"
   ]
  },
  {
   "cell_type": "code",
   "execution_count": null,
   "metadata": {},
   "outputs": [],
   "source": [
    "# membrane area of the optimized RO unit\n",
    "value(m.fs.unit.area)"
   ]
  },
  {
   "cell_type": "code",
   "execution_count": null,
   "metadata": {},
   "outputs": [],
   "source": [
    "# inlet pressure of the optimized RO unit\n",
    "# value(m.fs.unit.inlet.pressure[0])\n",
    "m.fs.unit.feed_side.properties[0,0].pressure.display()"
   ]
  },
  {
   "cell_type": "code",
   "execution_count": null,
   "metadata": {},
   "outputs": [],
   "source": [
    "# the minimum specific energy consumption\n",
    "m.fs.specific_energy_consumption.display()"
   ]
  },
  {
   "cell_type": "code",
   "execution_count": null,
   "metadata": {},
   "outputs": [],
   "source": [
    "# display the overall report on the RO unit\n",
    "m.fs.unit.report()"
   ]
  },
  {
   "cell_type": "markdown",
   "metadata": {},
   "source": [
    "## Flowsheet Example\n",
    "<img src=\"RO_ERD_flowsheet.png\" width=\"500\" height=\"340\">"
   ]
  },
  {
   "cell_type": "markdown",
   "metadata": {},
   "source": [
    "## Import libraries."
   ]
  },
  {
   "cell_type": "code",
   "execution_count": null,
   "metadata": {},
   "outputs": [],
   "source": [
    "from pyomo.environ import (\n",
    "    ConcreteModel,\n",
    "    value,\n",
    "    Constraint,\n",
    "    Objective,\n",
    "    Param,\n",
    "    TransformationFactory,\n",
    "    units,\n",
    "    assert_optimal_termination,\n",
    ")\n",
    "from pyomo.network import Arc\n",
    "from pyomo.util.check_units import assert_units_consistent\n",
    "from idaes.core import FlowsheetBlock\n",
    "from idaes.core.solvers import get_solver\n",
    "from idaes.core.util.model_statistics import degrees_of_freedom\n",
    "from idaes.core.util.initialization import solve_indexed_blocks, propagate_state\n",
    "from idaes.models.unit_models import Mixer, Separator, Product, Feed\n",
    "from idaes.core import UnitModelCostingBlock\n",
    "import idaes.core.util.scaling as iscale\n",
    "import watertap.property_models.seawater_prop_pack as props\n",
    "from watertap.unit_models.reverse_osmosis_0D import (\n",
    "    ReverseOsmosis0D,\n",
    "    ConcentrationPolarizationType,\n",
    "    MassTransferCoefficient,\n",
    "    PressureChangeType,\n",
    ")\n",
    "from watertap.unit_models.pressure_changer import Pump, EnergyRecoveryDevice\n",
    "from watertap.core.util.initialization import assert_degrees_of_freedom\n",
    "from watertap.costing import WaterTAPCosting"
   ]
  },
  {
   "cell_type": "markdown",
   "metadata": {},
   "source": [
    "## Build the flowsheet."
   ]
  },
  {
   "cell_type": "code",
   "execution_count": null,
   "metadata": {},
   "outputs": [],
   "source": [
    "# flowsheet setup\n",
    "m = ConcreteModel()\n",
    "m.fs = FlowsheetBlock(default={\"dynamic\": False})\n",
    "m.fs.properties = props.SeawaterParameterBlock()\n",
    "m.fs.costing = WaterTAPCosting()\n",
    "\n",
    "# unit models\n",
    "m.fs.feed = Feed(default={\"property_package\": m.fs.properties})\n",
    "m.fs.pump = Pump(default={\"property_package\": m.fs.properties})\n",
    "m.fs.RO = ReverseOsmosis0D(\n",
    "    default={\n",
    "        \"property_package\": m.fs.properties,\n",
    "        \"has_pressure_change\": True,\n",
    "        \"pressure_change_type\": PressureChangeType.calculated,\n",
    "        \"mass_transfer_coefficient\": MassTransferCoefficient.calculated,\n",
    "        \"concentration_polarization_type\": ConcentrationPolarizationType.calculated,\n",
    "    }\n",
    ")\n",
    "m.fs.erd = EnergyRecoveryDevice(\n",
    "    default={\n",
    "        \"property_package\": m.fs.properties,\n",
    "    },\n",
    ")\n",
    "m.fs.product = Product(default={\"property_package\": m.fs.properties})\n",
    "m.fs.disposal = Product(default={\"property_package\": m.fs.properties})\n",
    "# costing\n",
    "m.fs.pump.costing = UnitModelCostingBlock(\n",
    "    default={\"flowsheet_costing_block\": m.fs.costing}\n",
    ")\n",
    "m.fs.RO.costing = UnitModelCostingBlock(\n",
    "    default={\"flowsheet_costing_block\": m.fs.costing}\n",
    ")\n",
    "m.fs.erd.costing = UnitModelCostingBlock(\n",
    "    default={\n",
    "        \"flowsheet_costing_block\": m.fs.costing,\n",
    "        \"costing_method_arguments\": {\n",
    "            \"energy_recovery_device_type\": \"pressure_exchanger\"\n",
    "        },\n",
    "    }\n",
    ")\n",
    "m.fs.costing.cost_process()\n",
    "m.fs.costing.add_annual_water_production(m.fs.product.properties[0].flow_vol)\n",
    "m.fs.costing.add_LCOW(m.fs.product.properties[0].flow_vol)\n",
    "m.fs.costing.add_specific_energy_consumption(m.fs.product.properties[0].flow_vol)\n",
    "\n",
    "# connections\n",
    "m.fs.s01 = Arc(source=m.fs.feed.outlet, destination=m.fs.pump.inlet)\n",
    "m.fs.s02 = Arc(source=m.fs.pump.outlet, destination=m.fs.RO.inlet)\n",
    "m.fs.s03 = Arc(source=m.fs.RO.permeate, destination=m.fs.product.inlet)\n",
    "m.fs.s04 = Arc(source=m.fs.RO.retentate, destination=m.fs.erd.inlet)\n",
    "m.fs.s05 = Arc(source=m.fs.erd.outlet, destination=m.fs.disposal.inlet)\n",
    "TransformationFactory(\"network.expand_arcs\").apply_to(m)\n",
    "\n",
    "# scaling\n",
    "# set default property values\n",
    "m.fs.properties.set_default_scaling(\"flow_mass_phase_comp\", 1, index=(\"Liq\", \"H2O\"))\n",
    "m.fs.properties.set_default_scaling(\n",
    "    \"flow_mass_phase_comp\", 1e2, index=(\"Liq\", \"TDS\")\n",
    ")\n",
    "# set unit model values\n",
    "iscale.set_scaling_factor(m.fs.pump.control_volume.work, 1e-3)\n",
    "iscale.set_scaling_factor(m.fs.erd.control_volume.work, 1e-3)\n",
    "iscale.set_scaling_factor(m.fs.RO.area, 1e-2)\n",
    "# touch properties used in specifying the model\n",
    "m.fs.feed.properties[0].flow_vol_phase[\"Liq\"]\n",
    "m.fs.feed.properties[0].mass_frac_phase_comp[\"Liq\", \"TDS\"]\n",
    "m.fs.disposal.properties[0].flow_vol_phase[\"Liq\"]\n",
    "m.fs.disposal.properties[0].mass_frac_phase_comp[\"Liq\", \"TDS\"]\n",
    "# calculate and propagate scaling factors\n",
    "iscale.calculate_scaling_factors(m)"
   ]
  },
  {
   "cell_type": "markdown",
   "metadata": {},
   "source": [
    "## Set the specifications for simulating the flowsheet."
   ]
  },
  {
   "cell_type": "code",
   "execution_count": null,
   "metadata": {},
   "outputs": [],
   "source": [
    "# ---specifications---\n",
    "# feed\n",
    "# state variables\n",
    "m.fs.feed.properties[0].pressure.fix(101325)  # feed pressure [Pa]\n",
    "m.fs.feed.properties[0].temperature.fix(273.15 + 25)  # feed temperature [K]\n",
    "# properties (cannot be fixed for initialization routines, must calculate the state variables)\n",
    "m.fs.feed.properties.calculate_state(\n",
    "    var_args={\n",
    "        (\"flow_vol_phase\", \"Liq\"): 1e-3,  # feed volumetric flow rate [m3/s]\n",
    "        (\"mass_frac_phase_comp\", (\"Liq\", \"TDS\")): 0.035,\n",
    "    },  # feed TDS mass fraction [-]\n",
    "    hold_state=True,  # fixes the calculated component mass flow rates\n",
    ")\n",
    "\n",
    "# high pressure pump, 2 degrees of freedom (efficiency and outlet pressure)\n",
    "m.fs.pump.efficiency_pump.fix(0.80)  # pump efficiency [-]\n",
    "m.fs.pump.control_volume.properties_out[0].pressure.fix(\n",
    "    75e5\n",
    ")  # pump outlet pressure [Pa]\n",
    "\n",
    "# RO unit\n",
    "m.fs.RO.A_comp.fix(4.2e-12)  # membrane water permeability coefficient [m/s-Pa]\n",
    "m.fs.RO.B_comp.fix(3.5e-8)  # membrane salt permeability coefficient [m/s]\n",
    "m.fs.RO.channel_height.fix(1e-3)  # channel height in membrane stage [m]\n",
    "m.fs.RO.spacer_porosity.fix(0.97)  # spacer porosity in membrane stage [-]\n",
    "m.fs.RO.permeate.pressure[0].fix(101325)  # atmospheric pressure [Pa]\n",
    "# m.fs.RO.width.fix(5)  # stage width [m]\n",
    "# m.fs.RO.N_Re[0, 0].fix(500)\n",
    "m.fs.RO.velocity[0, 0].fix(0.15)\n",
    "m.fs.RO.recovery_vol_phase[0, \"Liq\"].fix(0.5)\n",
    "\n",
    "# energy recovery device, 2 degrees of freedom (efficiency and outlet pressure)\n",
    "m.fs.erd.efficiency_pump.fix(0.80)  # erd efficiency [-]\n",
    "m.fs.erd.control_volume.properties_out[0].pressure.fix(\n",
    "    101325\n",
    ")  # atmospheric outlet pressure [Pa]\n",
    "\n",
    "# check degrees of freedom\n",
    "if degrees_of_freedom(m) != 0:\n",
    "    raise RuntimeError(\n",
    "        \"The set_operating_conditions function resulted in {} \"\n",
    "        \"degrees of freedom rather than 0. This error suggests \"\n",
    "        \"that too many or not enough variables are fixed for a \"\n",
    "        \"simulation.\".format(degrees_of_freedom(m))\n",
    "    )"
   ]
  },
  {
   "cell_type": "markdown",
   "metadata": {},
   "source": [
    "## Initialize the flowsheet."
   ]
  },
  {
   "cell_type": "code",
   "execution_count": null,
   "metadata": {},
   "outputs": [],
   "source": [
    "m.fs.feed.initialize()\n",
    "propagate_state(m.fs.s01)\n",
    "m.fs.pump.initialize()\n",
    "propagate_state(m.fs.s02)\n",
    "m.fs.RO.initialize()\n",
    "propagate_state(m.fs.s03)\n",
    "propagate_state(m.fs.s04)\n",
    "m.fs.erd.initialize()\n",
    "propagate_state(m.fs.s05)\n",
    "\n",
    "m.fs.costing.initialize()"
   ]
  },
  {
   "cell_type": "markdown",
   "metadata": {},
   "source": [
    "## Run the simulation and display results."
   ]
  },
  {
   "cell_type": "markdown",
   "metadata": {},
   "source": [
    "### Solve the model"
   ]
  },
  {
   "cell_type": "code",
   "execution_count": null,
   "metadata": {},
   "outputs": [],
   "source": [
    "solver = get_solver()\n",
    "results = solver.solve(m, tee=True)    \n",
    "assert_optimal_termination(results)"
   ]
  },
  {
   "cell_type": "markdown",
   "metadata": {},
   "source": [
    "### Display results"
   ]
  },
  {
   "cell_type": "code",
   "execution_count": null,
   "metadata": {},
   "outputs": [],
   "source": [
    "print(\"\\n***---Simulation results---***\")\n",
    "print(\"---system metrics---\")\n",
    "feed_flow_mass = sum(\n",
    "    m.fs.feed.flow_mass_phase_comp[0, \"Liq\", j].value for j in [\"H2O\", \"TDS\"]\n",
    ")\n",
    "feed_mass_frac_TDS = (\n",
    "    m.fs.feed.flow_mass_phase_comp[0, \"Liq\", \"TDS\"].value / feed_flow_mass\n",
    ")\n",
    "print(\"Feed: %.2f kg/s, %.0f ppm\" % (feed_flow_mass, feed_mass_frac_TDS * 1e6))\n",
    "\n",
    "prod_flow_mass = sum(\n",
    "    m.fs.product.flow_mass_phase_comp[0, \"Liq\", j].value for j in [\"H2O\", \"TDS\"]\n",
    ")\n",
    "prod_mass_frac_TDS = (\n",
    "    m.fs.product.flow_mass_phase_comp[0, \"Liq\", \"TDS\"].value / prod_flow_mass\n",
    ")\n",
    "print(\"Product: %.3f kg/s, %.0f ppm\" % (prod_flow_mass, prod_mass_frac_TDS * 1e6))\n",
    "\n",
    "print(\n",
    "    \"Volumetric recovery: %.1f%%\"\n",
    "    % (value(m.fs.RO.recovery_vol_phase[0, \"Liq\"]) * 100)\n",
    ")\n",
    "print(\n",
    "    \"Water recovery: %.1f%%\"\n",
    "    % (value(m.fs.RO.recovery_mass_phase_comp[0, \"Liq\", \"H2O\"]) * 100)\n",
    ")\n",
    "print(\n",
    "    \"Energy Consumption: %.1f kWh/m3\"\n",
    "    % value(m.fs.costing.specific_energy_consumption)\n",
    ")\n",
    "print(\"Levelized cost of water: %.2f $/m3\" % value(m.fs.costing.LCOW))\n",
    "\n",
    "# Display decision variable results\n",
    "print(\"---decision variables---\")\n",
    "print(\"Operating pressure %.1f bar\" % (m.fs.RO.inlet.pressure[0].value / 1e5))\n",
    "print(\n",
    "    \"Membrane\\narea %.1f m2\\ninlet Reynolds %.1f, inlet velocity %.1f cm/s\"\n",
    "    % (\n",
    "        m.fs.RO.area.value,\n",
    "        m.fs.RO.N_Re[0, 0].value,\n",
    "        m.fs.RO.velocity[0, 0].value * 100,\n",
    "    )\n",
    ")\n",
    "\n",
    "print(\"---system variables---\")\n",
    "print(\n",
    "    \"Pump\\noutlet pressure: %.1f bar\\npower %.2f kW\"\n",
    "    % (\n",
    "        m.fs.pump.outlet.pressure[0].value / 1e5,\n",
    "        m.fs.pump.work_mechanical[0].value / 1e3,\n",
    "    )\n",
    ")\n",
    "print(\n",
    "    \"Membrane\"\n",
    "    \"\\naverage flux: %.1f LMH\"\n",
    "    \"\\npressure drop: %.1f bar\"\n",
    "    \"\\nmax interfacial conc %.1f ppm\"\n",
    "    % (\n",
    "        value(m.fs.RO.flux_mass_phase_comp_avg[0, \"Liq\", \"H2O\"]) * 3600,\n",
    "        m.fs.RO.deltaP[0].value / 1e5,\n",
    "        m.fs.RO.feed_side.properties_interface[0, 1]\n",
    "        .mass_frac_phase_comp[\"Liq\", \"TDS\"]\n",
    "        .value\n",
    "        * 1e6,\n",
    "    ))\n",
    "\n",
    "print(\"---state---\")\n",
    "def print_state(s, b):\n",
    "    flow_mass = sum(\n",
    "        b.flow_mass_phase_comp[0, \"Liq\", j].value for j in [\"H2O\", \"TDS\"]\n",
    "    )\n",
    "    mass_frac_ppm = b.flow_mass_phase_comp[0, \"Liq\", \"TDS\"].value / flow_mass * 1e6\n",
    "    pressure_bar = b.pressure[0].value / 1e5\n",
    "    print(\n",
    "        s\n",
    "        + \": %.3f kg/s, %.0f ppm, %.1f bar\"\n",
    "        % (flow_mass, mass_frac_ppm, pressure_bar)\n",
    "    )\n",
    "\n",
    "print_state(\"Feed      \", m.fs.feed.outlet)\n",
    "print_state(\"Pump out  \", m.fs.pump.outlet)\n",
    "print_state(\"RO perm   \", m.fs.RO.permeate)\n",
    "print_state(\"RO reten  \", m.fs.RO.retentate)"
   ]
  },
  {
   "cell_type": "markdown",
   "metadata": {},
   "source": [
    "## Setup optimization."
   ]
  },
  {
   "cell_type": "code",
   "execution_count": null,
   "metadata": {},
   "outputs": [],
   "source": [
    "# objective\n",
    "m.fs.objective = Objective(expr=m.fs.costing.LCOW)\n",
    "\n",
    "# unfix decision variables and add bounds\n",
    "# pump 1 and pump 2\n",
    "m.fs.pump.control_volume.properties_out[0].pressure.unfix()\n",
    "m.fs.pump.control_volume.properties_out[0].pressure.setlb(10e5)\n",
    "m.fs.pump.control_volume.properties_out[0].pressure.setub(85e5)\n",
    "m.fs.pump.deltaP.setlb(0)\n",
    "\n",
    "# RO\n",
    "# m.fs.RO.N_Re[0, 0].unfix()\n",
    "# m.fs.RO.N_Re.setlb(1)\n",
    "# m.fs.RO.N_Re.setub(1000)\n",
    "m.fs.RO.velocity[0, 0].unfix()\n",
    "m.fs.RO.velocity.setlb(0.01)\n",
    "m.fs.RO.velocity.setub(1)\n",
    "m.fs.RO.area.setlb(1)\n",
    "m.fs.RO.area.setub(150)\n",
    "\n",
    "# additional specifications\n",
    "m.fs.max_product_salinity = Param(\n",
    "    initialize=500e-6, mutable=True, units=units.dimensionless\n",
    ")  # product TDS mass fraction [-]\n",
    "m.fs.max_pressure = Param(\n",
    "    initialize=85e5, mutable=True, units=units.Pa\n",
    ")  # product TDS mass fraction [-]\n",
    "m.fs.minimum_water_flux = Param(\n",
    "    initialize=1.0 / 3600.0, mutable=True, units=units.kg / units.m**2 / units.s\n",
    ")  # minimum water flux [kg/m2-s]\n",
    "\n",
    "# additional constraints\n",
    "m.fs.eq_product_quality = Constraint(\n",
    "    expr=m.fs.product.properties[0].mass_frac_phase_comp[\"Liq\", \"TDS\"]\n",
    "    <= m.fs.max_product_salinity\n",
    ")\n",
    "iscale.constraint_scaling_transform(\n",
    "    m.fs.eq_product_quality, 1e3\n",
    ")  # scaling constraint\n",
    "m.fs.eq_max_pressure = Constraint(\n",
    "    expr=m.fs.RO.feed_side.properties[0, 0].pressure <= m.fs.max_pressure\n",
    ")\n",
    "iscale.constraint_scaling_transform(\n",
    "    m.fs.eq_max_pressure, 1e-6\n",
    ")  # scaling constraint\n",
    "m.fs.eq_minimum_water_flux = Constraint(\n",
    "    expr=m.fs.RO.flux_mass_phase_comp[0, 1, \"Liq\", \"H2O\"] >= m.fs.minimum_water_flux\n",
    ")\n",
    "\n",
    "# ---checking model---\n",
    "assert_degrees_of_freedom(m, 2)"
   ]
  },
  {
   "cell_type": "markdown",
   "metadata": {},
   "source": [
    "## Solve the optimization problem and display results."
   ]
  },
  {
   "cell_type": "code",
   "execution_count": null,
   "metadata": {},
   "outputs": [],
   "source": [
    "results = solver.solve(m, tee=True)    \n",
    "assert_optimal_termination(results)"
   ]
  },
  {
   "cell_type": "code",
   "execution_count": null,
   "metadata": {},
   "outputs": [],
   "source": [
    "print(\"\\n***---Optimization results---***\")\n",
    "print(\"---system metrics---\")\n",
    "feed_flow_mass = sum(\n",
    "    m.fs.feed.flow_mass_phase_comp[0, \"Liq\", j].value for j in [\"H2O\", \"TDS\"]\n",
    ")\n",
    "feed_mass_frac_TDS = (\n",
    "    m.fs.feed.flow_mass_phase_comp[0, \"Liq\", \"TDS\"].value / feed_flow_mass\n",
    ")\n",
    "print(\"Feed: %.2f kg/s, %.0f ppm\" % (feed_flow_mass, feed_mass_frac_TDS * 1e6))\n",
    "\n",
    "prod_flow_mass = sum(\n",
    "    m.fs.product.flow_mass_phase_comp[0, \"Liq\", j].value for j in [\"H2O\", \"TDS\"]\n",
    ")\n",
    "prod_mass_frac_TDS = (\n",
    "    m.fs.product.flow_mass_phase_comp[0, \"Liq\", \"TDS\"].value / prod_flow_mass\n",
    ")\n",
    "print(\"Product: %.3f kg/s, %.0f ppm\" % (prod_flow_mass, prod_mass_frac_TDS * 1e6))\n",
    "\n",
    "print(\n",
    "    \"Volumetric recovery: %.1f%%\"\n",
    "    % (value(m.fs.RO.recovery_vol_phase[0, \"Liq\"]) * 100)\n",
    ")\n",
    "print(\n",
    "    \"Water recovery: %.1f%%\"\n",
    "    % (value(m.fs.RO.recovery_mass_phase_comp[0, \"Liq\", \"H2O\"]) * 100)\n",
    ")\n",
    "print(\n",
    "    \"Energy Consumption: %.1f kWh/m3\"\n",
    "    % value(m.fs.costing.specific_energy_consumption)\n",
    ")\n",
    "print(\"Levelized cost of water: %.2f $/m3\" % value(m.fs.costing.LCOW))\n",
    "\n",
    "# Display decision variable results\n",
    "print(\"---decision variables---\")\n",
    "print(\"Operating pressure %.1f bar\" % (m.fs.RO.inlet.pressure[0].value / 1e5))\n",
    "print(\n",
    "    \"Membrane\\narea %.1f m2\\ninlet Reynolds %.1f, inlet velocity %.1f cm/s\"\n",
    "    % (\n",
    "        m.fs.RO.area.value,\n",
    "        m.fs.RO.N_Re[0, 0].value,\n",
    "        m.fs.RO.velocity[0, 0].value * 100,\n",
    "    )\n",
    ")\n",
    "\n",
    "print(\"---system variables---\")\n",
    "print(\n",
    "    \"Pump\\noutlet pressure: %.1f bar\\npower %.2f kW\"\n",
    "    % (\n",
    "        m.fs.pump.outlet.pressure[0].value / 1e5,\n",
    "        m.fs.pump.work_mechanical[0].value / 1e3,\n",
    "    )\n",
    ")\n",
    "print(\n",
    "    \"Membrane\"\n",
    "    \"\\naverage flux: %.1f LMH\"\n",
    "    \"\\npressure drop: %.1f bar\"\n",
    "    \"\\nmax interfacial conc %.1f ppm\"\n",
    "    % (\n",
    "        value(m.fs.RO.flux_mass_phase_comp_avg[0, \"Liq\", \"H2O\"]) * 3600,\n",
    "        m.fs.RO.deltaP[0].value / 1e5,\n",
    "        m.fs.RO.feed_side.properties_interface[0, 1]\n",
    "        .mass_frac_phase_comp[\"Liq\", \"TDS\"]\n",
    "        .value\n",
    "        * 1e6,\n",
    "    ))\n",
    "\n",
    "print(\"---state---\")\n",
    "def print_state(s, b):\n",
    "    flow_mass = sum(\n",
    "        b.flow_mass_phase_comp[0, \"Liq\", j].value for j in [\"H2O\", \"TDS\"]\n",
    "    )\n",
    "    mass_frac_ppm = b.flow_mass_phase_comp[0, \"Liq\", \"TDS\"].value / flow_mass * 1e6\n",
    "    pressure_bar = b.pressure[0].value / 1e5\n",
    "    print(\n",
    "        s\n",
    "        + \": %.3f kg/s, %.0f ppm, %.1f bar\"\n",
    "        % (flow_mass, mass_frac_ppm, pressure_bar)\n",
    "    )\n",
    "\n",
    "print_state(\"Feed      \", m.fs.feed.outlet)\n",
    "print_state(\"Pump out  \", m.fs.pump.outlet)\n",
    "print_state(\"RO perm   \", m.fs.RO.permeate)\n",
    "print_state(\"RO reten  \", m.fs.RO.retentate)"
   ]
  },
  {
   "cell_type": "markdown",
   "metadata": {},
   "source": [
    "## Change the membrane capital cost and try optimizing again."
   ]
  },
  {
   "cell_type": "markdown",
   "metadata": {},
   "source": [
    "### Change membrane cost and solve."
   ]
  },
  {
   "cell_type": "code",
   "execution_count": null,
   "metadata": {},
   "outputs": [],
   "source": [
    "m.fs.costing.reverse_osmosis_membrane_cost.fix(60)\n",
    "results = solver.solve(m, tee=True)    \n",
    "assert_optimal_termination(results)"
   ]
  },
  {
   "cell_type": "markdown",
   "metadata": {},
   "source": [
    "### Display new optimization results"
   ]
  },
  {
   "cell_type": "code",
   "execution_count": null,
   "metadata": {},
   "outputs": [],
   "source": [
    "print(\"\\n***---Optimization results---***\")\n",
    "print(\"---system metrics---\")\n",
    "feed_flow_mass = sum(\n",
    "    m.fs.feed.flow_mass_phase_comp[0, \"Liq\", j].value for j in [\"H2O\", \"TDS\"]\n",
    ")\n",
    "feed_mass_frac_TDS = (\n",
    "    m.fs.feed.flow_mass_phase_comp[0, \"Liq\", \"TDS\"].value / feed_flow_mass\n",
    ")\n",
    "print(\"Feed: %.2f kg/s, %.0f ppm\" % (feed_flow_mass, feed_mass_frac_TDS * 1e6))\n",
    "\n",
    "prod_flow_mass = sum(\n",
    "    m.fs.product.flow_mass_phase_comp[0, \"Liq\", j].value for j in [\"H2O\", \"TDS\"]\n",
    ")\n",
    "prod_mass_frac_TDS = (\n",
    "    m.fs.product.flow_mass_phase_comp[0, \"Liq\", \"TDS\"].value / prod_flow_mass\n",
    ")\n",
    "print(\"Product: %.3f kg/s, %.0f ppm\" % (prod_flow_mass, prod_mass_frac_TDS * 1e6))\n",
    "\n",
    "print(\n",
    "    \"Volumetric recovery: %.1f%%\"\n",
    "    % (value(m.fs.RO.recovery_vol_phase[0, \"Liq\"]) * 100)\n",
    ")\n",
    "print(\n",
    "    \"Water recovery: %.1f%%\"\n",
    "    % (value(m.fs.RO.recovery_mass_phase_comp[0, \"Liq\", \"H2O\"]) * 100)\n",
    ")\n",
    "print(\n",
    "    \"Energy Consumption: %.1f kWh/m3\"\n",
    "    % value(m.fs.costing.specific_energy_consumption)\n",
    ")\n",
    "print(\"Levelized cost of water: %.2f $/m3\" % value(m.fs.costing.LCOW))\n",
    "\n",
    "# Display decision variable results\n",
    "print(\"---decision variables---\")\n",
    "print(\"Operating pressure %.1f bar\" % (m.fs.RO.inlet.pressure[0].value / 1e5))\n",
    "print(\n",
    "    \"Membrane\\narea %.1f m2\\ninlet Reynolds %.1f, inlet velocity %.1f cm/s\"\n",
    "    % (\n",
    "        m.fs.RO.area.value,\n",
    "        m.fs.RO.N_Re[0, 0].value,\n",
    "        m.fs.RO.velocity[0, 0].value * 100,\n",
    "    )\n",
    ")\n",
    "\n",
    "print(\"---system variables---\")\n",
    "print(\n",
    "    \"Pump\\noutlet pressure: %.1f bar\\npower %.2f kW\"\n",
    "    % (\n",
    "        m.fs.pump.outlet.pressure[0].value / 1e5,\n",
    "        m.fs.pump.work_mechanical[0].value / 1e3,\n",
    "    )\n",
    ")\n",
    "print(\n",
    "    \"Membrane\"\n",
    "    \"\\naverage flux: %.1f LMH\"\n",
    "    \"\\npressure drop: %.1f bar\"\n",
    "    \"\\nmax interfacial conc %.1f ppm\"\n",
    "    % (\n",
    "        value(m.fs.RO.flux_mass_phase_comp_avg[0, \"Liq\", \"H2O\"]) * 3600,\n",
    "        m.fs.RO.deltaP[0].value / 1e5,\n",
    "        m.fs.RO.feed_side.properties_interface[0, 1]\n",
    "        .mass_frac_phase_comp[\"Liq\", \"TDS\"]\n",
    "        .value\n",
    "        * 1e6,\n",
    "    ))\n",
    "\n",
    "print(\"---state---\")\n",
    "def print_state(s, b):\n",
    "    flow_mass = sum(\n",
    "        b.flow_mass_phase_comp[0, \"Liq\", j].value for j in [\"H2O\", \"TDS\"]\n",
    "    )\n",
    "    mass_frac_ppm = b.flow_mass_phase_comp[0, \"Liq\", \"TDS\"].value / flow_mass * 1e6\n",
    "    pressure_bar = b.pressure[0].value / 1e5\n",
    "    print(\n",
    "        s\n",
    "        + \": %.3f kg/s, %.0f ppm, %.1f bar\"\n",
    "        % (flow_mass, mass_frac_ppm, pressure_bar)\n",
    "    )\n",
    "\n",
    "print_state(\"Feed      \", m.fs.feed.outlet)\n",
    "print_state(\"Pump out  \", m.fs.pump.outlet)\n",
    "print_state(\"RO perm   \", m.fs.RO.permeate)\n",
    "print_state(\"RO reten  \", m.fs.RO.retentate)"
   ]
  }
 ],
 "metadata": {
  "kernelspec": {
   "display_name": "Python 3",
   "language": "python",
   "name": "python3"
  },
  "language_info": {
   "codemirror_mode": {
    "name": "ipython",
    "version": 3
   },
   "file_extension": ".py",
   "mimetype": "text/x-python",
   "name": "python",
   "nbconvert_exporter": "python",
   "pygments_lexer": "ipython3",
   "version": "3.8.11"
  }
 },
 "nbformat": 4,
 "nbformat_minor": 4
}

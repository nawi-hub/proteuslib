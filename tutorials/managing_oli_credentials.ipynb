{
 "cells": [
  {
   "cell_type": "markdown",
   "id": "e2b807a5",
   "metadata": {},
   "source": [
    "### This notebook provides a brief tutorial on managing OLI Cloud credentials and access keys.\n",
    "\n",
    "source code: `watertap.tools.oliapi.credentials.py`"
   ]
  },
  {
   "cell_type": "markdown",
   "id": "eb86044e",
   "metadata": {},
   "source": [
    "A `CredentialManager` class object is used to manage OLI credentials. This object accepts user credentials which include:\n",
    "- `username`: e-mail address\n",
    "- `password`: OLI Cloud password\n",
    "- `root_url`: url for the API\n",
    "- `auth_url`: url for API authentication protocols\n",
    "\n",
    "The `root_url` and `auth_url` are fixed for all users but should be kept private.\n",
    "\n",
    "####  There are 3 ways to log into OLI Cloud:\n",
    "1) Provide `username`, `password`, `root_url`, and `auth_url`\n",
    "2) Provide `access_keys` and `root_url`\n",
    "3) Use `encryption_key` and saved credentials\n",
    "\n",
    "Each of these methods will be shown.\n",
    "\n",
    "Generating and deleting access keys will also be shown."
   ]
  },
  {
   "cell_type": "code",
   "execution_count": null,
   "id": "b11922c6",
   "metadata": {},
   "outputs": [],
   "source": [
    "from watertap.tools.oli_api.credentials import CredentialManager"
   ]
  },
  {
   "cell_type": "markdown",
   "id": "8295c096",
   "metadata": {},
   "source": [
    "#### 1) On first login, you need to provide your username and password\n",
    "\n",
    "`CredentialManager` will prompt you to save your `credentials` in an encrypted local file, and provide you an encryption key to log in with."
   ]
  },
  {
   "cell_type": "code",
   "execution_count": null,
   "id": "752c3bef",
   "metadata": {},
   "outputs": [],
   "source": [
    "try:\n",
    "    credential_manager = CredentialManager(\n",
    "        #encryption_key=\"\",\n",
    "        username=\"\",\n",
    "        password=\"\",\n",
    "        root_url=\"\",\n",
    "        auth_url=\"\",\n",
    "        #access_keys=[],\n",
    "    )\n",
    "    \n",
    "    encryption_key = credential_manager.encryption_key\n",
    "    \n",
    "except OSError:\n",
    "    credential_manager = None\n",
    "    encryption_key = \"\""
   ]
  },
  {
   "cell_type": "markdown",
   "id": "1b73f865",
   "metadata": {},
   "source": [
    "#### Generating an OLI Cloud access key\n",
    "\n",
    "Once you are logged in with the `CredentialManager`, you can generate OLI Cloud access keys.\n",
    "\n",
    "`generate_oliapi_access_key()` defaults to a 365 day expiry. `key_lifetime` accepts any integer, but anything outside of 0 - 365 will use the default.\n",
    "\n",
    "Once generated, the access key will be added to your `access_keys` list."
   ]
  },
  {
   "cell_type": "code",
   "execution_count": null,
   "id": "4331f6ce",
   "metadata": {},
   "outputs": [],
   "source": [
    "if credential_manager:\n",
    "    credential_manager.generate_oliapi_access_key(key_lifetime=365)\n",
    "    \n",
    "    access_key = credential_manager.credentials[\"access_keys\"]\n",
    "\n",
    "else:\n",
    "    access_key = \"\""
   ]
  },
  {
   "cell_type": "markdown",
   "id": "1fc55e00",
   "metadata": {},
   "source": [
    "#### Deleting an OLI Cloud access key\n",
    "\n",
    "The `delete_oliapi_access_key()` method of `CredentialManager` deletes the specified `access_key`."
   ]
  },
  {
   "cell_type": "code",
   "execution_count": null,
   "id": "d5a80395",
   "metadata": {},
   "outputs": [],
   "source": [
    "if credential_manager:\n",
    "    if access_key:\n",
    "        credential_manager.delete_oliapi_access_key(access_key)"
   ]
  },
  {
   "cell_type": "markdown",
   "id": "387c738a",
   "metadata": {},
   "source": [
    "#### 2.) You can login with an access key and the root url\n",
    "\n",
    "`CredentialManager` will prompt to save your `credentials` in an encrypted local file, which will overwrite the previous file (the previously saved `password` would be replaced with `\"\"` in the updated file, for example). Avoid erasure by providing the `credentials` you want to be kept.\n",
    "\n",
    "`set_access_key()` will run when you create the `CredentialManager` object; if you have more than one key, it will let you select a single key to activate for the session."
   ]
  },
  {
   "cell_type": "code",
   "execution_count": null,
   "id": "a8aa6870",
   "metadata": {},
   "outputs": [],
   "source": [
    "if access_key:\n",
    "    credential_manager = CredentialManager(\n",
    "        encryption_key=\"\",\n",
    "        #username=\"\",\n",
    "        #password=\"\",\n",
    "        root_url=\"\",\n",
    "        #auth_url=\"\",\n",
    "        access_keys=[access_key],\n",
    "    )\n",
    "    \n",
    "    encryption_key = credential_manager.encryption_key\n",
    "    \n",
    "else:\n",
    "    encryption_key = \"\""
   ]
  },
  {
   "cell_type": "markdown",
   "id": "a9b88b65",
   "metadata": {},
   "source": [
    "#### 3) On subsequent logins, you can login with just the encryption key\n",
    "\n",
    "The `encryption_key` has no expiration. You can generate a new one by passing in your credentials via method #1 or #2. "
   ]
  },
  {
   "cell_type": "code",
   "execution_count": null,
   "id": "c270aadb",
   "metadata": {},
   "outputs": [],
   "source": [
    "if encryption_key:\n",
    "    credential_manager = CredentialManager(\n",
    "        encryption_key=encryption_key,\n",
    "        #username=\"\",\n",
    "        #password=\"\",\n",
    "        #root_url=\"\",\n",
    "        #auth_url=\"\",\n",
    "        #access_keys=[],\n",
    "    )"
   ]
  }
 ],
 "metadata": {
  "kernelspec": {
   "display_name": "Python 3 (ipykernel)",
   "language": "python",
   "name": "python3"
  },
  "language_info": {
   "codemirror_mode": {
    "name": "ipython",
    "version": 3
   },
   "file_extension": ".py",
   "mimetype": "text/x-python",
   "name": "python",
   "nbconvert_exporter": "python",
   "pygments_lexer": "ipython3",
   "version": "3.8.16"
  }
 },
 "nbformat": 4,
 "nbformat_minor": 5
}

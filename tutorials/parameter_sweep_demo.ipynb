{
 "cells": [
  {
   "cell_type": "markdown",
   "id": "81ab54a4",
   "metadata": {},
   "source": [
    "# Getting Started with the Parameter Sweep Tool"
   ]
  },
  {
   "cell_type": "markdown",
   "id": "1a187f2e",
   "metadata": {},
   "source": [
    "Parameter sweep is one way of performing optimization, sensitivity analysis, and uncertainty quantification where experiments are run repeatedly with a different set of input parameters to see their effects on the output qunatities of interest. Output metrics can include levelized cost of water (LCOW), component cost, specific energy consumption, energy efficiency, water recovery rate, gained output ratio, and bulk temperature difference among others. Input parameters are technology dependent, some of which include feed water salinity, membrane permeability, membrane area, pumping efficiency, thermal conductivity, operating temperature, number of stages, labor, and capital expenditure.\n",
    "\n",
    "This notebook will demonstrate how the parameter sweep tool in WaterTAP can be used for various technoeconomic analyses."
   ]
  },
  {
   "cell_type": "markdown",
   "id": "4085d1c9",
   "metadata": {},
   "source": [
    "## Types of Parameter Sweeps\n",
    "\n",
    "In its current form, a user can run 3 types of parameter sweeps\n",
    "\n",
    "* **Simple Parameter Sweep** : Generate samples from a distribution or an Euclidean space and solve flowsheets with those input values.\n",
    "* **Recursive Parameter Sweep** : Will run the simple parameter sweep in recursion if some runs fail to ensure that a user-specified number of sample results are generated. This involves resampling the input parameter space to compensate for the failed runs.\n",
    "* **Differential Parameter Sweep** : This runs a differential sweep to gather sensitivity data when the input parameter space is more than one dimensional. A differential sweep comprises of two types of sweeps, an outer \"nominal\" sweep and an inner \"differential\" sweep. The nominal sweep is a simple parameter sweep over the sampled space. The differential sweep is a simple parameter sweep that occurs at every nominal value, where one of the sweep paramters is preturbed keeping the others fixed to their nominal values."
   ]
  },
  {
   "cell_type": "markdown",
   "id": "2fd561d9",
   "metadata": {},
   "source": [
    "## Flowsheet Example\n",
    "\n",
    "We use a simple RO system with an energy recovery device to demonstrate the capabilities of the parameter sweep tool. It comprises of an inlet high pressure pump connected to a steady state zero-dimensional RO process model.\n",
    "This RO model is designed to treat a single liquid phase model. A turbine-type isothermal energy recovery device model is connected downstream of the RO model. The feed water is an NaCl brine solution and is modeled using an property package within WaterTAP. Outputs that can be measured from this flow sheet include LCOW, product flow rate and concentration, volumetric recovery, water recovery, and specific energy consumption.\n",
    "\n",
    "<img src=\"parameter_sweep_demo/RO_ERD_flowsheet.png\" alt=\"RO with energy recovery device\" width=\"400\"/>"
   ]
  },
  {
   "cell_type": "code",
   "execution_count": null,
   "id": "53ce93e7",
   "metadata": {},
   "outputs": [],
   "source": [
    "# Make the necessary imports\n",
    "from pprint import pprint\n",
    "from IPython import get_ipython\n",
    "from idaes.core.solvers import get_solver\n",
    "from watertap.examples.flowsheets.RO_with_energy_recovery.RO_with_energy_recovery import (\n",
    "    build,\n",
    "    set_operating_conditions,\n",
    "    initialize_system,\n",
    "    optimize,\n",
    ")\n",
    "from watertap.examples.flowsheets.RO_with_energy_recovery.monte_carlo_sampling_RO_ERD import (\n",
    "    get_sweep_params,\n",
    "    build_model,\n",
    "    build_sweep_params,\n",
    "    build_outputs,\n",
    "    run_parameter_sweep,\n",
    ")\n",
    "\n"
   ]
  },
  {
   "cell_type": "code",
   "execution_count": null,
   "id": "489f00de",
   "metadata": {},
   "outputs": [],
   "source": [
    "??get_sweep_params"
   ]
  },
  {
   "cell_type": "code",
   "execution_count": null,
   "id": "a9de9f80",
   "metadata": {},
   "outputs": [],
   "source": [
    "??build_model"
   ]
  },
  {
   "cell_type": "code",
   "execution_count": null,
   "id": "37019c80",
   "metadata": {},
   "outputs": [],
   "source": [
    "??build_sweep_params"
   ]
  },
  {
   "cell_type": "code",
   "execution_count": null,
   "id": "d106ae65",
   "metadata": {},
   "outputs": [],
   "source": [
    "??build_outputs"
   ]
  },
  {
   "cell_type": "code",
   "execution_count": null,
   "id": "74c4b081",
   "metadata": {},
   "outputs": [],
   "source": [
    "from watertap.tools.parameter_sweep import (\n",
    "    UniformSample,\n",
    "    NormalSample,\n",
    "    LatinHypercubeSample,\n",
    "    ParameterSweep,\n",
    ")"
   ]
  },
  {
   "cell_type": "code",
   "execution_count": null,
   "id": "015e21aa",
   "metadata": {},
   "outputs": [],
   "source": [
    "def run_parameter_sweep(num_samples=100, num_procs=1):\n",
    "    \n",
    "    # solver = get_solver()\n",
    "    ps = create_parameter_sweep_object(solver, num_samples, num_procs)\n",
    "    results_dict, results_array = ps.parameter_sweep(\n",
    "        build_model,\n",
    "        build_sweep_params,\n",
    "        build_outputs=None,\n",
    "        build_outputs_kwargs=None,\n",
    "        num_samples=None,\n",
    "        seed=None,\n",
    "        build_model_kwargs=None,\n",
    "        build_sweep_params_kwargs=None,\n",
    "    )"
   ]
  },
  {
   "cell_type": "code",
   "execution_count": null,
   "id": "f6ae31a5",
   "metadata": {},
   "outputs": [],
   "source": [
    "def create_parameter_sweep_object(num_samples, num_procs):\n",
    "    # pprint(ParameterSweep.CONFIG.display())\n",
    "    \n",
    "    solver = get_solver()\n",
    "    kwargs_dict = {\n",
    "        \"debugging_data_dir\": None,\n",
    "        \"csv_results_file_name\" : None,\n",
    "        \"h5_results_file_name\" : None,\n",
    "        \"interpolate_nan_outputs\" : False,\n",
    "        \"h5_parent_group_name\" : None,\n",
    "        \"build_model\" : build_model,\n",
    "        \"build_model_kwargs\" : dict(\n",
    "                                read_model_defauls_from_file=False,\n",
    "                                defaults_fname=\"default_configuration.yaml\",\n",
    "                            ),\n",
    "        \"build_sweep_params\" : build_sweep_params,\n",
    "        \"build_sweep_params_kwargs\" : dict(\n",
    "                                        num_samples=num_samples,\n",
    "                                        use_LHS=False,\n",
    "                                        sweep_params_fname=\"mc_sweep_params.yaml\",\n",
    "                                        read_sweep_params_from_file=False,\n",
    "                                    ),\n",
    "        \"build_outputs\" : build_outputs,\n",
    "        \"build_outputs_kwargs\" : {},\n",
    "        \"optimize_function\" : optimize,\n",
    "        \"optimize_kwargs\" : {\"solver\": solver, \"check_termination\": False},\n",
    "        \"initialize_function\" : None,\n",
    "        \"update_sweep_params_before_init\" : False,\n",
    "        \"initialize_kwargs\" : {},\n",
    "        \"initialize_before_sweep\" : False,\n",
    "        \"reinitialize_function\" : None,\n",
    "        \"reinitialize_kwargs\" : {},\n",
    "        \"reinitialize_before_sweep\" : False,\n",
    "        \"probe_function\" : None,\n",
    "        \"custom_do_param_sweep\" : None,\n",
    "        \"custom_do_param_sweep_kwargs\" : {},\n",
    "        \"publish_progress\" : False,\n",
    "        \"publish_address\" : \"http://localhost:8888\",\n",
    "        \"number_of_subprocesses\" : num_procs,\n",
    "        \"parallel_back_end\" : \"ConcurrentFutures\", # \"MultiProcessing\",\n",
    "        \"log_model_states\" : False,\n",
    "    }\n",
    "    ps = ParameterSweep(**kwargs_dict)\n",
    "    return ps, kwargs_dict"
   ]
  },
  {
   "cell_type": "code",
   "execution_count": null,
   "id": "6fb19e4e",
   "metadata": {},
   "outputs": [],
   "source": [
    "num_samples = 100\n",
    "num_procs = 8\n",
    "ps, kwargs_dict = create_parameter_sweep_object(num_samples, num_procs)"
   ]
  },
  {
   "cell_type": "code",
   "execution_count": null,
   "id": "6f7ce19d",
   "metadata": {},
   "outputs": [],
   "source": [
    "results_array, results_dict = ps.parameter_sweep(\n",
    "    kwargs_dict[\"build_model\"],\n",
    "    kwargs_dict[\"build_sweep_params\"],\n",
    "    build_outputs = kwargs_dict[\"build_outputs\"],\n",
    "    build_outputs_kwargs = kwargs_dict[\"build_outputs_kwargs\"],\n",
    "    num_samples = num_samples,\n",
    "    seed=None,\n",
    "    build_model_kwargs = kwargs_dict[\"build_model_kwargs\"],\n",
    "    build_sweep_params_kwargs = kwargs_dict[\"build_sweep_params_kwargs\"]\n",
    ")"
   ]
  },
  {
   "cell_type": "code",
   "execution_count": null,
   "id": "c648a402",
   "metadata": {},
   "outputs": [],
   "source": [
    "pprint(results_dict)"
   ]
  },
  {
   "cell_type": "code",
   "execution_count": null,
   "id": "5410d0c3",
   "metadata": {},
   "outputs": [],
   "source": [
    "pprint(results_array)"
   ]
  },
  {
   "cell_type": "markdown",
   "id": "7d14aba1",
   "metadata": {},
   "source": [
    "## Plotting Results\n",
    "\n",
    "The resulting H5 files can then be prcessed to generate plots, e.g., 2D scatter plots, map plots, etc.\n",
    "\n",
    "<table><tr>\n",
    "    <td> <img src=\"parameter_sweep_demo/scatter_LCOW_vs_Acomp.jpg\" alt=\"LCOW vs water permeability\" width=\"100%\"/> </td>\n",
    "    <td> <img src=\"parameter_sweep_demo/maps_LCOW_recovery_NaCl_loading.jpg\" alt=\"LCOW vs water recovery and NaCL concentration\" width=\"100%\"/> </td>\n",
    "</tr></table>\n"
   ]
  },
  {
   "cell_type": "code",
   "execution_count": null,
   "id": "bb2699be",
   "metadata": {},
   "outputs": [],
   "source": []
  },
  {
   "cell_type": "markdown",
   "id": "d95eb8b4",
   "metadata": {},
   "source": [
    "# Advanced Usage"
   ]
  },
  {
   "cell_type": "markdown",
   "id": "732294e6",
   "metadata": {},
   "source": [
    "## Parallel Manager\n",
    "\n",
    "The parallel manager allows the end-user to select which parallel backend to run their parameter sweep with. Currently supported parallel backends include:\n",
    "\n",
    "* Message Passing Interface (MPI)\n",
    "* Python multiprocessing\n",
    "* Python concurrent futures\n",
    "* Ray Core\n",
    "* Serial\n",
    "\n",
    "The parallel manager provides a unified API to use the parallel backends."
   ]
  },
  {
   "cell_type": "markdown",
   "id": "1bf1b592",
   "metadata": {},
   "source": [
    "### Motivation\n",
    "\n",
    "* Most people will be running parameter sweep on a shared memory system and are familiar with python multiprocessing and concurrent futures.\n",
    "* MPI enables distributed parallel computing on an HPC\n",
    "* Ray is an MPI alternative for distributed parallel computing that has a simpler API.\n",
    "\n",
    "Multiple parallel backends necessitates an abstraction layer such that the onus of supporting these parallel paradigms does not fall on the average WaterTAP developer. Parallel Manager is that abstraction layer."
   ]
  },
  {
   "cell_type": "markdown",
   "id": "fb7e448e",
   "metadata": {},
   "source": [
    "### Currently Supported Parallel Features\n",
    "\n",
    "* Gather, all gather - Gather value on a specific or all process(es)\n",
    "* Scatter - Scatter values from one process to all other processess\n",
    "* Broadcast - Broadcast a data structure to all processes\n",
    "* All reduce - Reduce values and distribute to all processes"
   ]
  },
  {
   "cell_type": "markdown",
   "id": "a7a77016",
   "metadata": {},
   "source": [
    "### Benchmarking Results\n",
    "\n",
    "Next we look at benchmarking results of running the parameter sweep tool"
   ]
  },
  {
   "cell_type": "markdown",
   "id": "4b658c5b",
   "metadata": {},
   "source": [
    "#### Python Multiprocessing"
   ]
  },
  {
   "cell_type": "markdown",
   "id": "f837a847",
   "metadata": {},
   "source": [
    "#### MPI on Eagle HPC"
   ]
  },
  {
   "cell_type": "markdown",
   "id": "cc8f5038",
   "metadata": {},
   "source": [
    "## Loop Tool"
   ]
  },
  {
   "cell_type": "code",
   "execution_count": null,
   "id": "fb9aae94",
   "metadata": {},
   "outputs": [],
   "source": []
  },
  {
   "cell_type": "code",
   "execution_count": null,
   "id": "105c8406",
   "metadata": {},
   "outputs": [],
   "source": []
  },
  {
   "cell_type": "code",
   "execution_count": null,
   "id": "ff4cbe9e",
   "metadata": {},
   "outputs": [],
   "source": []
  }
 ],
 "metadata": {
  "kernelspec": {
   "display_name": "Python 3 (ipykernel)",
   "language": "python",
   "name": "python3"
  },
  "language_info": {
   "codemirror_mode": {
    "name": "ipython",
    "version": 3
   },
   "file_extension": ".py",
   "mimetype": "text/x-python",
   "name": "python",
   "nbconvert_exporter": "python",
   "pygments_lexer": "ipython3",
   "version": "3.10.11"
  }
 },
 "nbformat": 4,
 "nbformat_minor": 5
}

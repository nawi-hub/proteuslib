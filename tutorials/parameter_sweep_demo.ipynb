{
 "cells": [
  {
   "cell_type": "markdown",
   "id": "81ab54a4",
   "metadata": {},
   "source": [
    "# Using the Parameter Sweep Tool\n",
    "\n",
    "Parameter sweep is one way of performing optimization, sensitivity analysis, and uncertainty quantification where experiments are run repeatedly with a different set of input parameters to see their effects on the output qunatities of interest. Output metrics can include levelized cost of water (LCOW), component cost, specific energy consumption, energy efficiency, water recovery rate, gained output ratio, and bulk temperature difference among others. Input parameters are technology dependent, some of which include feed water salinity, membrane permeability, membrane area, pumping efficiency, thermal conductivity, operating temperature, number of stages, labor, and capital expenditure.\n",
    "\n",
    "This notebook will demonstrate how the parameter sweep tool in WaterTAP can be used for various technoeconomic analyses.\n",
    "\n",
    "## Types of Parameter Sweeps\n",
    "\n",
    "In its current form, a user can run 3 types of parameter sweeps\n",
    "\n",
    "* **Simple Parameter Sweep** : Generate samples from a distribution or an Euclidean space and solve flowsheets with those input values.\n",
    "* **Recursive Parameter Sweep** : Will run the simple parameter sweep in recursion if some runs fail to ensure that a user-specified number of sample results are generated. This involves resampling the input parameter space to compensate for the failed runs.\n",
    "* **Differential Parameter Sweep** : This runs a differential sweep to gather sensitivity data when the input parameter space is more than one dimensional. A differential sweep comprises of two types of sweeps, an outer \"nominal\" sweep and an inner \"differential\" sweep. The nominal sweep is a simple parameter sweep over the sampled space. The differential sweep is a simple parameter sweep that occurs at every nominal value, where one of the sweep paramters is preturbed keeping the others fixed to their nominal values.\n",
    "\n"
   ]
  },
  {
   "cell_type": "markdown",
   "id": "2fd561d9",
   "metadata": {},
   "source": [
    "## Flowsheet Example\n",
    "\n",
    "We use a simple RO system with an energy recovery device to demonstrate the capabilities of the parameter sweep tool. It comprises of an inlet high pressure pump connected to a steady state zero-dimensional RO process model.\n",
    "This RO model is designed to treat a single liquid phase model. A turbine-type isothermal energy recovery device model is connected downstream of the RO model. The feed water is an NaCl brine solution and is modeled using an property package within WaterTAP. Outputs that can be measured from this flow sheet include LCOW, product flow rate and concentration, volumetric recovery, water recovery, and specific energy consumption.\n",
    "\n",
    "![RO with energy recovery device](parameter_sweep_demo/RO_ERD_flowsheet.png)"
   ]
  },
  {
   "cell_type": "code",
   "execution_count": null,
   "id": "53ce93e7",
   "metadata": {},
   "outputs": [],
   "source": [
    "# Make the necessary imports\n",
    "from pprint import pprint\n",
    "from IPython import get_ipython\n",
    "from idaes.core.solvers import get_solver\n",
    "from watertap.examples.flowsheets.RO_with_energy_recovery.RO_with_energy_recovery import (\n",
    "    build,\n",
    "    set_operating_conditions,\n",
    "    initialize_system,\n",
    "    optimize,\n",
    ")\n",
    "from watertap.examples.flowsheets.RO_with_energy_recovery.monte_carlo_sampling_RO_ERD import (\n",
    "    get_sweep_params,\n",
    "    build_model,\n",
    "    build_sweep_params,\n",
    "    build_outputs,\n",
    "    run_parameter_sweep,\n",
    ")\n",
    "\n"
   ]
  },
  {
   "cell_type": "code",
   "execution_count": null,
   "id": "489f00de",
   "metadata": {},
   "outputs": [],
   "source": [
    "??get_sweep_params"
   ]
  },
  {
   "cell_type": "code",
   "execution_count": null,
   "id": "a9de9f80",
   "metadata": {},
   "outputs": [],
   "source": [
    "??build_model"
   ]
  },
  {
   "cell_type": "code",
   "execution_count": null,
   "id": "37019c80",
   "metadata": {},
   "outputs": [],
   "source": [
    "??build_sweep_params"
   ]
  },
  {
   "cell_type": "code",
   "execution_count": null,
   "id": "d106ae65",
   "metadata": {},
   "outputs": [],
   "source": [
    "??build_outputs"
   ]
  },
  {
   "cell_type": "code",
   "execution_count": null,
   "id": "74c4b081",
   "metadata": {},
   "outputs": [],
   "source": [
    "from watertap.tools.parameter_sweep import (\n",
    "    UniformSample,\n",
    "    NormalSample,\n",
    "    LatinHypercubeSample,\n",
    "    ParameterSweep,\n",
    ")"
   ]
  },
  {
   "cell_type": "code",
   "execution_count": null,
   "id": "015e21aa",
   "metadata": {},
   "outputs": [],
   "source": [
    "def run_parameter_sweep(num_samples=100, num_procs=1):\n",
    "    \n",
    "    # solver = get_solver()\n",
    "    ps = create_parameter_sweep_object(solver, num_samples, num_procs)\n",
    "    results_dict, results_array = ps.parameter_sweep(\n",
    "        build_model,\n",
    "        build_sweep_params,\n",
    "        build_outputs=None,\n",
    "        build_outputs_kwargs=None,\n",
    "        num_samples=None,\n",
    "        seed=None,\n",
    "        build_model_kwargs=None,\n",
    "        build_sweep_params_kwargs=None,\n",
    "    )"
   ]
  },
  {
   "cell_type": "code",
   "execution_count": null,
   "id": "f6ae31a5",
   "metadata": {},
   "outputs": [],
   "source": [
    "def create_parameter_sweep_object(num_samples, num_procs):\n",
    "    # pprint(ParameterSweep.CONFIG.display())\n",
    "    \n",
    "    solver = get_solver()\n",
    "    kwargs_dict = {\n",
    "        \"debugging_data_dir\": None,\n",
    "        \"csv_results_file_name\" : None,\n",
    "        \"h5_results_file_name\" : None,\n",
    "        \"interpolate_nan_outputs\" : False,\n",
    "        \"h5_parent_group_name\" : None,\n",
    "        \"build_model\" : build_model,\n",
    "        \"build_model_kwargs\" : dict(\n",
    "                                read_model_defauls_from_file=False,\n",
    "                                defaults_fname=\"default_configuration.yaml\",\n",
    "                            ),\n",
    "        \"build_sweep_params\" : build_sweep_params,\n",
    "        \"build_sweep_params_kwargs\" : dict(\n",
    "                                        num_samples=num_samples,\n",
    "                                        use_LHS=False,\n",
    "                                        sweep_params_fname=\"mc_sweep_params.yaml\",\n",
    "                                        read_sweep_params_from_file=False,\n",
    "                                    ),\n",
    "        \"build_outputs\" : build_outputs,\n",
    "        \"build_outputs_kwargs\" : {},\n",
    "        \"optimize_function\" : optimize,\n",
    "        \"optimize_kwargs\" : {\"solver\": solver, \"check_termination\": False},\n",
    "        \"initialize_function\" : None,\n",
    "        \"update_sweep_params_before_init\" : False,\n",
    "        \"initialize_kwargs\" : {},\n",
    "        \"initialize_before_sweep\" : False,\n",
    "        \"reinitialize_function\" : None,\n",
    "        \"reinitialize_kwargs\" : {},\n",
    "        \"reinitialize_before_sweep\" : False,\n",
    "        \"probe_function\" : None,\n",
    "        \"custom_do_param_sweep\" : None,\n",
    "        \"custom_do_param_sweep_kwargs\" : {},\n",
    "        \"publish_progress\" : False,\n",
    "        \"publish_address\" : \"http://localhost:8888\",\n",
    "        \"number_of_subprocesses\" : num_procs,\n",
    "        \"parallel_back_end\" : \"ConcurrentFutures\", # \"MultiProcessing\",\n",
    "        \"log_model_states\" : False,\n",
    "    }\n",
    "    ps = ParameterSweep(**kwargs_dict)\n",
    "    return ps, kwargs_dict"
   ]
  },
  {
   "cell_type": "code",
   "execution_count": null,
   "id": "6fb19e4e",
   "metadata": {},
   "outputs": [],
   "source": [
    "num_samples = 100\n",
    "num_procs = 8\n",
    "ps, kwargs_dict = create_parameter_sweep_object(num_samples, num_procs)"
   ]
  },
  {
   "cell_type": "code",
   "execution_count": null,
   "id": "6f7ce19d",
   "metadata": {},
   "outputs": [],
   "source": [
    "# ps.config.display()\n",
    "# results_dict, results_array = ps.parameter_sweep(\n",
    "#     build_model,\n",
    "#     build_sweep_params,\n",
    "#     build_outputs=None,\n",
    "#     build_outputs_kwargs=None,\n",
    "#     num_samples=None,\n",
    "#     seed=None,\n",
    "#     build_model_kwargs=None,\n",
    "#     build_sweep_params_kwargs=None\n",
    "# )\n",
    "\n",
    "results_array, results_dict = ps.parameter_sweep(\n",
    "    kwargs_dict[\"build_model\"],\n",
    "    kwargs_dict[\"build_sweep_params\"],\n",
    "    build_outputs = kwargs_dict[\"build_outputs\"],\n",
    "    build_outputs_kwargs = kwargs_dict[\"build_outputs_kwargs\"],\n",
    "    num_samples = num_samples,\n",
    "    seed=None,\n",
    "    build_model_kwargs = kwargs_dict[\"build_model_kwargs\"],\n",
    "    build_sweep_params_kwargs = kwargs_dict[\"build_sweep_params_kwargs\"]\n",
    ")"
   ]
  },
  {
   "cell_type": "code",
   "execution_count": null,
   "id": "c648a402",
   "metadata": {},
   "outputs": [],
   "source": [
    "pprint(results_dict)"
   ]
  },
  {
   "cell_type": "code",
   "execution_count": null,
   "id": "5410d0c3",
   "metadata": {},
   "outputs": [],
   "source": [
    "pprint(results_array)"
   ]
  }
 ],
 "metadata": {
  "kernelspec": {
   "display_name": "Python 3 (ipykernel)",
   "language": "python",
   "name": "python3"
  },
  "language_info": {
   "codemirror_mode": {
    "name": "ipython",
    "version": 3
   },
   "file_extension": ".py",
   "mimetype": "text/x-python",
   "name": "python",
   "nbconvert_exporter": "python",
   "pygments_lexer": "ipython3",
   "version": "3.10.11"
  }
 },
 "nbformat": 4,
 "nbformat_minor": 5
}

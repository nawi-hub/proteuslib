{
 "cells": [
  {
   "cell_type": "markdown",
   "id": "3845e5d2",
   "metadata": {},
   "source": [
    "### This notebook provides a brief tutorial on using component helper functions.\n",
    "\n",
    "source code: `watertap.tools.oliapi.util.watertap_to_oli_helper_functions.py`"
   ]
  },
  {
   "cell_type": "markdown",
   "id": "e5091029",
   "metadata": {},
   "source": [
    "<b>WaterTAP</b>, <b>OLI Cloud</b>, and <b>PHREEQC</b> all have specific naming conventions which need to be parsed for inter-compatibility.\n",
    "\n",
    "The `watertap_to_oli_helper_functions.py` module contains methods to convert between <b>WaterTAP</b> and <b>OLI Cloud</b> names and extract some important chemical characteristics that can be used internally, e.g., to easily build MCAS property models."
   ]
  },
  {
   "cell_type": "code",
   "execution_count": 26,
   "id": "9d921703",
   "metadata": {},
   "outputs": [],
   "source": [
    "from watertap.tools.oli_api.util.watertap_to_oli_helper_functions import (\n",
    "    watertap_to_oli,\n",
    "    get_oli_name,\n",
    "    get_charge,\n",
    "    get_charge_group,\n",
    "    get_molar_mass,\n",
    "    get_molar_mass_quantity,\n",
    "    oli_reverse_lookup,\n",
    "    names_db,\n",
    ")\n",
    "\n",
    "from pyomo.environ import units as pyunits, value"
   ]
  },
  {
   "cell_type": "code",
   "execution_count": 10,
   "id": "d8aa258e",
   "metadata": {},
   "outputs": [],
   "source": [
    "components = [\n",
    "    'Na_+',\n",
    "    'Cl_-',\n",
    "    'SO4_2-',\n",
    "    'Mg_2+',\n",
    "    'Ca_2+',\n",
    "    'K_+',\n",
    "    'HCO3_-',\n",
    "    'Na2CO3',\n",
    "    'CO2',\n",
    "    'H2O',\n",
    "]"
   ]
  },
  {
   "cell_type": "markdown",
   "id": "9a64f036",
   "metadata": {},
   "source": [
    "#### 1) Use `watertap_to_oli()` to create a named tuple object to get all attributes at once"
   ]
  },
  {
   "cell_type": "code",
   "execution_count": 11,
   "id": "aa2837c6",
   "metadata": {},
   "outputs": [
    {
     "name": "stdout",
     "output_type": "stream",
     "text": [
      "OLIName(oli_name='NAION', watertap_name='Na_+', charge=1, charge_group='Cations', molar_mass=22.99)\n",
      "OLIName(oli_name='CLION', watertap_name='Cl_-', charge=-1, charge_group='Anions', molar_mass=35.45)\n",
      "OLIName(oli_name='SO4ION', watertap_name='SO4_2-', charge=-2, charge_group='Anions', molar_mass=96.066)\n",
      "OLIName(oli_name='MGION', watertap_name='Mg_2+', charge=2, charge_group='Cations', molar_mass=24.305)\n",
      "OLIName(oli_name='CAION', watertap_name='Ca_2+', charge=2, charge_group='Cations', molar_mass=40.08)\n",
      "OLIName(oli_name='KION', watertap_name='K_+', charge=1, charge_group='Cations', molar_mass=39.098)\n",
      "OLIName(oli_name='HCO3ION', watertap_name='HCO3_-', charge=-1, charge_group='Anions', molar_mass=61.016)\n",
      "OLIName(oli_name='NA2CO3', watertap_name='Na2CO3', charge=0, charge_group='Neutrals', molar_mass=105.988)\n",
      "OLIName(oli_name='CO2', watertap_name='CO2', charge=0, charge_group='Neutrals', molar_mass=44.009)\n",
      "OLIName(oli_name='H2O', watertap_name='H2O', charge=0, charge_group='Neutrals', molar_mass=18.015)\n"
     ]
    }
   ],
   "source": [
    "for component in components:\n",
    "    print(watertap_to_oli(component))"
   ]
  },
  {
   "cell_type": "markdown",
   "id": "bbbe534a",
   "metadata": {},
   "source": [
    "#### 2) Run individual methods to get one attribute at a time"
   ]
  },
  {
   "cell_type": "code",
   "execution_count": 17,
   "id": "bcc5a368",
   "metadata": {},
   "outputs": [
    {
     "name": "stdout",
     "output_type": "stream",
     "text": [
      "Na_+\n",
      "oli_name: NAION\n",
      "charge: 1\n",
      "charge_group: Cations\n",
      "molar_mass: 22.99\n",
      "\n",
      "Cl_-\n",
      "oli_name: CLION\n",
      "charge: -1\n",
      "charge_group: Anions\n",
      "molar_mass: 35.45\n",
      "\n",
      "SO4_2-\n",
      "oli_name: SO4ION\n",
      "charge: -2\n",
      "charge_group: Anions\n",
      "molar_mass: 96.066\n",
      "\n",
      "Mg_2+\n",
      "oli_name: MGION\n",
      "charge: 2\n",
      "charge_group: Cations\n",
      "molar_mass: 24.305\n",
      "\n",
      "Ca_2+\n",
      "oli_name: CAION\n",
      "charge: 2\n",
      "charge_group: Cations\n",
      "molar_mass: 40.08\n",
      "\n",
      "K_+\n",
      "oli_name: KION\n",
      "charge: 1\n",
      "charge_group: Cations\n",
      "molar_mass: 39.098\n",
      "\n",
      "HCO3_-\n",
      "oli_name: HCO3ION\n",
      "charge: -1\n",
      "charge_group: Anions\n",
      "molar_mass: 61.016\n",
      "\n",
      "Na2CO3\n",
      "oli_name: NA2CO3\n",
      "charge: 0\n",
      "charge_group: Neutrals\n",
      "molar_mass: 105.988\n",
      "\n",
      "CO2\n",
      "oli_name: CO2\n",
      "charge: 0\n",
      "charge_group: Neutrals\n",
      "molar_mass: 44.009\n",
      "\n",
      "H2O\n",
      "oli_name: H2O\n",
      "charge: 0\n",
      "charge_group: Neutrals\n",
      "molar_mass: 18.015\n",
      "\n"
     ]
    }
   ],
   "source": [
    "for component in components:\n",
    "    print(component)\n",
    "    oli_name = get_oli_name(component)\n",
    "    print(f\"oli_name: {oli_name}\")\n",
    "    charge = get_charge(component)\n",
    "    print(f\"charge: {charge}\")\n",
    "    print(f\"charge_group: {get_charge_group(charge)}\")\n",
    "    print(f\"molar_mass: {get_molar_mass(component)}\")\n",
    "    print()"
   ]
  },
  {
   "cell_type": "markdown",
   "id": "be7d2282",
   "metadata": {},
   "source": [
    "#### 3) Get molar mass as an object with units\n",
    "\n",
    "`get_molar_mass_quantity()` allows you to provide a unit set along with the component. `units` defaults to `pyunits.kg/pyunits.mol`, or kg/mol."
   ]
  },
  {
   "cell_type": "code",
   "execution_count": 24,
   "id": "c93eb65a",
   "metadata": {},
   "outputs": [
    {
     "name": "stdout",
     "output_type": "stream",
     "text": [
      "Na_+\n",
      "mg/mol: 1000.0000000000001*(mg/g)*(22.99*g/mol)\n",
      "g/mol: 22.99*g/mol\n",
      "kg/mol: 0.001*(kg/g)*(22.99*g/mol)\n",
      "\n",
      "Cl_-\n",
      "mg/mol: 1000.0000000000001*(mg/g)*(35.45*g/mol)\n",
      "g/mol: 35.45*g/mol\n",
      "kg/mol: 0.001*(kg/g)*(35.45*g/mol)\n",
      "\n",
      "SO4_2-\n",
      "mg/mol: 1000.0000000000001*(mg/g)*(96.066*g/mol)\n",
      "g/mol: 96.066*g/mol\n",
      "kg/mol: 0.001*(kg/g)*(96.066*g/mol)\n",
      "\n",
      "Mg_2+\n",
      "mg/mol: 1000.0000000000001*(mg/g)*(24.305*g/mol)\n",
      "g/mol: 24.305*g/mol\n",
      "kg/mol: 0.001*(kg/g)*(24.305*g/mol)\n",
      "\n",
      "Ca_2+\n",
      "mg/mol: 1000.0000000000001*(mg/g)*(40.08*g/mol)\n",
      "g/mol: 40.08*g/mol\n",
      "kg/mol: 0.001*(kg/g)*(40.08*g/mol)\n",
      "\n",
      "K_+\n",
      "mg/mol: 1000.0000000000001*(mg/g)*(39.098*g/mol)\n",
      "g/mol: 39.098*g/mol\n",
      "kg/mol: 0.001*(kg/g)*(39.098*g/mol)\n",
      "\n",
      "HCO3_-\n",
      "mg/mol: 1000.0000000000001*(mg/g)*(61.016*g/mol)\n",
      "g/mol: 61.016*g/mol\n",
      "kg/mol: 0.001*(kg/g)*(61.016*g/mol)\n",
      "\n",
      "Na2CO3\n",
      "mg/mol: 1000.0000000000001*(mg/g)*(105.988*g/mol)\n",
      "g/mol: 105.988*g/mol\n",
      "kg/mol: 0.001*(kg/g)*(105.988*g/mol)\n",
      "\n",
      "CO2\n",
      "mg/mol: 1000.0000000000001*(mg/g)*(44.009*g/mol)\n",
      "g/mol: 44.009*g/mol\n",
      "kg/mol: 0.001*(kg/g)*(44.009*g/mol)\n",
      "\n",
      "H2O\n",
      "mg/mol: 1000.0000000000001*(mg/g)*(18.015*g/mol)\n",
      "g/mol: 18.015*g/mol\n",
      "kg/mol: 0.001*(kg/g)*(18.015*g/mol)\n",
      "\n"
     ]
    }
   ],
   "source": [
    "for component in components:\n",
    "    print(component)\n",
    "    print(f\"mg/mol: {get_molar_mass_quantity(component, units=pyunits.mg/pyunits.mol)}\")\n",
    "    print(f\"g/mol: {get_molar_mass_quantity(component, units=pyunits.g/pyunits.mol)}\")\n",
    "    print(f\"kg/mol: {get_molar_mass_quantity(component, units=pyunits.kg/pyunits.mol)}\")\n",
    "    print()"
   ]
  },
  {
   "cell_type": "markdown",
   "id": "c8e25154",
   "metadata": {},
   "source": [
    "#### 4) Use a reverse lookup to determine WaterTAP names for OLI components\n",
    "\n",
    "`oli_reverse_lookup()` uses a prepopulated mapping, `names_db` to determine WaterTAP names if you only have OLI names."
   ]
  },
  {
   "cell_type": "code",
   "execution_count": 29,
   "id": "6baf0cd4",
   "metadata": {},
   "outputs": [
    {
     "name": "stdout",
     "output_type": "stream",
     "text": [
      "oli_name: NAION, watertap_name: Na_+\n",
      "oli_name: CLION, watertap_name: Cl_-\n",
      "oli_name: SO4ION, watertap_name: SO4_2-\n",
      "oli_name: MGION, watertap_name: Mg_2+\n",
      "oli_name: CAION, watertap_name: Ca_2+\n",
      "oli_name: KION, watertap_name: K_+\n",
      "oli_name: HCO3ION, watertap_name: HCO3_-\n",
      "oli_name: NA2CO3, watertap_name: Na2CO3\n",
      "oli_name: CO2, watertap_name: CO2\n",
      "oli_name: H2O, watertap_name: H2O\n"
     ]
    }
   ],
   "source": [
    "for k, v in names_db.items():\n",
    "    print(f\"oli_name: {k}, watertap_name: {v}\")"
   ]
  }
 ],
 "metadata": {
  "kernelspec": {
   "display_name": "watertap-dev",
   "language": "python",
   "name": "watertap-dev"
  },
  "language_info": {
   "codemirror_mode": {
    "name": "ipython",
    "version": 3
   },
   "file_extension": ".py",
   "mimetype": "text/x-python",
   "name": "python",
   "nbconvert_exporter": "python",
   "pygments_lexer": "ipython3",
   "version": "3.8.16"
  }
 },
 "nbformat": 4,
 "nbformat_minor": 5
}

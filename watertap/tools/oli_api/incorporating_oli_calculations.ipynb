{
 "cells": [
  {
   "cell_type": "markdown",
   "metadata": {
    "scrolled": true,
    "slideshow": {
     "slide_type": "slide"
    }
   },
   "source": [
    "\n",
    "# Incorporating OLI Calculations with WaterTAP\n",
    "\n",
    "Presented by Paul Vecchiarelli (NREL)"
   ]
  },
  {
   "cell_type": "markdown",
   "metadata": {
    "slideshow": {
     "slide_type": "slide"
    }
   },
   "source": [
    "## Rationale\n",
    "\n",
    " - Simulations for realistic water sources are mathematically complex: \n",
    " > $ Interactions \\ge Cations * Anions$\n",
    " - OLI improves WaterTAP approximations and offloads computational resources"
   ]
  },
  {
   "cell_type": "markdown",
   "metadata": {
    "slideshow": {
     "slide_type": "slide"
    }
   },
   "source": [
    "## OLI Cloud Inputs\n",
    "\n",
    "\n",
    " - Solute concentrations\n",
    " \n",
    " - Login credentials\n",
    " \n",
    " - A chemistry (*.dbs) file\n",
    "     - contains state variables (temperature, pressure, solutes), phases, etc.\n",
    "     \n",
    " - Input parameters for OLI call"
   ]
  },
  {
   "cell_type": "markdown",
   "metadata": {
    "slideshow": {
     "slide_type": "slide"
    }
   },
   "source": [
    "## Basic Workflow\n",
    "\n",
    " - We will get scaling tendency computations from OLI Cloud via the following steps:\n",
    " \n",
    "<img src=\"workflow.svg\" alt_text=\"WaterTAP helper methods\">\n",
    "\n",
    "     "
   ]
  },
  {
   "cell_type": "code",
   "execution_count": null,
   "metadata": {
    "slideshow": {
     "slide_type": "slide"
    }
   },
   "outputs": [],
   "source": [
    "from pyomo.environ import units as pyunits\n",
    "\n",
    "from numpy import linspace\n",
    "\n",
    "from watertap.tools.oli_api.util.state_block_helper_functions import create_state_block, extract_state_vars\n",
    "\n",
    "from watertap.tools.oli_api.credentials import CredentialManager\n",
    "from watertap.tools.oli_api.client import OLIApi\n",
    "\n",
    "from watertap.tools.oli_api.core.water_analysis import WaterAnalysis"
   ]
  },
  {
   "cell_type": "markdown",
   "metadata": {
    "slideshow": {
     "slide_type": "slide"
    }
   },
   "source": [
    "# 1. Specify State Variables\n",
    "\n",
    "- We will make a state block from a dict:"
   ]
  },
  {
   "cell_type": "code",
   "execution_count": null,
   "metadata": {
    "slideshow": {
     "slide_type": "subslide"
    }
   },
   "outputs": [],
   "source": [
    "source_water = {\n",
    "        'temperature': 298.15,\n",
    "        'pressure': 101325,\n",
    "        'components': {\n",
    "            'Cl_-': 870,\n",
    "            'Na_+': 739,\n",
    "            'SO4_2-': 1011,\n",
    "            'Mg_2+': 90,\n",
    "            'Ca_2+': 258,\n",
    "            'K_+': 9,\n",
    "            'HCO3_-': 385,\n",
    "            },\n",
    "        'units': {\n",
    "            'temperature': pyunits.K,\n",
    "            'pressure': pyunits.Pa,\n",
    "            'components': pyunits.mg/pyunits.L}\n",
    "        }"
   ]
  },
  {
   "cell_type": "markdown",
   "metadata": {
    "slideshow": {
     "slide_type": "subslide"
    }
   },
   "source": [
    "- This data can be used to construct inputs to OLI"
   ]
  },
  {
   "cell_type": "markdown",
   "metadata": {
    "slideshow": {
     "slide_type": "slide"
    }
   },
   "source": [
    "# 2. Get Survey Parameters\n",
    "\n",
    " - We will generate a survey investigating different brine concentrations:"
   ]
  },
  {
   "cell_type": "code",
   "execution_count": null,
   "metadata": {
    "slideshow": {
     "slide_type": "fragment"
    }
   },
   "outputs": [],
   "source": [
    "m = create_state_block(source_water)\n",
    "state_block = m.fs.stream[0]\n",
    "conc_var = state_block.conc_mass_phase_comp\n",
    "state_vars = extract_state_vars(state_block, conc_var, source_water[\"units\"])"
   ]
  },
  {
   "cell_type": "code",
   "execution_count": null,
   "metadata": {},
   "outputs": [],
   "source": [
    "print(f\"\\nState Vars:\\n{state_vars}\")"
   ]
  },
  {
   "cell_type": "code",
   "execution_count": null,
   "metadata": {
    "slideshow": {
     "slide_type": "subslide"
    }
   },
   "outputs": [],
   "source": [
    "survey_conditions = {\"SO4_2-\": linspace(0, 1e3, 10)}"
   ]
  },
  {
   "cell_type": "markdown",
   "metadata": {
    "slideshow": {
     "slide_type": "slide"
    }
   },
   "source": [
    "# 3. Create Input List\n",
    "\n",
    " - We updated our workflow from manual entry..."
   ]
  },
  {
   "cell_type": "code",
   "execution_count": null,
   "metadata": {
    "slideshow": {
     "slide_type": "subslide"
    }
   },
   "outputs": [],
   "source": [
    "# don't run this cell, it's just an example code\n",
    "\"\"\"\n",
    "def create_input_dict(self, AllowSolidsToForm=False):\n",
    "    \n",
    "    ...\n",
    "    \n",
    "    tmp_list.append(\n",
    "        {\n",
    "            \"group\": \"Calculation Options\",\n",
    "            \"name\": \"CalcType\",\n",
    "            \"value\": \"EquilCalcOnly\",\n",
    "        }\n",
    "    )\n",
    "    tmp_list.append(\n",
    "        {\n",
    "            \"group\": \"Calculation Options\",\n",
    "            \"name\": \"AllowSolidsToForm\",\n",
    "            \"value\": AllowSolidsToForm,\n",
    "        }\n",
    "    )\n",
    "    \n",
    "    ...\n",
    "\"\"\""
   ]
  },
  {
   "cell_type": "markdown",
   "metadata": {
    "slideshow": {
     "slide_type": "subslide"
    }
   },
   "source": [
    " - ...to an automated process that uses prebuilt, editable dictionaries to configure OLI calls"
   ]
  },
  {
   "cell_type": "code",
   "execution_count": null,
   "metadata": {
    "slideshow": {
     "slide_type": "fragment"
    }
   },
   "outputs": [],
   "source": [
    "water_analysis = WaterAnalysis(state_vars=state_vars,\n",
    "                               survey_conditions=survey_conditions)\n",
    "\n",
    "water_analysis.oli_input_dict[\"AllowSolidsToForm\"] = True\n",
    "props = {\"scalingIndex\": False,\n",
    "         \"prescalingTendencies\": True,\n",
    "         \"prescalingTendenciesRigorous\": True,\n",
    "         \"scalingTendencies\": True,\n",
    "         \"MBGComposition\" : False,\n",
    "         \"materialBalanceGroup\": False} \n",
    "water_analysis.oli_optional_properties.update(props)"
   ]
  },
  {
   "cell_type": "markdown",
   "metadata": {
    "slideshow": {
     "slide_type": "slide"
    }
   },
   "source": [
    "# 4. Provide Login Details\n",
    "\n",
    "- The following code demonstrates an OLI Cloud login:"
   ]
  },
  {
   "cell_type": "code",
   "execution_count": null,
   "metadata": {
    "slideshow": {
     "slide_type": "fragment"
    }
   },
   "outputs": [],
   "source": [
    "# replace dummy credentials with your own\n",
    "\n",
    "credentials = {\"username\": \"dummy@dummy.edu\",\n",
    "               \"password\": \"dummy_pass\",\n",
    "               \"root_url\": \"https://dummy_root.com\",\n",
    "               \"auth_url\": \"https://dummy_url.com/dummy\",\n",
    "              }\n",
    "\n",
    "credential_manager = CredentialManager(**credentials)\n",
    "\n",
    "key = credential_manager.encryption_key"
   ]
  },
  {
   "cell_type": "markdown",
   "metadata": {
    "slideshow": {
     "slide_type": "subslide"
    }
   },
   "source": [
    " - An encryption key is provided at first login for future usage:"
   ]
  },
  {
   "cell_type": "code",
   "execution_count": null,
   "metadata": {
    "scrolled": true,
    "slideshow": {
     "slide_type": "fragment"
    }
   },
   "outputs": [],
   "source": [
    "credential_manager = CredentialManager(encryption_key=key)"
   ]
  },
  {
   "cell_type": "markdown",
   "metadata": {
    "slideshow": {
     "slide_type": "slide"
    }
   },
   "source": [
    "# 5. Create *.dbs File and 6. Get Raw Output\n",
    "\n",
    " - In this example we will simulate brine concentration"
   ]
  },
  {
   "cell_type": "code",
   "execution_count": null,
   "metadata": {
    "scrolled": true,
    "slideshow": {
     "slide_type": "fragment"
    }
   },
   "outputs": [],
   "source": [
    "# will take 20-30 seconds to run\n",
    "\n",
    "survey = water_analysis.build_composition_survey(survey_conditions)\n",
    "\n",
    "solute_list = source_water[\"components\"]\n",
    "phases = [\"liquid1\", \"solid\"]\n",
    "\n",
    "with OLIApi(credential_manager) as oliapi:\n",
    "\n",
    "    dbs_file_id = oliapi.get_dbs_file_id(chemistry_source=solute_list,\n",
    "                                         phases=phases,\n",
    "                                         model_name=\"remote_file_from_dict\")\n",
    "    \n",
    "    water_analysis.run(oliapi=oliapi,\n",
    "                       dbs_file_id=dbs_file_id)"
   ]
  },
  {
   "cell_type": "markdown",
   "metadata": {
    "slideshow": {
     "slide_type": "slide"
    }
   },
   "source": [
    "# 7. Extract Filtered Output\n",
    "\n",
    " - OLI's output is robust, so WaterTAP enables printing selected results:"
   ]
  },
  {
   "cell_type": "code",
   "execution_count": null,
   "metadata": {
    "slideshow": {
     "slide_type": "subslide"
    }
   },
   "outputs": [],
   "source": [
    "print(\"\\nPhase Properties:\")\n",
    "\n",
    "extracted_properties = water_analysis.extract_basic_properties(phase=\"liquid1\",\n",
    "                                                               properties=[\"osmoticPressure\", \"ph\"])\n",
    "print(extracted_properties)"
   ]
  },
  {
   "cell_type": "code",
   "execution_count": null,
   "metadata": {
    "scrolled": false,
    "slideshow": {
     "slide_type": "subslide"
    }
   },
   "outputs": [],
   "source": [
    "print(\"\\nScaling Tendencies:\")\n",
    "\n",
    "extracted_scaling_tendencies = water_analysis.extract_scaling_tendencies(scalants=[\"CACO3\", \"CASO4.2H2O\"])    \n",
    "print(extracted_scaling_tendencies)"
   ]
  },
  {
   "cell_type": "markdown",
   "metadata": {
    "slideshow": {
     "slide_type": "slide"
    }
   },
   "source": [
    "# Conclusions\n",
    "\n",
    "OLI can be used to strengthen WaterTAP in several ways:\n",
    "\n",
    "1. Modeling physico-chemical properties of a system\n",
    "2. Investigating pre- and equilibrium scaling tendency\n",
    "3. Surveying various conditions within a model\n",
    "\n",
    "**Features will be implemented in a future WaterTAP release.**\n",
    "\n",
    "Contact: Paul Vecchiarelli (paul.vecchiarelli@nrel.gov)"
   ]
  }
 ],
 "metadata": {
  "celltoolbar": "Slideshow",
  "kernelspec": {
   "display_name": "watertap-dev",
   "language": "python",
   "name": "watertap-dev"
  },
  "language_info": {
   "codemirror_mode": {
    "name": "ipython",
    "version": 3
   },
   "file_extension": ".py",
   "mimetype": "text/x-python",
   "name": "python",
   "nbconvert_exporter": "python",
   "pygments_lexer": "ipython3",
   "version": "3.8.16"
  }
 },
 "nbformat": 4,
 "nbformat_minor": 2
}

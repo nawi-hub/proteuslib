{
 "cells": [
  {
   "cell_type": "code",
   "execution_count": 9,
   "id": "1d444550",
   "metadata": {
    "scrolled": true
   },
   "outputs": [
    {
     "data": {
      "text/plain": [
       "<module 'watertap.examples.flowsheets.electrodialysis.electrodialysis_1stack_concentrate_recirc' from '/Users/xb/Documents/Projects/watertap/watertap/examples/flowsheets/electrodialysis/electrodialysis_1stack_concentrate_recirc.py'>"
      ]
     },
     "execution_count": 9,
     "metadata": {},
     "output_type": "execute_result"
    }
   ],
   "source": [
    "import watertap.examples.flowsheets.electrodialysis.electrodialysis_1stack_concentrate_recirc as ef\n",
    "import importlib\n",
    "from idaes.core.solvers import get_solver\n",
    "import pandas as pd\n",
    "import numpy as np\n",
    "from pyomo.environ import value, check_optimal_termination\n",
    "import idaes.logger as idaeslog\n",
    "from idaes.core.util.exceptions import  InitializationError\n",
    "from idaes.core.util.model_statistics import report_statistics, degrees_of_freedom, fixed_variables_generator\n",
    "importlib.reload(ef)\n"
   ]
  },
  {
   "cell_type": "code",
   "execution_count": 7,
   "id": "49814524",
   "metadata": {},
   "outputs": [
    {
     "name": "stdout",
     "output_type": "stream",
     "text": [
      "2023-04-17 15:08:18 [WARNING] idaes.core.base.costing_base: flow_expr is an expression with a lower bound of less than zero. Costing requires that all flows have a lower bound equal to or greater than zero to avoid negative costs.\n",
      "2023-04-17 15:08:18 [WARNING] idaes.core.base.costing_base: flow_expr is an expression with a lower bound of less than zero. Costing requires that all flows have a lower bound equal to or greater than zero to avoid negative costs.\n",
      "===Excecuting c0_mass= 10.0, WR=0.5,V=2.0===\n",
      "2023-04-17 15:08:18 [WARNING] idaes.watertap.property_models.multicomp_aq_sol_prop_pack: While using the calculate_state method on fs.feed.properties[0.0], variable flow_vol_phase was provided as an argument in var_args, but it does not have a scaling factor. This suggests that the calculate_scaling_factor method has not been used or the variable was created on demand after the scaling factors were calculated. It is recommended to touch all relevant variables (i.e. call them or set an initial value) before using the calculate_scaling_factor method.\n",
      "2023-04-17 15:08:18 [WARNING] idaes.watertap.property_models.multicomp_aq_sol_prop_pack: While using the calculate_state method on fs.feed.properties[0.0], variable conc_mol_phase_comp was provided as an argument in var_args, but it does not have a scaling factor. This suggests that the calculate_scaling_factor method has not been used or the variable was created on demand after the scaling factors were calculated. It is recommended to touch all relevant variables (i.e. call them or set an initial value) before using the calculate_scaling_factor method.\n",
      "2023-04-17 15:08:18 [WARNING] idaes.watertap.property_models.multicomp_aq_sol_prop_pack: While using the calculate_state method on fs.feed.properties[0.0], variable conc_mol_phase_comp was provided as an argument in var_args, but it does not have a scaling factor. This suggests that the calculate_scaling_factor method has not been used or the variable was created on demand after the scaling factors were calculated. It is recommended to touch all relevant variables (i.e. call them or set an initial value) before using the calculate_scaling_factor method.\n",
      "2023-04-17 15:08:18 [WARNING] idaes.core.util.scaling: Missing scaling factor for fs.EDstack.diluate.area\n",
      "2023-04-17 15:08:18 [WARNING] idaes.core.util.scaling: Missing scaling factor for fs.EDstack.concentrate.area\n",
      "2023-04-17 15:08:18 [WARNING] idaes.core.util.scaling: Missing scaling factor for fs.EDstack.membrane_thickness\n",
      "2023-04-17 15:08:18 [WARNING] idaes.core.util.scaling: Missing scaling factor for fs.EDstack.membrane_areal_resistance\n",
      "2023-04-17 15:08:18 [WARNING] idaes.core.util.scaling: Missing scaling factor for fs.EDstack.solute_diffusivity_membrane\n",
      "2023-04-17 15:08:18 [WARNING] idaes.core.util.scaling: Missing scaling factor for fs.EDstack.diffus_mass\n",
      "2023-04-17 15:08:18 [WARNING] idaes.core.util.scaling: Missing scaling factor for fs.EDstack.water_permeability_membrane\n",
      "2023-04-17 15:08:18 [WARNING] idaes.core.util.scaling: Missing scaling factor for fs.EDstack.channel_height\n",
      "2023-04-17 15:08:18 [WARNING] idaes.core.util.scaling: Missing scaling factor for fs.EDstack.spacer_porosity\n",
      "2023-04-17 15:08:18 [WARNING] idaes.core.util.scaling: Missing scaling factor for fs.EDstack.electrodes_resistance\n",
      "2023-04-17 15:08:18 [WARNING] idaes.core.util.scaling: Missing scaling factor for fs.EDstack.spacer_specific_area\n",
      "2023-04-17 15:08:18 [WARNING] idaes.core.util.scaling: Missing scaling factor for fs.EDstack.hydraulic_diameter\n",
      "2023-04-17 15:08:18 [WARNING] idaes.core.util.scaling: Missing scaling factor for fs.EDstack.N_Re\n",
      "2023-04-17 15:08:18 [WARNING] idaes.core.util.scaling: Missing scaling factor for fs.EDstack.N_Sc\n",
      "2023-04-17 15:08:18 [WARNING] idaes.core.util.scaling: Missing scaling factor for fs.EDstack.N_Sh\n",
      "2023-04-17 15:08:18 [WARNING] idaes.core.util.scaling: Missing scaling factor for fs.EDstack.friction_factor\n",
      "2023-04-17 15:08:18 [WARNING] idaes.core.util.scaling: Missing scaling factor for fs.EDstack.pressure_drop\n",
      "2023-04-17 15:08:18 [WARNING] idaes.core.util.scaling: Missing scaling factor for fs.EDstack.pressure_drop_total\n",
      "2023-04-17 15:08:18 [INFO] idaes.init.fs.feed: Initialization Complete.\n",
      "2023-04-17 15:08:18 [INFO] idaes.init.fs.sepa0: Initialization Step 2 Complete: optimal - Optimal Solution Found\n",
      "2023-04-17 15:08:19 [INFO] idaes.init.fs.pump1.control_volume: Initialization Complete\n",
      "2023-04-17 15:08:19 [INFO] idaes.init.fs.pump1: Initialization Complete: optimal - Optimal Solution Found\n",
      "2023-04-17 15:08:19 [INFO] idaes.init.fs.pump0.control_volume: Initialization Complete\n",
      "2023-04-17 15:08:19 [INFO] idaes.init.fs.pump0: Initialization Complete: optimal - Optimal Solution Found\n",
      "2023-04-17 15:08:19 [INFO] idaes.init.fs.EDstack.diluate: Initialization Complete\n",
      "2023-04-17 15:08:19 [WARNING] idaes.init.fs.EDstack: Non-zero degrees of freedom: Degrees of freedom on fs.EDstack = 10. Fix 10 more variable(s)\n",
      "2023-04-17 15:08:19 [INFO] idaes.init.fs.EDstack.concentrate: Initialization Complete\n",
      "2023-04-17 15:08:31 [INFO] idaes.init.fs.EDstack: Initialization Step 3 successful.\n",
      "2023-04-17 15:08:31 [INFO] idaes.init.fs.EDstack: Initialization Complete: optimal - Optimal Solution Found\n",
      "2023-04-17 15:08:31 [INFO] idaes.init.fs.prod: Initialization Complete.\n",
      "2023-04-17 15:08:31 [INFO] idaes.init.fs.prod: Initialization Complete.\n",
      "2023-04-17 15:08:31 [INFO] idaes.init.fs.sepa1: Initialization Step 2 Complete: optimal - Optimal Solution Found\n",
      "2023-04-17 15:08:31 [INFO] idaes.init.fs.disp: Initialization Complete.\n",
      "2023-04-17 15:08:31 [INFO] idaes.init.fs.mix0: Initialization Complete: optimal - Optimal Solution Found\n",
      "===Excecuting c0_mass= 10.0, WR=0.5,V=4.0===\n",
      "2023-04-17 15:08:34 [INFO] idaes.init.fs.feed: Initialization Complete.\n",
      "2023-04-17 15:08:34 [INFO] idaes.init.fs.sepa0: Initialization Step 2 Complete: optimal - Optimal Solution Found\n",
      "2023-04-17 15:08:34 [INFO] idaes.init.fs.pump1.control_volume: Initialization Complete\n",
      "2023-04-17 15:08:34 [INFO] idaes.init.fs.pump1: Initialization Complete: optimal - Optimal Solution Found\n",
      "2023-04-17 15:08:34 [INFO] idaes.init.fs.pump0.control_volume: Initialization Complete\n",
      "2023-04-17 15:08:34 [INFO] idaes.init.fs.pump0: Initialization Complete: optimal - Optimal Solution Found\n",
      "2023-04-17 15:08:35 [INFO] idaes.init.fs.EDstack.diluate: Initialization Complete\n",
      "2023-04-17 15:08:35 [WARNING] idaes.init.fs.EDstack: Non-zero degrees of freedom: Degrees of freedom on fs.EDstack = 10. Fix 10 more variable(s)\n",
      "2023-04-17 15:08:35 [INFO] idaes.init.fs.EDstack.concentrate: Initialization Complete\n",
      "2023-04-17 15:09:10 [WARNING] idaes.init.fs.EDstack:  The solver at the Initialization Step 3 step failed to converge to an optimal solution.This suggests that the user provided infeasible inputs or that the model is poorly scaled, poorly initialized, or degenerate.\n",
      "2023-04-17 15:09:10 [INFO] idaes.init.fs.EDstack: Initialization Complete: infeasible - Converged to a locally infeasible point. Problem may be infeasible.\n",
      "2023-04-17 15:09:10 [WARNING] idaes.watertap.examples.flowsheets.electrodialysis.electrodialysis_1stack_concentrate_recirc: Initialization Fails in initialize_dof0_system:Unit model fs.EDstack failed to initialize\n",
      "WARNING: Loading a SolverResults object with a warning status into\n",
      "    model.name=\"unknown\";\n",
      "      - termination condition: maxIterations\n",
      "      - message from solver: Ipopt 3.13.2\\x3a Maximum Number of Iterations\n",
      "        Exceeded.\n",
      "WARNING: Loading a SolverResults object with a warning status into\n",
      "    model.name=\"unknown\";\n",
      "      - termination condition: maxIterations\n",
      "      - message from solver: Ipopt 3.13.2\\x3a Maximum Number of Iterations\n",
      "        Exceeded.\n",
      "2023-04-17 15:10:24 [WARNING] idaes.__main__: Solving FAILING at c0_mass    10.0\n",
      "WR          0.5\n",
      "Volt        4.0\n",
      "Name: 1, dtype: float64 with solver status of warning and termination condition of maxIterations \n",
      "===Excecuting c0_mass= 10.0, WR=0.5,V=6.0===\n",
      "2023-04-17 15:10:24 [INFO] idaes.init.fs.feed: Initialization Complete.\n",
      "2023-04-17 15:10:24 [INFO] idaes.init.fs.sepa0: Initialization Step 2 Complete: optimal - Optimal Solution Found\n",
      "2023-04-17 15:10:24 [INFO] idaes.init.fs.pump1.control_volume: Initialization Complete\n"
     ]
    },
    {
     "name": "stdout",
     "output_type": "stream",
     "text": [
      "2023-04-17 15:10:24 [INFO] idaes.init.fs.pump1: Initialization Complete: optimal - Optimal Solution Found\n",
      "2023-04-17 15:10:24 [WARNING] idaes.__main__: Initialization FAILURE at c0_mass    10.0\n",
      "WR          0.5\n",
      "Volt        6.0\n",
      "Name: 2, dtype: float64; dof is NOT 0! dof=-5 \n",
      "2023-04-17 15:10:24 [WARNING] idaes.core.base.costing_base: flow_expr is an expression with a lower bound of less than zero. Costing requires that all flows have a lower bound equal to or greater than zero to avoid negative costs.\n",
      "2023-04-17 15:10:24 [WARNING] idaes.core.base.costing_base: flow_expr is an expression with a lower bound of less than zero. Costing requires that all flows have a lower bound equal to or greater than zero to avoid negative costs.\n",
      "2023-04-17 15:10:24 [WARNING] idaes.watertap.property_models.multicomp_aq_sol_prop_pack: While using the calculate_state method on fs.feed.properties[0.0], variable flow_vol_phase was provided as an argument in var_args, but it does not have a scaling factor. This suggests that the calculate_scaling_factor method has not been used or the variable was created on demand after the scaling factors were calculated. It is recommended to touch all relevant variables (i.e. call them or set an initial value) before using the calculate_scaling_factor method.\n",
      "2023-04-17 15:10:24 [WARNING] idaes.watertap.property_models.multicomp_aq_sol_prop_pack: While using the calculate_state method on fs.feed.properties[0.0], variable conc_mol_phase_comp was provided as an argument in var_args, but it does not have a scaling factor. This suggests that the calculate_scaling_factor method has not been used or the variable was created on demand after the scaling factors were calculated. It is recommended to touch all relevant variables (i.e. call them or set an initial value) before using the calculate_scaling_factor method.\n",
      "2023-04-17 15:10:24 [WARNING] idaes.watertap.property_models.multicomp_aq_sol_prop_pack: While using the calculate_state method on fs.feed.properties[0.0], variable conc_mol_phase_comp was provided as an argument in var_args, but it does not have a scaling factor. This suggests that the calculate_scaling_factor method has not been used or the variable was created on demand after the scaling factors were calculated. It is recommended to touch all relevant variables (i.e. call them or set an initial value) before using the calculate_scaling_factor method.\n",
      "2023-04-17 15:10:25 [WARNING] idaes.core.util.scaling: Missing scaling factor for fs.EDstack.diluate.area\n",
      "2023-04-17 15:10:25 [WARNING] idaes.core.util.scaling: Missing scaling factor for fs.EDstack.concentrate.area\n",
      "2023-04-17 15:10:25 [WARNING] idaes.core.util.scaling: Missing scaling factor for fs.EDstack.membrane_thickness\n",
      "2023-04-17 15:10:25 [WARNING] idaes.core.util.scaling: Missing scaling factor for fs.EDstack.membrane_areal_resistance\n",
      "2023-04-17 15:10:25 [WARNING] idaes.core.util.scaling: Missing scaling factor for fs.EDstack.solute_diffusivity_membrane\n",
      "2023-04-17 15:10:25 [WARNING] idaes.core.util.scaling: Missing scaling factor for fs.EDstack.diffus_mass\n",
      "2023-04-17 15:10:25 [WARNING] idaes.core.util.scaling: Missing scaling factor for fs.EDstack.water_permeability_membrane\n",
      "2023-04-17 15:10:25 [WARNING] idaes.core.util.scaling: Missing scaling factor for fs.EDstack.channel_height\n",
      "2023-04-17 15:10:25 [WARNING] idaes.core.util.scaling: Missing scaling factor for fs.EDstack.spacer_porosity\n",
      "2023-04-17 15:10:25 [WARNING] idaes.core.util.scaling: Missing scaling factor for fs.EDstack.electrodes_resistance\n",
      "2023-04-17 15:10:25 [WARNING] idaes.core.util.scaling: Missing scaling factor for fs.EDstack.spacer_specific_area\n",
      "2023-04-17 15:10:25 [WARNING] idaes.core.util.scaling: Missing scaling factor for fs.EDstack.hydraulic_diameter\n",
      "2023-04-17 15:10:25 [WARNING] idaes.core.util.scaling: Missing scaling factor for fs.EDstack.N_Re\n",
      "2023-04-17 15:10:25 [WARNING] idaes.core.util.scaling: Missing scaling factor for fs.EDstack.N_Sc\n",
      "2023-04-17 15:10:25 [WARNING] idaes.core.util.scaling: Missing scaling factor for fs.EDstack.N_Sh\n",
      "2023-04-17 15:10:25 [WARNING] idaes.core.util.scaling: Missing scaling factor for fs.EDstack.friction_factor\n",
      "2023-04-17 15:10:25 [WARNING] idaes.core.util.scaling: Missing scaling factor for fs.EDstack.pressure_drop\n",
      "2023-04-17 15:10:25 [WARNING] idaes.core.util.scaling: Missing scaling factor for fs.EDstack.pressure_drop_total\n",
      "2023-04-17 15:10:25 [INFO] idaes.init.fs.feed: Initialization Complete.\n"
     ]
    },
    {
     "ename": "KeyboardInterrupt",
     "evalue": "",
     "output_type": "error",
     "traceback": [
      "\u001b[0;31m---------------------------------------------------------------------------\u001b[0m",
      "\u001b[0;31mKeyboardInterrupt\u001b[0m                         Traceback (most recent call last)",
      "\u001b[0;32m/var/folders/0_/zhpyydfx4cd9z6y54szph_wr0000gn/T/ipykernel_88469/1084829891.py\u001b[0m in \u001b[0;36m<cell line: 47>\u001b[0;34m()\u001b[0m\n\u001b[1;32m     61\u001b[0m     \u001b[0;32mtry\u001b[0m\u001b[0;34m:\u001b[0m\u001b[0;34m\u001b[0m\u001b[0;34m\u001b[0m\u001b[0m\n\u001b[0;32m---> 62\u001b[0;31m         \u001b[0mdeci_comp\u001b[0m\u001b[0;34m=\u001b[0m\u001b[0mef\u001b[0m\u001b[0;34m.\u001b[0m\u001b[0minitialize_dof0_system\u001b[0m\u001b[0;34m(\u001b[0m\u001b[0mm\u001b[0m\u001b[0;34m=\u001b[0m\u001b[0mm\u001b[0m\u001b[0;34m,\u001b[0m\u001b[0minitargs\u001b[0m\u001b[0;34m=\u001b[0m\u001b[0minitarg\u001b[0m\u001b[0;34m[\u001b[0m\u001b[0;36m0\u001b[0m\u001b[0;34m]\u001b[0m\u001b[0;34m,\u001b[0m\u001b[0;34m**\u001b[0m\u001b[0mdeci_var_dict\u001b[0m\u001b[0;34m)\u001b[0m\u001b[0;34m\u001b[0m\u001b[0;34m\u001b[0m\u001b[0m\n\u001b[0m\u001b[1;32m     63\u001b[0m     \u001b[0;32mexcept\u001b[0m\u001b[0;34m:\u001b[0m\u001b[0;34m\u001b[0m\u001b[0;34m\u001b[0m\u001b[0m\n",
      "\u001b[0;32m~/Documents/Projects/watertap/watertap/examples/flowsheets/electrodialysis/electrodialysis_1stack_concentrate_recirc.py\u001b[0m in \u001b[0;36minitialize_dof0_system\u001b[0;34m(m, initargs, **deciargs)\u001b[0m\n\u001b[1;32m    235\u001b[0m     \u001b[0;32massert\u001b[0m \u001b[0mmstat\u001b[0m\u001b[0;34m.\u001b[0m\u001b[0mdegrees_of_freedom\u001b[0m\u001b[0;34m(\u001b[0m\u001b[0mm\u001b[0m\u001b[0;34m)\u001b[0m \u001b[0;34m==\u001b[0m \u001b[0;36m0\u001b[0m\u001b[0;34m\u001b[0m\u001b[0;34m\u001b[0m\u001b[0m\n\u001b[0;32m--> 236\u001b[0;31m     \u001b[0;32mtry\u001b[0m\u001b[0;34m:\u001b[0m\u001b[0;34m\u001b[0m\u001b[0;34m\u001b[0m\u001b[0m\n\u001b[0m\u001b[1;32m    237\u001b[0m         \u001b[0minitialize_system\u001b[0m\u001b[0;34m(\u001b[0m\u001b[0mm\u001b[0m\u001b[0;34m)\u001b[0m\u001b[0;34m\u001b[0m\u001b[0;34m\u001b[0m\u001b[0m\n",
      "\u001b[0;32m~/Documents/Projects/watertap/watertap/examples/flowsheets/electrodialysis/electrodialysis_1stack_concentrate_recirc.py\u001b[0m in \u001b[0;36minitialize_system\u001b[0;34m(m, solver, report_bad_scaling)\u001b[0m\n\u001b[1;32m    663\u001b[0m     \u001b[0mpropagate_state\u001b[0m\u001b[0;34m(\u001b[0m\u001b[0mdestination\u001b[0m\u001b[0;34m=\u001b[0m\u001b[0mm\u001b[0m\u001b[0;34m.\u001b[0m\u001b[0mfs\u001b[0m\u001b[0;34m.\u001b[0m\u001b[0mpump0\u001b[0m\u001b[0;34m.\u001b[0m\u001b[0minlet\u001b[0m\u001b[0;34m,\u001b[0m \u001b[0msource\u001b[0m\u001b[0;34m=\u001b[0m\u001b[0mm\u001b[0m\u001b[0;34m.\u001b[0m\u001b[0mfs\u001b[0m\u001b[0;34m.\u001b[0m\u001b[0mpump1\u001b[0m\u001b[0;34m.\u001b[0m\u001b[0minlet\u001b[0m\u001b[0;34m)\u001b[0m\u001b[0;34m\u001b[0m\u001b[0;34m\u001b[0m\u001b[0m\n\u001b[0;32m--> 664\u001b[0;31m     \u001b[0mm\u001b[0m\u001b[0;34m.\u001b[0m\u001b[0mfs\u001b[0m\u001b[0;34m.\u001b[0m\u001b[0mpump0\u001b[0m\u001b[0;34m.\u001b[0m\u001b[0mdeltaP\u001b[0m\u001b[0;34m[\u001b[0m\u001b[0;36m0\u001b[0m\u001b[0;34m]\u001b[0m\u001b[0;34m.\u001b[0m\u001b[0mfix\u001b[0m\u001b[0;34m(\u001b[0m\u001b[0;36m2e5\u001b[0m\u001b[0;34m)\u001b[0m\u001b[0;34m\u001b[0m\u001b[0;34m\u001b[0m\u001b[0m\n\u001b[0m\u001b[1;32m    665\u001b[0m     \u001b[0mm\u001b[0m\u001b[0;34m.\u001b[0m\u001b[0mfs\u001b[0m\u001b[0;34m.\u001b[0m\u001b[0mpump0\u001b[0m\u001b[0;34m.\u001b[0m\u001b[0minitialize\u001b[0m\u001b[0;34m(\u001b[0m\u001b[0;34m)\u001b[0m\u001b[0;34m\u001b[0m\u001b[0;34m\u001b[0m\u001b[0m\n",
      "\u001b[0;32m~/Documents/Projects/watertap/watertap/core/initialization_mixin.py\u001b[0m in \u001b[0;36minitialize\u001b[0;34m(self, *args, **kwargs)\u001b[0m\n\u001b[1;32m     22\u001b[0m         \u001b[0;32mtry\u001b[0m\u001b[0;34m:\u001b[0m\u001b[0;34m\u001b[0m\u001b[0;34m\u001b[0m\u001b[0m\n\u001b[0;32m---> 23\u001b[0;31m             \u001b[0;32mreturn\u001b[0m \u001b[0msuper\u001b[0m\u001b[0;34m(\u001b[0m\u001b[0;34m)\u001b[0m\u001b[0;34m.\u001b[0m\u001b[0minitialize\u001b[0m\u001b[0;34m(\u001b[0m\u001b[0;34m*\u001b[0m\u001b[0margs\u001b[0m\u001b[0;34m,\u001b[0m \u001b[0;34m**\u001b[0m\u001b[0mkwargs\u001b[0m\u001b[0;34m)\u001b[0m\u001b[0;34m\u001b[0m\u001b[0;34m\u001b[0m\u001b[0m\n\u001b[0m\u001b[1;32m     24\u001b[0m         \u001b[0;32mexcept\u001b[0m \u001b[0mInitializationError\u001b[0m\u001b[0;34m:\u001b[0m\u001b[0;34m\u001b[0m\u001b[0;34m\u001b[0m\u001b[0m\n",
      "\u001b[0;32m~/miniconda3/envs/WTe/lib/python3.10/site-packages/idaes/core/base/unit_model.py\u001b[0m in \u001b[0;36minitialize\u001b[0;34m(blk, *args, **kwargs)\u001b[0m\n\u001b[1;32m    529\u001b[0m         \u001b[0;31m# Remember to collect flags for fixed vars\u001b[0m\u001b[0;34m\u001b[0m\u001b[0;34m\u001b[0m\u001b[0m\n\u001b[0;32m--> 530\u001b[0;31m         \u001b[0mflags\u001b[0m \u001b[0;34m=\u001b[0m \u001b[0mblk\u001b[0m\u001b[0;34m.\u001b[0m\u001b[0minitialize_build\u001b[0m\u001b[0;34m(\u001b[0m\u001b[0;34m*\u001b[0m\u001b[0margs\u001b[0m\u001b[0;34m,\u001b[0m \u001b[0;34m**\u001b[0m\u001b[0mkwargs\u001b[0m\u001b[0;34m)\u001b[0m\u001b[0;34m\u001b[0m\u001b[0;34m\u001b[0m\u001b[0m\n\u001b[0m\u001b[1;32m    531\u001b[0m \u001b[0;34m\u001b[0m\u001b[0m\n",
      "\u001b[0;32m~/miniconda3/envs/WTe/lib/python3.10/site-packages/idaes/models/unit_models/pressure_changer.py\u001b[0m in \u001b[0;36minitialize_build\u001b[0;34m(blk, state_args, routine, outlvl, solver, optarg)\u001b[0m\n\u001b[1;32m    693\u001b[0m             \u001b[0;31m# Call the general initialization routine in UnitModelBlockData\u001b[0m\u001b[0;34m\u001b[0m\u001b[0;34m\u001b[0m\u001b[0m\n\u001b[0;32m--> 694\u001b[0;31m             super().initialize_build(\n\u001b[0m\u001b[1;32m    695\u001b[0m                 \u001b[0mstate_args\u001b[0m\u001b[0;34m=\u001b[0m\u001b[0mstate_args\u001b[0m\u001b[0;34m,\u001b[0m \u001b[0moutlvl\u001b[0m\u001b[0;34m=\u001b[0m\u001b[0moutlvl\u001b[0m\u001b[0;34m,\u001b[0m \u001b[0msolver\u001b[0m\u001b[0;34m=\u001b[0m\u001b[0msolver\u001b[0m\u001b[0;34m,\u001b[0m \u001b[0moptarg\u001b[0m\u001b[0;34m=\u001b[0m\u001b[0moptarg\u001b[0m\u001b[0;34m\u001b[0m\u001b[0;34m\u001b[0m\u001b[0m\n",
      "\u001b[0;32m~/miniconda3/envs/WTe/lib/python3.10/site-packages/idaes/core/base/unit_model.py\u001b[0m in \u001b[0;36minitialize_build\u001b[0;34m(blk, state_args, outlvl, solver, optarg)\u001b[0m\n\u001b[1;32m    578\u001b[0m         \u001b[0;31m# Initialize control volume block\u001b[0m\u001b[0;34m\u001b[0m\u001b[0;34m\u001b[0m\u001b[0m\n\u001b[0;32m--> 579\u001b[0;31m         flags = blk.control_volume.initialize(\n\u001b[0m\u001b[1;32m    580\u001b[0m             \u001b[0moutlvl\u001b[0m\u001b[0;34m=\u001b[0m\u001b[0moutlvl\u001b[0m\u001b[0;34m,\u001b[0m\u001b[0;34m\u001b[0m\u001b[0;34m\u001b[0m\u001b[0m\n",
      "\u001b[0;32m~/miniconda3/envs/WTe/lib/python3.10/site-packages/idaes/core/base/control_volume0d.py\u001b[0m in \u001b[0;36minitialize\u001b[0;34m(blk, state_args, outlvl, optarg, solver, hold_state)\u001b[0m\n\u001b[1;32m   1482\u001b[0m         \u001b[0;31m# Initialize state blocks\u001b[0m\u001b[0;34m\u001b[0m\u001b[0;34m\u001b[0m\u001b[0m\n\u001b[0;32m-> 1483\u001b[0;31m         in_flags = blk.properties_in.initialize(\n\u001b[0m\u001b[1;32m   1484\u001b[0m             \u001b[0moutlvl\u001b[0m\u001b[0;34m=\u001b[0m\u001b[0moutlvl\u001b[0m\u001b[0;34m,\u001b[0m\u001b[0;34m\u001b[0m\u001b[0;34m\u001b[0m\u001b[0m\n",
      "\u001b[0;32m~/Documents/Projects/watertap/watertap/property_models/multicomp_aq_sol_prop_pack.py\u001b[0m in \u001b[0;36minitialize\u001b[0;34m(self, state_args, state_vars_fixed, hold_state, outlvl, solver, optarg)\u001b[0m\n\u001b[1;32m    798\u001b[0m             \u001b[0;32mwith\u001b[0m \u001b[0midaeslog\u001b[0m\u001b[0;34m.\u001b[0m\u001b[0msolver_log\u001b[0m\u001b[0;34m(\u001b[0m\u001b[0msolve_log\u001b[0m\u001b[0;34m,\u001b[0m \u001b[0midaeslog\u001b[0m\u001b[0;34m.\u001b[0m\u001b[0mDEBUG\u001b[0m\u001b[0;34m)\u001b[0m \u001b[0;32mas\u001b[0m \u001b[0mslc\u001b[0m\u001b[0;34m:\u001b[0m\u001b[0;34m\u001b[0m\u001b[0;34m\u001b[0m\u001b[0m\n\u001b[0;32m--> 799\u001b[0;31m                 \u001b[0mresults\u001b[0m \u001b[0;34m=\u001b[0m \u001b[0msolve_indexed_blocks\u001b[0m\u001b[0;34m(\u001b[0m\u001b[0mopt\u001b[0m\u001b[0;34m,\u001b[0m \u001b[0;34m[\u001b[0m\u001b[0mself\u001b[0m\u001b[0;34m]\u001b[0m\u001b[0;34m,\u001b[0m \u001b[0mtee\u001b[0m\u001b[0;34m=\u001b[0m\u001b[0mslc\u001b[0m\u001b[0;34m.\u001b[0m\u001b[0mtee\u001b[0m\u001b[0;34m)\u001b[0m\u001b[0;34m\u001b[0m\u001b[0;34m\u001b[0m\u001b[0m\n\u001b[0m\u001b[1;32m    800\u001b[0m             init_log.info_high(\n",
      "\u001b[0;32m~/miniconda3/envs/WTe/lib/python3.10/site-packages/idaes/core/util/initialization.py\u001b[0m in \u001b[0;36msolve_indexed_blocks\u001b[0;34m(solver, blocks, **kwds)\u001b[0m\n\u001b[1;32m    275\u001b[0m         \u001b[0;31m# Solve temporary Block\u001b[0m\u001b[0;34m\u001b[0m\u001b[0;34m\u001b[0m\u001b[0m\n\u001b[0;32m--> 276\u001b[0;31m         \u001b[0mresults\u001b[0m \u001b[0;34m=\u001b[0m \u001b[0msolver\u001b[0m\u001b[0;34m.\u001b[0m\u001b[0msolve\u001b[0m\u001b[0;34m(\u001b[0m\u001b[0mtmp\u001b[0m\u001b[0;34m,\u001b[0m \u001b[0;34m**\u001b[0m\u001b[0mkwds\u001b[0m\u001b[0;34m)\u001b[0m\u001b[0;34m\u001b[0m\u001b[0;34m\u001b[0m\u001b[0m\n\u001b[0m\u001b[1;32m    277\u001b[0m \u001b[0;34m\u001b[0m\u001b[0m\n",
      "\u001b[0;32m~/miniconda3/envs/WTe/lib/python3.10/site-packages/pyomo/opt/base/solvers.py\u001b[0m in \u001b[0;36msolve\u001b[0;34m(self, *args, **kwds)\u001b[0m\n\u001b[1;32m    569\u001b[0m \u001b[0;34m\u001b[0m\u001b[0m\n\u001b[0;32m--> 570\u001b[0;31m             \u001b[0mself\u001b[0m\u001b[0;34m.\u001b[0m\u001b[0m_presolve\u001b[0m\u001b[0;34m(\u001b[0m\u001b[0;34m*\u001b[0m\u001b[0margs\u001b[0m\u001b[0;34m,\u001b[0m \u001b[0;34m**\u001b[0m\u001b[0mkwds\u001b[0m\u001b[0;34m)\u001b[0m\u001b[0;34m\u001b[0m\u001b[0;34m\u001b[0m\u001b[0m\n\u001b[0m\u001b[1;32m    571\u001b[0m \u001b[0;34m\u001b[0m\u001b[0m\n",
      "\u001b[0;32m~/Documents/Projects/watertap/watertap/core/plugins/solvers.py\u001b[0m in \u001b[0;36m_presolve\u001b[0;34m(self, *args, **kwds)\u001b[0m\n\u001b[1;32m    110\u001b[0m         \u001b[0;32mtry\u001b[0m\u001b[0;34m:\u001b[0m\u001b[0;34m\u001b[0m\u001b[0;34m\u001b[0m\u001b[0m\n\u001b[0;32m--> 111\u001b[0;31m             _, _, nlp = iscale.constraint_autoscale_large_jac(\n\u001b[0m\u001b[1;32m    112\u001b[0m                 \u001b[0mself\u001b[0m\u001b[0;34m.\u001b[0m\u001b[0m_model\u001b[0m\u001b[0;34m,\u001b[0m\u001b[0;34m\u001b[0m\u001b[0;34m\u001b[0m\u001b[0m\n",
      "\u001b[0;32m~/miniconda3/envs/WTe/lib/python3.10/site-packages/idaes/core/util/scaling.py\u001b[0m in \u001b[0;36mconstraint_autoscale_large_jac\u001b[0;34m(m, ignore_constraint_scaling, ignore_variable_scaling, max_grad, min_scale, no_scale, equality_constraints_only)\u001b[0m\n\u001b[1;32m    707\u001b[0m     \u001b[0;32mfor\u001b[0m \u001b[0mi\u001b[0m\u001b[0;34m,\u001b[0m \u001b[0mc\u001b[0m \u001b[0;32min\u001b[0m \u001b[0menumerate\u001b[0m\u001b[0;34m(\u001b[0m\u001b[0mclist\u001b[0m\u001b[0;34m)\u001b[0m\u001b[0;34m:\u001b[0m\u001b[0;34m\u001b[0m\u001b[0;34m\u001b[0m\u001b[0m\n\u001b[0;32m--> 708\u001b[0;31m         \u001b[0;32mfor\u001b[0m \u001b[0mj\u001b[0m \u001b[0;32min\u001b[0m \u001b[0mjac_scaled\u001b[0m\u001b[0;34m[\u001b[0m\u001b[0mi\u001b[0m\u001b[0;34m]\u001b[0m\u001b[0;34m.\u001b[0m\u001b[0mindices\u001b[0m\u001b[0;34m:\u001b[0m\u001b[0;34m\u001b[0m\u001b[0;34m\u001b[0m\u001b[0m\n\u001b[0m\u001b[1;32m    709\u001b[0m             \u001b[0mv\u001b[0m \u001b[0;34m=\u001b[0m \u001b[0mvlist\u001b[0m\u001b[0;34m[\u001b[0m\u001b[0mj\u001b[0m\u001b[0;34m]\u001b[0m\u001b[0;34m\u001b[0m\u001b[0;34m\u001b[0m\u001b[0m\n",
      "\u001b[0;32m~/miniconda3/envs/WTe/lib/python3.10/site-packages/scipy/sparse/_index.py\u001b[0m in \u001b[0;36m__getitem__\u001b[0;34m(self, key)\u001b[0m\n\u001b[1;32m     54\u001b[0m                 \u001b[0mself\u001b[0m\u001b[0;34m.\u001b[0m\u001b[0m_raise_on_1d_array_slice\u001b[0m\u001b[0;34m(\u001b[0m\u001b[0;34m)\u001b[0m\u001b[0;34m\u001b[0m\u001b[0;34m\u001b[0m\u001b[0m\n\u001b[0;32m---> 55\u001b[0;31m                 \u001b[0;32mreturn\u001b[0m \u001b[0mself\u001b[0m\u001b[0;34m.\u001b[0m\u001b[0m_get_intXslice\u001b[0m\u001b[0;34m(\u001b[0m\u001b[0mrow\u001b[0m\u001b[0;34m,\u001b[0m \u001b[0mcol\u001b[0m\u001b[0;34m)\u001b[0m\u001b[0;34m\u001b[0m\u001b[0;34m\u001b[0m\u001b[0m\n\u001b[0m\u001b[1;32m     56\u001b[0m             \u001b[0;32melif\u001b[0m \u001b[0mcol\u001b[0m\u001b[0;34m.\u001b[0m\u001b[0mndim\u001b[0m \u001b[0;34m==\u001b[0m \u001b[0;36m1\u001b[0m\u001b[0;34m:\u001b[0m\u001b[0;34m\u001b[0m\u001b[0;34m\u001b[0m\u001b[0m\n",
      "\u001b[0;32m~/miniconda3/envs/WTe/lib/python3.10/site-packages/scipy/sparse/_csr.py\u001b[0m in \u001b[0;36m_get_intXslice\u001b[0;34m(self, row, col)\u001b[0m\n\u001b[1;32m    283\u001b[0m         \u001b[0;32mif\u001b[0m \u001b[0mcol\u001b[0m\u001b[0;34m.\u001b[0m\u001b[0mstep\u001b[0m \u001b[0;32min\u001b[0m \u001b[0;34m(\u001b[0m\u001b[0;36m1\u001b[0m\u001b[0;34m,\u001b[0m \u001b[0;32mNone\u001b[0m\u001b[0;34m)\u001b[0m\u001b[0;34m:\u001b[0m\u001b[0;34m\u001b[0m\u001b[0;34m\u001b[0m\u001b[0m\n\u001b[0;32m--> 284\u001b[0;31m             \u001b[0;32mreturn\u001b[0m \u001b[0mself\u001b[0m\u001b[0;34m.\u001b[0m\u001b[0m_get_submatrix\u001b[0m\u001b[0;34m(\u001b[0m\u001b[0mrow\u001b[0m\u001b[0;34m,\u001b[0m \u001b[0mcol\u001b[0m\u001b[0;34m,\u001b[0m \u001b[0mcopy\u001b[0m\u001b[0;34m=\u001b[0m\u001b[0;32mTrue\u001b[0m\u001b[0;34m)\u001b[0m\u001b[0;34m\u001b[0m\u001b[0;34m\u001b[0m\u001b[0m\n\u001b[0m\u001b[1;32m    285\u001b[0m         \u001b[0;31m# TODO: uncomment this once it's faster:\u001b[0m\u001b[0;34m\u001b[0m\u001b[0;34m\u001b[0m\u001b[0m\n",
      "\u001b[0;32m~/miniconda3/envs/WTe/lib/python3.10/site-packages/scipy/sparse/_compressed.py\u001b[0m in \u001b[0;36m_get_submatrix\u001b[0;34m(self, major, minor, copy)\u001b[0m\n\u001b[1;32m    813\u001b[0m         \u001b[0mshape\u001b[0m \u001b[0;34m=\u001b[0m \u001b[0mself\u001b[0m\u001b[0;34m.\u001b[0m\u001b[0m_swap\u001b[0m\u001b[0;34m(\u001b[0m\u001b[0;34m(\u001b[0m\u001b[0mi1\u001b[0m \u001b[0;34m-\u001b[0m \u001b[0mi0\u001b[0m\u001b[0;34m,\u001b[0m \u001b[0mj1\u001b[0m \u001b[0;34m-\u001b[0m \u001b[0mj0\u001b[0m\u001b[0;34m)\u001b[0m\u001b[0;34m)\u001b[0m\u001b[0;34m\u001b[0m\u001b[0;34m\u001b[0m\u001b[0m\n\u001b[0;32m--> 814\u001b[0;31m         return self.__class__((data, indices, indptr), shape=shape,\n\u001b[0m\u001b[1;32m    815\u001b[0m                               dtype=self.dtype, copy=False)\n",
      "\u001b[0;32m~/miniconda3/envs/WTe/lib/python3.10/site-packages/scipy/sparse/_compressed.py\u001b[0m in \u001b[0;36m__init__\u001b[0;34m(self, arg1, shape, dtype, copy)\u001b[0m\n\u001b[1;32m     64\u001b[0m                         \u001b[0mmaxval\u001b[0m \u001b[0;34m=\u001b[0m \u001b[0mmax\u001b[0m\u001b[0;34m(\u001b[0m\u001b[0mshape\u001b[0m\u001b[0;34m)\u001b[0m\u001b[0;34m\u001b[0m\u001b[0;34m\u001b[0m\u001b[0m\n\u001b[0;32m---> 65\u001b[0;31m                     idx_dtype = get_index_dtype((indices, indptr),\n\u001b[0m\u001b[1;32m     66\u001b[0m                                                 \u001b[0mmaxval\u001b[0m\u001b[0;34m=\u001b[0m\u001b[0mmaxval\u001b[0m\u001b[0;34m,\u001b[0m\u001b[0;34m\u001b[0m\u001b[0;34m\u001b[0m\u001b[0m\n",
      "\u001b[0;32m~/miniconda3/envs/WTe/lib/python3.10/site-packages/scipy/sparse/_sputils.py\u001b[0m in \u001b[0;36mget_index_dtype\u001b[0;34m(arrays, maxval, check_contents)\u001b[0m\n\u001b[1;32m    168\u001b[0m \u001b[0;34m\u001b[0m\u001b[0m\n\u001b[0;32m--> 169\u001b[0;31m     \u001b[0mint32min\u001b[0m \u001b[0;34m=\u001b[0m \u001b[0mnp\u001b[0m\u001b[0;34m.\u001b[0m\u001b[0mint32\u001b[0m\u001b[0;34m(\u001b[0m\u001b[0mnp\u001b[0m\u001b[0;34m.\u001b[0m\u001b[0miinfo\u001b[0m\u001b[0;34m(\u001b[0m\u001b[0mnp\u001b[0m\u001b[0;34m.\u001b[0m\u001b[0mint32\u001b[0m\u001b[0;34m)\u001b[0m\u001b[0;34m.\u001b[0m\u001b[0mmin\u001b[0m\u001b[0;34m)\u001b[0m\u001b[0;34m\u001b[0m\u001b[0;34m\u001b[0m\u001b[0m\n\u001b[0m\u001b[1;32m    170\u001b[0m     \u001b[0mint32max\u001b[0m \u001b[0;34m=\u001b[0m \u001b[0mnp\u001b[0m\u001b[0;34m.\u001b[0m\u001b[0mint32\u001b[0m\u001b[0;34m(\u001b[0m\u001b[0mnp\u001b[0m\u001b[0;34m.\u001b[0m\u001b[0miinfo\u001b[0m\u001b[0;34m(\u001b[0m\u001b[0mnp\u001b[0m\u001b[0;34m.\u001b[0m\u001b[0mint32\u001b[0m\u001b[0;34m)\u001b[0m\u001b[0;34m.\u001b[0m\u001b[0mmax\u001b[0m\u001b[0;34m)\u001b[0m\u001b[0;34m\u001b[0m\u001b[0;34m\u001b[0m\u001b[0m\n",
      "\u001b[0;31mKeyboardInterrupt\u001b[0m: ",
      "\nDuring handling of the above exception, another exception occurred:\n",
      "\u001b[0;31mKeyboardInterrupt\u001b[0m                         Traceback (most recent call last)",
      "\u001b[0;32m/var/folders/0_/zhpyydfx4cd9z6y54szph_wr0000gn/T/ipykernel_88469/1084829891.py\u001b[0m in \u001b[0;36m<cell line: 47>\u001b[0;34m()\u001b[0m\n\u001b[1;32m     68\u001b[0m             \u001b[0;31m#print(fc)\u001b[0m\u001b[0;34m\u001b[0m\u001b[0;34m\u001b[0m\u001b[0m\n\u001b[1;32m     69\u001b[0m             \u001b[0;31m#fc.unfix()\u001b[0m\u001b[0;34m\u001b[0m\u001b[0;34m\u001b[0m\u001b[0m\n\u001b[0;32m---> 70\u001b[0;31m         \u001b[0mdeci_comp\u001b[0m\u001b[0;34m=\u001b[0m\u001b[0mef\u001b[0m\u001b[0;34m.\u001b[0m\u001b[0minitialize_dof0_system\u001b[0m\u001b[0;34m(\u001b[0m\u001b[0mm\u001b[0m\u001b[0;34m=\u001b[0m\u001b[0mm\u001b[0m\u001b[0;34m,\u001b[0m\u001b[0minitargs\u001b[0m\u001b[0;34m=\u001b[0m\u001b[0minitarg\u001b[0m\u001b[0;34m[\u001b[0m\u001b[0;36m0\u001b[0m\u001b[0;34m]\u001b[0m\u001b[0;34m,\u001b[0m\u001b[0;34m**\u001b[0m\u001b[0mdeci_var_dict\u001b[0m\u001b[0;34m)\u001b[0m\u001b[0;34m\u001b[0m\u001b[0;34m\u001b[0m\u001b[0m\n\u001b[0m\u001b[1;32m     71\u001b[0m         \u001b[0;31m#pass\u001b[0m\u001b[0;34m\u001b[0m\u001b[0;34m\u001b[0m\u001b[0m\n\u001b[1;32m     72\u001b[0m     \u001b[0;32mtry\u001b[0m\u001b[0;34m:\u001b[0m\u001b[0;34m\u001b[0m\u001b[0;34m\u001b[0m\u001b[0m\n",
      "\u001b[0;32m~/Documents/Projects/watertap/watertap/examples/flowsheets/electrodialysis/electrodialysis_1stack_concentrate_recirc.py\u001b[0m in \u001b[0;36minitialize_dof0_system\u001b[0;34m(m, initargs, **deciargs)\u001b[0m\n\u001b[1;32m    234\u001b[0m \u001b[0;34m\u001b[0m\u001b[0m\n\u001b[1;32m    235\u001b[0m     \u001b[0;32massert\u001b[0m \u001b[0mmstat\u001b[0m\u001b[0;34m.\u001b[0m\u001b[0mdegrees_of_freedom\u001b[0m\u001b[0;34m(\u001b[0m\u001b[0mm\u001b[0m\u001b[0;34m)\u001b[0m \u001b[0;34m==\u001b[0m \u001b[0;36m0\u001b[0m\u001b[0;34m\u001b[0m\u001b[0;34m\u001b[0m\u001b[0m\n\u001b[0;32m--> 236\u001b[0;31m     \u001b[0;32mtry\u001b[0m\u001b[0;34m:\u001b[0m\u001b[0;34m\u001b[0m\u001b[0;34m\u001b[0m\u001b[0m\n\u001b[0m\u001b[1;32m    237\u001b[0m         \u001b[0minitialize_system\u001b[0m\u001b[0;34m(\u001b[0m\u001b[0mm\u001b[0m\u001b[0;34m)\u001b[0m\u001b[0;34m\u001b[0m\u001b[0;34m\u001b[0m\u001b[0m\n\u001b[1;32m    238\u001b[0m     \u001b[0;32mexcept\u001b[0m \u001b[0mException\u001b[0m \u001b[0;32mas\u001b[0m \u001b[0mexperr\u001b[0m\u001b[0;34m:\u001b[0m\u001b[0;34m\u001b[0m\u001b[0;34m\u001b[0m\u001b[0m\n",
      "\u001b[0;32m~/Documents/Projects/watertap/watertap/examples/flowsheets/electrodialysis/electrodialysis_1stack_concentrate_recirc.py\u001b[0m in \u001b[0;36minitialize_system\u001b[0;34m(m, solver, report_bad_scaling)\u001b[0m\n\u001b[1;32m    655\u001b[0m     \u001b[0;31m# populate intitial properties throughout the system\u001b[0m\u001b[0;34m\u001b[0m\u001b[0;34m\u001b[0m\u001b[0m\n\u001b[1;32m    656\u001b[0m     \u001b[0mm\u001b[0m\u001b[0;34m.\u001b[0m\u001b[0mfs\u001b[0m\u001b[0;34m.\u001b[0m\u001b[0mfeed\u001b[0m\u001b[0;34m.\u001b[0m\u001b[0minitialize\u001b[0m\u001b[0;34m(\u001b[0m\u001b[0moptarg\u001b[0m\u001b[0;34m=\u001b[0m\u001b[0moptarg\u001b[0m\u001b[0;34m)\u001b[0m\u001b[0;34m\u001b[0m\u001b[0;34m\u001b[0m\u001b[0m\n\u001b[0;32m--> 657\u001b[0;31m     \u001b[0mpropagate_state\u001b[0m\u001b[0;34m(\u001b[0m\u001b[0mm\u001b[0m\u001b[0;34m.\u001b[0m\u001b[0mfs\u001b[0m\u001b[0;34m.\u001b[0m\u001b[0marc0\u001b[0m\u001b[0;34m)\u001b[0m\u001b[0;34m\u001b[0m\u001b[0;34m\u001b[0m\u001b[0m\n\u001b[0m\u001b[1;32m    658\u001b[0m     \u001b[0mm\u001b[0m\u001b[0;34m.\u001b[0m\u001b[0mfs\u001b[0m\u001b[0;34m.\u001b[0m\u001b[0msepa0\u001b[0m\u001b[0;34m.\u001b[0m\u001b[0minitialize\u001b[0m\u001b[0;34m(\u001b[0m\u001b[0moptarg\u001b[0m\u001b[0;34m=\u001b[0m\u001b[0moptarg\u001b[0m\u001b[0;34m)\u001b[0m\u001b[0;34m\u001b[0m\u001b[0;34m\u001b[0m\u001b[0m\n\u001b[1;32m    659\u001b[0m     \u001b[0mpropagate_state\u001b[0m\u001b[0;34m(\u001b[0m\u001b[0mm\u001b[0m\u001b[0;34m.\u001b[0m\u001b[0mfs\u001b[0m\u001b[0;34m.\u001b[0m\u001b[0marc1b\u001b[0m\u001b[0;34m)\u001b[0m\u001b[0;34m\u001b[0m\u001b[0;34m\u001b[0m\u001b[0m\n",
      "\u001b[0;32m~/miniconda3/envs/WTe/lib/python3.10/site-packages/idaes/core/base/unit_model.py\u001b[0m in \u001b[0;36minitialize\u001b[0;34m(blk, *args, **kwargs)\u001b[0m\n\u001b[1;32m    528\u001b[0m \u001b[0;34m\u001b[0m\u001b[0m\n\u001b[1;32m    529\u001b[0m         \u001b[0;31m# Remember to collect flags for fixed vars\u001b[0m\u001b[0;34m\u001b[0m\u001b[0;34m\u001b[0m\u001b[0m\n\u001b[0;32m--> 530\u001b[0;31m         \u001b[0mflags\u001b[0m \u001b[0;34m=\u001b[0m \u001b[0mblk\u001b[0m\u001b[0;34m.\u001b[0m\u001b[0minitialize_build\u001b[0m\u001b[0;34m(\u001b[0m\u001b[0;34m*\u001b[0m\u001b[0margs\u001b[0m\u001b[0;34m,\u001b[0m \u001b[0;34m**\u001b[0m\u001b[0mkwargs\u001b[0m\u001b[0;34m)\u001b[0m\u001b[0;34m\u001b[0m\u001b[0;34m\u001b[0m\u001b[0m\n\u001b[0m\u001b[1;32m    531\u001b[0m \u001b[0;34m\u001b[0m\u001b[0m\n\u001b[1;32m    532\u001b[0m         \u001b[0;31m# If costing block exists, activate and initialize\u001b[0m\u001b[0;34m\u001b[0m\u001b[0;34m\u001b[0m\u001b[0m\n",
      "\u001b[0;32m~/miniconda3/envs/WTe/lib/python3.10/site-packages/idaes/models/unit_models/separator.py\u001b[0m in \u001b[0;36minitialize_build\u001b[0;34m(blk, outlvl, optarg, solver, hold_state)\u001b[0m\n\u001b[1;32m   1597\u001b[0m \u001b[0;34m\u001b[0m\u001b[0m\n\u001b[1;32m   1598\u001b[0m             \u001b[0;31m# Call initialization routine for outlet StateBlock\u001b[0m\u001b[0;34m\u001b[0m\u001b[0;34m\u001b[0m\u001b[0m\n\u001b[0;32m-> 1599\u001b[0;31m             o_block.initialize(\n\u001b[0m\u001b[1;32m   1600\u001b[0m                 \u001b[0moutlvl\u001b[0m\u001b[0;34m=\u001b[0m\u001b[0moutlvl\u001b[0m\u001b[0;34m,\u001b[0m\u001b[0;34m\u001b[0m\u001b[0;34m\u001b[0m\u001b[0m\n\u001b[1;32m   1601\u001b[0m                 \u001b[0moptarg\u001b[0m\u001b[0;34m=\u001b[0m\u001b[0moptarg\u001b[0m\u001b[0;34m,\u001b[0m\u001b[0;34m\u001b[0m\u001b[0;34m\u001b[0m\u001b[0m\n",
      "\u001b[0;32m~/Documents/Projects/watertap/watertap/property_models/multicomp_aq_sol_prop_pack.py\u001b[0m in \u001b[0;36minitialize\u001b[0;34m(self, state_args, state_vars_fixed, hold_state, outlvl, solver, optarg)\u001b[0m\n\u001b[1;32m    797\u001b[0m             \u001b[0;31m# Initialize properties\u001b[0m\u001b[0;34m\u001b[0m\u001b[0;34m\u001b[0m\u001b[0m\n\u001b[1;32m    798\u001b[0m             \u001b[0;32mwith\u001b[0m \u001b[0midaeslog\u001b[0m\u001b[0;34m.\u001b[0m\u001b[0msolver_log\u001b[0m\u001b[0;34m(\u001b[0m\u001b[0msolve_log\u001b[0m\u001b[0;34m,\u001b[0m \u001b[0midaeslog\u001b[0m\u001b[0;34m.\u001b[0m\u001b[0mDEBUG\u001b[0m\u001b[0;34m)\u001b[0m \u001b[0;32mas\u001b[0m \u001b[0mslc\u001b[0m\u001b[0;34m:\u001b[0m\u001b[0;34m\u001b[0m\u001b[0;34m\u001b[0m\u001b[0m\n\u001b[0;32m--> 799\u001b[0;31m                 \u001b[0mresults\u001b[0m \u001b[0;34m=\u001b[0m \u001b[0msolve_indexed_blocks\u001b[0m\u001b[0;34m(\u001b[0m\u001b[0mopt\u001b[0m\u001b[0;34m,\u001b[0m \u001b[0;34m[\u001b[0m\u001b[0mself\u001b[0m\u001b[0;34m]\u001b[0m\u001b[0;34m,\u001b[0m \u001b[0mtee\u001b[0m\u001b[0;34m=\u001b[0m\u001b[0mslc\u001b[0m\u001b[0;34m.\u001b[0m\u001b[0mtee\u001b[0m\u001b[0;34m)\u001b[0m\u001b[0;34m\u001b[0m\u001b[0;34m\u001b[0m\u001b[0m\n\u001b[0m\u001b[1;32m    800\u001b[0m             init_log.info_high(\n\u001b[1;32m    801\u001b[0m                 \u001b[0;34m\"Property initialization: {}.\"\u001b[0m\u001b[0;34m.\u001b[0m\u001b[0mformat\u001b[0m\u001b[0;34m(\u001b[0m\u001b[0midaeslog\u001b[0m\u001b[0;34m.\u001b[0m\u001b[0mcondition\u001b[0m\u001b[0;34m(\u001b[0m\u001b[0mresults\u001b[0m\u001b[0;34m)\u001b[0m\u001b[0;34m)\u001b[0m\u001b[0;34m\u001b[0m\u001b[0;34m\u001b[0m\u001b[0m\n",
      "\u001b[0;32m~/miniconda3/envs/WTe/lib/python3.10/site-packages/idaes/core/util/initialization.py\u001b[0m in \u001b[0;36msolve_indexed_blocks\u001b[0;34m(solver, blocks, **kwds)\u001b[0m\n\u001b[1;32m    274\u001b[0m \u001b[0;34m\u001b[0m\u001b[0m\n\u001b[1;32m    275\u001b[0m         \u001b[0;31m# Solve temporary Block\u001b[0m\u001b[0;34m\u001b[0m\u001b[0;34m\u001b[0m\u001b[0m\n\u001b[0;32m--> 276\u001b[0;31m         \u001b[0mresults\u001b[0m \u001b[0;34m=\u001b[0m \u001b[0msolver\u001b[0m\u001b[0;34m.\u001b[0m\u001b[0msolve\u001b[0m\u001b[0;34m(\u001b[0m\u001b[0mtmp\u001b[0m\u001b[0;34m,\u001b[0m \u001b[0;34m**\u001b[0m\u001b[0mkwds\u001b[0m\u001b[0;34m)\u001b[0m\u001b[0;34m\u001b[0m\u001b[0;34m\u001b[0m\u001b[0m\n\u001b[0m\u001b[1;32m    277\u001b[0m \u001b[0;34m\u001b[0m\u001b[0m\n\u001b[1;32m    278\u001b[0m     \u001b[0;32mfinally\u001b[0m\u001b[0;34m:\u001b[0m\u001b[0;34m\u001b[0m\u001b[0;34m\u001b[0m\u001b[0m\n",
      "\u001b[0;32m~/miniconda3/envs/WTe/lib/python3.10/site-packages/pyomo/opt/base/solvers.py\u001b[0m in \u001b[0;36msolve\u001b[0;34m(self, *args, **kwds)\u001b[0m\n\u001b[1;32m    568\u001b[0m             \u001b[0minitial_time\u001b[0m \u001b[0;34m=\u001b[0m \u001b[0mtime\u001b[0m\u001b[0;34m.\u001b[0m\u001b[0mtime\u001b[0m\u001b[0;34m(\u001b[0m\u001b[0;34m)\u001b[0m\u001b[0;34m\u001b[0m\u001b[0;34m\u001b[0m\u001b[0m\n\u001b[1;32m    569\u001b[0m \u001b[0;34m\u001b[0m\u001b[0m\n\u001b[0;32m--> 570\u001b[0;31m             \u001b[0mself\u001b[0m\u001b[0;34m.\u001b[0m\u001b[0m_presolve\u001b[0m\u001b[0;34m(\u001b[0m\u001b[0;34m*\u001b[0m\u001b[0margs\u001b[0m\u001b[0;34m,\u001b[0m \u001b[0;34m**\u001b[0m\u001b[0mkwds\u001b[0m\u001b[0;34m)\u001b[0m\u001b[0;34m\u001b[0m\u001b[0;34m\u001b[0m\u001b[0m\n\u001b[0m\u001b[1;32m    571\u001b[0m \u001b[0;34m\u001b[0m\u001b[0m\n\u001b[1;32m    572\u001b[0m             \u001b[0mpresolve_completion_time\u001b[0m \u001b[0;34m=\u001b[0m \u001b[0mtime\u001b[0m\u001b[0;34m.\u001b[0m\u001b[0mtime\u001b[0m\u001b[0;34m(\u001b[0m\u001b[0;34m)\u001b[0m\u001b[0;34m\u001b[0m\u001b[0;34m\u001b[0m\u001b[0m\n",
      "\u001b[0;32m~/Documents/Projects/watertap/watertap/core/plugins/solvers.py\u001b[0m in \u001b[0;36m_presolve\u001b[0;34m(self, *args, **kwds)\u001b[0m\n\u001b[1;32m    109\u001b[0m         \u001b[0;31m#       each time based on the initial values, just like in Ipopt.\u001b[0m\u001b[0;34m\u001b[0m\u001b[0;34m\u001b[0m\u001b[0m\n\u001b[1;32m    110\u001b[0m         \u001b[0;32mtry\u001b[0m\u001b[0;34m:\u001b[0m\u001b[0;34m\u001b[0m\u001b[0;34m\u001b[0m\u001b[0m\n\u001b[0;32m--> 111\u001b[0;31m             _, _, nlp = iscale.constraint_autoscale_large_jac(\n\u001b[0m\u001b[1;32m    112\u001b[0m                 \u001b[0mself\u001b[0m\u001b[0;34m.\u001b[0m\u001b[0m_model\u001b[0m\u001b[0;34m,\u001b[0m\u001b[0;34m\u001b[0m\u001b[0;34m\u001b[0m\u001b[0m\n\u001b[1;32m    113\u001b[0m                 \u001b[0mignore_constraint_scaling\u001b[0m\u001b[0;34m=\u001b[0m\u001b[0mignore_constraint_scaling\u001b[0m\u001b[0;34m,\u001b[0m\u001b[0;34m\u001b[0m\u001b[0;34m\u001b[0m\u001b[0m\n",
      "\u001b[0;32m~/miniconda3/envs/WTe/lib/python3.10/site-packages/idaes/core/util/scaling.py\u001b[0m in \u001b[0;36mconstraint_autoscale_large_jac\u001b[0;34m(m, ignore_constraint_scaling, ignore_variable_scaling, max_grad, min_scale, no_scale, equality_constraints_only)\u001b[0m\n\u001b[1;32m    694\u001b[0m         \u001b[0mjac\u001b[0m \u001b[0;34m=\u001b[0m \u001b[0mnlp\u001b[0m\u001b[0;34m.\u001b[0m\u001b[0mevaluate_jacobian_eq\u001b[0m\u001b[0;34m(\u001b[0m\u001b[0;34m)\u001b[0m\u001b[0;34m.\u001b[0m\u001b[0mtocsr\u001b[0m\u001b[0;34m(\u001b[0m\u001b[0;34m)\u001b[0m\u001b[0;34m\u001b[0m\u001b[0;34m\u001b[0m\u001b[0m\n\u001b[1;32m    695\u001b[0m     \u001b[0;32melse\u001b[0m\u001b[0;34m:\u001b[0m\u001b[0;34m\u001b[0m\u001b[0;34m\u001b[0m\u001b[0m\n\u001b[0;32m--> 696\u001b[0;31m         \u001b[0mjac\u001b[0m \u001b[0;34m=\u001b[0m \u001b[0mnlp\u001b[0m\u001b[0;34m.\u001b[0m\u001b[0mevaluate_jacobian\u001b[0m\u001b[0;34m(\u001b[0m\u001b[0;34m)\u001b[0m\u001b[0;34m.\u001b[0m\u001b[0mtocsr\u001b[0m\u001b[0;34m(\u001b[0m\u001b[0;34m)\u001b[0m\u001b[0;34m\u001b[0m\u001b[0;34m\u001b[0m\u001b[0m\n\u001b[0m\u001b[1;32m    697\u001b[0m     \u001b[0;31m# Get lists of varibles and constraints to translate Jacobian indexes\u001b[0m\u001b[0;34m\u001b[0m\u001b[0;34m\u001b[0m\u001b[0m\n\u001b[1;32m    698\u001b[0m     \u001b[0;31m# save them on the NLP for later, since genrating them seems to take a while\u001b[0m\u001b[0;34m\u001b[0m\u001b[0;34m\u001b[0m\u001b[0m\n",
      "\u001b[0;32m~/miniconda3/envs/WTe/lib/python3.10/site-packages/pyomo/contrib/pynumero/interfaces/ampl_nlp.py\u001b[0m in \u001b[0;36mevaluate_jacobian\u001b[0;34m(self, out)\u001b[0m\n\u001b[1;32m    542\u001b[0m             \u001b[0;32mreturn\u001b[0m \u001b[0mout\u001b[0m\u001b[0;34m\u001b[0m\u001b[0;34m\u001b[0m\u001b[0m\n\u001b[1;32m    543\u001b[0m         \u001b[0;32melse\u001b[0m\u001b[0;34m:\u001b[0m\u001b[0;34m\u001b[0m\u001b[0;34m\u001b[0m\u001b[0m\n\u001b[0;32m--> 544\u001b[0;31m             \u001b[0;32mreturn\u001b[0m \u001b[0mself\u001b[0m\u001b[0;34m.\u001b[0m\u001b[0m_cached_jac_full\u001b[0m\u001b[0;34m.\u001b[0m\u001b[0mcopy\u001b[0m\u001b[0;34m(\u001b[0m\u001b[0;34m)\u001b[0m\u001b[0;34m\u001b[0m\u001b[0;34m\u001b[0m\u001b[0m\n\u001b[0m\u001b[1;32m    545\u001b[0m \u001b[0;34m\u001b[0m\u001b[0m\n\u001b[1;32m    546\u001b[0m     \u001b[0;31m# overloaded from ExtendedNLP\u001b[0m\u001b[0;34m\u001b[0m\u001b[0;34m\u001b[0m\u001b[0m\n",
      "\u001b[0;32m~/miniconda3/envs/WTe/lib/python3.10/site-packages/scipy/sparse/_data.py\u001b[0m in \u001b[0;36mcopy\u001b[0;34m(self)\u001b[0m\n\u001b[1;32m     90\u001b[0m \u001b[0;34m\u001b[0m\u001b[0m\n\u001b[1;32m     91\u001b[0m     \u001b[0;32mdef\u001b[0m \u001b[0mcopy\u001b[0m\u001b[0;34m(\u001b[0m\u001b[0mself\u001b[0m\u001b[0;34m)\u001b[0m\u001b[0;34m:\u001b[0m\u001b[0;34m\u001b[0m\u001b[0;34m\u001b[0m\u001b[0m\n\u001b[0;32m---> 92\u001b[0;31m         \u001b[0;32mreturn\u001b[0m \u001b[0mself\u001b[0m\u001b[0;34m.\u001b[0m\u001b[0m_with_data\u001b[0m\u001b[0;34m(\u001b[0m\u001b[0mself\u001b[0m\u001b[0;34m.\u001b[0m\u001b[0mdata\u001b[0m\u001b[0;34m.\u001b[0m\u001b[0mcopy\u001b[0m\u001b[0;34m(\u001b[0m\u001b[0;34m)\u001b[0m\u001b[0;34m,\u001b[0m \u001b[0mcopy\u001b[0m\u001b[0;34m=\u001b[0m\u001b[0;32mTrue\u001b[0m\u001b[0;34m)\u001b[0m\u001b[0;34m\u001b[0m\u001b[0;34m\u001b[0m\u001b[0m\n\u001b[0m\u001b[1;32m     93\u001b[0m \u001b[0;34m\u001b[0m\u001b[0m\n\u001b[1;32m     94\u001b[0m     \u001b[0mcopy\u001b[0m\u001b[0;34m.\u001b[0m\u001b[0m__doc__\u001b[0m \u001b[0;34m=\u001b[0m \u001b[0mspmatrix\u001b[0m\u001b[0;34m.\u001b[0m\u001b[0mcopy\u001b[0m\u001b[0;34m.\u001b[0m\u001b[0m__doc__\u001b[0m\u001b[0;34m\u001b[0m\u001b[0;34m\u001b[0m\u001b[0m\n",
      "\u001b[0;32m~/miniconda3/envs/WTe/lib/python3.10/site-packages/scipy/sparse/_coo.py\u001b[0m in \u001b[0;36m_with_data\u001b[0;34m(self, data, copy)\u001b[0m\n\u001b[1;32m    513\u001b[0m         \"\"\"\n\u001b[1;32m    514\u001b[0m         \u001b[0;32mif\u001b[0m \u001b[0mcopy\u001b[0m\u001b[0;34m:\u001b[0m\u001b[0;34m\u001b[0m\u001b[0;34m\u001b[0m\u001b[0m\n\u001b[0;32m--> 515\u001b[0;31m             return self.__class__((data, (self.row.copy(), self.col.copy())),\n\u001b[0m\u001b[1;32m    516\u001b[0m                                    shape=self.shape, dtype=data.dtype)\n\u001b[1;32m    517\u001b[0m         \u001b[0;32melse\u001b[0m\u001b[0;34m:\u001b[0m\u001b[0;34m\u001b[0m\u001b[0;34m\u001b[0m\u001b[0m\n",
      "\u001b[0;32m~/miniconda3/envs/WTe/lib/python3.10/site-packages/scipy/sparse/_coo.py\u001b[0m in \u001b[0;36m__init__\u001b[0;34m(self, arg1, shape, dtype, copy)\u001b[0m\n\u001b[1;32m    156\u001b[0m                     \u001b[0mself\u001b[0m\u001b[0;34m.\u001b[0m\u001b[0m_shape\u001b[0m \u001b[0;34m=\u001b[0m \u001b[0mcheck_shape\u001b[0m\u001b[0;34m(\u001b[0m\u001b[0;34m(\u001b[0m\u001b[0mM\u001b[0m\u001b[0;34m,\u001b[0m \u001b[0mN\u001b[0m\u001b[0;34m)\u001b[0m\u001b[0;34m)\u001b[0m\u001b[0;34m\u001b[0m\u001b[0;34m\u001b[0m\u001b[0m\n\u001b[1;32m    157\u001b[0m \u001b[0;34m\u001b[0m\u001b[0m\n\u001b[0;32m--> 158\u001b[0;31m                 \u001b[0midx_dtype\u001b[0m \u001b[0;34m=\u001b[0m \u001b[0mget_index_dtype\u001b[0m\u001b[0;34m(\u001b[0m\u001b[0mmaxval\u001b[0m\u001b[0;34m=\u001b[0m\u001b[0mmax\u001b[0m\u001b[0;34m(\u001b[0m\u001b[0mself\u001b[0m\u001b[0;34m.\u001b[0m\u001b[0mshape\u001b[0m\u001b[0;34m)\u001b[0m\u001b[0;34m)\u001b[0m\u001b[0;34m\u001b[0m\u001b[0;34m\u001b[0m\u001b[0m\n\u001b[0m\u001b[1;32m    159\u001b[0m                 \u001b[0mself\u001b[0m\u001b[0;34m.\u001b[0m\u001b[0mrow\u001b[0m \u001b[0;34m=\u001b[0m \u001b[0mnp\u001b[0m\u001b[0;34m.\u001b[0m\u001b[0marray\u001b[0m\u001b[0;34m(\u001b[0m\u001b[0mrow\u001b[0m\u001b[0;34m,\u001b[0m \u001b[0mcopy\u001b[0m\u001b[0;34m=\u001b[0m\u001b[0mcopy\u001b[0m\u001b[0;34m,\u001b[0m \u001b[0mdtype\u001b[0m\u001b[0;34m=\u001b[0m\u001b[0midx_dtype\u001b[0m\u001b[0;34m)\u001b[0m\u001b[0;34m\u001b[0m\u001b[0;34m\u001b[0m\u001b[0m\n\u001b[1;32m    160\u001b[0m                 \u001b[0mself\u001b[0m\u001b[0;34m.\u001b[0m\u001b[0mcol\u001b[0m \u001b[0;34m=\u001b[0m \u001b[0mnp\u001b[0m\u001b[0;34m.\u001b[0m\u001b[0marray\u001b[0m\u001b[0;34m(\u001b[0m\u001b[0mcol\u001b[0m\u001b[0;34m,\u001b[0m \u001b[0mcopy\u001b[0m\u001b[0;34m=\u001b[0m\u001b[0mcopy\u001b[0m\u001b[0;34m,\u001b[0m \u001b[0mdtype\u001b[0m\u001b[0;34m=\u001b[0m\u001b[0midx_dtype\u001b[0m\u001b[0;34m)\u001b[0m\u001b[0;34m\u001b[0m\u001b[0;34m\u001b[0m\u001b[0m\n",
      "\u001b[0;32m~/miniconda3/envs/WTe/lib/python3.10/site-packages/scipy/sparse/_sputils.py\u001b[0m in \u001b[0;36mget_index_dtype\u001b[0;34m(arrays, maxval, check_contents)\u001b[0m\n\u001b[1;32m    168\u001b[0m \u001b[0;34m\u001b[0m\u001b[0m\n\u001b[1;32m    169\u001b[0m     \u001b[0mint32min\u001b[0m \u001b[0;34m=\u001b[0m \u001b[0mnp\u001b[0m\u001b[0;34m.\u001b[0m\u001b[0mint32\u001b[0m\u001b[0;34m(\u001b[0m\u001b[0mnp\u001b[0m\u001b[0;34m.\u001b[0m\u001b[0miinfo\u001b[0m\u001b[0;34m(\u001b[0m\u001b[0mnp\u001b[0m\u001b[0;34m.\u001b[0m\u001b[0mint32\u001b[0m\u001b[0;34m)\u001b[0m\u001b[0;34m.\u001b[0m\u001b[0mmin\u001b[0m\u001b[0;34m)\u001b[0m\u001b[0;34m\u001b[0m\u001b[0;34m\u001b[0m\u001b[0m\n\u001b[0;32m--> 170\u001b[0;31m     \u001b[0mint32max\u001b[0m \u001b[0;34m=\u001b[0m \u001b[0mnp\u001b[0m\u001b[0;34m.\u001b[0m\u001b[0mint32\u001b[0m\u001b[0;34m(\u001b[0m\u001b[0mnp\u001b[0m\u001b[0;34m.\u001b[0m\u001b[0miinfo\u001b[0m\u001b[0;34m(\u001b[0m\u001b[0mnp\u001b[0m\u001b[0;34m.\u001b[0m\u001b[0mint32\u001b[0m\u001b[0;34m)\u001b[0m\u001b[0;34m.\u001b[0m\u001b[0mmax\u001b[0m\u001b[0;34m)\u001b[0m\u001b[0;34m\u001b[0m\u001b[0;34m\u001b[0m\u001b[0m\n\u001b[0m\u001b[1;32m    171\u001b[0m \u001b[0;34m\u001b[0m\u001b[0m\n\u001b[1;32m    172\u001b[0m     \u001b[0;31m# not using intc directly due to misinteractions with pythran\u001b[0m\u001b[0;34m\u001b[0m\u001b[0;34m\u001b[0m\u001b[0m\n",
      "\u001b[0;32m~/miniconda3/envs/WTe/lib/python3.10/site-packages/numpy/core/getlimits.py\u001b[0m in \u001b[0;36m__init__\u001b[0;34m(self, int_type)\u001b[0m\n\u001b[1;32m    668\u001b[0m     \u001b[0;32mdef\u001b[0m \u001b[0m__init__\u001b[0m\u001b[0;34m(\u001b[0m\u001b[0mself\u001b[0m\u001b[0;34m,\u001b[0m \u001b[0mint_type\u001b[0m\u001b[0;34m)\u001b[0m\u001b[0;34m:\u001b[0m\u001b[0;34m\u001b[0m\u001b[0;34m\u001b[0m\u001b[0m\n\u001b[1;32m    669\u001b[0m         \u001b[0;32mtry\u001b[0m\u001b[0;34m:\u001b[0m\u001b[0;34m\u001b[0m\u001b[0;34m\u001b[0m\u001b[0m\n\u001b[0;32m--> 670\u001b[0;31m             \u001b[0mself\u001b[0m\u001b[0;34m.\u001b[0m\u001b[0mdtype\u001b[0m \u001b[0;34m=\u001b[0m \u001b[0mnumeric\u001b[0m\u001b[0;34m.\u001b[0m\u001b[0mdtype\u001b[0m\u001b[0;34m(\u001b[0m\u001b[0mint_type\u001b[0m\u001b[0;34m)\u001b[0m\u001b[0;34m\u001b[0m\u001b[0;34m\u001b[0m\u001b[0m\n\u001b[0m\u001b[1;32m    671\u001b[0m         \u001b[0;32mexcept\u001b[0m \u001b[0mTypeError\u001b[0m\u001b[0;34m:\u001b[0m\u001b[0;34m\u001b[0m\u001b[0;34m\u001b[0m\u001b[0m\n\u001b[1;32m    672\u001b[0m             \u001b[0mself\u001b[0m\u001b[0;34m.\u001b[0m\u001b[0mdtype\u001b[0m \u001b[0;34m=\u001b[0m \u001b[0mnumeric\u001b[0m\u001b[0;34m.\u001b[0m\u001b[0mdtype\u001b[0m\u001b[0;34m(\u001b[0m\u001b[0mtype\u001b[0m\u001b[0;34m(\u001b[0m\u001b[0mint_type\u001b[0m\u001b[0;34m)\u001b[0m\u001b[0;34m)\u001b[0m\u001b[0;34m\u001b[0m\u001b[0;34m\u001b[0m\u001b[0m\n",
      "\u001b[0;31mKeyboardInterrupt\u001b[0m: "
     ]
    }
   ],
   "source": [
    "# To visualize the product salinity as a funciton of applied potential at \n",
    "# different feed salinity and water recoveries. \n",
    "_log = idaeslog.getLogger(__name__)\n",
    "try:\n",
    "    del m\n",
    "except:\n",
    "    pass\n",
    "m = ef.build()\n",
    "fd_sal=[10] # in g/L\n",
    "c_mass_fd=pd.DataFrame(fd_sal,columns=[\"c0_mass\"])\n",
    "#print(c_mass_fd)\n",
    "initarg_list=ef.make_initarg_list(fd_sal)\n",
    "#print(initarg_list)\n",
    "wr_list = [0.5, 0.7, 0.9]\n",
    "wr=pd.DataFrame(wr_list,columns=[\"WR\"])\n",
    "volt_list= list(np.arange(2,62,2))\n",
    "#volt_list=[1,10, 60]\n",
    "#print(volt_list)\n",
    "volt=pd.DataFrame(volt_list,columns=[\"Volt\"])\n",
    "c_wr_v=c_mass_fd.merge(wr,how='cross').merge(volt,how='cross')\n",
    "#print(c_wr_v)\n",
    "solver = get_solver()\n",
    "#deci_var = pd.DataFrame(\n",
    " #       columns=[\"WR\", \"Voltage\"],\n",
    "  #      index=c_mass_fd[\"c0_mass\"],\n",
    "   # )\n",
    "#outdt = pd.DataFrame(\n",
    " #       columns=[\"Prod_Sal\", \"Brine_Sal\"],\n",
    "  #      index=c_mass_fd[\"c0_mass\"],\n",
    "   # )\n",
    "#print(c_wr_v[(c_wr_v[\"c0_mass\"]==1) & (c_wr_v[\"WR\"]==0.7)])\n",
    "try:\n",
    "    del outdt\n",
    "except:\n",
    "    pass\n",
    "outdt=c_wr_v.copy()\n",
    "#print(outdt.loc[2,:])\n",
    "#for i,r in c_wr_v[(c_wr_v[\"c0_mass\"]==1) & (c_wr_v[\"WR\"]==0.7)].iterrows():\n",
    " #   outdt.loc[i,\"c_prod_mass\"]=r[\"c0_mass\"]\n",
    "    #print(outdt.loc[i,:])\n",
    "    #print(f'i is {i}')\n",
    "    #print(f\"r is {r}\")\n",
    "#print(outdt)\n",
    "\n",
    "\n",
    "#print(c_wr_v.loc(c_wr_v[\"c0_mass\"]==1 and c_wr_v[\"WR\"]==0.7))[(c_wr_v[\"c0_mass\"]==5) & (c_wr_v[\"WR\"]==0.7)]\n",
    "for i,r in c_wr_v.iterrows():\n",
    "    print(f\"===Excecuting c0_mass= {r['c0_mass']}, WR={r['WR']},V={r['Volt']}===\")\n",
    "    m.fs.feed.find_component(\"flow_mol_phase_comp\").unfix()\n",
    "    #print(\"======DOF_intial======\")\n",
    "    #report_statistics(m)\n",
    "    initarg=ef.make_initarg_list([r[\"c0_mass\"]])\n",
    "    #print(f\"Initial State Var: \\n{initarg}\")\n",
    "    deci_var_dict={\"voltage_applied[0]\":r[\"Volt\"],\"recovery_vol_H2O\": r[\"WR\"]}\n",
    "    \n",
    "    #print(dict(r))\n",
    "    #print(initarg)\n",
    "    #print(deci_var_dict)\n",
    "    #dv=v.to_dict('r')\n",
    "    #try: \n",
    "    try:\n",
    "        deci_comp=ef.initialize_dof0_system(m=m,initargs=initarg[0],**deci_var_dict)\n",
    "    except:\n",
    "        _log.warning(\"Initialization FAILURE at {}; dof is NOT 0! dof={} \".format(r, degrees_of_freedom(m)))\n",
    "        del m\n",
    "        m=ef.build()\n",
    "        #for fc in fixed_variables_generator(m):\n",
    "            #print(fc)\n",
    "            #fc.unfix()\n",
    "        deci_comp=ef.initialize_dof0_system(m=m,initargs=initarg[0],**deci_var_dict)\n",
    "        #pass\n",
    "    try: \n",
    "        solres=solver.solve(m, tee=False)\n",
    "        if solres.solver.termination_condition==\"maxIterations\":\n",
    "            solres=solver.solve(m,tee=False)\n",
    "        if check_optimal_termination(solres):\n",
    "            outdt.loc[i,\"c_prod_mass\"]= value(m.fs.prod_salinity)\n",
    "            outdt.loc[i,\"Sol_Cond\"]=solres.solver.termination_condition\n",
    "        else:\n",
    "    #except:\n",
    "            _log.warning(\"Solving FAILING at {} with solver status of {}\"\n",
    "                         \" and termination condition of {} \".format(\n",
    "                             r,solres.solver.status, solres.solver.termination_condition))\n",
    "            outdt.loc[i,\"c_prod_mass\"]= float(\"nan\")\n",
    "            outdt.loc[i,\"Sol_Cond\"]=solres.solver.termination_condition\n",
    "    except ValueError as err:\n",
    "        _log.warning(err)\n",
    "        outdt.loc[i,\"c_prod_mass\"]= float(\"nan\")\n",
    "        outdt.loc[i,\"Sol_Cond\"]=\"error\"\n",
    "    for comp in deci_comp:\n",
    "        comp.unfix()\n",
    "    #print(\"======DOF_after======\")\n",
    "    #report_statistics(m)\n",
    " \n",
    "print(outdt)\n",
    "outdt.to_csv(\"~/Documents/Projects/wt_untracked/output290323/opt_prod_sal_volt_c0_10_wr_2_62.csv\")\n",
    "\n",
    "\n",
    " \n",
    "\n",
    "\"\"\"\n",
    "\n",
    "init_arg = {\n",
    "    (\"flow_vol_phase\", (\"Liq\")): 5.2e-4,\n",
    "    (\"conc_mol_phase_comp\", (\"Liq\", \"Na_+\")): 34.188,\n",
    "    (\"conc_mol_phase_comp\", (\"Liq\", \"Cl_-\")): 34.188,\n",
    "}  # Corresponding to C_feed = 2g/L\n",
    "m.fs.feed.properties.calculate_state(\n",
    "    init_arg,\n",
    "    hold_state=True,\n",
    ")\n",
    "m.fs.EDstack.voltage_applied[0].fix(10)\n",
    "m.fs.recovery_vol_H2O.fix(0.7)\n",
    "edfs.condition_base(m)\n",
    "check_dof(m)\n",
    "\"\"\""
   ]
  },
  {
   "cell_type": "code",
   "execution_count": 6,
   "id": "06a94b93",
   "metadata": {},
   "outputs": [
    {
     "name": "stdout",
     "output_type": "stream",
     "text": [
      "     c0_mass   WR  Volt  c_prod_mass    Sol_Cond\n",
      "0          1  0.5     2     0.894800     optimal\n",
      "1          1  0.5     4     0.794034     optimal\n",
      "2          1  0.5     6     0.699591     optimal\n",
      "3          1  0.5     8     0.612840     optimal\n",
      "4          1  0.5    10     0.534571     optimal\n",
      "..       ...  ...   ...          ...         ...\n",
      "445       15  0.9    92          NaN  infeasible\n",
      "446       15  0.9    94          NaN  infeasible\n",
      "447       15  0.9    96          NaN  infeasible\n",
      "448       15  0.9    98          NaN  infeasible\n",
      "449       15  0.9   100          NaN  infeasible\n",
      "\n",
      "[450 rows x 5 columns]\n"
     ]
    }
   ],
   "source": [
    "df1=pd.read_csv('dt/opt_prod_sal_volt_c0_wr.csv', index_col=0)\n",
    "df2=pd.read_csv('dt/opt_prod_sal_volt_c0_wr_30_80.csv', index_col=0)\n",
    "df3=pd.read_csv('dt/opt_prod_sal_volt_c0_wr_60_100.csv', index_col=0)\n",
    "df_conc=pd.concat([df1, df2, df3], ignore_index=True,sort=False).drop_duplicates([\"c0_mass\", \"WR\", \"Volt\"], keep=\"last\", ignore_index=True)\n",
    "#print(df1)\n",
    "#print(df2)\n",
    "#print(df3)\n",
    "#print(135+225+180)\n",
    "df_conc.sort_values(by=[\"c0_mass\",\"WR\", \"Volt\" ], inplace= True,ascending=True, ignore_index=True)#, \"WR\", \"Volt\"\n",
    "#df_conc.sort_values?\n",
    "print(df_conc)\n",
    "#df_conc.drop(\"Unnamed: 0\", axis=1)\n",
    "#df_conc.drop_duplicates([\"c0_mass\", \"WR\", \"Volt\"], keep=\"last\")\n",
    "df_conc.to_csv(\"dt/opt_prod_sal_volt_c0_wr_combined.csv\")\n",
    "#print(df_conc)\n"
   ]
  },
  {
   "cell_type": "code",
   "execution_count": 74,
   "id": "aef108e0",
   "metadata": {},
   "outputs": [
    {
     "ename": "NameError",
     "evalue": "name 'idaeslog' is not defined",
     "output_type": "error",
     "traceback": [
      "\u001b[0;31m---------------------------------------------------------------------------\u001b[0m",
      "\u001b[0;31mNameError\u001b[0m                                 Traceback (most recent call last)",
      "\u001b[0;32m/var/folders/0_/zhpyydfx4cd9z6y54szph_wr0000gn/T/ipykernel_3515/2471457983.py\u001b[0m in \u001b[0;36m<cell line: 1>\u001b[0;34m()\u001b[0m\n\u001b[0;32m----> 1\u001b[0;31m \u001b[0m_log\u001b[0m \u001b[0;34m=\u001b[0m \u001b[0midaeslog\u001b[0m\u001b[0;34m.\u001b[0m\u001b[0mgetLogger\u001b[0m\u001b[0;34m(\u001b[0m\u001b[0m__name__\u001b[0m\u001b[0;34m)\u001b[0m\u001b[0;34m\u001b[0m\u001b[0;34m\u001b[0m\u001b[0m\n\u001b[0m\u001b[1;32m      2\u001b[0m \u001b[0msolver\u001b[0m\u001b[0;34m=\u001b[0m\u001b[0mget_solver\u001b[0m\u001b[0;34m(\u001b[0m\u001b[0;34m)\u001b[0m\u001b[0;34m\u001b[0m\u001b[0;34m\u001b[0m\u001b[0m\n\u001b[1;32m      3\u001b[0m \u001b[0mdf\u001b[0m\u001b[0;34m=\u001b[0m\u001b[0mpd\u001b[0m\u001b[0;34m.\u001b[0m\u001b[0mread_csv\u001b[0m\u001b[0;34m(\u001b[0m\u001b[0;34m'dt/opt_prod_sal_volt_c0_wr_combined.csv'\u001b[0m\u001b[0;34m,\u001b[0m \u001b[0mindex_col\u001b[0m\u001b[0;34m=\u001b[0m\u001b[0;36m0\u001b[0m\u001b[0;34m)\u001b[0m\u001b[0;34m\u001b[0m\u001b[0;34m\u001b[0m\u001b[0m\n\u001b[1;32m      4\u001b[0m \u001b[0;32mtry\u001b[0m\u001b[0;34m:\u001b[0m\u001b[0;34m\u001b[0m\u001b[0;34m\u001b[0m\u001b[0m\n\u001b[1;32m      5\u001b[0m     \u001b[0;32mdel\u001b[0m \u001b[0mm\u001b[0m\u001b[0;34m\u001b[0m\u001b[0;34m\u001b[0m\u001b[0m\n",
      "\u001b[0;31mNameError\u001b[0m: name 'idaeslog' is not defined"
     ]
    }
   ],
   "source": [
    "_log = idaeslog.getLogger(__name__)\n",
    "solver=get_solver()\n",
    "df=pd.read_csv('dt/opt_prod_sal_volt_c0_wr_combined.csv', index_col=0)\n",
    "try:\n",
    "    del m\n",
    "except:\n",
    "    pass\n",
    "m = ef.build()\n",
    "try:\n",
    "    del outdt1\n",
    "except: \n",
    "    pass\n",
    "outdt1=df.copy()\n",
    "print(df.loc[6,\"c_prod_mass\"])\n",
    "#print(pd.isna(df.loc[5, \"c_prod_mass\"])) #and (df.loc[6-1, \"c_prod_mass\"]!=float(\"nan\") or df.loc[6+1, \"c_prod_mass\"]!=float(\"nan\")))\n",
    "for i,r in df.iterrows():\n",
    "    \n",
    "    if (pd.isna(df.loc[i, \"c_prod_mass\"]) \n",
    "        and df.loc[i,\"Volt\"]!=100\n",
    "        and (\n",
    "            not pd.isna(df.loc[i-1, \"c_prod_mass\"])\n",
    "            or \n",
    "            not pd.isna(df.loc[i+1, \"c_prod_mass\"]))):\n",
    "        \n",
    "        print(f\"===Excecuting c0_mass= {r['c0_mass']}, WR={r['WR']},V={r['Volt']}===\")\n",
    "        m.fs.feed.find_component(\"flow_mol_phase_comp\").unfix()\n",
    "        #print(\"======DOF_intial======\")\n",
    "        #report_statistics(m)\n",
    "        initarg=ef.make_initarg_list([r[\"c0_mass\"]])\n",
    "        #print(f\"Initial State Var: \\n{initarg}\")\n",
    "        deci_var_dict={\"voltage_applied[0]\":r[\"Volt\"],\"recovery_vol_H2O\": r[\"WR\"]}\n",
    "\n",
    "        #print(dict(r))\n",
    "        #print(initarg)\n",
    "        #print(deci_var_dict)\n",
    "        #dv=v.to_dict('r')\n",
    "        #try: \n",
    "        try:\n",
    "            deci_comp=ef.initialize_dof0_system(m=m,initargs=initarg[0],**deci_var_dict)\n",
    "        except:\n",
    "            _log.warning(\"Initialization FAILURE at {}; dof is NOT 0! dof={} \".format(r, degrees_of_freedom(m)))\n",
    "            del m\n",
    "            m=ef.build()\n",
    "            #for fc in fixed_variables_generator(m):\n",
    "                #print(fc)\n",
    "                #fc.unfix()\n",
    "            deci_comp=ef.initialize_dof0_system(m=m,initargs=initarg[0],**deci_var_dict)\n",
    "            #pass\n",
    "        try: \n",
    "            solres=solver.solve(m, tee=False)\n",
    "            if solres.solver.termination_condition==\"maxIterations\":\n",
    "                solres=solver.solve(m,tee=False)\n",
    "            if check_optimal_termination(solres):\n",
    "                outdt1.loc[i,\"c_prod_mass\"]= value(m.fs.prod_salinity)\n",
    "                outdt1.loc[i,\"Sol_Cond\"]=solres.solver.termination_condition\n",
    "            else:\n",
    "        #except:\n",
    "                _log.warning(\"Solving FAILING at {} with solver status of {}\"\n",
    "                             \" and termination condition of {} \".format(\n",
    "                                 r,solres.solver.status, solres.solver.termination_condition))\n",
    "                outdt1.loc[i,\"c_prod_mass\"]= float(\"nan\")\n",
    "                outdt1.loc[i,\"Sol_Cond\"]=solres.solver.termination_condition\n",
    "        except ValueError as err:\n",
    "            _log.warning(err)\n",
    "            outdt1.loc[i,\"c_prod_mass\"]= float(\"nan\")\n",
    "            outdt1.loc[i,\"Sol_Cond\"]=\"error\"\n",
    "        for comp in deci_comp:\n",
    "            comp.unfix()\n",
    "        \n",
    "outdt1.to_csv(\"dt/opt_prod_sal_volt_c0_wr_rerun_missing_dt2.csv\")\n"
   ]
  },
  {
   "cell_type": "code",
   "execution_count": 1,
   "id": "55a4d098",
   "metadata": {},
   "outputs": [],
   "source": [
    "import plotly.graph_objects as go\n",
    "import plotly.express as ex\n",
    "from plotly.subplots import make_subplots\n",
    "import pandas as pd\n",
    "import kaleido\n"
   ]
  },
  {
   "cell_type": "code",
   "execution_count": 6,
   "id": "a3bee6ec",
   "metadata": {},
   "outputs": [
    {
     "data": {
      "application/vnd.plotly.v1+json": {
       "config": {
        "plotlyServerURL": "https://plot.ly"
       },
       "data": [
        {
         "connectgaps": true,
         "line": {
          "color": "black",
          "shape": "spline",
          "width": 2
         },
         "mode": "lines",
         "name": "WR=0.5",
         "type": "scatter",
         "x": [
          2,
          4,
          6,
          8,
          10,
          12,
          14,
          16,
          18,
          20,
          22,
          24,
          26,
          28,
          30,
          32,
          34,
          36,
          38,
          40,
          42,
          44,
          46,
          48,
          50,
          52,
          54,
          56,
          58,
          60,
          62,
          64,
          66,
          68,
          70,
          72,
          74,
          76,
          78,
          80,
          82,
          84,
          86,
          88,
          90,
          92,
          94,
          96,
          98,
          100,
          2,
          4,
          6,
          8,
          10,
          12,
          14,
          16,
          18,
          20,
          22,
          24,
          26,
          28,
          30,
          32,
          34,
          36,
          38,
          40,
          42,
          44,
          46,
          48,
          50,
          52,
          54,
          56,
          58,
          60,
          62,
          64,
          66,
          68,
          70,
          72,
          74,
          76,
          78,
          80,
          82,
          84,
          86,
          88,
          90,
          92,
          94,
          96,
          98,
          100,
          2,
          4,
          6,
          8,
          10,
          12,
          14,
          16,
          18,
          20,
          22,
          24,
          26,
          28,
          30,
          32,
          34,
          36,
          38,
          40,
          42,
          44,
          46,
          48,
          50,
          52,
          54,
          56,
          58,
          60,
          62,
          64,
          66,
          68,
          70,
          72,
          74,
          76,
          78,
          80,
          82,
          84,
          86,
          88,
          90,
          92,
          94,
          96,
          98,
          100
         ],
         "y": [
          0.894799532,
          0.794033545,
          0.699591032,
          0.612840318,
          0.534570627,
          0.465057627,
          0.404157,
          0.351416397,
          0.306179218,
          0.267681375,
          0.235122485,
          0.207718575,
          0.18473593,
          0.165510086,
          0.149453851,
          0.13605785,
          0.124886392,
          0.115570757,
          0.107801353,
          0.101319696,
          0.09591076,
          0.091396043,
          0.087627447,
          0.084482032,
          0.081857592,
          0.079668981,
          0.077845105,
          0.076326465,
          0.075063177,
          0.074013363,
          null,
          null,
          null,
          null,
          null,
          null,
          null,
          null,
          null,
          null,
          null,
          null,
          null,
          null,
          null,
          null,
          null,
          null,
          null,
          null
         ]
        },
        {
         "connectgaps": true,
         "line": {
          "color": "red",
          "shape": "spline",
          "width": 2
         },
         "mode": "lines",
         "name": "WR=0.7",
         "type": "scatter",
         "x": [
          2,
          4,
          6,
          8,
          10,
          12,
          14,
          16,
          18,
          20,
          22,
          24,
          26,
          28,
          30,
          32,
          34,
          36,
          38,
          40,
          42,
          44,
          46,
          48,
          50,
          52,
          54,
          56,
          58,
          60,
          62,
          64,
          66,
          68,
          70,
          72,
          74,
          76,
          78,
          80,
          82,
          84,
          86,
          88,
          90,
          92,
          94,
          96,
          98,
          100,
          2,
          4,
          6,
          8,
          10,
          12,
          14,
          16,
          18,
          20,
          22,
          24,
          26,
          28,
          30,
          32,
          34,
          36,
          38,
          40,
          42,
          44,
          46,
          48,
          50,
          52,
          54,
          56,
          58,
          60,
          62,
          64,
          66,
          68,
          70,
          72,
          74,
          76,
          78,
          80,
          82,
          84,
          86,
          88,
          90,
          92,
          94,
          96,
          98,
          100,
          2,
          4,
          6,
          8,
          10,
          12,
          14,
          16,
          18,
          20,
          22,
          24,
          26,
          28,
          30,
          32,
          34,
          36,
          38,
          40,
          42,
          44,
          46,
          48,
          50,
          52,
          54,
          56,
          58,
          60,
          62,
          64,
          66,
          68,
          70,
          72,
          74,
          76,
          78,
          80,
          82,
          84,
          86,
          88,
          90,
          92,
          94,
          96,
          98,
          100
         ],
         "y": [
          0.932221,
          0.861798604,
          0.790606012,
          0.72044209,
          0.652855056,
          0.589046841,
          0.529845,
          0.475728791,
          0.426877433,
          0.383240457,
          0.344600025,
          0.310628865,
          0.280937154,
          0.255108367,
          0.232725064,
          0.213386233,
          0.196717991,
          0.182379313,
          0.170064213,
          0.159501531,
          0.150453188,
          0.14271156,
          null,
          0.130451783,
          0.12564279,
          0.121552917,
          0.118081369,
          0.115140871,
          0.112655761,
          0.110560389,
          null,
          null,
          null,
          null,
          null,
          null,
          null,
          null,
          null,
          null,
          null,
          null,
          null,
          null,
          null,
          null,
          null,
          null,
          null,
          null
         ]
        },
        {
         "connectgaps": true,
         "line": {
          "color": "blue",
          "shape": "spline",
          "width": 2
         },
         "mode": "lines",
         "name": "WR=0.9",
         "type": "scatter",
         "x": [
          2,
          4,
          6,
          8,
          10,
          12,
          14,
          16,
          18,
          20,
          22,
          24,
          26,
          28,
          30,
          32,
          34,
          36,
          38,
          40,
          42,
          44,
          46,
          48,
          50,
          52,
          54,
          56,
          58,
          60,
          62,
          64,
          66,
          68,
          70,
          72,
          74,
          76,
          78,
          80,
          82,
          84,
          86,
          88,
          90,
          92,
          94,
          96,
          98,
          100,
          2,
          4,
          6,
          8,
          10,
          12,
          14,
          16,
          18,
          20,
          22,
          24,
          26,
          28,
          30,
          32,
          34,
          36,
          38,
          40,
          42,
          44,
          46,
          48,
          50,
          52,
          54,
          56,
          58,
          60,
          62,
          64,
          66,
          68,
          70,
          72,
          74,
          76,
          78,
          80,
          82,
          84,
          86,
          88,
          90,
          92,
          94,
          96,
          98,
          100,
          2,
          4,
          6,
          8,
          10,
          12,
          14,
          16,
          18,
          20,
          22,
          24,
          26,
          28,
          30,
          32,
          34,
          36,
          38,
          40,
          42,
          44,
          46,
          48,
          50,
          52,
          54,
          56,
          58,
          60,
          62,
          64,
          66,
          68,
          70,
          72,
          74,
          76,
          78,
          80,
          82,
          84,
          86,
          88,
          90,
          92,
          94,
          96,
          98,
          100
         ],
         "y": [
          0.969934723,
          0.934559239,
          0.894460135,
          0.850628762,
          0.804298464,
          0.756763579,
          0.709231229,
          0.662727792,
          0.618057808,
          0.575801615,
          0.5363364,
          0.499868422,
          0.466468205,
          0.436103917,
          0.408670572,
          0.384014216,
          0.361951124,
          0.342282463,
          0.324805088,
          0.309319,
          0.295633271,
          0.28356753,
          0.272955301,
          null,
          0.255493825,
          0.248379386,
          0.242186513,
          0.23681228,
          0.232163704,
          0.228156701,
          null,
          null,
          null,
          null,
          null,
          null,
          null,
          null,
          null,
          null,
          null,
          null,
          null,
          null,
          null,
          null,
          null,
          null,
          null,
          null
         ]
        }
       ],
       "layout": {
        "height": 400,
        "legend": {
         "font": {
          "color": "black",
          "family": "sans-serif",
          "size": 12
         },
         "traceorder": "normal",
         "x": 0.8,
         "y": 1
        },
        "template": {
         "data": {
          "bar": [
           {
            "error_x": {
             "color": "rgb(36,36,36)"
            },
            "error_y": {
             "color": "rgb(36,36,36)"
            },
            "marker": {
             "line": {
              "color": "white",
              "width": 0.5
             },
             "pattern": {
              "fillmode": "overlay",
              "size": 10,
              "solidity": 0.2
             }
            },
            "type": "bar"
           }
          ],
          "barpolar": [
           {
            "marker": {
             "line": {
              "color": "white",
              "width": 0.5
             },
             "pattern": {
              "fillmode": "overlay",
              "size": 10,
              "solidity": 0.2
             }
            },
            "type": "barpolar"
           }
          ],
          "carpet": [
           {
            "aaxis": {
             "endlinecolor": "rgb(36,36,36)",
             "gridcolor": "white",
             "linecolor": "white",
             "minorgridcolor": "white",
             "startlinecolor": "rgb(36,36,36)"
            },
            "baxis": {
             "endlinecolor": "rgb(36,36,36)",
             "gridcolor": "white",
             "linecolor": "white",
             "minorgridcolor": "white",
             "startlinecolor": "rgb(36,36,36)"
            },
            "type": "carpet"
           }
          ],
          "choropleth": [
           {
            "colorbar": {
             "outlinewidth": 1,
             "tickcolor": "rgb(36,36,36)",
             "ticks": "outside"
            },
            "type": "choropleth"
           }
          ],
          "contour": [
           {
            "colorbar": {
             "outlinewidth": 1,
             "tickcolor": "rgb(36,36,36)",
             "ticks": "outside"
            },
            "colorscale": [
             [
              0,
              "#440154"
             ],
             [
              0.1111111111111111,
              "#482878"
             ],
             [
              0.2222222222222222,
              "#3e4989"
             ],
             [
              0.3333333333333333,
              "#31688e"
             ],
             [
              0.4444444444444444,
              "#26828e"
             ],
             [
              0.5555555555555556,
              "#1f9e89"
             ],
             [
              0.6666666666666666,
              "#35b779"
             ],
             [
              0.7777777777777778,
              "#6ece58"
             ],
             [
              0.8888888888888888,
              "#b5de2b"
             ],
             [
              1,
              "#fde725"
             ]
            ],
            "type": "contour"
           }
          ],
          "contourcarpet": [
           {
            "colorbar": {
             "outlinewidth": 1,
             "tickcolor": "rgb(36,36,36)",
             "ticks": "outside"
            },
            "type": "contourcarpet"
           }
          ],
          "heatmap": [
           {
            "colorbar": {
             "outlinewidth": 1,
             "tickcolor": "rgb(36,36,36)",
             "ticks": "outside"
            },
            "colorscale": [
             [
              0,
              "#440154"
             ],
             [
              0.1111111111111111,
              "#482878"
             ],
             [
              0.2222222222222222,
              "#3e4989"
             ],
             [
              0.3333333333333333,
              "#31688e"
             ],
             [
              0.4444444444444444,
              "#26828e"
             ],
             [
              0.5555555555555556,
              "#1f9e89"
             ],
             [
              0.6666666666666666,
              "#35b779"
             ],
             [
              0.7777777777777778,
              "#6ece58"
             ],
             [
              0.8888888888888888,
              "#b5de2b"
             ],
             [
              1,
              "#fde725"
             ]
            ],
            "type": "heatmap"
           }
          ],
          "heatmapgl": [
           {
            "colorbar": {
             "outlinewidth": 1,
             "tickcolor": "rgb(36,36,36)",
             "ticks": "outside"
            },
            "colorscale": [
             [
              0,
              "#440154"
             ],
             [
              0.1111111111111111,
              "#482878"
             ],
             [
              0.2222222222222222,
              "#3e4989"
             ],
             [
              0.3333333333333333,
              "#31688e"
             ],
             [
              0.4444444444444444,
              "#26828e"
             ],
             [
              0.5555555555555556,
              "#1f9e89"
             ],
             [
              0.6666666666666666,
              "#35b779"
             ],
             [
              0.7777777777777778,
              "#6ece58"
             ],
             [
              0.8888888888888888,
              "#b5de2b"
             ],
             [
              1,
              "#fde725"
             ]
            ],
            "type": "heatmapgl"
           }
          ],
          "histogram": [
           {
            "marker": {
             "line": {
              "color": "white",
              "width": 0.6
             }
            },
            "type": "histogram"
           }
          ],
          "histogram2d": [
           {
            "colorbar": {
             "outlinewidth": 1,
             "tickcolor": "rgb(36,36,36)",
             "ticks": "outside"
            },
            "colorscale": [
             [
              0,
              "#440154"
             ],
             [
              0.1111111111111111,
              "#482878"
             ],
             [
              0.2222222222222222,
              "#3e4989"
             ],
             [
              0.3333333333333333,
              "#31688e"
             ],
             [
              0.4444444444444444,
              "#26828e"
             ],
             [
              0.5555555555555556,
              "#1f9e89"
             ],
             [
              0.6666666666666666,
              "#35b779"
             ],
             [
              0.7777777777777778,
              "#6ece58"
             ],
             [
              0.8888888888888888,
              "#b5de2b"
             ],
             [
              1,
              "#fde725"
             ]
            ],
            "type": "histogram2d"
           }
          ],
          "histogram2dcontour": [
           {
            "colorbar": {
             "outlinewidth": 1,
             "tickcolor": "rgb(36,36,36)",
             "ticks": "outside"
            },
            "colorscale": [
             [
              0,
              "#440154"
             ],
             [
              0.1111111111111111,
              "#482878"
             ],
             [
              0.2222222222222222,
              "#3e4989"
             ],
             [
              0.3333333333333333,
              "#31688e"
             ],
             [
              0.4444444444444444,
              "#26828e"
             ],
             [
              0.5555555555555556,
              "#1f9e89"
             ],
             [
              0.6666666666666666,
              "#35b779"
             ],
             [
              0.7777777777777778,
              "#6ece58"
             ],
             [
              0.8888888888888888,
              "#b5de2b"
             ],
             [
              1,
              "#fde725"
             ]
            ],
            "type": "histogram2dcontour"
           }
          ],
          "mesh3d": [
           {
            "colorbar": {
             "outlinewidth": 1,
             "tickcolor": "rgb(36,36,36)",
             "ticks": "outside"
            },
            "type": "mesh3d"
           }
          ],
          "parcoords": [
           {
            "line": {
             "colorbar": {
              "outlinewidth": 1,
              "tickcolor": "rgb(36,36,36)",
              "ticks": "outside"
             }
            },
            "type": "parcoords"
           }
          ],
          "pie": [
           {
            "automargin": true,
            "type": "pie"
           }
          ],
          "scatter": [
           {
            "fillpattern": {
             "fillmode": "overlay",
             "size": 10,
             "solidity": 0.2
            },
            "type": "scatter"
           }
          ],
          "scatter3d": [
           {
            "line": {
             "colorbar": {
              "outlinewidth": 1,
              "tickcolor": "rgb(36,36,36)",
              "ticks": "outside"
             }
            },
            "marker": {
             "colorbar": {
              "outlinewidth": 1,
              "tickcolor": "rgb(36,36,36)",
              "ticks": "outside"
             }
            },
            "type": "scatter3d"
           }
          ],
          "scattercarpet": [
           {
            "marker": {
             "colorbar": {
              "outlinewidth": 1,
              "tickcolor": "rgb(36,36,36)",
              "ticks": "outside"
             }
            },
            "type": "scattercarpet"
           }
          ],
          "scattergeo": [
           {
            "marker": {
             "colorbar": {
              "outlinewidth": 1,
              "tickcolor": "rgb(36,36,36)",
              "ticks": "outside"
             }
            },
            "type": "scattergeo"
           }
          ],
          "scattergl": [
           {
            "marker": {
             "colorbar": {
              "outlinewidth": 1,
              "tickcolor": "rgb(36,36,36)",
              "ticks": "outside"
             }
            },
            "type": "scattergl"
           }
          ],
          "scattermapbox": [
           {
            "marker": {
             "colorbar": {
              "outlinewidth": 1,
              "tickcolor": "rgb(36,36,36)",
              "ticks": "outside"
             }
            },
            "type": "scattermapbox"
           }
          ],
          "scatterpolar": [
           {
            "marker": {
             "colorbar": {
              "outlinewidth": 1,
              "tickcolor": "rgb(36,36,36)",
              "ticks": "outside"
             }
            },
            "type": "scatterpolar"
           }
          ],
          "scatterpolargl": [
           {
            "marker": {
             "colorbar": {
              "outlinewidth": 1,
              "tickcolor": "rgb(36,36,36)",
              "ticks": "outside"
             }
            },
            "type": "scatterpolargl"
           }
          ],
          "scatterternary": [
           {
            "marker": {
             "colorbar": {
              "outlinewidth": 1,
              "tickcolor": "rgb(36,36,36)",
              "ticks": "outside"
             }
            },
            "type": "scatterternary"
           }
          ],
          "surface": [
           {
            "colorbar": {
             "outlinewidth": 1,
             "tickcolor": "rgb(36,36,36)",
             "ticks": "outside"
            },
            "colorscale": [
             [
              0,
              "#440154"
             ],
             [
              0.1111111111111111,
              "#482878"
             ],
             [
              0.2222222222222222,
              "#3e4989"
             ],
             [
              0.3333333333333333,
              "#31688e"
             ],
             [
              0.4444444444444444,
              "#26828e"
             ],
             [
              0.5555555555555556,
              "#1f9e89"
             ],
             [
              0.6666666666666666,
              "#35b779"
             ],
             [
              0.7777777777777778,
              "#6ece58"
             ],
             [
              0.8888888888888888,
              "#b5de2b"
             ],
             [
              1,
              "#fde725"
             ]
            ],
            "type": "surface"
           }
          ],
          "table": [
           {
            "cells": {
             "fill": {
              "color": "rgb(237,237,237)"
             },
             "line": {
              "color": "white"
             }
            },
            "header": {
             "fill": {
              "color": "rgb(217,217,217)"
             },
             "line": {
              "color": "white"
             }
            },
            "type": "table"
           }
          ]
         },
         "layout": {
          "annotationdefaults": {
           "arrowhead": 0,
           "arrowwidth": 1
          },
          "autotypenumbers": "strict",
          "coloraxis": {
           "colorbar": {
            "outlinewidth": 1,
            "tickcolor": "rgb(36,36,36)",
            "ticks": "outside"
           }
          },
          "colorscale": {
           "diverging": [
            [
             0,
             "rgb(103,0,31)"
            ],
            [
             0.1,
             "rgb(178,24,43)"
            ],
            [
             0.2,
             "rgb(214,96,77)"
            ],
            [
             0.3,
             "rgb(244,165,130)"
            ],
            [
             0.4,
             "rgb(253,219,199)"
            ],
            [
             0.5,
             "rgb(247,247,247)"
            ],
            [
             0.6,
             "rgb(209,229,240)"
            ],
            [
             0.7,
             "rgb(146,197,222)"
            ],
            [
             0.8,
             "rgb(67,147,195)"
            ],
            [
             0.9,
             "rgb(33,102,172)"
            ],
            [
             1,
             "rgb(5,48,97)"
            ]
           ],
           "sequential": [
            [
             0,
             "#440154"
            ],
            [
             0.1111111111111111,
             "#482878"
            ],
            [
             0.2222222222222222,
             "#3e4989"
            ],
            [
             0.3333333333333333,
             "#31688e"
            ],
            [
             0.4444444444444444,
             "#26828e"
            ],
            [
             0.5555555555555556,
             "#1f9e89"
            ],
            [
             0.6666666666666666,
             "#35b779"
            ],
            [
             0.7777777777777778,
             "#6ece58"
            ],
            [
             0.8888888888888888,
             "#b5de2b"
            ],
            [
             1,
             "#fde725"
            ]
           ],
           "sequentialminus": [
            [
             0,
             "#440154"
            ],
            [
             0.1111111111111111,
             "#482878"
            ],
            [
             0.2222222222222222,
             "#3e4989"
            ],
            [
             0.3333333333333333,
             "#31688e"
            ],
            [
             0.4444444444444444,
             "#26828e"
            ],
            [
             0.5555555555555556,
             "#1f9e89"
            ],
            [
             0.6666666666666666,
             "#35b779"
            ],
            [
             0.7777777777777778,
             "#6ece58"
            ],
            [
             0.8888888888888888,
             "#b5de2b"
            ],
            [
             1,
             "#fde725"
            ]
           ]
          },
          "colorway": [
           "#1F77B4",
           "#FF7F0E",
           "#2CA02C",
           "#D62728",
           "#9467BD",
           "#8C564B",
           "#E377C2",
           "#7F7F7F",
           "#BCBD22",
           "#17BECF"
          ],
          "font": {
           "color": "rgb(36,36,36)"
          },
          "geo": {
           "bgcolor": "white",
           "lakecolor": "white",
           "landcolor": "white",
           "showlakes": true,
           "showland": true,
           "subunitcolor": "white"
          },
          "hoverlabel": {
           "align": "left"
          },
          "hovermode": "closest",
          "mapbox": {
           "style": "light"
          },
          "paper_bgcolor": "white",
          "plot_bgcolor": "white",
          "polar": {
           "angularaxis": {
            "gridcolor": "rgb(232,232,232)",
            "linecolor": "rgb(36,36,36)",
            "showgrid": false,
            "showline": true,
            "ticks": "outside"
           },
           "bgcolor": "white",
           "radialaxis": {
            "gridcolor": "rgb(232,232,232)",
            "linecolor": "rgb(36,36,36)",
            "showgrid": false,
            "showline": true,
            "ticks": "outside"
           }
          },
          "scene": {
           "xaxis": {
            "backgroundcolor": "white",
            "gridcolor": "rgb(232,232,232)",
            "gridwidth": 2,
            "linecolor": "rgb(36,36,36)",
            "showbackground": true,
            "showgrid": false,
            "showline": true,
            "ticks": "outside",
            "zeroline": false,
            "zerolinecolor": "rgb(36,36,36)"
           },
           "yaxis": {
            "backgroundcolor": "white",
            "gridcolor": "rgb(232,232,232)",
            "gridwidth": 2,
            "linecolor": "rgb(36,36,36)",
            "showbackground": true,
            "showgrid": false,
            "showline": true,
            "ticks": "outside",
            "zeroline": false,
            "zerolinecolor": "rgb(36,36,36)"
           },
           "zaxis": {
            "backgroundcolor": "white",
            "gridcolor": "rgb(232,232,232)",
            "gridwidth": 2,
            "linecolor": "rgb(36,36,36)",
            "showbackground": true,
            "showgrid": false,
            "showline": true,
            "ticks": "outside",
            "zeroline": false,
            "zerolinecolor": "rgb(36,36,36)"
           }
          },
          "shapedefaults": {
           "fillcolor": "black",
           "line": {
            "width": 0
           },
           "opacity": 0.3
          },
          "ternary": {
           "aaxis": {
            "gridcolor": "rgb(232,232,232)",
            "linecolor": "rgb(36,36,36)",
            "showgrid": false,
            "showline": true,
            "ticks": "outside"
           },
           "baxis": {
            "gridcolor": "rgb(232,232,232)",
            "linecolor": "rgb(36,36,36)",
            "showgrid": false,
            "showline": true,
            "ticks": "outside"
           },
           "bgcolor": "white",
           "caxis": {
            "gridcolor": "rgb(232,232,232)",
            "linecolor": "rgb(36,36,36)",
            "showgrid": false,
            "showline": true,
            "ticks": "outside"
           }
          },
          "title": {
           "x": 0.05
          },
          "xaxis": {
           "automargin": true,
           "gridcolor": "rgb(232,232,232)",
           "linecolor": "rgb(36,36,36)",
           "showgrid": false,
           "showline": true,
           "ticks": "outside",
           "title": {
            "standoff": 15
           },
           "zeroline": false,
           "zerolinecolor": "rgb(36,36,36)"
          },
          "yaxis": {
           "automargin": true,
           "gridcolor": "rgb(232,232,232)",
           "linecolor": "rgb(36,36,36)",
           "showgrid": false,
           "showline": true,
           "ticks": "outside",
           "title": {
            "standoff": 15
           },
           "zeroline": false,
           "zerolinecolor": "rgb(36,36,36)"
          }
         }
        },
        "title": {
         "text": "Feed = 1g/L",
         "x": 0.5,
         "y": 0.7
        },
        "xaxis": {
         "mirror": true,
         "range": [
          0,
          60
         ],
         "title": {
          "text": "Voltage (V)"
         }
        },
        "yaxis": {
         "mirror": true,
         "range": [
          0,
          1
         ],
         "title": {
          "text": "Product salinity (g/L)"
         }
        }
       }
      },
      "text/html": [
       "<div>                            <div id=\"1875fcf3-0918-4756-a74e-92ac9056ed1c\" class=\"plotly-graph-div\" style=\"height:400px; width:100%;\"></div>            <script type=\"text/javascript\">                require([\"plotly\"], function(Plotly) {                    window.PLOTLYENV=window.PLOTLYENV || {};                                    if (document.getElementById(\"1875fcf3-0918-4756-a74e-92ac9056ed1c\")) {                    Plotly.newPlot(                        \"1875fcf3-0918-4756-a74e-92ac9056ed1c\",                        [{\"connectgaps\":true,\"line\":{\"color\":\"black\",\"shape\":\"spline\",\"width\":2},\"mode\":\"lines\",\"name\":\"WR=0.5\",\"x\":[2,4,6,8,10,12,14,16,18,20,22,24,26,28,30,32,34,36,38,40,42,44,46,48,50,52,54,56,58,60,62,64,66,68,70,72,74,76,78,80,82,84,86,88,90,92,94,96,98,100,2,4,6,8,10,12,14,16,18,20,22,24,26,28,30,32,34,36,38,40,42,44,46,48,50,52,54,56,58,60,62,64,66,68,70,72,74,76,78,80,82,84,86,88,90,92,94,96,98,100,2,4,6,8,10,12,14,16,18,20,22,24,26,28,30,32,34,36,38,40,42,44,46,48,50,52,54,56,58,60,62,64,66,68,70,72,74,76,78,80,82,84,86,88,90,92,94,96,98,100],\"y\":[0.894799532,0.794033545,0.699591032,0.612840318,0.534570627,0.465057627,0.404157,0.351416397,0.306179218,0.267681375,0.235122485,0.207718575,0.18473593,0.165510086,0.149453851,0.13605785,0.124886392,0.115570757,0.107801353,0.101319696,0.09591076,0.091396043,0.087627447,0.084482032,0.081857592,0.079668981,0.077845105,0.076326465,0.075063177,0.074013363,null,null,null,null,null,null,null,null,null,null,null,null,null,null,null,null,null,null,null,null],\"type\":\"scatter\"},{\"connectgaps\":true,\"line\":{\"color\":\"red\",\"shape\":\"spline\",\"width\":2},\"mode\":\"lines\",\"name\":\"WR=0.7\",\"x\":[2,4,6,8,10,12,14,16,18,20,22,24,26,28,30,32,34,36,38,40,42,44,46,48,50,52,54,56,58,60,62,64,66,68,70,72,74,76,78,80,82,84,86,88,90,92,94,96,98,100,2,4,6,8,10,12,14,16,18,20,22,24,26,28,30,32,34,36,38,40,42,44,46,48,50,52,54,56,58,60,62,64,66,68,70,72,74,76,78,80,82,84,86,88,90,92,94,96,98,100,2,4,6,8,10,12,14,16,18,20,22,24,26,28,30,32,34,36,38,40,42,44,46,48,50,52,54,56,58,60,62,64,66,68,70,72,74,76,78,80,82,84,86,88,90,92,94,96,98,100],\"y\":[0.932221,0.861798604,0.790606012,0.72044209,0.652855056,0.589046841,0.529845,0.475728791,0.426877433,0.383240457,0.344600025,0.310628865,0.280937154,0.255108367,0.232725064,0.213386233,0.196717991,0.182379313,0.170064213,0.159501531,0.150453188,0.14271156,null,0.130451783,0.12564279,0.121552917,0.118081369,0.115140871,0.112655761,0.110560389,null,null,null,null,null,null,null,null,null,null,null,null,null,null,null,null,null,null,null,null],\"type\":\"scatter\"},{\"connectgaps\":true,\"line\":{\"color\":\"blue\",\"shape\":\"spline\",\"width\":2},\"mode\":\"lines\",\"name\":\"WR=0.9\",\"x\":[2,4,6,8,10,12,14,16,18,20,22,24,26,28,30,32,34,36,38,40,42,44,46,48,50,52,54,56,58,60,62,64,66,68,70,72,74,76,78,80,82,84,86,88,90,92,94,96,98,100,2,4,6,8,10,12,14,16,18,20,22,24,26,28,30,32,34,36,38,40,42,44,46,48,50,52,54,56,58,60,62,64,66,68,70,72,74,76,78,80,82,84,86,88,90,92,94,96,98,100,2,4,6,8,10,12,14,16,18,20,22,24,26,28,30,32,34,36,38,40,42,44,46,48,50,52,54,56,58,60,62,64,66,68,70,72,74,76,78,80,82,84,86,88,90,92,94,96,98,100],\"y\":[0.969934723,0.934559239,0.894460135,0.850628762,0.804298464,0.756763579,0.709231229,0.662727792,0.618057808,0.575801615,0.5363364,0.499868422,0.466468205,0.436103917,0.408670572,0.384014216,0.361951124,0.342282463,0.324805088,0.309319,0.295633271,0.28356753,0.272955301,null,0.255493825,0.248379386,0.242186513,0.23681228,0.232163704,0.228156701,null,null,null,null,null,null,null,null,null,null,null,null,null,null,null,null,null,null,null,null],\"type\":\"scatter\"}],                        {\"height\":400,\"legend\":{\"font\":{\"color\":\"black\",\"family\":\"sans-serif\",\"size\":12},\"traceorder\":\"normal\",\"x\":0.8,\"y\":1},\"template\":{\"data\":{\"barpolar\":[{\"marker\":{\"line\":{\"color\":\"white\",\"width\":0.5},\"pattern\":{\"fillmode\":\"overlay\",\"size\":10,\"solidity\":0.2}},\"type\":\"barpolar\"}],\"bar\":[{\"error_x\":{\"color\":\"rgb(36,36,36)\"},\"error_y\":{\"color\":\"rgb(36,36,36)\"},\"marker\":{\"line\":{\"color\":\"white\",\"width\":0.5},\"pattern\":{\"fillmode\":\"overlay\",\"size\":10,\"solidity\":0.2}},\"type\":\"bar\"}],\"carpet\":[{\"aaxis\":{\"endlinecolor\":\"rgb(36,36,36)\",\"gridcolor\":\"white\",\"linecolor\":\"white\",\"minorgridcolor\":\"white\",\"startlinecolor\":\"rgb(36,36,36)\"},\"baxis\":{\"endlinecolor\":\"rgb(36,36,36)\",\"gridcolor\":\"white\",\"linecolor\":\"white\",\"minorgridcolor\":\"white\",\"startlinecolor\":\"rgb(36,36,36)\"},\"type\":\"carpet\"}],\"choropleth\":[{\"colorbar\":{\"outlinewidth\":1,\"tickcolor\":\"rgb(36,36,36)\",\"ticks\":\"outside\"},\"type\":\"choropleth\"}],\"contourcarpet\":[{\"colorbar\":{\"outlinewidth\":1,\"tickcolor\":\"rgb(36,36,36)\",\"ticks\":\"outside\"},\"type\":\"contourcarpet\"}],\"contour\":[{\"colorbar\":{\"outlinewidth\":1,\"tickcolor\":\"rgb(36,36,36)\",\"ticks\":\"outside\"},\"colorscale\":[[0.0,\"#440154\"],[0.1111111111111111,\"#482878\"],[0.2222222222222222,\"#3e4989\"],[0.3333333333333333,\"#31688e\"],[0.4444444444444444,\"#26828e\"],[0.5555555555555556,\"#1f9e89\"],[0.6666666666666666,\"#35b779\"],[0.7777777777777778,\"#6ece58\"],[0.8888888888888888,\"#b5de2b\"],[1.0,\"#fde725\"]],\"type\":\"contour\"}],\"heatmapgl\":[{\"colorbar\":{\"outlinewidth\":1,\"tickcolor\":\"rgb(36,36,36)\",\"ticks\":\"outside\"},\"colorscale\":[[0.0,\"#440154\"],[0.1111111111111111,\"#482878\"],[0.2222222222222222,\"#3e4989\"],[0.3333333333333333,\"#31688e\"],[0.4444444444444444,\"#26828e\"],[0.5555555555555556,\"#1f9e89\"],[0.6666666666666666,\"#35b779\"],[0.7777777777777778,\"#6ece58\"],[0.8888888888888888,\"#b5de2b\"],[1.0,\"#fde725\"]],\"type\":\"heatmapgl\"}],\"heatmap\":[{\"colorbar\":{\"outlinewidth\":1,\"tickcolor\":\"rgb(36,36,36)\",\"ticks\":\"outside\"},\"colorscale\":[[0.0,\"#440154\"],[0.1111111111111111,\"#482878\"],[0.2222222222222222,\"#3e4989\"],[0.3333333333333333,\"#31688e\"],[0.4444444444444444,\"#26828e\"],[0.5555555555555556,\"#1f9e89\"],[0.6666666666666666,\"#35b779\"],[0.7777777777777778,\"#6ece58\"],[0.8888888888888888,\"#b5de2b\"],[1.0,\"#fde725\"]],\"type\":\"heatmap\"}],\"histogram2dcontour\":[{\"colorbar\":{\"outlinewidth\":1,\"tickcolor\":\"rgb(36,36,36)\",\"ticks\":\"outside\"},\"colorscale\":[[0.0,\"#440154\"],[0.1111111111111111,\"#482878\"],[0.2222222222222222,\"#3e4989\"],[0.3333333333333333,\"#31688e\"],[0.4444444444444444,\"#26828e\"],[0.5555555555555556,\"#1f9e89\"],[0.6666666666666666,\"#35b779\"],[0.7777777777777778,\"#6ece58\"],[0.8888888888888888,\"#b5de2b\"],[1.0,\"#fde725\"]],\"type\":\"histogram2dcontour\"}],\"histogram2d\":[{\"colorbar\":{\"outlinewidth\":1,\"tickcolor\":\"rgb(36,36,36)\",\"ticks\":\"outside\"},\"colorscale\":[[0.0,\"#440154\"],[0.1111111111111111,\"#482878\"],[0.2222222222222222,\"#3e4989\"],[0.3333333333333333,\"#31688e\"],[0.4444444444444444,\"#26828e\"],[0.5555555555555556,\"#1f9e89\"],[0.6666666666666666,\"#35b779\"],[0.7777777777777778,\"#6ece58\"],[0.8888888888888888,\"#b5de2b\"],[1.0,\"#fde725\"]],\"type\":\"histogram2d\"}],\"histogram\":[{\"marker\":{\"line\":{\"color\":\"white\",\"width\":0.6}},\"type\":\"histogram\"}],\"mesh3d\":[{\"colorbar\":{\"outlinewidth\":1,\"tickcolor\":\"rgb(36,36,36)\",\"ticks\":\"outside\"},\"type\":\"mesh3d\"}],\"parcoords\":[{\"line\":{\"colorbar\":{\"outlinewidth\":1,\"tickcolor\":\"rgb(36,36,36)\",\"ticks\":\"outside\"}},\"type\":\"parcoords\"}],\"pie\":[{\"automargin\":true,\"type\":\"pie\"}],\"scatter3d\":[{\"line\":{\"colorbar\":{\"outlinewidth\":1,\"tickcolor\":\"rgb(36,36,36)\",\"ticks\":\"outside\"}},\"marker\":{\"colorbar\":{\"outlinewidth\":1,\"tickcolor\":\"rgb(36,36,36)\",\"ticks\":\"outside\"}},\"type\":\"scatter3d\"}],\"scattercarpet\":[{\"marker\":{\"colorbar\":{\"outlinewidth\":1,\"tickcolor\":\"rgb(36,36,36)\",\"ticks\":\"outside\"}},\"type\":\"scattercarpet\"}],\"scattergeo\":[{\"marker\":{\"colorbar\":{\"outlinewidth\":1,\"tickcolor\":\"rgb(36,36,36)\",\"ticks\":\"outside\"}},\"type\":\"scattergeo\"}],\"scattergl\":[{\"marker\":{\"colorbar\":{\"outlinewidth\":1,\"tickcolor\":\"rgb(36,36,36)\",\"ticks\":\"outside\"}},\"type\":\"scattergl\"}],\"scattermapbox\":[{\"marker\":{\"colorbar\":{\"outlinewidth\":1,\"tickcolor\":\"rgb(36,36,36)\",\"ticks\":\"outside\"}},\"type\":\"scattermapbox\"}],\"scatterpolargl\":[{\"marker\":{\"colorbar\":{\"outlinewidth\":1,\"tickcolor\":\"rgb(36,36,36)\",\"ticks\":\"outside\"}},\"type\":\"scatterpolargl\"}],\"scatterpolar\":[{\"marker\":{\"colorbar\":{\"outlinewidth\":1,\"tickcolor\":\"rgb(36,36,36)\",\"ticks\":\"outside\"}},\"type\":\"scatterpolar\"}],\"scatter\":[{\"fillpattern\":{\"fillmode\":\"overlay\",\"size\":10,\"solidity\":0.2},\"type\":\"scatter\"}],\"scatterternary\":[{\"marker\":{\"colorbar\":{\"outlinewidth\":1,\"tickcolor\":\"rgb(36,36,36)\",\"ticks\":\"outside\"}},\"type\":\"scatterternary\"}],\"surface\":[{\"colorbar\":{\"outlinewidth\":1,\"tickcolor\":\"rgb(36,36,36)\",\"ticks\":\"outside\"},\"colorscale\":[[0.0,\"#440154\"],[0.1111111111111111,\"#482878\"],[0.2222222222222222,\"#3e4989\"],[0.3333333333333333,\"#31688e\"],[0.4444444444444444,\"#26828e\"],[0.5555555555555556,\"#1f9e89\"],[0.6666666666666666,\"#35b779\"],[0.7777777777777778,\"#6ece58\"],[0.8888888888888888,\"#b5de2b\"],[1.0,\"#fde725\"]],\"type\":\"surface\"}],\"table\":[{\"cells\":{\"fill\":{\"color\":\"rgb(237,237,237)\"},\"line\":{\"color\":\"white\"}},\"header\":{\"fill\":{\"color\":\"rgb(217,217,217)\"},\"line\":{\"color\":\"white\"}},\"type\":\"table\"}]},\"layout\":{\"annotationdefaults\":{\"arrowhead\":0,\"arrowwidth\":1},\"autotypenumbers\":\"strict\",\"coloraxis\":{\"colorbar\":{\"outlinewidth\":1,\"tickcolor\":\"rgb(36,36,36)\",\"ticks\":\"outside\"}},\"colorscale\":{\"diverging\":[[0.0,\"rgb(103,0,31)\"],[0.1,\"rgb(178,24,43)\"],[0.2,\"rgb(214,96,77)\"],[0.3,\"rgb(244,165,130)\"],[0.4,\"rgb(253,219,199)\"],[0.5,\"rgb(247,247,247)\"],[0.6,\"rgb(209,229,240)\"],[0.7,\"rgb(146,197,222)\"],[0.8,\"rgb(67,147,195)\"],[0.9,\"rgb(33,102,172)\"],[1.0,\"rgb(5,48,97)\"]],\"sequential\":[[0.0,\"#440154\"],[0.1111111111111111,\"#482878\"],[0.2222222222222222,\"#3e4989\"],[0.3333333333333333,\"#31688e\"],[0.4444444444444444,\"#26828e\"],[0.5555555555555556,\"#1f9e89\"],[0.6666666666666666,\"#35b779\"],[0.7777777777777778,\"#6ece58\"],[0.8888888888888888,\"#b5de2b\"],[1.0,\"#fde725\"]],\"sequentialminus\":[[0.0,\"#440154\"],[0.1111111111111111,\"#482878\"],[0.2222222222222222,\"#3e4989\"],[0.3333333333333333,\"#31688e\"],[0.4444444444444444,\"#26828e\"],[0.5555555555555556,\"#1f9e89\"],[0.6666666666666666,\"#35b779\"],[0.7777777777777778,\"#6ece58\"],[0.8888888888888888,\"#b5de2b\"],[1.0,\"#fde725\"]]},\"colorway\":[\"#1F77B4\",\"#FF7F0E\",\"#2CA02C\",\"#D62728\",\"#9467BD\",\"#8C564B\",\"#E377C2\",\"#7F7F7F\",\"#BCBD22\",\"#17BECF\"],\"font\":{\"color\":\"rgb(36,36,36)\"},\"geo\":{\"bgcolor\":\"white\",\"lakecolor\":\"white\",\"landcolor\":\"white\",\"showlakes\":true,\"showland\":true,\"subunitcolor\":\"white\"},\"hoverlabel\":{\"align\":\"left\"},\"hovermode\":\"closest\",\"mapbox\":{\"style\":\"light\"},\"paper_bgcolor\":\"white\",\"plot_bgcolor\":\"white\",\"polar\":{\"angularaxis\":{\"gridcolor\":\"rgb(232,232,232)\",\"linecolor\":\"rgb(36,36,36)\",\"showgrid\":false,\"showline\":true,\"ticks\":\"outside\"},\"bgcolor\":\"white\",\"radialaxis\":{\"gridcolor\":\"rgb(232,232,232)\",\"linecolor\":\"rgb(36,36,36)\",\"showgrid\":false,\"showline\":true,\"ticks\":\"outside\"}},\"scene\":{\"xaxis\":{\"backgroundcolor\":\"white\",\"gridcolor\":\"rgb(232,232,232)\",\"gridwidth\":2,\"linecolor\":\"rgb(36,36,36)\",\"showbackground\":true,\"showgrid\":false,\"showline\":true,\"ticks\":\"outside\",\"zeroline\":false,\"zerolinecolor\":\"rgb(36,36,36)\"},\"yaxis\":{\"backgroundcolor\":\"white\",\"gridcolor\":\"rgb(232,232,232)\",\"gridwidth\":2,\"linecolor\":\"rgb(36,36,36)\",\"showbackground\":true,\"showgrid\":false,\"showline\":true,\"ticks\":\"outside\",\"zeroline\":false,\"zerolinecolor\":\"rgb(36,36,36)\"},\"zaxis\":{\"backgroundcolor\":\"white\",\"gridcolor\":\"rgb(232,232,232)\",\"gridwidth\":2,\"linecolor\":\"rgb(36,36,36)\",\"showbackground\":true,\"showgrid\":false,\"showline\":true,\"ticks\":\"outside\",\"zeroline\":false,\"zerolinecolor\":\"rgb(36,36,36)\"}},\"shapedefaults\":{\"fillcolor\":\"black\",\"line\":{\"width\":0},\"opacity\":0.3},\"ternary\":{\"aaxis\":{\"gridcolor\":\"rgb(232,232,232)\",\"linecolor\":\"rgb(36,36,36)\",\"showgrid\":false,\"showline\":true,\"ticks\":\"outside\"},\"baxis\":{\"gridcolor\":\"rgb(232,232,232)\",\"linecolor\":\"rgb(36,36,36)\",\"showgrid\":false,\"showline\":true,\"ticks\":\"outside\"},\"bgcolor\":\"white\",\"caxis\":{\"gridcolor\":\"rgb(232,232,232)\",\"linecolor\":\"rgb(36,36,36)\",\"showgrid\":false,\"showline\":true,\"ticks\":\"outside\"}},\"title\":{\"x\":0.05},\"xaxis\":{\"automargin\":true,\"gridcolor\":\"rgb(232,232,232)\",\"linecolor\":\"rgb(36,36,36)\",\"showgrid\":false,\"showline\":true,\"ticks\":\"outside\",\"title\":{\"standoff\":15},\"zeroline\":false,\"zerolinecolor\":\"rgb(36,36,36)\"},\"yaxis\":{\"automargin\":true,\"gridcolor\":\"rgb(232,232,232)\",\"linecolor\":\"rgb(36,36,36)\",\"showgrid\":false,\"showline\":true,\"ticks\":\"outside\",\"title\":{\"standoff\":15},\"zeroline\":false,\"zerolinecolor\":\"rgb(36,36,36)\"}}},\"xaxis\":{\"mirror\":true,\"range\":[0,60],\"title\":{\"text\":\"Voltage (V)\"}},\"yaxis\":{\"mirror\":true,\"range\":[0,1],\"title\":{\"text\":\"Product salinity (g/L)\"}},\"title\":{\"text\":\"Feed = 1g/L\",\"x\":0.5,\"y\":0.7}},                        {\"responsive\": true}                    ).then(function(){\n",
       "                            \n",
       "var gd = document.getElementById('1875fcf3-0918-4756-a74e-92ac9056ed1c');\n",
       "var x = new MutationObserver(function (mutations, observer) {{\n",
       "        var display = window.getComputedStyle(gd).display;\n",
       "        if (!display || display === 'none') {{\n",
       "            console.log([gd, 'removed!']);\n",
       "            Plotly.purge(gd);\n",
       "            observer.disconnect();\n",
       "        }}\n",
       "}});\n",
       "\n",
       "// Listen for the removal of the full notebook cells\n",
       "var notebookContainer = gd.closest('#notebook-container');\n",
       "if (notebookContainer) {{\n",
       "    x.observe(notebookContainer, {childList: true});\n",
       "}}\n",
       "\n",
       "// Listen for the clearing of the current output cell\n",
       "var outputEl = gd.closest('.output');\n",
       "if (outputEl) {{\n",
       "    x.observe(outputEl, {childList: true});\n",
       "}}\n",
       "\n",
       "                        })                };                });            </script>        </div>"
      ]
     },
     "metadata": {},
     "output_type": "display_data"
    },
    {
     "data": {
      "application/vnd.plotly.v1+json": {
       "config": {
        "plotlyServerURL": "https://plot.ly"
       },
       "data": [
        {
         "connectgaps": true,
         "line": {
          "color": "black",
          "shape": "spline",
          "width": 2
         },
         "mode": "lines",
         "name": "WR=0.5",
         "type": "scatter",
         "x": [
          2,
          4,
          6,
          8,
          10,
          12,
          14,
          16,
          18,
          20,
          22,
          24,
          26,
          28,
          30,
          32,
          34,
          36,
          38,
          40,
          42,
          44,
          46,
          48,
          50,
          52,
          54,
          56,
          58,
          60,
          62,
          64,
          66,
          68,
          70,
          72,
          74,
          76,
          78,
          80,
          82,
          84,
          86,
          88,
          90,
          92,
          94,
          96,
          98,
          100,
          2,
          4,
          6,
          8,
          10,
          12,
          14,
          16,
          18,
          20,
          22,
          24,
          26,
          28,
          30,
          32,
          34,
          36,
          38,
          40,
          42,
          44,
          46,
          48,
          50,
          52,
          54,
          56,
          58,
          60,
          62,
          64,
          66,
          68,
          70,
          72,
          74,
          76,
          78,
          80,
          82,
          84,
          86,
          88,
          90,
          92,
          94,
          96,
          98,
          100,
          2,
          4,
          6,
          8,
          10,
          12,
          14,
          16,
          18,
          20,
          22,
          24,
          26,
          28,
          30,
          32,
          34,
          36,
          38,
          40,
          42,
          44,
          46,
          48,
          50,
          52,
          54,
          56,
          58,
          60,
          62,
          64,
          66,
          68,
          70,
          72,
          74,
          76,
          78,
          80,
          82,
          84,
          86,
          88,
          90,
          92,
          94,
          96,
          98,
          100
         ],
         "y": [
          4.529689294,
          4.074681063,
          null,
          3.235331529,
          2.860153057,
          2.518416485,
          2.211228781,
          1.938456318,
          1.69892398,
          1.490655714,
          1.311127026,
          1.157502648,
          1.026839841,
          0.916246934,
          0.822995158,
          null,
          0.678795955,
          0.6236649,
          0.577507249,
          0.538881832,
          0.506568283,
          0.479539453,
          0.456934289,
          0.438032638,
          0.422232732,
          0.409031624,
          null,
          null,
          null,
          null,
          0.369443,
          0.365028053,
          0.36136131,
          0.35831986,
          0.355799465,
          0.353712706,
          0.351986379,
          0.350559274,
          0.349380299,
          0.348406873,
          0.347603566,
          0.346940935,
          0.34639455,
          0.345944161,
          0.345573004,
          0.34526721,
          0.345015317,
          null,
          null,
          null
         ]
        },
        {
         "connectgaps": true,
         "line": {
          "color": "red",
          "shape": "spline",
          "width": 2
         },
         "mode": "lines",
         "name": "WR=0.7",
         "type": "scatter",
         "x": [
          2,
          4,
          6,
          8,
          10,
          12,
          14,
          16,
          18,
          20,
          22,
          24,
          26,
          28,
          30,
          32,
          34,
          36,
          38,
          40,
          42,
          44,
          46,
          48,
          50,
          52,
          54,
          56,
          58,
          60,
          62,
          64,
          66,
          68,
          70,
          72,
          74,
          76,
          78,
          80,
          82,
          84,
          86,
          88,
          90,
          92,
          94,
          96,
          98,
          100,
          2,
          4,
          6,
          8,
          10,
          12,
          14,
          16,
          18,
          20,
          22,
          24,
          26,
          28,
          30,
          32,
          34,
          36,
          38,
          40,
          42,
          44,
          46,
          48,
          50,
          52,
          54,
          56,
          58,
          60,
          62,
          64,
          66,
          68,
          70,
          72,
          74,
          76,
          78,
          80,
          82,
          84,
          86,
          88,
          90,
          92,
          94,
          96,
          98,
          100,
          2,
          4,
          6,
          8,
          10,
          12,
          14,
          16,
          18,
          20,
          22,
          24,
          26,
          28,
          30,
          32,
          34,
          36,
          38,
          40,
          42,
          44,
          46,
          48,
          50,
          52,
          54,
          56,
          58,
          60,
          62,
          64,
          66,
          68,
          70,
          72,
          74,
          76,
          78,
          80,
          82,
          84,
          86,
          88,
          90,
          92,
          94,
          96,
          98,
          100
         ],
         "y": [
          4.696526192,
          4.382966597,
          4.065377715,
          3.749610389,
          3.440957765,
          3.14392345,
          2.862100381,
          2.598139788,
          2.353787577,
          2.129967757,
          1.926895492,
          1.744205327,
          1.581082814,
          1.436390252,
          1.308779869,
          null,
          1.098924197,
          1.013708051,
          0.939734018,
          0.875687776,
          null,
          0.772673422,
          0.731641172,
          0.696403162,
          0.666197593,
          0.640355781,
          0.618292308,
          0.599495391,
          0.583517889,
          0.569969224,
          null,
          null,
          null,
          null,
          null,
          null,
          null,
          null,
          null,
          0.55,
          null,
          null,
          null,
          null,
          null,
          null,
          null,
          null,
          null,
          null
         ]
        },
        {
         "connectgaps": true,
         "line": {
          "color": "blue",
          "shape": "spline",
          "width": 2
         },
         "mode": "lines",
         "name": "WR=0.9",
         "type": "scatter",
         "x": [
          2,
          4,
          6,
          8,
          10,
          12,
          14,
          16,
          18,
          20,
          22,
          24,
          26,
          28,
          30,
          32,
          34,
          36,
          38,
          40,
          42,
          44,
          46,
          48,
          50,
          52,
          54,
          56,
          58,
          60,
          62,
          64,
          66,
          68,
          70,
          72,
          74,
          76,
          78,
          80,
          82,
          84,
          86,
          88,
          90,
          92,
          94,
          96,
          98,
          100,
          2,
          4,
          6,
          8,
          10,
          12,
          14,
          16,
          18,
          20,
          22,
          24,
          26,
          28,
          30,
          32,
          34,
          36,
          38,
          40,
          42,
          44,
          46,
          48,
          50,
          52,
          54,
          56,
          58,
          60,
          62,
          64,
          66,
          68,
          70,
          72,
          74,
          76,
          78,
          80,
          82,
          84,
          86,
          88,
          90,
          92,
          94,
          96,
          98,
          100,
          2,
          4,
          6,
          8,
          10,
          12,
          14,
          16,
          18,
          20,
          22,
          24,
          26,
          28,
          30,
          32,
          34,
          36,
          38,
          40,
          42,
          44,
          46,
          48,
          50,
          52,
          54,
          56,
          58,
          60,
          62,
          64,
          66,
          68,
          70,
          72,
          74,
          76,
          78,
          80,
          82,
          84,
          86,
          88,
          90,
          92,
          94,
          96,
          98,
          100
         ],
         "y": [
          4.861580974,
          4.702281778,
          4.524710216,
          4.332547984,
          4.130025206,
          3.921446584,
          3.710847012,
          3.501785394,
          3.297249791,
          3.099638703,
          2.910788392,
          2.732024948,
          2.5642275,
          2.407894492,
          2.263208421,
          2.130096528,
          2.008286053,
          1.897353387,
          1.796766831,
          1.705922949,
          1.624176724,
          1.550865862,
          1.485329744,
          1.426923576,
          1.375028391,
          1.329057515,
          1.288460192,
          1.252722953,
          1.221369346,
          1.193958552,
          1.170083303,
          1.149368071,
          1.131466067,
          1.116058208,
          1.102851172,
          1.091576309,
          1.081988732,
          1.073866547,
          1.067010085,
          1.06124105,
          1.056401491,
          1.052352596,
          1.048973319,
          1.046158879,
          1.043819186,
          1.04187726,
          1.040267683,
          1.038935132,
          1.037833019,
          1.036922257
         ]
        }
       ],
       "layout": {
        "height": 400,
        "legend": {
         "font": {
          "color": "black",
          "family": "sans-serif",
          "size": 12
         },
         "traceorder": "normal",
         "x": 0.8,
         "y": 1
        },
        "template": {
         "data": {
          "bar": [
           {
            "error_x": {
             "color": "rgb(36,36,36)"
            },
            "error_y": {
             "color": "rgb(36,36,36)"
            },
            "marker": {
             "line": {
              "color": "white",
              "width": 0.5
             },
             "pattern": {
              "fillmode": "overlay",
              "size": 10,
              "solidity": 0.2
             }
            },
            "type": "bar"
           }
          ],
          "barpolar": [
           {
            "marker": {
             "line": {
              "color": "white",
              "width": 0.5
             },
             "pattern": {
              "fillmode": "overlay",
              "size": 10,
              "solidity": 0.2
             }
            },
            "type": "barpolar"
           }
          ],
          "carpet": [
           {
            "aaxis": {
             "endlinecolor": "rgb(36,36,36)",
             "gridcolor": "white",
             "linecolor": "white",
             "minorgridcolor": "white",
             "startlinecolor": "rgb(36,36,36)"
            },
            "baxis": {
             "endlinecolor": "rgb(36,36,36)",
             "gridcolor": "white",
             "linecolor": "white",
             "minorgridcolor": "white",
             "startlinecolor": "rgb(36,36,36)"
            },
            "type": "carpet"
           }
          ],
          "choropleth": [
           {
            "colorbar": {
             "outlinewidth": 1,
             "tickcolor": "rgb(36,36,36)",
             "ticks": "outside"
            },
            "type": "choropleth"
           }
          ],
          "contour": [
           {
            "colorbar": {
             "outlinewidth": 1,
             "tickcolor": "rgb(36,36,36)",
             "ticks": "outside"
            },
            "colorscale": [
             [
              0,
              "#440154"
             ],
             [
              0.1111111111111111,
              "#482878"
             ],
             [
              0.2222222222222222,
              "#3e4989"
             ],
             [
              0.3333333333333333,
              "#31688e"
             ],
             [
              0.4444444444444444,
              "#26828e"
             ],
             [
              0.5555555555555556,
              "#1f9e89"
             ],
             [
              0.6666666666666666,
              "#35b779"
             ],
             [
              0.7777777777777778,
              "#6ece58"
             ],
             [
              0.8888888888888888,
              "#b5de2b"
             ],
             [
              1,
              "#fde725"
             ]
            ],
            "type": "contour"
           }
          ],
          "contourcarpet": [
           {
            "colorbar": {
             "outlinewidth": 1,
             "tickcolor": "rgb(36,36,36)",
             "ticks": "outside"
            },
            "type": "contourcarpet"
           }
          ],
          "heatmap": [
           {
            "colorbar": {
             "outlinewidth": 1,
             "tickcolor": "rgb(36,36,36)",
             "ticks": "outside"
            },
            "colorscale": [
             [
              0,
              "#440154"
             ],
             [
              0.1111111111111111,
              "#482878"
             ],
             [
              0.2222222222222222,
              "#3e4989"
             ],
             [
              0.3333333333333333,
              "#31688e"
             ],
             [
              0.4444444444444444,
              "#26828e"
             ],
             [
              0.5555555555555556,
              "#1f9e89"
             ],
             [
              0.6666666666666666,
              "#35b779"
             ],
             [
              0.7777777777777778,
              "#6ece58"
             ],
             [
              0.8888888888888888,
              "#b5de2b"
             ],
             [
              1,
              "#fde725"
             ]
            ],
            "type": "heatmap"
           }
          ],
          "heatmapgl": [
           {
            "colorbar": {
             "outlinewidth": 1,
             "tickcolor": "rgb(36,36,36)",
             "ticks": "outside"
            },
            "colorscale": [
             [
              0,
              "#440154"
             ],
             [
              0.1111111111111111,
              "#482878"
             ],
             [
              0.2222222222222222,
              "#3e4989"
             ],
             [
              0.3333333333333333,
              "#31688e"
             ],
             [
              0.4444444444444444,
              "#26828e"
             ],
             [
              0.5555555555555556,
              "#1f9e89"
             ],
             [
              0.6666666666666666,
              "#35b779"
             ],
             [
              0.7777777777777778,
              "#6ece58"
             ],
             [
              0.8888888888888888,
              "#b5de2b"
             ],
             [
              1,
              "#fde725"
             ]
            ],
            "type": "heatmapgl"
           }
          ],
          "histogram": [
           {
            "marker": {
             "line": {
              "color": "white",
              "width": 0.6
             }
            },
            "type": "histogram"
           }
          ],
          "histogram2d": [
           {
            "colorbar": {
             "outlinewidth": 1,
             "tickcolor": "rgb(36,36,36)",
             "ticks": "outside"
            },
            "colorscale": [
             [
              0,
              "#440154"
             ],
             [
              0.1111111111111111,
              "#482878"
             ],
             [
              0.2222222222222222,
              "#3e4989"
             ],
             [
              0.3333333333333333,
              "#31688e"
             ],
             [
              0.4444444444444444,
              "#26828e"
             ],
             [
              0.5555555555555556,
              "#1f9e89"
             ],
             [
              0.6666666666666666,
              "#35b779"
             ],
             [
              0.7777777777777778,
              "#6ece58"
             ],
             [
              0.8888888888888888,
              "#b5de2b"
             ],
             [
              1,
              "#fde725"
             ]
            ],
            "type": "histogram2d"
           }
          ],
          "histogram2dcontour": [
           {
            "colorbar": {
             "outlinewidth": 1,
             "tickcolor": "rgb(36,36,36)",
             "ticks": "outside"
            },
            "colorscale": [
             [
              0,
              "#440154"
             ],
             [
              0.1111111111111111,
              "#482878"
             ],
             [
              0.2222222222222222,
              "#3e4989"
             ],
             [
              0.3333333333333333,
              "#31688e"
             ],
             [
              0.4444444444444444,
              "#26828e"
             ],
             [
              0.5555555555555556,
              "#1f9e89"
             ],
             [
              0.6666666666666666,
              "#35b779"
             ],
             [
              0.7777777777777778,
              "#6ece58"
             ],
             [
              0.8888888888888888,
              "#b5de2b"
             ],
             [
              1,
              "#fde725"
             ]
            ],
            "type": "histogram2dcontour"
           }
          ],
          "mesh3d": [
           {
            "colorbar": {
             "outlinewidth": 1,
             "tickcolor": "rgb(36,36,36)",
             "ticks": "outside"
            },
            "type": "mesh3d"
           }
          ],
          "parcoords": [
           {
            "line": {
             "colorbar": {
              "outlinewidth": 1,
              "tickcolor": "rgb(36,36,36)",
              "ticks": "outside"
             }
            },
            "type": "parcoords"
           }
          ],
          "pie": [
           {
            "automargin": true,
            "type": "pie"
           }
          ],
          "scatter": [
           {
            "fillpattern": {
             "fillmode": "overlay",
             "size": 10,
             "solidity": 0.2
            },
            "type": "scatter"
           }
          ],
          "scatter3d": [
           {
            "line": {
             "colorbar": {
              "outlinewidth": 1,
              "tickcolor": "rgb(36,36,36)",
              "ticks": "outside"
             }
            },
            "marker": {
             "colorbar": {
              "outlinewidth": 1,
              "tickcolor": "rgb(36,36,36)",
              "ticks": "outside"
             }
            },
            "type": "scatter3d"
           }
          ],
          "scattercarpet": [
           {
            "marker": {
             "colorbar": {
              "outlinewidth": 1,
              "tickcolor": "rgb(36,36,36)",
              "ticks": "outside"
             }
            },
            "type": "scattercarpet"
           }
          ],
          "scattergeo": [
           {
            "marker": {
             "colorbar": {
              "outlinewidth": 1,
              "tickcolor": "rgb(36,36,36)",
              "ticks": "outside"
             }
            },
            "type": "scattergeo"
           }
          ],
          "scattergl": [
           {
            "marker": {
             "colorbar": {
              "outlinewidth": 1,
              "tickcolor": "rgb(36,36,36)",
              "ticks": "outside"
             }
            },
            "type": "scattergl"
           }
          ],
          "scattermapbox": [
           {
            "marker": {
             "colorbar": {
              "outlinewidth": 1,
              "tickcolor": "rgb(36,36,36)",
              "ticks": "outside"
             }
            },
            "type": "scattermapbox"
           }
          ],
          "scatterpolar": [
           {
            "marker": {
             "colorbar": {
              "outlinewidth": 1,
              "tickcolor": "rgb(36,36,36)",
              "ticks": "outside"
             }
            },
            "type": "scatterpolar"
           }
          ],
          "scatterpolargl": [
           {
            "marker": {
             "colorbar": {
              "outlinewidth": 1,
              "tickcolor": "rgb(36,36,36)",
              "ticks": "outside"
             }
            },
            "type": "scatterpolargl"
           }
          ],
          "scatterternary": [
           {
            "marker": {
             "colorbar": {
              "outlinewidth": 1,
              "tickcolor": "rgb(36,36,36)",
              "ticks": "outside"
             }
            },
            "type": "scatterternary"
           }
          ],
          "surface": [
           {
            "colorbar": {
             "outlinewidth": 1,
             "tickcolor": "rgb(36,36,36)",
             "ticks": "outside"
            },
            "colorscale": [
             [
              0,
              "#440154"
             ],
             [
              0.1111111111111111,
              "#482878"
             ],
             [
              0.2222222222222222,
              "#3e4989"
             ],
             [
              0.3333333333333333,
              "#31688e"
             ],
             [
              0.4444444444444444,
              "#26828e"
             ],
             [
              0.5555555555555556,
              "#1f9e89"
             ],
             [
              0.6666666666666666,
              "#35b779"
             ],
             [
              0.7777777777777778,
              "#6ece58"
             ],
             [
              0.8888888888888888,
              "#b5de2b"
             ],
             [
              1,
              "#fde725"
             ]
            ],
            "type": "surface"
           }
          ],
          "table": [
           {
            "cells": {
             "fill": {
              "color": "rgb(237,237,237)"
             },
             "line": {
              "color": "white"
             }
            },
            "header": {
             "fill": {
              "color": "rgb(217,217,217)"
             },
             "line": {
              "color": "white"
             }
            },
            "type": "table"
           }
          ]
         },
         "layout": {
          "annotationdefaults": {
           "arrowhead": 0,
           "arrowwidth": 1
          },
          "autotypenumbers": "strict",
          "coloraxis": {
           "colorbar": {
            "outlinewidth": 1,
            "tickcolor": "rgb(36,36,36)",
            "ticks": "outside"
           }
          },
          "colorscale": {
           "diverging": [
            [
             0,
             "rgb(103,0,31)"
            ],
            [
             0.1,
             "rgb(178,24,43)"
            ],
            [
             0.2,
             "rgb(214,96,77)"
            ],
            [
             0.3,
             "rgb(244,165,130)"
            ],
            [
             0.4,
             "rgb(253,219,199)"
            ],
            [
             0.5,
             "rgb(247,247,247)"
            ],
            [
             0.6,
             "rgb(209,229,240)"
            ],
            [
             0.7,
             "rgb(146,197,222)"
            ],
            [
             0.8,
             "rgb(67,147,195)"
            ],
            [
             0.9,
             "rgb(33,102,172)"
            ],
            [
             1,
             "rgb(5,48,97)"
            ]
           ],
           "sequential": [
            [
             0,
             "#440154"
            ],
            [
             0.1111111111111111,
             "#482878"
            ],
            [
             0.2222222222222222,
             "#3e4989"
            ],
            [
             0.3333333333333333,
             "#31688e"
            ],
            [
             0.4444444444444444,
             "#26828e"
            ],
            [
             0.5555555555555556,
             "#1f9e89"
            ],
            [
             0.6666666666666666,
             "#35b779"
            ],
            [
             0.7777777777777778,
             "#6ece58"
            ],
            [
             0.8888888888888888,
             "#b5de2b"
            ],
            [
             1,
             "#fde725"
            ]
           ],
           "sequentialminus": [
            [
             0,
             "#440154"
            ],
            [
             0.1111111111111111,
             "#482878"
            ],
            [
             0.2222222222222222,
             "#3e4989"
            ],
            [
             0.3333333333333333,
             "#31688e"
            ],
            [
             0.4444444444444444,
             "#26828e"
            ],
            [
             0.5555555555555556,
             "#1f9e89"
            ],
            [
             0.6666666666666666,
             "#35b779"
            ],
            [
             0.7777777777777778,
             "#6ece58"
            ],
            [
             0.8888888888888888,
             "#b5de2b"
            ],
            [
             1,
             "#fde725"
            ]
           ]
          },
          "colorway": [
           "#1F77B4",
           "#FF7F0E",
           "#2CA02C",
           "#D62728",
           "#9467BD",
           "#8C564B",
           "#E377C2",
           "#7F7F7F",
           "#BCBD22",
           "#17BECF"
          ],
          "font": {
           "color": "rgb(36,36,36)"
          },
          "geo": {
           "bgcolor": "white",
           "lakecolor": "white",
           "landcolor": "white",
           "showlakes": true,
           "showland": true,
           "subunitcolor": "white"
          },
          "hoverlabel": {
           "align": "left"
          },
          "hovermode": "closest",
          "mapbox": {
           "style": "light"
          },
          "paper_bgcolor": "white",
          "plot_bgcolor": "white",
          "polar": {
           "angularaxis": {
            "gridcolor": "rgb(232,232,232)",
            "linecolor": "rgb(36,36,36)",
            "showgrid": false,
            "showline": true,
            "ticks": "outside"
           },
           "bgcolor": "white",
           "radialaxis": {
            "gridcolor": "rgb(232,232,232)",
            "linecolor": "rgb(36,36,36)",
            "showgrid": false,
            "showline": true,
            "ticks": "outside"
           }
          },
          "scene": {
           "xaxis": {
            "backgroundcolor": "white",
            "gridcolor": "rgb(232,232,232)",
            "gridwidth": 2,
            "linecolor": "rgb(36,36,36)",
            "showbackground": true,
            "showgrid": false,
            "showline": true,
            "ticks": "outside",
            "zeroline": false,
            "zerolinecolor": "rgb(36,36,36)"
           },
           "yaxis": {
            "backgroundcolor": "white",
            "gridcolor": "rgb(232,232,232)",
            "gridwidth": 2,
            "linecolor": "rgb(36,36,36)",
            "showbackground": true,
            "showgrid": false,
            "showline": true,
            "ticks": "outside",
            "zeroline": false,
            "zerolinecolor": "rgb(36,36,36)"
           },
           "zaxis": {
            "backgroundcolor": "white",
            "gridcolor": "rgb(232,232,232)",
            "gridwidth": 2,
            "linecolor": "rgb(36,36,36)",
            "showbackground": true,
            "showgrid": false,
            "showline": true,
            "ticks": "outside",
            "zeroline": false,
            "zerolinecolor": "rgb(36,36,36)"
           }
          },
          "shapedefaults": {
           "fillcolor": "black",
           "line": {
            "width": 0
           },
           "opacity": 0.3
          },
          "ternary": {
           "aaxis": {
            "gridcolor": "rgb(232,232,232)",
            "linecolor": "rgb(36,36,36)",
            "showgrid": false,
            "showline": true,
            "ticks": "outside"
           },
           "baxis": {
            "gridcolor": "rgb(232,232,232)",
            "linecolor": "rgb(36,36,36)",
            "showgrid": false,
            "showline": true,
            "ticks": "outside"
           },
           "bgcolor": "white",
           "caxis": {
            "gridcolor": "rgb(232,232,232)",
            "linecolor": "rgb(36,36,36)",
            "showgrid": false,
            "showline": true,
            "ticks": "outside"
           }
          },
          "title": {
           "x": 0.05
          },
          "xaxis": {
           "automargin": true,
           "gridcolor": "rgb(232,232,232)",
           "linecolor": "rgb(36,36,36)",
           "showgrid": false,
           "showline": true,
           "ticks": "outside",
           "title": {
            "standoff": 15
           },
           "zeroline": false,
           "zerolinecolor": "rgb(36,36,36)"
          },
          "yaxis": {
           "automargin": true,
           "gridcolor": "rgb(232,232,232)",
           "linecolor": "rgb(36,36,36)",
           "showgrid": false,
           "showline": true,
           "ticks": "outside",
           "title": {
            "standoff": 15
           },
           "zeroline": false,
           "zerolinecolor": "rgb(36,36,36)"
          }
         }
        },
        "title": {
         "text": "Feed = 5g/L",
         "x": 0.5,
         "y": 0.7
        },
        "xaxis": {
         "mirror": true,
         "range": [
          0,
          60
         ],
         "title": {
          "text": "Voltage (V)"
         }
        },
        "yaxis": {
         "mirror": true,
         "range": [
          0,
          5
         ],
         "title": {
          "text": "Product salinity (g/L)"
         }
        }
       }
      },
      "text/html": [
       "<div>                            <div id=\"9184a20f-a597-4d02-aec1-c0945bd60c7a\" class=\"plotly-graph-div\" style=\"height:400px; width:100%;\"></div>            <script type=\"text/javascript\">                require([\"plotly\"], function(Plotly) {                    window.PLOTLYENV=window.PLOTLYENV || {};                                    if (document.getElementById(\"9184a20f-a597-4d02-aec1-c0945bd60c7a\")) {                    Plotly.newPlot(                        \"9184a20f-a597-4d02-aec1-c0945bd60c7a\",                        [{\"connectgaps\":true,\"line\":{\"color\":\"black\",\"shape\":\"spline\",\"width\":2},\"mode\":\"lines\",\"name\":\"WR=0.5\",\"x\":[2,4,6,8,10,12,14,16,18,20,22,24,26,28,30,32,34,36,38,40,42,44,46,48,50,52,54,56,58,60,62,64,66,68,70,72,74,76,78,80,82,84,86,88,90,92,94,96,98,100,2,4,6,8,10,12,14,16,18,20,22,24,26,28,30,32,34,36,38,40,42,44,46,48,50,52,54,56,58,60,62,64,66,68,70,72,74,76,78,80,82,84,86,88,90,92,94,96,98,100,2,4,6,8,10,12,14,16,18,20,22,24,26,28,30,32,34,36,38,40,42,44,46,48,50,52,54,56,58,60,62,64,66,68,70,72,74,76,78,80,82,84,86,88,90,92,94,96,98,100],\"y\":[4.529689294,4.074681063,null,3.235331529,2.860153057,2.518416485,2.211228781,1.938456318,1.69892398,1.490655714,1.311127026,1.157502648,1.026839841,0.916246934,0.822995158,null,0.678795955,0.6236649,0.577507249,0.538881832,0.506568283,0.479539453,0.456934289,0.438032638,0.422232732,0.409031624,null,null,null,null,0.369443,0.365028053,0.36136131,0.35831986,0.355799465,0.353712706,0.351986379,0.350559274,0.349380299,0.348406873,0.347603566,0.346940935,0.34639455,0.345944161,0.345573004,0.34526721,0.345015317,null,null,null],\"type\":\"scatter\"},{\"connectgaps\":true,\"line\":{\"color\":\"red\",\"shape\":\"spline\",\"width\":2},\"mode\":\"lines\",\"name\":\"WR=0.7\",\"x\":[2,4,6,8,10,12,14,16,18,20,22,24,26,28,30,32,34,36,38,40,42,44,46,48,50,52,54,56,58,60,62,64,66,68,70,72,74,76,78,80,82,84,86,88,90,92,94,96,98,100,2,4,6,8,10,12,14,16,18,20,22,24,26,28,30,32,34,36,38,40,42,44,46,48,50,52,54,56,58,60,62,64,66,68,70,72,74,76,78,80,82,84,86,88,90,92,94,96,98,100,2,4,6,8,10,12,14,16,18,20,22,24,26,28,30,32,34,36,38,40,42,44,46,48,50,52,54,56,58,60,62,64,66,68,70,72,74,76,78,80,82,84,86,88,90,92,94,96,98,100],\"y\":[4.696526192,4.382966597,4.065377715,3.749610389,3.440957765,3.14392345,2.862100381,2.598139788,2.353787577,2.129967757,1.926895492,1.744205327,1.581082814,1.436390252,1.308779869,null,1.098924197,1.013708051,0.939734018,0.875687776,null,0.772673422,0.731641172,0.696403162,0.666197593,0.640355781,0.618292308,0.599495391,0.583517889,0.569969224,null,null,null,null,null,null,null,null,null,0.55,null,null,null,null,null,null,null,null,null,null],\"type\":\"scatter\"},{\"connectgaps\":true,\"line\":{\"color\":\"blue\",\"shape\":\"spline\",\"width\":2},\"mode\":\"lines\",\"name\":\"WR=0.9\",\"x\":[2,4,6,8,10,12,14,16,18,20,22,24,26,28,30,32,34,36,38,40,42,44,46,48,50,52,54,56,58,60,62,64,66,68,70,72,74,76,78,80,82,84,86,88,90,92,94,96,98,100,2,4,6,8,10,12,14,16,18,20,22,24,26,28,30,32,34,36,38,40,42,44,46,48,50,52,54,56,58,60,62,64,66,68,70,72,74,76,78,80,82,84,86,88,90,92,94,96,98,100,2,4,6,8,10,12,14,16,18,20,22,24,26,28,30,32,34,36,38,40,42,44,46,48,50,52,54,56,58,60,62,64,66,68,70,72,74,76,78,80,82,84,86,88,90,92,94,96,98,100],\"y\":[4.861580974,4.702281778,4.524710216,4.332547984,4.130025206,3.921446584,3.710847012,3.501785394,3.297249791,3.099638703,2.910788392,2.732024948,2.5642275,2.407894492,2.263208421,2.130096528,2.008286053,1.897353387,1.796766831,1.705922949,1.624176724,1.550865862,1.485329744,1.426923576,1.375028391,1.329057515,1.288460192,1.252722953,1.221369346,1.193958552,1.170083303,1.149368071,1.131466067,1.116058208,1.102851172,1.091576309,1.081988732,1.073866547,1.067010085,1.06124105,1.056401491,1.052352596,1.048973319,1.046158879,1.043819186,1.04187726,1.040267683,1.038935132,1.037833019,1.036922257],\"type\":\"scatter\"}],                        {\"height\":400,\"legend\":{\"font\":{\"color\":\"black\",\"family\":\"sans-serif\",\"size\":12},\"traceorder\":\"normal\",\"x\":0.8,\"y\":1},\"template\":{\"data\":{\"barpolar\":[{\"marker\":{\"line\":{\"color\":\"white\",\"width\":0.5},\"pattern\":{\"fillmode\":\"overlay\",\"size\":10,\"solidity\":0.2}},\"type\":\"barpolar\"}],\"bar\":[{\"error_x\":{\"color\":\"rgb(36,36,36)\"},\"error_y\":{\"color\":\"rgb(36,36,36)\"},\"marker\":{\"line\":{\"color\":\"white\",\"width\":0.5},\"pattern\":{\"fillmode\":\"overlay\",\"size\":10,\"solidity\":0.2}},\"type\":\"bar\"}],\"carpet\":[{\"aaxis\":{\"endlinecolor\":\"rgb(36,36,36)\",\"gridcolor\":\"white\",\"linecolor\":\"white\",\"minorgridcolor\":\"white\",\"startlinecolor\":\"rgb(36,36,36)\"},\"baxis\":{\"endlinecolor\":\"rgb(36,36,36)\",\"gridcolor\":\"white\",\"linecolor\":\"white\",\"minorgridcolor\":\"white\",\"startlinecolor\":\"rgb(36,36,36)\"},\"type\":\"carpet\"}],\"choropleth\":[{\"colorbar\":{\"outlinewidth\":1,\"tickcolor\":\"rgb(36,36,36)\",\"ticks\":\"outside\"},\"type\":\"choropleth\"}],\"contourcarpet\":[{\"colorbar\":{\"outlinewidth\":1,\"tickcolor\":\"rgb(36,36,36)\",\"ticks\":\"outside\"},\"type\":\"contourcarpet\"}],\"contour\":[{\"colorbar\":{\"outlinewidth\":1,\"tickcolor\":\"rgb(36,36,36)\",\"ticks\":\"outside\"},\"colorscale\":[[0.0,\"#440154\"],[0.1111111111111111,\"#482878\"],[0.2222222222222222,\"#3e4989\"],[0.3333333333333333,\"#31688e\"],[0.4444444444444444,\"#26828e\"],[0.5555555555555556,\"#1f9e89\"],[0.6666666666666666,\"#35b779\"],[0.7777777777777778,\"#6ece58\"],[0.8888888888888888,\"#b5de2b\"],[1.0,\"#fde725\"]],\"type\":\"contour\"}],\"heatmapgl\":[{\"colorbar\":{\"outlinewidth\":1,\"tickcolor\":\"rgb(36,36,36)\",\"ticks\":\"outside\"},\"colorscale\":[[0.0,\"#440154\"],[0.1111111111111111,\"#482878\"],[0.2222222222222222,\"#3e4989\"],[0.3333333333333333,\"#31688e\"],[0.4444444444444444,\"#26828e\"],[0.5555555555555556,\"#1f9e89\"],[0.6666666666666666,\"#35b779\"],[0.7777777777777778,\"#6ece58\"],[0.8888888888888888,\"#b5de2b\"],[1.0,\"#fde725\"]],\"type\":\"heatmapgl\"}],\"heatmap\":[{\"colorbar\":{\"outlinewidth\":1,\"tickcolor\":\"rgb(36,36,36)\",\"ticks\":\"outside\"},\"colorscale\":[[0.0,\"#440154\"],[0.1111111111111111,\"#482878\"],[0.2222222222222222,\"#3e4989\"],[0.3333333333333333,\"#31688e\"],[0.4444444444444444,\"#26828e\"],[0.5555555555555556,\"#1f9e89\"],[0.6666666666666666,\"#35b779\"],[0.7777777777777778,\"#6ece58\"],[0.8888888888888888,\"#b5de2b\"],[1.0,\"#fde725\"]],\"type\":\"heatmap\"}],\"histogram2dcontour\":[{\"colorbar\":{\"outlinewidth\":1,\"tickcolor\":\"rgb(36,36,36)\",\"ticks\":\"outside\"},\"colorscale\":[[0.0,\"#440154\"],[0.1111111111111111,\"#482878\"],[0.2222222222222222,\"#3e4989\"],[0.3333333333333333,\"#31688e\"],[0.4444444444444444,\"#26828e\"],[0.5555555555555556,\"#1f9e89\"],[0.6666666666666666,\"#35b779\"],[0.7777777777777778,\"#6ece58\"],[0.8888888888888888,\"#b5de2b\"],[1.0,\"#fde725\"]],\"type\":\"histogram2dcontour\"}],\"histogram2d\":[{\"colorbar\":{\"outlinewidth\":1,\"tickcolor\":\"rgb(36,36,36)\",\"ticks\":\"outside\"},\"colorscale\":[[0.0,\"#440154\"],[0.1111111111111111,\"#482878\"],[0.2222222222222222,\"#3e4989\"],[0.3333333333333333,\"#31688e\"],[0.4444444444444444,\"#26828e\"],[0.5555555555555556,\"#1f9e89\"],[0.6666666666666666,\"#35b779\"],[0.7777777777777778,\"#6ece58\"],[0.8888888888888888,\"#b5de2b\"],[1.0,\"#fde725\"]],\"type\":\"histogram2d\"}],\"histogram\":[{\"marker\":{\"line\":{\"color\":\"white\",\"width\":0.6}},\"type\":\"histogram\"}],\"mesh3d\":[{\"colorbar\":{\"outlinewidth\":1,\"tickcolor\":\"rgb(36,36,36)\",\"ticks\":\"outside\"},\"type\":\"mesh3d\"}],\"parcoords\":[{\"line\":{\"colorbar\":{\"outlinewidth\":1,\"tickcolor\":\"rgb(36,36,36)\",\"ticks\":\"outside\"}},\"type\":\"parcoords\"}],\"pie\":[{\"automargin\":true,\"type\":\"pie\"}],\"scatter3d\":[{\"line\":{\"colorbar\":{\"outlinewidth\":1,\"tickcolor\":\"rgb(36,36,36)\",\"ticks\":\"outside\"}},\"marker\":{\"colorbar\":{\"outlinewidth\":1,\"tickcolor\":\"rgb(36,36,36)\",\"ticks\":\"outside\"}},\"type\":\"scatter3d\"}],\"scattercarpet\":[{\"marker\":{\"colorbar\":{\"outlinewidth\":1,\"tickcolor\":\"rgb(36,36,36)\",\"ticks\":\"outside\"}},\"type\":\"scattercarpet\"}],\"scattergeo\":[{\"marker\":{\"colorbar\":{\"outlinewidth\":1,\"tickcolor\":\"rgb(36,36,36)\",\"ticks\":\"outside\"}},\"type\":\"scattergeo\"}],\"scattergl\":[{\"marker\":{\"colorbar\":{\"outlinewidth\":1,\"tickcolor\":\"rgb(36,36,36)\",\"ticks\":\"outside\"}},\"type\":\"scattergl\"}],\"scattermapbox\":[{\"marker\":{\"colorbar\":{\"outlinewidth\":1,\"tickcolor\":\"rgb(36,36,36)\",\"ticks\":\"outside\"}},\"type\":\"scattermapbox\"}],\"scatterpolargl\":[{\"marker\":{\"colorbar\":{\"outlinewidth\":1,\"tickcolor\":\"rgb(36,36,36)\",\"ticks\":\"outside\"}},\"type\":\"scatterpolargl\"}],\"scatterpolar\":[{\"marker\":{\"colorbar\":{\"outlinewidth\":1,\"tickcolor\":\"rgb(36,36,36)\",\"ticks\":\"outside\"}},\"type\":\"scatterpolar\"}],\"scatter\":[{\"fillpattern\":{\"fillmode\":\"overlay\",\"size\":10,\"solidity\":0.2},\"type\":\"scatter\"}],\"scatterternary\":[{\"marker\":{\"colorbar\":{\"outlinewidth\":1,\"tickcolor\":\"rgb(36,36,36)\",\"ticks\":\"outside\"}},\"type\":\"scatterternary\"}],\"surface\":[{\"colorbar\":{\"outlinewidth\":1,\"tickcolor\":\"rgb(36,36,36)\",\"ticks\":\"outside\"},\"colorscale\":[[0.0,\"#440154\"],[0.1111111111111111,\"#482878\"],[0.2222222222222222,\"#3e4989\"],[0.3333333333333333,\"#31688e\"],[0.4444444444444444,\"#26828e\"],[0.5555555555555556,\"#1f9e89\"],[0.6666666666666666,\"#35b779\"],[0.7777777777777778,\"#6ece58\"],[0.8888888888888888,\"#b5de2b\"],[1.0,\"#fde725\"]],\"type\":\"surface\"}],\"table\":[{\"cells\":{\"fill\":{\"color\":\"rgb(237,237,237)\"},\"line\":{\"color\":\"white\"}},\"header\":{\"fill\":{\"color\":\"rgb(217,217,217)\"},\"line\":{\"color\":\"white\"}},\"type\":\"table\"}]},\"layout\":{\"annotationdefaults\":{\"arrowhead\":0,\"arrowwidth\":1},\"autotypenumbers\":\"strict\",\"coloraxis\":{\"colorbar\":{\"outlinewidth\":1,\"tickcolor\":\"rgb(36,36,36)\",\"ticks\":\"outside\"}},\"colorscale\":{\"diverging\":[[0.0,\"rgb(103,0,31)\"],[0.1,\"rgb(178,24,43)\"],[0.2,\"rgb(214,96,77)\"],[0.3,\"rgb(244,165,130)\"],[0.4,\"rgb(253,219,199)\"],[0.5,\"rgb(247,247,247)\"],[0.6,\"rgb(209,229,240)\"],[0.7,\"rgb(146,197,222)\"],[0.8,\"rgb(67,147,195)\"],[0.9,\"rgb(33,102,172)\"],[1.0,\"rgb(5,48,97)\"]],\"sequential\":[[0.0,\"#440154\"],[0.1111111111111111,\"#482878\"],[0.2222222222222222,\"#3e4989\"],[0.3333333333333333,\"#31688e\"],[0.4444444444444444,\"#26828e\"],[0.5555555555555556,\"#1f9e89\"],[0.6666666666666666,\"#35b779\"],[0.7777777777777778,\"#6ece58\"],[0.8888888888888888,\"#b5de2b\"],[1.0,\"#fde725\"]],\"sequentialminus\":[[0.0,\"#440154\"],[0.1111111111111111,\"#482878\"],[0.2222222222222222,\"#3e4989\"],[0.3333333333333333,\"#31688e\"],[0.4444444444444444,\"#26828e\"],[0.5555555555555556,\"#1f9e89\"],[0.6666666666666666,\"#35b779\"],[0.7777777777777778,\"#6ece58\"],[0.8888888888888888,\"#b5de2b\"],[1.0,\"#fde725\"]]},\"colorway\":[\"#1F77B4\",\"#FF7F0E\",\"#2CA02C\",\"#D62728\",\"#9467BD\",\"#8C564B\",\"#E377C2\",\"#7F7F7F\",\"#BCBD22\",\"#17BECF\"],\"font\":{\"color\":\"rgb(36,36,36)\"},\"geo\":{\"bgcolor\":\"white\",\"lakecolor\":\"white\",\"landcolor\":\"white\",\"showlakes\":true,\"showland\":true,\"subunitcolor\":\"white\"},\"hoverlabel\":{\"align\":\"left\"},\"hovermode\":\"closest\",\"mapbox\":{\"style\":\"light\"},\"paper_bgcolor\":\"white\",\"plot_bgcolor\":\"white\",\"polar\":{\"angularaxis\":{\"gridcolor\":\"rgb(232,232,232)\",\"linecolor\":\"rgb(36,36,36)\",\"showgrid\":false,\"showline\":true,\"ticks\":\"outside\"},\"bgcolor\":\"white\",\"radialaxis\":{\"gridcolor\":\"rgb(232,232,232)\",\"linecolor\":\"rgb(36,36,36)\",\"showgrid\":false,\"showline\":true,\"ticks\":\"outside\"}},\"scene\":{\"xaxis\":{\"backgroundcolor\":\"white\",\"gridcolor\":\"rgb(232,232,232)\",\"gridwidth\":2,\"linecolor\":\"rgb(36,36,36)\",\"showbackground\":true,\"showgrid\":false,\"showline\":true,\"ticks\":\"outside\",\"zeroline\":false,\"zerolinecolor\":\"rgb(36,36,36)\"},\"yaxis\":{\"backgroundcolor\":\"white\",\"gridcolor\":\"rgb(232,232,232)\",\"gridwidth\":2,\"linecolor\":\"rgb(36,36,36)\",\"showbackground\":true,\"showgrid\":false,\"showline\":true,\"ticks\":\"outside\",\"zeroline\":false,\"zerolinecolor\":\"rgb(36,36,36)\"},\"zaxis\":{\"backgroundcolor\":\"white\",\"gridcolor\":\"rgb(232,232,232)\",\"gridwidth\":2,\"linecolor\":\"rgb(36,36,36)\",\"showbackground\":true,\"showgrid\":false,\"showline\":true,\"ticks\":\"outside\",\"zeroline\":false,\"zerolinecolor\":\"rgb(36,36,36)\"}},\"shapedefaults\":{\"fillcolor\":\"black\",\"line\":{\"width\":0},\"opacity\":0.3},\"ternary\":{\"aaxis\":{\"gridcolor\":\"rgb(232,232,232)\",\"linecolor\":\"rgb(36,36,36)\",\"showgrid\":false,\"showline\":true,\"ticks\":\"outside\"},\"baxis\":{\"gridcolor\":\"rgb(232,232,232)\",\"linecolor\":\"rgb(36,36,36)\",\"showgrid\":false,\"showline\":true,\"ticks\":\"outside\"},\"bgcolor\":\"white\",\"caxis\":{\"gridcolor\":\"rgb(232,232,232)\",\"linecolor\":\"rgb(36,36,36)\",\"showgrid\":false,\"showline\":true,\"ticks\":\"outside\"}},\"title\":{\"x\":0.05},\"xaxis\":{\"automargin\":true,\"gridcolor\":\"rgb(232,232,232)\",\"linecolor\":\"rgb(36,36,36)\",\"showgrid\":false,\"showline\":true,\"ticks\":\"outside\",\"title\":{\"standoff\":15},\"zeroline\":false,\"zerolinecolor\":\"rgb(36,36,36)\"},\"yaxis\":{\"automargin\":true,\"gridcolor\":\"rgb(232,232,232)\",\"linecolor\":\"rgb(36,36,36)\",\"showgrid\":false,\"showline\":true,\"ticks\":\"outside\",\"title\":{\"standoff\":15},\"zeroline\":false,\"zerolinecolor\":\"rgb(36,36,36)\"}}},\"xaxis\":{\"mirror\":true,\"range\":[0,60],\"title\":{\"text\":\"Voltage (V)\"}},\"yaxis\":{\"mirror\":true,\"range\":[0,5],\"title\":{\"text\":\"Product salinity (g/L)\"}},\"title\":{\"text\":\"Feed = 5g/L\",\"x\":0.5,\"y\":0.7}},                        {\"responsive\": true}                    ).then(function(){\n",
       "                            \n",
       "var gd = document.getElementById('9184a20f-a597-4d02-aec1-c0945bd60c7a');\n",
       "var x = new MutationObserver(function (mutations, observer) {{\n",
       "        var display = window.getComputedStyle(gd).display;\n",
       "        if (!display || display === 'none') {{\n",
       "            console.log([gd, 'removed!']);\n",
       "            Plotly.purge(gd);\n",
       "            observer.disconnect();\n",
       "        }}\n",
       "}});\n",
       "\n",
       "// Listen for the removal of the full notebook cells\n",
       "var notebookContainer = gd.closest('#notebook-container');\n",
       "if (notebookContainer) {{\n",
       "    x.observe(notebookContainer, {childList: true});\n",
       "}}\n",
       "\n",
       "// Listen for the clearing of the current output cell\n",
       "var outputEl = gd.closest('.output');\n",
       "if (outputEl) {{\n",
       "    x.observe(outputEl, {childList: true});\n",
       "}}\n",
       "\n",
       "                        })                };                });            </script>        </div>"
      ]
     },
     "metadata": {},
     "output_type": "display_data"
    },
    {
     "data": {
      "application/vnd.plotly.v1+json": {
       "config": {
        "plotlyServerURL": "https://plot.ly"
       },
       "data": [
        {
         "connectgaps": true,
         "line": {
          "color": "black",
          "shape": "spline",
          "width": 2
         },
         "mode": "lines",
         "name": "WR=0.5",
         "type": "scatter",
         "x": [
          2,
          4,
          6,
          8,
          10,
          12,
          14,
          16,
          18,
          20,
          22,
          24,
          26,
          28,
          30,
          32,
          34,
          36,
          38,
          40,
          42,
          44,
          46,
          48,
          50,
          52,
          54,
          56,
          58,
          60,
          62,
          64,
          66,
          68,
          70,
          72,
          74,
          76,
          78,
          80,
          82,
          84,
          86,
          88,
          90,
          92,
          94,
          96,
          98,
          100,
          2,
          4,
          6,
          8,
          10,
          12,
          14,
          16,
          18,
          20,
          22,
          24,
          26,
          28,
          30,
          32,
          34,
          36,
          38,
          40,
          42,
          44,
          46,
          48,
          50,
          52,
          54,
          56,
          58,
          60,
          62,
          64,
          66,
          68,
          70,
          72,
          74,
          76,
          78,
          80,
          82,
          84,
          86,
          88,
          90,
          92,
          94,
          96,
          98,
          100,
          2,
          4,
          6,
          8,
          10,
          12,
          14,
          16,
          18,
          20,
          22,
          24,
          26,
          28,
          30,
          32,
          34,
          36,
          38,
          40,
          42,
          44,
          46,
          48,
          50,
          52,
          54,
          56,
          58,
          60,
          62,
          64,
          66,
          68,
          70,
          72,
          74,
          76,
          78,
          80,
          82,
          84,
          86,
          88,
          90,
          92,
          94,
          96,
          98,
          100
         ],
         "y": [
          13.90619875,
          12.83327876,
          11.78856873,
          10.77901695,
          9.811113366,
          8.890776556,
          8.023211965,
          7.212752924,
          6.462701502,
          5.775190836,
          5.151092473,
          4.58998973,
          4.090230327,
          3.649059427,
          3.262820596,
          2.927200893,
          2.637490587,
          2.388829081,
          2.17641525,
          1.995669853,
          1.842346982,
          1.712598625,
          1.603000634,
          1.510549907,
          1.432642191,
          1.367038461,
          1.311825973,
          1.265378247,
          1.226316738,
          1.193475693,
          1.165870869,
          1.142672239,
          1.123180443,
          1.106806643,
          1.09305534,
          1.081509771,
          1.071819488,
          1.063689845,
          1.056873078,
          1.051160788,
          1.046377597,
          1.042375827,
          1.039031042,
          1.03623832,
          1.03390915,
          1.031968843,
          1.030354376,
          1.029012591,
          1.027898688,
          1.026974952
         ]
        },
        {
         "connectgaps": true,
         "line": {
          "color": "red",
          "shape": "spline",
          "width": 2
         },
         "mode": "lines",
         "name": "WR=0.7",
         "type": "scatter",
         "x": [
          2,
          4,
          6,
          8,
          10,
          12,
          14,
          16,
          18,
          20,
          22,
          24,
          26,
          28,
          30,
          32,
          34,
          36,
          38,
          40,
          42,
          44,
          46,
          48,
          50,
          52,
          54,
          56,
          58,
          60,
          62,
          64,
          66,
          68,
          70,
          72,
          74,
          76,
          78,
          80,
          82,
          84,
          86,
          88,
          90,
          92,
          94,
          96,
          98,
          100,
          2,
          4,
          6,
          8,
          10,
          12,
          14,
          16,
          18,
          20,
          22,
          24,
          26,
          28,
          30,
          32,
          34,
          36,
          38,
          40,
          42,
          44,
          46,
          48,
          50,
          52,
          54,
          56,
          58,
          60,
          62,
          64,
          66,
          68,
          70,
          72,
          74,
          76,
          78,
          80,
          82,
          84,
          86,
          88,
          90,
          92,
          94,
          96,
          98,
          100,
          2,
          4,
          6,
          8,
          10,
          12,
          14,
          16,
          18,
          20,
          22,
          24,
          26,
          28,
          30,
          32,
          34,
          36,
          38,
          40,
          42,
          44,
          46,
          48,
          50,
          52,
          54,
          56,
          58,
          60,
          62,
          64,
          66,
          68,
          70,
          72,
          74,
          76,
          78,
          80,
          82,
          84,
          86,
          88,
          90,
          92,
          94,
          96,
          98,
          100
         ],
         "y": [
          14.2895598,
          13.5635043,
          12.82873299,
          12.09186647,
          11.35913968,
          10.63633303,
          9.928728846,
          9.241083046,
          8.577604191,
          7.941935742,
          7.337139794,
          6.765682503,
          6.229423653,
          5.729613538,
          5.266900464,
          4.841352296,
          4.452493625,
          4.099359181,
          3.780561299,
          3.494368108,
          3.23878749,
          3.011651429,
          2.810695663,
          2.63363051,
          2.478200127,
          2.342228951,
          2.223655435,
          2.120554136,
          2.031148039,
          1.953813081,
          1.887076922,
          1.829613849,
          1.780237161,
          1.737890189,
          1.701636643,
          1.670650753,
          1.64420747,
          1.621672887,
          1.602494983,
          1.586194787,
          1.572358033,
          1.560627383,
          1.550695272,
          1.542297417,
          1.535207,
          1.529229517,
          1.52419827,
          null,
          null,
          null
         ]
        },
        {
         "connectgaps": true,
         "line": {
          "color": "blue",
          "shape": "spline",
          "width": 2
         },
         "mode": "lines",
         "name": "WR=0.9",
         "type": "scatter",
         "x": [
          2,
          4,
          6,
          8,
          10,
          12,
          14,
          16,
          18,
          20,
          22,
          24,
          26,
          28,
          30,
          32,
          34,
          36,
          38,
          40,
          42,
          44,
          46,
          48,
          50,
          52,
          54,
          56,
          58,
          60,
          62,
          64,
          66,
          68,
          70,
          72,
          74,
          76,
          78,
          80,
          82,
          84,
          86,
          88,
          90,
          92,
          94,
          96,
          98,
          100,
          2,
          4,
          6,
          8,
          10,
          12,
          14,
          16,
          18,
          20,
          22,
          24,
          26,
          28,
          30,
          32,
          34,
          36,
          38,
          40,
          42,
          44,
          46,
          48,
          50,
          52,
          54,
          56,
          58,
          60,
          62,
          64,
          66,
          68,
          70,
          72,
          74,
          76,
          78,
          80,
          82,
          84,
          86,
          88,
          90,
          92,
          94,
          96,
          98,
          100,
          2,
          4,
          6,
          8,
          10,
          12,
          14,
          16,
          18,
          20,
          22,
          24,
          26,
          28,
          30,
          32,
          34,
          36,
          38,
          40,
          42,
          44,
          46,
          48,
          50,
          52,
          54,
          56,
          58,
          60,
          62,
          64,
          66,
          68,
          70,
          72,
          74,
          76,
          78,
          80,
          82,
          84,
          86,
          88,
          90,
          92,
          94,
          96,
          98,
          100
         ],
         "y": [
          14.65737804,
          14.2788557,
          13.86974094,
          13.43589578,
          12.98322227,
          12.51732719,
          12.04333992,
          11.56583843,
          11.08884175,
          10.61583804,
          10.14982856,
          9.693375797,
          9.248649859,
          8.817470212,
          8.401342023,
          8.001487231,
          7.618871105,
          7.254224935,
          6.908066168,
          6.580716313,
          6.272317745,
          null,
          5.712144668,
          5.459902993,
          null,
          5.009051416,
          4.809328769,
          4.625875186,
          null,
          4.4,
          null,
          null,
          null,
          null,
          null,
          null,
          null,
          null,
          null,
          null,
          null,
          null,
          null,
          null,
          null,
          null,
          null,
          null,
          null,
          null
         ]
        }
       ],
       "layout": {
        "height": 400,
        "legend": {
         "font": {
          "color": "black",
          "family": "sans-serif",
          "size": 12
         },
         "traceorder": "normal",
         "x": 0.8,
         "y": 1
        },
        "template": {
         "data": {
          "bar": [
           {
            "error_x": {
             "color": "rgb(36,36,36)"
            },
            "error_y": {
             "color": "rgb(36,36,36)"
            },
            "marker": {
             "line": {
              "color": "white",
              "width": 0.5
             },
             "pattern": {
              "fillmode": "overlay",
              "size": 10,
              "solidity": 0.2
             }
            },
            "type": "bar"
           }
          ],
          "barpolar": [
           {
            "marker": {
             "line": {
              "color": "white",
              "width": 0.5
             },
             "pattern": {
              "fillmode": "overlay",
              "size": 10,
              "solidity": 0.2
             }
            },
            "type": "barpolar"
           }
          ],
          "carpet": [
           {
            "aaxis": {
             "endlinecolor": "rgb(36,36,36)",
             "gridcolor": "white",
             "linecolor": "white",
             "minorgridcolor": "white",
             "startlinecolor": "rgb(36,36,36)"
            },
            "baxis": {
             "endlinecolor": "rgb(36,36,36)",
             "gridcolor": "white",
             "linecolor": "white",
             "minorgridcolor": "white",
             "startlinecolor": "rgb(36,36,36)"
            },
            "type": "carpet"
           }
          ],
          "choropleth": [
           {
            "colorbar": {
             "outlinewidth": 1,
             "tickcolor": "rgb(36,36,36)",
             "ticks": "outside"
            },
            "type": "choropleth"
           }
          ],
          "contour": [
           {
            "colorbar": {
             "outlinewidth": 1,
             "tickcolor": "rgb(36,36,36)",
             "ticks": "outside"
            },
            "colorscale": [
             [
              0,
              "#440154"
             ],
             [
              0.1111111111111111,
              "#482878"
             ],
             [
              0.2222222222222222,
              "#3e4989"
             ],
             [
              0.3333333333333333,
              "#31688e"
             ],
             [
              0.4444444444444444,
              "#26828e"
             ],
             [
              0.5555555555555556,
              "#1f9e89"
             ],
             [
              0.6666666666666666,
              "#35b779"
             ],
             [
              0.7777777777777778,
              "#6ece58"
             ],
             [
              0.8888888888888888,
              "#b5de2b"
             ],
             [
              1,
              "#fde725"
             ]
            ],
            "type": "contour"
           }
          ],
          "contourcarpet": [
           {
            "colorbar": {
             "outlinewidth": 1,
             "tickcolor": "rgb(36,36,36)",
             "ticks": "outside"
            },
            "type": "contourcarpet"
           }
          ],
          "heatmap": [
           {
            "colorbar": {
             "outlinewidth": 1,
             "tickcolor": "rgb(36,36,36)",
             "ticks": "outside"
            },
            "colorscale": [
             [
              0,
              "#440154"
             ],
             [
              0.1111111111111111,
              "#482878"
             ],
             [
              0.2222222222222222,
              "#3e4989"
             ],
             [
              0.3333333333333333,
              "#31688e"
             ],
             [
              0.4444444444444444,
              "#26828e"
             ],
             [
              0.5555555555555556,
              "#1f9e89"
             ],
             [
              0.6666666666666666,
              "#35b779"
             ],
             [
              0.7777777777777778,
              "#6ece58"
             ],
             [
              0.8888888888888888,
              "#b5de2b"
             ],
             [
              1,
              "#fde725"
             ]
            ],
            "type": "heatmap"
           }
          ],
          "heatmapgl": [
           {
            "colorbar": {
             "outlinewidth": 1,
             "tickcolor": "rgb(36,36,36)",
             "ticks": "outside"
            },
            "colorscale": [
             [
              0,
              "#440154"
             ],
             [
              0.1111111111111111,
              "#482878"
             ],
             [
              0.2222222222222222,
              "#3e4989"
             ],
             [
              0.3333333333333333,
              "#31688e"
             ],
             [
              0.4444444444444444,
              "#26828e"
             ],
             [
              0.5555555555555556,
              "#1f9e89"
             ],
             [
              0.6666666666666666,
              "#35b779"
             ],
             [
              0.7777777777777778,
              "#6ece58"
             ],
             [
              0.8888888888888888,
              "#b5de2b"
             ],
             [
              1,
              "#fde725"
             ]
            ],
            "type": "heatmapgl"
           }
          ],
          "histogram": [
           {
            "marker": {
             "line": {
              "color": "white",
              "width": 0.6
             }
            },
            "type": "histogram"
           }
          ],
          "histogram2d": [
           {
            "colorbar": {
             "outlinewidth": 1,
             "tickcolor": "rgb(36,36,36)",
             "ticks": "outside"
            },
            "colorscale": [
             [
              0,
              "#440154"
             ],
             [
              0.1111111111111111,
              "#482878"
             ],
             [
              0.2222222222222222,
              "#3e4989"
             ],
             [
              0.3333333333333333,
              "#31688e"
             ],
             [
              0.4444444444444444,
              "#26828e"
             ],
             [
              0.5555555555555556,
              "#1f9e89"
             ],
             [
              0.6666666666666666,
              "#35b779"
             ],
             [
              0.7777777777777778,
              "#6ece58"
             ],
             [
              0.8888888888888888,
              "#b5de2b"
             ],
             [
              1,
              "#fde725"
             ]
            ],
            "type": "histogram2d"
           }
          ],
          "histogram2dcontour": [
           {
            "colorbar": {
             "outlinewidth": 1,
             "tickcolor": "rgb(36,36,36)",
             "ticks": "outside"
            },
            "colorscale": [
             [
              0,
              "#440154"
             ],
             [
              0.1111111111111111,
              "#482878"
             ],
             [
              0.2222222222222222,
              "#3e4989"
             ],
             [
              0.3333333333333333,
              "#31688e"
             ],
             [
              0.4444444444444444,
              "#26828e"
             ],
             [
              0.5555555555555556,
              "#1f9e89"
             ],
             [
              0.6666666666666666,
              "#35b779"
             ],
             [
              0.7777777777777778,
              "#6ece58"
             ],
             [
              0.8888888888888888,
              "#b5de2b"
             ],
             [
              1,
              "#fde725"
             ]
            ],
            "type": "histogram2dcontour"
           }
          ],
          "mesh3d": [
           {
            "colorbar": {
             "outlinewidth": 1,
             "tickcolor": "rgb(36,36,36)",
             "ticks": "outside"
            },
            "type": "mesh3d"
           }
          ],
          "parcoords": [
           {
            "line": {
             "colorbar": {
              "outlinewidth": 1,
              "tickcolor": "rgb(36,36,36)",
              "ticks": "outside"
             }
            },
            "type": "parcoords"
           }
          ],
          "pie": [
           {
            "automargin": true,
            "type": "pie"
           }
          ],
          "scatter": [
           {
            "fillpattern": {
             "fillmode": "overlay",
             "size": 10,
             "solidity": 0.2
            },
            "type": "scatter"
           }
          ],
          "scatter3d": [
           {
            "line": {
             "colorbar": {
              "outlinewidth": 1,
              "tickcolor": "rgb(36,36,36)",
              "ticks": "outside"
             }
            },
            "marker": {
             "colorbar": {
              "outlinewidth": 1,
              "tickcolor": "rgb(36,36,36)",
              "ticks": "outside"
             }
            },
            "type": "scatter3d"
           }
          ],
          "scattercarpet": [
           {
            "marker": {
             "colorbar": {
              "outlinewidth": 1,
              "tickcolor": "rgb(36,36,36)",
              "ticks": "outside"
             }
            },
            "type": "scattercarpet"
           }
          ],
          "scattergeo": [
           {
            "marker": {
             "colorbar": {
              "outlinewidth": 1,
              "tickcolor": "rgb(36,36,36)",
              "ticks": "outside"
             }
            },
            "type": "scattergeo"
           }
          ],
          "scattergl": [
           {
            "marker": {
             "colorbar": {
              "outlinewidth": 1,
              "tickcolor": "rgb(36,36,36)",
              "ticks": "outside"
             }
            },
            "type": "scattergl"
           }
          ],
          "scattermapbox": [
           {
            "marker": {
             "colorbar": {
              "outlinewidth": 1,
              "tickcolor": "rgb(36,36,36)",
              "ticks": "outside"
             }
            },
            "type": "scattermapbox"
           }
          ],
          "scatterpolar": [
           {
            "marker": {
             "colorbar": {
              "outlinewidth": 1,
              "tickcolor": "rgb(36,36,36)",
              "ticks": "outside"
             }
            },
            "type": "scatterpolar"
           }
          ],
          "scatterpolargl": [
           {
            "marker": {
             "colorbar": {
              "outlinewidth": 1,
              "tickcolor": "rgb(36,36,36)",
              "ticks": "outside"
             }
            },
            "type": "scatterpolargl"
           }
          ],
          "scatterternary": [
           {
            "marker": {
             "colorbar": {
              "outlinewidth": 1,
              "tickcolor": "rgb(36,36,36)",
              "ticks": "outside"
             }
            },
            "type": "scatterternary"
           }
          ],
          "surface": [
           {
            "colorbar": {
             "outlinewidth": 1,
             "tickcolor": "rgb(36,36,36)",
             "ticks": "outside"
            },
            "colorscale": [
             [
              0,
              "#440154"
             ],
             [
              0.1111111111111111,
              "#482878"
             ],
             [
              0.2222222222222222,
              "#3e4989"
             ],
             [
              0.3333333333333333,
              "#31688e"
             ],
             [
              0.4444444444444444,
              "#26828e"
             ],
             [
              0.5555555555555556,
              "#1f9e89"
             ],
             [
              0.6666666666666666,
              "#35b779"
             ],
             [
              0.7777777777777778,
              "#6ece58"
             ],
             [
              0.8888888888888888,
              "#b5de2b"
             ],
             [
              1,
              "#fde725"
             ]
            ],
            "type": "surface"
           }
          ],
          "table": [
           {
            "cells": {
             "fill": {
              "color": "rgb(237,237,237)"
             },
             "line": {
              "color": "white"
             }
            },
            "header": {
             "fill": {
              "color": "rgb(217,217,217)"
             },
             "line": {
              "color": "white"
             }
            },
            "type": "table"
           }
          ]
         },
         "layout": {
          "annotationdefaults": {
           "arrowhead": 0,
           "arrowwidth": 1
          },
          "autotypenumbers": "strict",
          "coloraxis": {
           "colorbar": {
            "outlinewidth": 1,
            "tickcolor": "rgb(36,36,36)",
            "ticks": "outside"
           }
          },
          "colorscale": {
           "diverging": [
            [
             0,
             "rgb(103,0,31)"
            ],
            [
             0.1,
             "rgb(178,24,43)"
            ],
            [
             0.2,
             "rgb(214,96,77)"
            ],
            [
             0.3,
             "rgb(244,165,130)"
            ],
            [
             0.4,
             "rgb(253,219,199)"
            ],
            [
             0.5,
             "rgb(247,247,247)"
            ],
            [
             0.6,
             "rgb(209,229,240)"
            ],
            [
             0.7,
             "rgb(146,197,222)"
            ],
            [
             0.8,
             "rgb(67,147,195)"
            ],
            [
             0.9,
             "rgb(33,102,172)"
            ],
            [
             1,
             "rgb(5,48,97)"
            ]
           ],
           "sequential": [
            [
             0,
             "#440154"
            ],
            [
             0.1111111111111111,
             "#482878"
            ],
            [
             0.2222222222222222,
             "#3e4989"
            ],
            [
             0.3333333333333333,
             "#31688e"
            ],
            [
             0.4444444444444444,
             "#26828e"
            ],
            [
             0.5555555555555556,
             "#1f9e89"
            ],
            [
             0.6666666666666666,
             "#35b779"
            ],
            [
             0.7777777777777778,
             "#6ece58"
            ],
            [
             0.8888888888888888,
             "#b5de2b"
            ],
            [
             1,
             "#fde725"
            ]
           ],
           "sequentialminus": [
            [
             0,
             "#440154"
            ],
            [
             0.1111111111111111,
             "#482878"
            ],
            [
             0.2222222222222222,
             "#3e4989"
            ],
            [
             0.3333333333333333,
             "#31688e"
            ],
            [
             0.4444444444444444,
             "#26828e"
            ],
            [
             0.5555555555555556,
             "#1f9e89"
            ],
            [
             0.6666666666666666,
             "#35b779"
            ],
            [
             0.7777777777777778,
             "#6ece58"
            ],
            [
             0.8888888888888888,
             "#b5de2b"
            ],
            [
             1,
             "#fde725"
            ]
           ]
          },
          "colorway": [
           "#1F77B4",
           "#FF7F0E",
           "#2CA02C",
           "#D62728",
           "#9467BD",
           "#8C564B",
           "#E377C2",
           "#7F7F7F",
           "#BCBD22",
           "#17BECF"
          ],
          "font": {
           "color": "rgb(36,36,36)"
          },
          "geo": {
           "bgcolor": "white",
           "lakecolor": "white",
           "landcolor": "white",
           "showlakes": true,
           "showland": true,
           "subunitcolor": "white"
          },
          "hoverlabel": {
           "align": "left"
          },
          "hovermode": "closest",
          "mapbox": {
           "style": "light"
          },
          "paper_bgcolor": "white",
          "plot_bgcolor": "white",
          "polar": {
           "angularaxis": {
            "gridcolor": "rgb(232,232,232)",
            "linecolor": "rgb(36,36,36)",
            "showgrid": false,
            "showline": true,
            "ticks": "outside"
           },
           "bgcolor": "white",
           "radialaxis": {
            "gridcolor": "rgb(232,232,232)",
            "linecolor": "rgb(36,36,36)",
            "showgrid": false,
            "showline": true,
            "ticks": "outside"
           }
          },
          "scene": {
           "xaxis": {
            "backgroundcolor": "white",
            "gridcolor": "rgb(232,232,232)",
            "gridwidth": 2,
            "linecolor": "rgb(36,36,36)",
            "showbackground": true,
            "showgrid": false,
            "showline": true,
            "ticks": "outside",
            "zeroline": false,
            "zerolinecolor": "rgb(36,36,36)"
           },
           "yaxis": {
            "backgroundcolor": "white",
            "gridcolor": "rgb(232,232,232)",
            "gridwidth": 2,
            "linecolor": "rgb(36,36,36)",
            "showbackground": true,
            "showgrid": false,
            "showline": true,
            "ticks": "outside",
            "zeroline": false,
            "zerolinecolor": "rgb(36,36,36)"
           },
           "zaxis": {
            "backgroundcolor": "white",
            "gridcolor": "rgb(232,232,232)",
            "gridwidth": 2,
            "linecolor": "rgb(36,36,36)",
            "showbackground": true,
            "showgrid": false,
            "showline": true,
            "ticks": "outside",
            "zeroline": false,
            "zerolinecolor": "rgb(36,36,36)"
           }
          },
          "shapedefaults": {
           "fillcolor": "black",
           "line": {
            "width": 0
           },
           "opacity": 0.3
          },
          "ternary": {
           "aaxis": {
            "gridcolor": "rgb(232,232,232)",
            "linecolor": "rgb(36,36,36)",
            "showgrid": false,
            "showline": true,
            "ticks": "outside"
           },
           "baxis": {
            "gridcolor": "rgb(232,232,232)",
            "linecolor": "rgb(36,36,36)",
            "showgrid": false,
            "showline": true,
            "ticks": "outside"
           },
           "bgcolor": "white",
           "caxis": {
            "gridcolor": "rgb(232,232,232)",
            "linecolor": "rgb(36,36,36)",
            "showgrid": false,
            "showline": true,
            "ticks": "outside"
           }
          },
          "title": {
           "x": 0.05
          },
          "xaxis": {
           "automargin": true,
           "gridcolor": "rgb(232,232,232)",
           "linecolor": "rgb(36,36,36)",
           "showgrid": false,
           "showline": true,
           "ticks": "outside",
           "title": {
            "standoff": 15
           },
           "zeroline": false,
           "zerolinecolor": "rgb(36,36,36)"
          },
          "yaxis": {
           "automargin": true,
           "gridcolor": "rgb(232,232,232)",
           "linecolor": "rgb(36,36,36)",
           "showgrid": false,
           "showline": true,
           "ticks": "outside",
           "title": {
            "standoff": 15
           },
           "zeroline": false,
           "zerolinecolor": "rgb(36,36,36)"
          }
         }
        },
        "title": {
         "text": "Feed = 15g/L",
         "x": 0.5,
         "y": 0.7
        },
        "xaxis": {
         "mirror": true,
         "range": [
          0,
          60
         ],
         "title": {
          "text": "Voltage (V)"
         }
        },
        "yaxis": {
         "mirror": true,
         "range": [
          0,
          15
         ],
         "title": {
          "text": "Product salinity (g/L)"
         }
        }
       }
      },
      "text/html": [
       "<div>                            <div id=\"797eb08e-e7ac-4ffa-943f-3b3208d202fb\" class=\"plotly-graph-div\" style=\"height:400px; width:100%;\"></div>            <script type=\"text/javascript\">                require([\"plotly\"], function(Plotly) {                    window.PLOTLYENV=window.PLOTLYENV || {};                                    if (document.getElementById(\"797eb08e-e7ac-4ffa-943f-3b3208d202fb\")) {                    Plotly.newPlot(                        \"797eb08e-e7ac-4ffa-943f-3b3208d202fb\",                        [{\"connectgaps\":true,\"line\":{\"color\":\"black\",\"shape\":\"spline\",\"width\":2},\"mode\":\"lines\",\"name\":\"WR=0.5\",\"x\":[2,4,6,8,10,12,14,16,18,20,22,24,26,28,30,32,34,36,38,40,42,44,46,48,50,52,54,56,58,60,62,64,66,68,70,72,74,76,78,80,82,84,86,88,90,92,94,96,98,100,2,4,6,8,10,12,14,16,18,20,22,24,26,28,30,32,34,36,38,40,42,44,46,48,50,52,54,56,58,60,62,64,66,68,70,72,74,76,78,80,82,84,86,88,90,92,94,96,98,100,2,4,6,8,10,12,14,16,18,20,22,24,26,28,30,32,34,36,38,40,42,44,46,48,50,52,54,56,58,60,62,64,66,68,70,72,74,76,78,80,82,84,86,88,90,92,94,96,98,100],\"y\":[13.90619875,12.83327876,11.78856873,10.77901695,9.811113366,8.890776556,8.023211965,7.212752924,6.462701502,5.775190836,5.151092473,4.58998973,4.090230327,3.649059427,3.262820596,2.927200893,2.637490587,2.388829081,2.17641525,1.995669853,1.842346982,1.712598625,1.603000634,1.510549907,1.432642191,1.367038461,1.311825973,1.265378247,1.226316738,1.193475693,1.165870869,1.142672239,1.123180443,1.106806643,1.09305534,1.081509771,1.071819488,1.063689845,1.056873078,1.051160788,1.046377597,1.042375827,1.039031042,1.03623832,1.03390915,1.031968843,1.030354376,1.029012591,1.027898688,1.026974952],\"type\":\"scatter\"},{\"connectgaps\":true,\"line\":{\"color\":\"red\",\"shape\":\"spline\",\"width\":2},\"mode\":\"lines\",\"name\":\"WR=0.7\",\"x\":[2,4,6,8,10,12,14,16,18,20,22,24,26,28,30,32,34,36,38,40,42,44,46,48,50,52,54,56,58,60,62,64,66,68,70,72,74,76,78,80,82,84,86,88,90,92,94,96,98,100,2,4,6,8,10,12,14,16,18,20,22,24,26,28,30,32,34,36,38,40,42,44,46,48,50,52,54,56,58,60,62,64,66,68,70,72,74,76,78,80,82,84,86,88,90,92,94,96,98,100,2,4,6,8,10,12,14,16,18,20,22,24,26,28,30,32,34,36,38,40,42,44,46,48,50,52,54,56,58,60,62,64,66,68,70,72,74,76,78,80,82,84,86,88,90,92,94,96,98,100],\"y\":[14.2895598,13.5635043,12.82873299,12.09186647,11.35913968,10.63633303,9.928728846,9.241083046,8.577604191,7.941935742,7.337139794,6.765682503,6.229423653,5.729613538,5.266900464,4.841352296,4.452493625,4.099359181,3.780561299,3.494368108,3.23878749,3.011651429,2.810695663,2.63363051,2.478200127,2.342228951,2.223655435,2.120554136,2.031148039,1.953813081,1.887076922,1.829613849,1.780237161,1.737890189,1.701636643,1.670650753,1.64420747,1.621672887,1.602494983,1.586194787,1.572358033,1.560627383,1.550695272,1.542297417,1.535207,1.529229517,1.52419827,null,null,null],\"type\":\"scatter\"},{\"connectgaps\":true,\"line\":{\"color\":\"blue\",\"shape\":\"spline\",\"width\":2},\"mode\":\"lines\",\"name\":\"WR=0.9\",\"x\":[2,4,6,8,10,12,14,16,18,20,22,24,26,28,30,32,34,36,38,40,42,44,46,48,50,52,54,56,58,60,62,64,66,68,70,72,74,76,78,80,82,84,86,88,90,92,94,96,98,100,2,4,6,8,10,12,14,16,18,20,22,24,26,28,30,32,34,36,38,40,42,44,46,48,50,52,54,56,58,60,62,64,66,68,70,72,74,76,78,80,82,84,86,88,90,92,94,96,98,100,2,4,6,8,10,12,14,16,18,20,22,24,26,28,30,32,34,36,38,40,42,44,46,48,50,52,54,56,58,60,62,64,66,68,70,72,74,76,78,80,82,84,86,88,90,92,94,96,98,100],\"y\":[14.65737804,14.2788557,13.86974094,13.43589578,12.98322227,12.51732719,12.04333992,11.56583843,11.08884175,10.61583804,10.14982856,9.693375797,9.248649859,8.817470212,8.401342023,8.001487231,7.618871105,7.254224935,6.908066168,6.580716313,6.272317745,null,5.712144668,5.459902993,null,5.009051416,4.809328769,4.625875186,null,4.4,null,null,null,null,null,null,null,null,null,null,null,null,null,null,null,null,null,null,null,null],\"type\":\"scatter\"}],                        {\"height\":400,\"legend\":{\"font\":{\"color\":\"black\",\"family\":\"sans-serif\",\"size\":12},\"traceorder\":\"normal\",\"x\":0.8,\"y\":1},\"template\":{\"data\":{\"barpolar\":[{\"marker\":{\"line\":{\"color\":\"white\",\"width\":0.5},\"pattern\":{\"fillmode\":\"overlay\",\"size\":10,\"solidity\":0.2}},\"type\":\"barpolar\"}],\"bar\":[{\"error_x\":{\"color\":\"rgb(36,36,36)\"},\"error_y\":{\"color\":\"rgb(36,36,36)\"},\"marker\":{\"line\":{\"color\":\"white\",\"width\":0.5},\"pattern\":{\"fillmode\":\"overlay\",\"size\":10,\"solidity\":0.2}},\"type\":\"bar\"}],\"carpet\":[{\"aaxis\":{\"endlinecolor\":\"rgb(36,36,36)\",\"gridcolor\":\"white\",\"linecolor\":\"white\",\"minorgridcolor\":\"white\",\"startlinecolor\":\"rgb(36,36,36)\"},\"baxis\":{\"endlinecolor\":\"rgb(36,36,36)\",\"gridcolor\":\"white\",\"linecolor\":\"white\",\"minorgridcolor\":\"white\",\"startlinecolor\":\"rgb(36,36,36)\"},\"type\":\"carpet\"}],\"choropleth\":[{\"colorbar\":{\"outlinewidth\":1,\"tickcolor\":\"rgb(36,36,36)\",\"ticks\":\"outside\"},\"type\":\"choropleth\"}],\"contourcarpet\":[{\"colorbar\":{\"outlinewidth\":1,\"tickcolor\":\"rgb(36,36,36)\",\"ticks\":\"outside\"},\"type\":\"contourcarpet\"}],\"contour\":[{\"colorbar\":{\"outlinewidth\":1,\"tickcolor\":\"rgb(36,36,36)\",\"ticks\":\"outside\"},\"colorscale\":[[0.0,\"#440154\"],[0.1111111111111111,\"#482878\"],[0.2222222222222222,\"#3e4989\"],[0.3333333333333333,\"#31688e\"],[0.4444444444444444,\"#26828e\"],[0.5555555555555556,\"#1f9e89\"],[0.6666666666666666,\"#35b779\"],[0.7777777777777778,\"#6ece58\"],[0.8888888888888888,\"#b5de2b\"],[1.0,\"#fde725\"]],\"type\":\"contour\"}],\"heatmapgl\":[{\"colorbar\":{\"outlinewidth\":1,\"tickcolor\":\"rgb(36,36,36)\",\"ticks\":\"outside\"},\"colorscale\":[[0.0,\"#440154\"],[0.1111111111111111,\"#482878\"],[0.2222222222222222,\"#3e4989\"],[0.3333333333333333,\"#31688e\"],[0.4444444444444444,\"#26828e\"],[0.5555555555555556,\"#1f9e89\"],[0.6666666666666666,\"#35b779\"],[0.7777777777777778,\"#6ece58\"],[0.8888888888888888,\"#b5de2b\"],[1.0,\"#fde725\"]],\"type\":\"heatmapgl\"}],\"heatmap\":[{\"colorbar\":{\"outlinewidth\":1,\"tickcolor\":\"rgb(36,36,36)\",\"ticks\":\"outside\"},\"colorscale\":[[0.0,\"#440154\"],[0.1111111111111111,\"#482878\"],[0.2222222222222222,\"#3e4989\"],[0.3333333333333333,\"#31688e\"],[0.4444444444444444,\"#26828e\"],[0.5555555555555556,\"#1f9e89\"],[0.6666666666666666,\"#35b779\"],[0.7777777777777778,\"#6ece58\"],[0.8888888888888888,\"#b5de2b\"],[1.0,\"#fde725\"]],\"type\":\"heatmap\"}],\"histogram2dcontour\":[{\"colorbar\":{\"outlinewidth\":1,\"tickcolor\":\"rgb(36,36,36)\",\"ticks\":\"outside\"},\"colorscale\":[[0.0,\"#440154\"],[0.1111111111111111,\"#482878\"],[0.2222222222222222,\"#3e4989\"],[0.3333333333333333,\"#31688e\"],[0.4444444444444444,\"#26828e\"],[0.5555555555555556,\"#1f9e89\"],[0.6666666666666666,\"#35b779\"],[0.7777777777777778,\"#6ece58\"],[0.8888888888888888,\"#b5de2b\"],[1.0,\"#fde725\"]],\"type\":\"histogram2dcontour\"}],\"histogram2d\":[{\"colorbar\":{\"outlinewidth\":1,\"tickcolor\":\"rgb(36,36,36)\",\"ticks\":\"outside\"},\"colorscale\":[[0.0,\"#440154\"],[0.1111111111111111,\"#482878\"],[0.2222222222222222,\"#3e4989\"],[0.3333333333333333,\"#31688e\"],[0.4444444444444444,\"#26828e\"],[0.5555555555555556,\"#1f9e89\"],[0.6666666666666666,\"#35b779\"],[0.7777777777777778,\"#6ece58\"],[0.8888888888888888,\"#b5de2b\"],[1.0,\"#fde725\"]],\"type\":\"histogram2d\"}],\"histogram\":[{\"marker\":{\"line\":{\"color\":\"white\",\"width\":0.6}},\"type\":\"histogram\"}],\"mesh3d\":[{\"colorbar\":{\"outlinewidth\":1,\"tickcolor\":\"rgb(36,36,36)\",\"ticks\":\"outside\"},\"type\":\"mesh3d\"}],\"parcoords\":[{\"line\":{\"colorbar\":{\"outlinewidth\":1,\"tickcolor\":\"rgb(36,36,36)\",\"ticks\":\"outside\"}},\"type\":\"parcoords\"}],\"pie\":[{\"automargin\":true,\"type\":\"pie\"}],\"scatter3d\":[{\"line\":{\"colorbar\":{\"outlinewidth\":1,\"tickcolor\":\"rgb(36,36,36)\",\"ticks\":\"outside\"}},\"marker\":{\"colorbar\":{\"outlinewidth\":1,\"tickcolor\":\"rgb(36,36,36)\",\"ticks\":\"outside\"}},\"type\":\"scatter3d\"}],\"scattercarpet\":[{\"marker\":{\"colorbar\":{\"outlinewidth\":1,\"tickcolor\":\"rgb(36,36,36)\",\"ticks\":\"outside\"}},\"type\":\"scattercarpet\"}],\"scattergeo\":[{\"marker\":{\"colorbar\":{\"outlinewidth\":1,\"tickcolor\":\"rgb(36,36,36)\",\"ticks\":\"outside\"}},\"type\":\"scattergeo\"}],\"scattergl\":[{\"marker\":{\"colorbar\":{\"outlinewidth\":1,\"tickcolor\":\"rgb(36,36,36)\",\"ticks\":\"outside\"}},\"type\":\"scattergl\"}],\"scattermapbox\":[{\"marker\":{\"colorbar\":{\"outlinewidth\":1,\"tickcolor\":\"rgb(36,36,36)\",\"ticks\":\"outside\"}},\"type\":\"scattermapbox\"}],\"scatterpolargl\":[{\"marker\":{\"colorbar\":{\"outlinewidth\":1,\"tickcolor\":\"rgb(36,36,36)\",\"ticks\":\"outside\"}},\"type\":\"scatterpolargl\"}],\"scatterpolar\":[{\"marker\":{\"colorbar\":{\"outlinewidth\":1,\"tickcolor\":\"rgb(36,36,36)\",\"ticks\":\"outside\"}},\"type\":\"scatterpolar\"}],\"scatter\":[{\"fillpattern\":{\"fillmode\":\"overlay\",\"size\":10,\"solidity\":0.2},\"type\":\"scatter\"}],\"scatterternary\":[{\"marker\":{\"colorbar\":{\"outlinewidth\":1,\"tickcolor\":\"rgb(36,36,36)\",\"ticks\":\"outside\"}},\"type\":\"scatterternary\"}],\"surface\":[{\"colorbar\":{\"outlinewidth\":1,\"tickcolor\":\"rgb(36,36,36)\",\"ticks\":\"outside\"},\"colorscale\":[[0.0,\"#440154\"],[0.1111111111111111,\"#482878\"],[0.2222222222222222,\"#3e4989\"],[0.3333333333333333,\"#31688e\"],[0.4444444444444444,\"#26828e\"],[0.5555555555555556,\"#1f9e89\"],[0.6666666666666666,\"#35b779\"],[0.7777777777777778,\"#6ece58\"],[0.8888888888888888,\"#b5de2b\"],[1.0,\"#fde725\"]],\"type\":\"surface\"}],\"table\":[{\"cells\":{\"fill\":{\"color\":\"rgb(237,237,237)\"},\"line\":{\"color\":\"white\"}},\"header\":{\"fill\":{\"color\":\"rgb(217,217,217)\"},\"line\":{\"color\":\"white\"}},\"type\":\"table\"}]},\"layout\":{\"annotationdefaults\":{\"arrowhead\":0,\"arrowwidth\":1},\"autotypenumbers\":\"strict\",\"coloraxis\":{\"colorbar\":{\"outlinewidth\":1,\"tickcolor\":\"rgb(36,36,36)\",\"ticks\":\"outside\"}},\"colorscale\":{\"diverging\":[[0.0,\"rgb(103,0,31)\"],[0.1,\"rgb(178,24,43)\"],[0.2,\"rgb(214,96,77)\"],[0.3,\"rgb(244,165,130)\"],[0.4,\"rgb(253,219,199)\"],[0.5,\"rgb(247,247,247)\"],[0.6,\"rgb(209,229,240)\"],[0.7,\"rgb(146,197,222)\"],[0.8,\"rgb(67,147,195)\"],[0.9,\"rgb(33,102,172)\"],[1.0,\"rgb(5,48,97)\"]],\"sequential\":[[0.0,\"#440154\"],[0.1111111111111111,\"#482878\"],[0.2222222222222222,\"#3e4989\"],[0.3333333333333333,\"#31688e\"],[0.4444444444444444,\"#26828e\"],[0.5555555555555556,\"#1f9e89\"],[0.6666666666666666,\"#35b779\"],[0.7777777777777778,\"#6ece58\"],[0.8888888888888888,\"#b5de2b\"],[1.0,\"#fde725\"]],\"sequentialminus\":[[0.0,\"#440154\"],[0.1111111111111111,\"#482878\"],[0.2222222222222222,\"#3e4989\"],[0.3333333333333333,\"#31688e\"],[0.4444444444444444,\"#26828e\"],[0.5555555555555556,\"#1f9e89\"],[0.6666666666666666,\"#35b779\"],[0.7777777777777778,\"#6ece58\"],[0.8888888888888888,\"#b5de2b\"],[1.0,\"#fde725\"]]},\"colorway\":[\"#1F77B4\",\"#FF7F0E\",\"#2CA02C\",\"#D62728\",\"#9467BD\",\"#8C564B\",\"#E377C2\",\"#7F7F7F\",\"#BCBD22\",\"#17BECF\"],\"font\":{\"color\":\"rgb(36,36,36)\"},\"geo\":{\"bgcolor\":\"white\",\"lakecolor\":\"white\",\"landcolor\":\"white\",\"showlakes\":true,\"showland\":true,\"subunitcolor\":\"white\"},\"hoverlabel\":{\"align\":\"left\"},\"hovermode\":\"closest\",\"mapbox\":{\"style\":\"light\"},\"paper_bgcolor\":\"white\",\"plot_bgcolor\":\"white\",\"polar\":{\"angularaxis\":{\"gridcolor\":\"rgb(232,232,232)\",\"linecolor\":\"rgb(36,36,36)\",\"showgrid\":false,\"showline\":true,\"ticks\":\"outside\"},\"bgcolor\":\"white\",\"radialaxis\":{\"gridcolor\":\"rgb(232,232,232)\",\"linecolor\":\"rgb(36,36,36)\",\"showgrid\":false,\"showline\":true,\"ticks\":\"outside\"}},\"scene\":{\"xaxis\":{\"backgroundcolor\":\"white\",\"gridcolor\":\"rgb(232,232,232)\",\"gridwidth\":2,\"linecolor\":\"rgb(36,36,36)\",\"showbackground\":true,\"showgrid\":false,\"showline\":true,\"ticks\":\"outside\",\"zeroline\":false,\"zerolinecolor\":\"rgb(36,36,36)\"},\"yaxis\":{\"backgroundcolor\":\"white\",\"gridcolor\":\"rgb(232,232,232)\",\"gridwidth\":2,\"linecolor\":\"rgb(36,36,36)\",\"showbackground\":true,\"showgrid\":false,\"showline\":true,\"ticks\":\"outside\",\"zeroline\":false,\"zerolinecolor\":\"rgb(36,36,36)\"},\"zaxis\":{\"backgroundcolor\":\"white\",\"gridcolor\":\"rgb(232,232,232)\",\"gridwidth\":2,\"linecolor\":\"rgb(36,36,36)\",\"showbackground\":true,\"showgrid\":false,\"showline\":true,\"ticks\":\"outside\",\"zeroline\":false,\"zerolinecolor\":\"rgb(36,36,36)\"}},\"shapedefaults\":{\"fillcolor\":\"black\",\"line\":{\"width\":0},\"opacity\":0.3},\"ternary\":{\"aaxis\":{\"gridcolor\":\"rgb(232,232,232)\",\"linecolor\":\"rgb(36,36,36)\",\"showgrid\":false,\"showline\":true,\"ticks\":\"outside\"},\"baxis\":{\"gridcolor\":\"rgb(232,232,232)\",\"linecolor\":\"rgb(36,36,36)\",\"showgrid\":false,\"showline\":true,\"ticks\":\"outside\"},\"bgcolor\":\"white\",\"caxis\":{\"gridcolor\":\"rgb(232,232,232)\",\"linecolor\":\"rgb(36,36,36)\",\"showgrid\":false,\"showline\":true,\"ticks\":\"outside\"}},\"title\":{\"x\":0.05},\"xaxis\":{\"automargin\":true,\"gridcolor\":\"rgb(232,232,232)\",\"linecolor\":\"rgb(36,36,36)\",\"showgrid\":false,\"showline\":true,\"ticks\":\"outside\",\"title\":{\"standoff\":15},\"zeroline\":false,\"zerolinecolor\":\"rgb(36,36,36)\"},\"yaxis\":{\"automargin\":true,\"gridcolor\":\"rgb(232,232,232)\",\"linecolor\":\"rgb(36,36,36)\",\"showgrid\":false,\"showline\":true,\"ticks\":\"outside\",\"title\":{\"standoff\":15},\"zeroline\":false,\"zerolinecolor\":\"rgb(36,36,36)\"}}},\"xaxis\":{\"mirror\":true,\"range\":[0,60],\"title\":{\"text\":\"Voltage (V)\"}},\"yaxis\":{\"mirror\":true,\"range\":[0,15],\"title\":{\"text\":\"Product salinity (g/L)\"}},\"title\":{\"text\":\"Feed = 15g/L\",\"x\":0.5,\"y\":0.7}},                        {\"responsive\": true}                    ).then(function(){\n",
       "                            \n",
       "var gd = document.getElementById('797eb08e-e7ac-4ffa-943f-3b3208d202fb');\n",
       "var x = new MutationObserver(function (mutations, observer) {{\n",
       "        var display = window.getComputedStyle(gd).display;\n",
       "        if (!display || display === 'none') {{\n",
       "            console.log([gd, 'removed!']);\n",
       "            Plotly.purge(gd);\n",
       "            observer.disconnect();\n",
       "        }}\n",
       "}});\n",
       "\n",
       "// Listen for the removal of the full notebook cells\n",
       "var notebookContainer = gd.closest('#notebook-container');\n",
       "if (notebookContainer) {{\n",
       "    x.observe(notebookContainer, {childList: true});\n",
       "}}\n",
       "\n",
       "// Listen for the clearing of the current output cell\n",
       "var outputEl = gd.closest('.output');\n",
       "if (outputEl) {{\n",
       "    x.observe(outputEl, {childList: true});\n",
       "}}\n",
       "\n",
       "                        })                };                });            </script>        </div>"
      ]
     },
     "metadata": {},
     "output_type": "display_data"
    }
   ],
   "source": [
    "df0=pd.read_csv(\"dt/opt_prod_sal_volt_c0_wr_rerun_missing_dt2.csv\", index_col=0)\n",
    "#print(df_p)\n",
    "#ex.line?\n",
    "#print(df0[(df0[\"c0_mass\"]==1) & (df0[\"WR\"]==0.5)][\"c_prod_mass\"])\n",
    "#fig0=go.Figure()\n",
    "layout = dict(\n",
    "xaxis = dict(title = \"Voltage (V)\", range = [0, 60], mirror=True),\n",
    "yaxis= dict (title = \"Product salinity (g/L)\", range = [0, 1], mirror = True),\n",
    "legend=dict(\n",
    "        x=.8,\n",
    "        y=1,\n",
    "        traceorder=\"normal\",\n",
    "        font=dict(\n",
    "            family=\"sans-serif\",\n",
    "            size=12,\n",
    "            color=\"black\"\n",
    "        )),\n",
    "height=400,\n",
    "template=\"simple_white\",\n",
    "\n",
    "#showline=True\n",
    ")\n",
    "\n",
    "# C0_mass = 1g/L\n",
    "c1w50=go.Scatter(\n",
    "    x=df0[df0[\"c0_mass\"]==1][\"Volt\"],\n",
    "    y=df0[(df0[\"c0_mass\"]==1)&(df0[\"WR\"]==0.5)][\"c_prod_mass\"],\n",
    "    mode = 'lines',\n",
    "    #type = \"scatter\",\n",
    "    name = 'WR=0.5',\n",
    "    line = dict(shape = 'spline', color = 'black', width =2,),\n",
    "    connectgaps=True\n",
    "),\n",
    "c1w70=go.Scatter(\n",
    "    x=df0[df0[\"c0_mass\"]==1][\"Volt\"],\n",
    "    y=df0[(df0[\"c0_mass\"]==1)&(df0[\"WR\"]==0.7)][\"c_prod_mass\"],\n",
    "    mode = 'lines',\n",
    "    name = 'WR=0.7',\n",
    "    line = dict(shape = 'spline', color = 'red', width =2,),\n",
    "    connectgaps=True\n",
    "),\n",
    "c1w90=go.Scatter(\n",
    "    x=df0[df0[\"c0_mass\"]==1][\"Volt\"],\n",
    "    y=df0[(df0[\"c0_mass\"]==1)&(df0[\"WR\"]==0.9)][\"c_prod_mass\"],\n",
    "    mode = 'lines',\n",
    "    name = 'WR=0.9',\n",
    "    line = dict(shape = 'spline', color = 'blue', width =2,),\n",
    "    connectgaps=True\n",
    "),\n",
    "\n",
    "data0 = [c1w50[0], c1w70[0],c1w90[0]]\n",
    "fig0=go.Figure(data=data0,layout=layout)\n",
    "fig0.update_layout(title= dict(text= \"Feed = 1g/L\", x=0.5, y = 0.7),\n",
    "                  )\n",
    "\n",
    "\n",
    "\n",
    "# C0_mass = 5g/L\n",
    "c5w50=go.Scatter(\n",
    "    x=df0[df0[\"c0_mass\"]==5][\"Volt\"],\n",
    "    y=df0[(df0[\"c0_mass\"]==5)&(df0[\"WR\"]==0.5)][\"c_prod_mass\"],\n",
    "    mode = 'lines',\n",
    "    #type = \"scatter\",\n",
    "    name = 'WR=0.5',\n",
    "    line = dict(shape = 'spline', color = 'black', width =2,),\n",
    "    connectgaps=True\n",
    "),\n",
    "c5w70=go.Scatter(\n",
    "    x=df0[df0[\"c0_mass\"]==5][\"Volt\"],\n",
    "    y=df0[(df0[\"c0_mass\"]==5)&(df0[\"WR\"]==0.7)][\"c_prod_mass\"],\n",
    "    mode = 'lines',\n",
    "    name = 'WR=0.7',\n",
    "    line = dict(shape = 'spline', color = 'red', width =2,),\n",
    "    connectgaps=True\n",
    "),\n",
    "c5w90=go.Scatter(\n",
    "    x=df0[df0[\"c0_mass\"]==5][\"Volt\"],\n",
    "    y=df0[(df0[\"c0_mass\"]==5)&(df0[\"WR\"]==0.9)][\"c_prod_mass\"],\n",
    "    mode = 'lines',\n",
    "    name = 'WR=0.9',\n",
    "    line = dict(shape = 'spline', color = 'blue', width =2,),\n",
    "    connectgaps=True\n",
    "),\n",
    "\n",
    "\n",
    "data1 = [c5w50[0], c5w70[0],c5w90[0]]\n",
    "fig1=go.Figure(data=data1,layout=layout)\n",
    "fig1.update_layout(title= dict(text= \"Feed = 5g/L\", x=0.5, y = 0.7),\n",
    "                  xaxis = dict(title = \"Voltage (V)\", range = [0, 60], mirror=True),\n",
    "                yaxis= dict (title = \"Product salinity (g/L)\", range = [0, 5], mirror = True),)\n",
    "\n",
    "# C0_mass = 15g/L\n",
    "c15w50=go.Scatter(\n",
    "    x=df0[df0[\"c0_mass\"]==15][\"Volt\"],\n",
    "    y=df0[(df0[\"c0_mass\"]==15)&(df0[\"WR\"]==0.5)][\"c_prod_mass\"],\n",
    "    mode = 'lines',\n",
    "    #type = \"scatter\",\n",
    "    name = 'WR=0.5',\n",
    "    line = dict(shape = 'spline', color = 'black', width =2,),\n",
    "    connectgaps=True\n",
    "),\n",
    "c15w70=go.Scatter(\n",
    "    x=df0[df0[\"c0_mass\"]==15][\"Volt\"],\n",
    "    y=df0[(df0[\"c0_mass\"]==15)&(df0[\"WR\"]==0.7)][\"c_prod_mass\"],\n",
    "    mode = 'lines',\n",
    "    name = 'WR=0.7',\n",
    "    line = dict(shape = 'spline', color = 'red', width =2,),\n",
    "    connectgaps=True\n",
    "),\n",
    "c15w90=go.Scatter(\n",
    "    x=df0[df0[\"c0_mass\"]==15][\"Volt\"],\n",
    "    y=df0[(df0[\"c0_mass\"]==15)&(df0[\"WR\"]==0.9)][\"c_prod_mass\"],\n",
    "    mode = 'lines',\n",
    "    name = 'WR=0.9',\n",
    "    line = dict(shape = 'spline', color = 'blue', width =2,),\n",
    "    connectgaps=True\n",
    "),\n",
    "\n",
    "\n",
    "data2 = [c15w50[0], c15w70[0],c15w90[0]]\n",
    "fig2=go.Figure(data=data2,layout=layout)\n",
    "fig2.update_layout(title= dict(text= \"Feed = 15g/L\", x=0.5, y = 0.7),\n",
    "                  xaxis = dict(title = \"Voltage (V)\", range = [0, 60], mirror=True),\n",
    "                yaxis= dict (title = \"Product salinity (g/L)\", range = [0, 15], mirror = True),)\n",
    "\"\"\"\n",
    "fig0 = go.line(df_p[df_p[\"c0_mass\"]==1], \n",
    "               x=\"Volt\", y=\"c_prod_mass\", \n",
    "               labels={\"Volt\":\"Voltage (V)\", \"c_prod_mass\":\"Product water salinity (g/L)\"},\n",
    "               range_x=[0, 60],\n",
    "               range_y=[0, 1],\n",
    "               \n",
    "               color=\"WR\", line_shape=\"spline\", template=\"simple_white\" )#\n",
    "fig0.update_traces(connectgaps=True)\n",
    "\"\"\"\n",
    "fig0.show()\n",
    "fig1.show()\n",
    "fig2.show()\n",
    "fig0.write_image(\"graphics/cprod_volt_at_cf_1.png\")\n",
    "fig1.write_image(\"graphics/cprod_volt_at_cf_5.png\")\n",
    "fig2.write_image(\"graphics/cprod_volt_at_cf_15.png\")"
   ]
  },
  {
   "cell_type": "code",
   "execution_count": 10,
   "id": "5fdae961",
   "metadata": {},
   "outputs": [
    {
     "name": "stdout",
     "output_type": "stream",
     "text": [
      "===Excecuting c0_mass= 1.0, WR=0.5,V=2.0===\n",
      "2023-04-26 17:17:25 [WARNING] idaes.core.base.costing_base: flow_expr is an expression with a lower bound of less than zero. Costing requires that all flows have a lower bound equal to or greater than zero to avoid negative costs.\n",
      "2023-04-26 17:17:25 [WARNING] idaes.core.base.costing_base: flow_expr is an expression with a lower bound of less than zero. Costing requires that all flows have a lower bound equal to or greater than zero to avoid negative costs.\n",
      "======DOF_intial======\n",
      "\n",
      "========================================================================\n",
      "Model Statistics   \n",
      "\n",
      "Degrees of Freedom: 38 \n",
      "\n",
      "Total No. Variables: 2374 \n",
      "    No. Fixed Variables: 24\n",
      "    No. Unused Variables: 16 (Fixed):5)\n",
      "    No. Variables only in Inequalities: 0 (Fixed: 0) \n",
      "\n",
      "Total No. Constraints: 2301 \n",
      "    No. Equality Constraints: 2301 (Deactivated: 0)\n",
      "    No. Inequality Constraints: 0 (Deactivated: 0)\n",
      "\n",
      "No. Objectives: 0 (Deactivated: 0)\n",
      "\n",
      "No. Blocks: 94 (Deactivated: 0) \n",
      "No. Expressions: 10 \n",
      "========================================================================\n",
      "\n",
      "2023-04-26 17:17:26 [WARNING] idaes.watertap.property_models.multicomp_aq_sol_prop_pack: While using the calculate_state method on fs.feed.properties[0.0], variable flow_vol_phase was provided as an argument in var_args, but it does not have a scaling factor. This suggests that the calculate_scaling_factor method has not been used or the variable was created on demand after the scaling factors were calculated. It is recommended to touch all relevant variables (i.e. call them or set an initial value) before using the calculate_scaling_factor method.\n",
      "2023-04-26 17:17:26 [WARNING] idaes.watertap.property_models.multicomp_aq_sol_prop_pack: While using the calculate_state method on fs.feed.properties[0.0], variable conc_mol_phase_comp was provided as an argument in var_args, but it does not have a scaling factor. This suggests that the calculate_scaling_factor method has not been used or the variable was created on demand after the scaling factors were calculated. It is recommended to touch all relevant variables (i.e. call them or set an initial value) before using the calculate_scaling_factor method.\n",
      "2023-04-26 17:17:26 [WARNING] idaes.watertap.property_models.multicomp_aq_sol_prop_pack: While using the calculate_state method on fs.feed.properties[0.0], variable conc_mol_phase_comp was provided as an argument in var_args, but it does not have a scaling factor. This suggests that the calculate_scaling_factor method has not been used or the variable was created on demand after the scaling factors were calculated. It is recommended to touch all relevant variables (i.e. call them or set an initial value) before using the calculate_scaling_factor method.\n",
      "2023-04-26 17:17:26 [WARNING] idaes.core.util.scaling: Missing scaling factor for fs.EDstack.diluate.area\n",
      "2023-04-26 17:17:26 [WARNING] idaes.core.util.scaling: Missing scaling factor for fs.EDstack.concentrate.area\n",
      "2023-04-26 17:17:26 [WARNING] idaes.core.util.scaling: Missing scaling factor for fs.EDstack.membrane_thickness\n",
      "2023-04-26 17:17:26 [WARNING] idaes.core.util.scaling: Missing scaling factor for fs.EDstack.membrane_areal_resistance\n",
      "2023-04-26 17:17:26 [WARNING] idaes.core.util.scaling: Missing scaling factor for fs.EDstack.solute_diffusivity_membrane\n",
      "2023-04-26 17:17:26 [WARNING] idaes.core.util.scaling: Missing scaling factor for fs.EDstack.diffus_mass\n",
      "2023-04-26 17:17:26 [WARNING] idaes.core.util.scaling: Missing scaling factor for fs.EDstack.water_permeability_membrane\n",
      "2023-04-26 17:17:26 [WARNING] idaes.core.util.scaling: Missing scaling factor for fs.EDstack.channel_height\n",
      "2023-04-26 17:17:26 [WARNING] idaes.core.util.scaling: Missing scaling factor for fs.EDstack.spacer_porosity\n",
      "2023-04-26 17:17:26 [WARNING] idaes.core.util.scaling: Missing scaling factor for fs.EDstack.electrodes_resistance\n",
      "2023-04-26 17:17:26 [WARNING] idaes.core.util.scaling: Missing scaling factor for fs.EDstack.spacer_specific_area\n",
      "2023-04-26 17:17:26 [WARNING] idaes.core.util.scaling: Missing scaling factor for fs.EDstack.hydraulic_diameter\n",
      "2023-04-26 17:17:26 [WARNING] idaes.core.util.scaling: Missing scaling factor for fs.EDstack.N_Re\n",
      "2023-04-26 17:17:26 [WARNING] idaes.core.util.scaling: Missing scaling factor for fs.EDstack.N_Sc\n",
      "2023-04-26 17:17:26 [WARNING] idaes.core.util.scaling: Missing scaling factor for fs.EDstack.N_Sh\n",
      "2023-04-26 17:17:26 [WARNING] idaes.core.util.scaling: Missing scaling factor for fs.EDstack.friction_factor\n",
      "2023-04-26 17:17:26 [WARNING] idaes.core.util.scaling: Missing scaling factor for fs.EDstack.pressure_drop\n",
      "2023-04-26 17:17:26 [WARNING] idaes.core.util.scaling: Missing scaling factor for fs.EDstack.pressure_drop_total\n",
      "SFSFSFSF 5555.555555555557\n",
      "2023-04-26 17:17:26 [INFO] idaes.init.fs.feed: Initialization Complete.\n",
      "2023-04-26 17:17:26 [INFO] idaes.init.fs.sepa0: Initialization Step 2 Complete: optimal - Optimal Solution Found\n",
      "2023-04-26 17:17:26 [INFO] idaes.init.fs.pump1.control_volume: Initialization Complete\n",
      "2023-04-26 17:17:26 [INFO] idaes.init.fs.pump1: Initialization Complete: optimal - Optimal Solution Found\n",
      "2023-04-26 17:17:26 [INFO] idaes.init.fs.pump0.control_volume: Initialization Complete\n",
      "2023-04-26 17:17:26 [INFO] idaes.init.fs.pump0: Initialization Complete: optimal - Optimal Solution Found\n",
      "2023-04-26 17:17:26 [INFO] idaes.init.fs.EDstack.diluate: Initialization Complete\n",
      "2023-04-26 17:17:27 [WARNING] idaes.init.fs.EDstack: Non-zero degrees of freedom: Degrees of freedom on fs.EDstack = 5. Fix 5 more variable(s)\n",
      "2023-04-26 17:17:27 [INFO] idaes.init.fs.EDstack.concentrate: Initialization Complete\n",
      "2023-04-26 17:17:38 [INFO] idaes.init.fs.EDstack: Initialization Step 3 successful.\n",
      "2023-04-26 17:17:38 [INFO] idaes.init.fs.EDstack: Initialization Complete: optimal - Optimal Solution Found\n",
      "\n",
      "====================================================================================\n",
      "Unit : fs.EDstack                                                          Time: 0.0\n",
      "------------------------------------------------------------------------------------\n",
      "    Unit Performance\n",
      "\n",
      "    Variables: \n",
      "\n",
      "    Key                                               : Value   : Units         : Fixed : Bounds\n",
      "    Specific electrical power consumption (kW*h/m**3) :  3877.2 :        pascal : False : (0, 1000)\n",
      "             Total electrical power consumption(Watt) :  1.0075 :          watt : False : (0, 12100)\n",
      "                               Water recovery by mass : 0.49978 : dimensionless : False : (0, 1)\n",
      "\n",
      "------------------------------------------------------------------------------------\n",
      "    Stream Table\n",
      "                                            Units       Diluate Channel Inlet  Concentrate Channel Inlet  Diluate Channel Outlet  Concentrate Channel Outlet\n",
      "    flow_mol_phase_comp ('Liq', 'H2O')   mole / second           14.430                   14.430                    14.424                    14.436        \n",
      "    flow_mol_phase_comp ('Liq', 'Na_+')  mole / second        0.0044444                0.0044444                 0.0039745                 0.0049144        \n",
      "    flow_mol_phase_comp ('Liq', 'Cl_-')  mole / second        0.0044444                0.0044444                 0.0039745                 0.0049144        \n",
      "    temperature                                 kelvin           298.15                   298.15                    298.15                    298.15        \n",
      "    pressure                                    pascal       3.0132e+05               3.0132e+05                2.7426e+05                2.7426e+05        \n",
      "====================================================================================\n",
      "2023-04-26 17:17:38 [INFO] idaes.init.fs.prod: Initialization Complete.\n",
      "2023-04-26 17:17:38 [INFO] idaes.init.fs.prod: Initialization Complete.\n",
      "2023-04-26 17:17:38 [INFO] idaes.init.fs.sepa1: Initialization Step 2 Complete: optimal - Optimal Solution Found\n",
      "2023-04-26 17:17:38 [INFO] idaes.init.fs.disp: Initialization Complete.\n",
      "2023-04-26 17:17:38 [INFO] idaes.init.fs.mix0: Initialization Complete: optimal - Optimal Solution Found\n",
      "BADLY SCALED VARS & CONSTRAINS\n",
      "fs.mix0.from_conc_out_state[0.0].flow_mol_phase_comp[Liq,H2O] : 1.44363831522963e-08\n",
      "fs.mix0.from_conc_out_state[0.0].flow_mol_phase_comp[Liq,Na_+] : 4.9144000123668484e-09\n",
      "fs.mix0.from_conc_out_state[0.0].flow_mol_phase_comp[Liq,Cl_-] : 4.914400012365521e-09\n",
      "fs.mix0.from_conc_out_state[0.0].flow_mass_phase_comp[Liq,H2O] : 1.44363831522963e-08\n",
      "fs.mix0.from_conc_out_state[0.0].flow_mass_phase_comp[Liq,Na_+] : 4.9144000123668484e-09\n",
      "fs.mix0.from_conc_out_state[0.0].flow_mass_phase_comp[Liq,Cl_-] : 4.914400012365521e-09\n",
      "fs.mix0.from_conc_out_state[0.0].flow_vol_phase[Liq] : 1.445235495233649e-08\n",
      "fs.EDstack.current_density_x[0.0,1.0] : 0.000970337022488853\n",
      "fs.EDstack.diluate.material_flow_dx[0.0,0.05,Liq,H2O] : 0.0008193208497940477\n",
      "fs.EDstack.diluate.material_flow_dx[0.0,0.1,Liq,H2O] : 0.0007940438160140896\n",
      "fs.EDstack.diluate.material_flow_dx[0.0,0.15,Liq,H2O] : 0.0007700279216612782\n",
      "fs.EDstack.diluate.material_flow_dx[0.0,0.2,Liq,H2O] : 0.0007472144864912295\n",
      "fs.EDstack.diluate.material_flow_dx[0.0,0.25,Liq,H2O] : 0.0007255464400658813\n",
      "fs.EDstack.diluate.material_flow_dx[0.0,0.3,Liq,H2O] : 0.0007049685207931191\n",
      "fs.EDstack.diluate.material_flow_dx[0.0,0.35,Liq,H2O] : 0.0006854274137143765\n",
      "fs.EDstack.diluate.material_flow_dx[0.0,0.4,Liq,H2O] : 0.0006668718389237219\n",
      "fs.EDstack.diluate.material_flow_dx[0.0,0.45,Liq,H2O] : 0.0006492526004442038\n",
      "fs.EDstack.diluate.material_flow_dx[0.0,0.5,Liq,H2O] : 0.0006325226036683428\n",
      "fs.EDstack.diluate.material_flow_dx[0.0,0.55,Liq,H2O] : 0.0006166368480363735\n",
      "fs.EDstack.diluate.material_flow_dx[0.0,0.6,Liq,H2O] : 0.0006015524004321261\n",
      "fs.EDstack.diluate.material_flow_dx[0.0,0.65,Liq,H2O] : 0.0005872283537838124\n",
      "fs.EDstack.diluate.material_flow_dx[0.0,0.7,Liq,H2O] : 0.0005736257745326226\n",
      "fs.EDstack.diluate.material_flow_dx[0.0,0.75,Liq,H2O] : 0.0005607076419484306\n",
      "fs.EDstack.diluate.material_flow_dx[0.0,0.8,Liq,H2O] : 0.0005484387817057168\n",
      "fs.EDstack.diluate.material_flow_dx[0.0,0.85,Liq,H2O] : 0.0005367857956647041\n",
      "fs.EDstack.diluate.material_flow_dx[0.0,0.9,Liq,H2O] : 0.0005257169894162397\n",
      "fs.EDstack.diluate.material_flow_dx[0.0,0.95,Liq,H2O] : 0.000515202298830422\n",
      "fs.EDstack.diluate.material_flow_dx[0.0,1.0,Liq,H2O] : 0.0005052132165871302\n",
      "fs.EDstack.diluate.mass_transfer_term[0.0,0.0,Liq,H2O] : 0.0005035232371657658\n",
      "fs.EDstack.diluate.mass_transfer_term[0.0,0.05,Liq,H2O] : 0.0004876909820203307\n",
      "fs.EDstack.diluate.mass_transfer_term[0.0,0.1,Liq,H2O] : 0.00047264512857987597\n",
      "fs.EDstack.diluate.mass_transfer_term[0.0,0.15,Liq,H2O] : 0.0004583499533698656\n",
      "fs.EDstack.diluate.mass_transfer_term[0.0,0.2,Liq,H2O] : 0.00044477052767340463\n",
      "fs.EDstack.diluate.mass_transfer_term[0.0,0.25,Liq,H2O] : 0.0004318728809916464\n",
      "fs.EDstack.diluate.mass_transfer_term[0.0,0.3,Liq,H2O] : 0.00041962411951976063\n",
      "fs.EDstack.diluate.mass_transfer_term[0.0,0.35,Liq,H2O] : 0.000407992508163363\n",
      "fs.EDstack.diluate.mass_transfer_term[0.0,0.4,Liq,H2O] : 0.0003969475231689224\n",
      "fs.EDstack.diluate.mass_transfer_term[0.0,0.45,Liq,H2O] : 0.000386459881216825\n",
      "fs.EDstack.diluate.mass_transfer_term[0.0,0.5,Liq,H2O] : 0.00037650154980261875\n",
      "fs.EDstack.diluate.mass_transfer_term[0.0,0.55,Liq,H2O] : 0.0003670457428788243\n",
      "fs.EDstack.diluate.mass_transfer_term[0.0,0.6,Liq,H2O] : 0.00035806690501915005\n",
      "fs.EDstack.diluate.mass_transfer_term[0.0,0.65,Liq,H2O] : 0.000349540686776103\n",
      "fs.EDstack.diluate.mass_transfer_term[0.0,0.7,Liq,H2O] : 0.0003414439134122964\n",
      "fs.EDstack.diluate.mass_transfer_term[0.0,0.75,Liq,H2O] : 0.00033375454877884573\n",
      "fs.EDstack.diluate.mass_transfer_term[0.0,0.8,Liq,H2O] : 0.00032645165577722723\n",
      "fs.EDstack.diluate.mass_transfer_term[0.0,0.85,Liq,H2O] : 0.0003195153545623357\n",
      "fs.EDstack.diluate.mass_transfer_term[0.0,0.9,Liq,H2O] : 0.0003129267794144372\n",
      "fs.EDstack.diluate.mass_transfer_term[0.0,0.95,Liq,H2O] : 0.0003066680350181142\n",
      "fs.EDstack.diluate.mass_transfer_term[0.0,1.0,Liq,H2O] : 0.0003007221527304376\n",
      "fs.EDstack.diluate.power_electrical_x[0.0,0.05] : 0.0003464574482871471\n",
      "fs.EDstack.diluate.power_electrical_x[0.0,0.1] : 0.0006779089733212829\n",
      "fs.EDstack.diluate.power_electrical_x[0.0,0.15] : 0.0009951136434053665\n",
      "fs.EDstack.concentrate.material_flow_dx[0.0,0.05,Liq,H2O] : 0.0008193208497943331\n",
      "fs.EDstack.concentrate.material_flow_dx[0.0,0.1,Liq,H2O] : 0.0007940438160143603\n",
      "fs.EDstack.concentrate.material_flow_dx[0.0,0.15,Liq,H2O] : 0.0007700279216615343\n",
      "fs.EDstack.concentrate.material_flow_dx[0.0,0.2,Liq,H2O] : 0.0007472144864914711\n",
      "fs.EDstack.concentrate.material_flow_dx[0.0,0.25,Liq,H2O] : 0.0007255464400661084\n",
      "fs.EDstack.concentrate.material_flow_dx[0.0,0.3,Liq,H2O] : 0.0007049685207933318\n",
      "fs.EDstack.concentrate.material_flow_dx[0.0,0.35,Liq,H2O] : 0.0006854274137145748\n",
      "fs.EDstack.concentrate.material_flow_dx[0.0,0.4,Liq,H2O] : 0.0006668718389239059\n",
      "fs.EDstack.concentrate.material_flow_dx[0.0,0.45,Liq,H2O] : 0.0006492526004443735\n",
      "fs.EDstack.concentrate.material_flow_dx[0.0,0.5,Liq,H2O] : 0.0006325226036684982\n",
      "fs.EDstack.concentrate.material_flow_dx[0.0,0.55,Liq,H2O] : 0.0006166368480365147\n",
      "fs.EDstack.concentrate.material_flow_dx[0.0,0.6,Liq,H2O] : 0.000601552400432253\n",
      "fs.EDstack.concentrate.material_flow_dx[0.0,0.65,Liq,H2O] : 0.0005872283537839252\n",
      "fs.EDstack.concentrate.material_flow_dx[0.0,0.7,Liq,H2O] : 0.0005736257745327212\n",
      "fs.EDstack.concentrate.material_flow_dx[0.0,0.75,Liq,H2O] : 0.0005607076419485151\n",
      "fs.EDstack.concentrate.material_flow_dx[0.0,0.8,Liq,H2O] : 0.0005484387817057871\n",
      "fs.EDstack.concentrate.material_flow_dx[0.0,0.85,Liq,H2O] : 0.0005367857956647603\n",
      "fs.EDstack.concentrate.material_flow_dx[0.0,0.9,Liq,H2O] : 0.0005257169894162817\n",
      "fs.EDstack.concentrate.material_flow_dx[0.0,0.95,Liq,H2O] : 0.0005152022988304502\n",
      "fs.EDstack.concentrate.material_flow_dx[0.0,1.0,Liq,H2O] : 0.0005052132165871442\n",
      "fs.EDstack.concentrate.mass_transfer_term[0.0,0.0,Liq,H2O] : 0.0005035232371657658\n",
      "fs.EDstack.concentrate.mass_transfer_term[0.0,0.05,Liq,H2O] : 0.00048769098202033076\n",
      "fs.EDstack.concentrate.mass_transfer_term[0.0,0.1,Liq,H2O] : 0.00047264512857987597\n",
      "fs.EDstack.concentrate.mass_transfer_term[0.0,0.15,Liq,H2O] : 0.00045834995336986573\n",
      "fs.EDstack.concentrate.mass_transfer_term[0.0,0.2,Liq,H2O] : 0.0004447705276734047\n",
      "fs.EDstack.concentrate.mass_transfer_term[0.0,0.25,Liq,H2O] : 0.0004318728809916464\n",
      "fs.EDstack.concentrate.mass_transfer_term[0.0,0.3,Liq,H2O] : 0.00041962411951976063\n",
      "fs.EDstack.concentrate.mass_transfer_term[0.0,0.35,Liq,H2O] : 0.000407992508163363\n",
      "fs.EDstack.concentrate.mass_transfer_term[0.0,0.4,Liq,H2O] : 0.0003969475231689224\n",
      "fs.EDstack.concentrate.mass_transfer_term[0.0,0.45,Liq,H2O] : 0.000386459881216825\n",
      "fs.EDstack.concentrate.mass_transfer_term[0.0,0.5,Liq,H2O] : 0.00037650154980261875\n",
      "fs.EDstack.concentrate.mass_transfer_term[0.0,0.55,Liq,H2O] : 0.0003670457428788243\n",
      "fs.EDstack.concentrate.mass_transfer_term[0.0,0.6,Liq,H2O] : 0.00035806690501915\n",
      "fs.EDstack.concentrate.mass_transfer_term[0.0,0.65,Liq,H2O] : 0.000349540686776103\n",
      "fs.EDstack.concentrate.mass_transfer_term[0.0,0.7,Liq,H2O] : 0.0003414439134122964\n",
      "fs.EDstack.concentrate.mass_transfer_term[0.0,0.75,Liq,H2O] : 0.0003337545487788457\n",
      "fs.EDstack.concentrate.mass_transfer_term[0.0,0.8,Liq,H2O] : 0.00032645165577722723\n",
      "fs.EDstack.concentrate.mass_transfer_term[0.0,0.85,Liq,H2O] : 0.0003195153545623357\n",
      "fs.EDstack.concentrate.mass_transfer_term[0.0,0.9,Liq,H2O] : 0.0003129267794144372\n",
      "fs.EDstack.concentrate.mass_transfer_term[0.0,0.95,Liq,H2O] : 0.0003066680350181142\n",
      "fs.EDstack.concentrate.mass_transfer_term[0.0,1.0,Liq,H2O] : 0.0003007221527304375\n",
      "fs.sepa1.to_conc_in1_state[0.0].flow_mol_phase_comp[Liq,H2O] : 1.44363831522963e-08\n",
      "fs.sepa1.to_conc_in1_state[0.0].flow_mol_phase_comp[Liq,Na_+] : 4.9144000123668484e-09\n",
      "fs.sepa1.to_conc_in1_state[0.0].flow_mol_phase_comp[Liq,Cl_-] : 4.914400012365521e-09\n",
      "fs.sepa1.to_conc_in1_state[0.0].flow_mass_phase_comp[Liq,H2O] : 1.44363831522963e-08\n",
      "fs.sepa1.to_conc_in1_state[0.0].flow_mass_phase_comp[Liq,Na_+] : 4.9144000123668484e-09\n",
      "fs.sepa1.to_conc_in1_state[0.0].flow_mass_phase_comp[Liq,Cl_-] : 4.914400012365521e-09\n",
      "fs.sepa1.to_conc_in1_state[0.0].flow_vol_phase[Liq] : 1.445235495233649e-08\n"
     ]
    },
    {
     "name": "stdout",
     "output_type": "stream",
     "text": [
      "===Excecuting c0_mass= 1.0, WR=0.5,V=4.0===\n",
      "2023-04-26 17:17:40 [WARNING] idaes.core.base.costing_base: flow_expr is an expression with a lower bound of less than zero. Costing requires that all flows have a lower bound equal to or greater than zero to avoid negative costs.\n",
      "2023-04-26 17:17:40 [WARNING] idaes.core.base.costing_base: flow_expr is an expression with a lower bound of less than zero. Costing requires that all flows have a lower bound equal to or greater than zero to avoid negative costs.\n",
      "======DOF_intial======\n",
      "\n",
      "========================================================================\n",
      "Model Statistics   \n",
      "\n",
      "Degrees of Freedom: 38 \n",
      "\n",
      "Total No. Variables: 2374 \n",
      "    No. Fixed Variables: 24\n",
      "    No. Unused Variables: 16 (Fixed):5)\n",
      "    No. Variables only in Inequalities: 0 (Fixed: 0) \n",
      "\n",
      "Total No. Constraints: 2301 \n",
      "    No. Equality Constraints: 2301 (Deactivated: 0)\n",
      "    No. Inequality Constraints: 0 (Deactivated: 0)\n",
      "\n",
      "No. Objectives: 0 (Deactivated: 0)\n",
      "\n",
      "No. Blocks: 94 (Deactivated: 0) \n",
      "No. Expressions: 10 \n",
      "========================================================================\n",
      "\n",
      "2023-04-26 17:17:40 [WARNING] idaes.watertap.property_models.multicomp_aq_sol_prop_pack: While using the calculate_state method on fs.feed.properties[0.0], variable flow_vol_phase was provided as an argument in var_args, but it does not have a scaling factor. This suggests that the calculate_scaling_factor method has not been used or the variable was created on demand after the scaling factors were calculated. It is recommended to touch all relevant variables (i.e. call them or set an initial value) before using the calculate_scaling_factor method.\n",
      "2023-04-26 17:17:40 [WARNING] idaes.watertap.property_models.multicomp_aq_sol_prop_pack: While using the calculate_state method on fs.feed.properties[0.0], variable conc_mol_phase_comp was provided as an argument in var_args, but it does not have a scaling factor. This suggests that the calculate_scaling_factor method has not been used or the variable was created on demand after the scaling factors were calculated. It is recommended to touch all relevant variables (i.e. call them or set an initial value) before using the calculate_scaling_factor method.\n",
      "2023-04-26 17:17:40 [WARNING] idaes.watertap.property_models.multicomp_aq_sol_prop_pack: While using the calculate_state method on fs.feed.properties[0.0], variable conc_mol_phase_comp was provided as an argument in var_args, but it does not have a scaling factor. This suggests that the calculate_scaling_factor method has not been used or the variable was created on demand after the scaling factors were calculated. It is recommended to touch all relevant variables (i.e. call them or set an initial value) before using the calculate_scaling_factor method.\n",
      "2023-04-26 17:17:40 [WARNING] idaes.core.util.scaling: Missing scaling factor for fs.EDstack.diluate.area\n",
      "2023-04-26 17:17:40 [WARNING] idaes.core.util.scaling: Missing scaling factor for fs.EDstack.concentrate.area\n",
      "2023-04-26 17:17:40 [WARNING] idaes.core.util.scaling: Missing scaling factor for fs.EDstack.membrane_thickness\n",
      "2023-04-26 17:17:40 [WARNING] idaes.core.util.scaling: Missing scaling factor for fs.EDstack.membrane_areal_resistance\n",
      "2023-04-26 17:17:40 [WARNING] idaes.core.util.scaling: Missing scaling factor for fs.EDstack.solute_diffusivity_membrane\n",
      "2023-04-26 17:17:40 [WARNING] idaes.core.util.scaling: Missing scaling factor for fs.EDstack.diffus_mass\n",
      "2023-04-26 17:17:40 [WARNING] idaes.core.util.scaling: Missing scaling factor for fs.EDstack.water_permeability_membrane\n",
      "2023-04-26 17:17:40 [WARNING] idaes.core.util.scaling: Missing scaling factor for fs.EDstack.channel_height\n",
      "2023-04-26 17:17:40 [WARNING] idaes.core.util.scaling: Missing scaling factor for fs.EDstack.spacer_porosity\n",
      "2023-04-26 17:17:40 [WARNING] idaes.core.util.scaling: Missing scaling factor for fs.EDstack.electrodes_resistance\n",
      "2023-04-26 17:17:40 [WARNING] idaes.core.util.scaling: Missing scaling factor for fs.EDstack.spacer_specific_area\n",
      "2023-04-26 17:17:40 [WARNING] idaes.core.util.scaling: Missing scaling factor for fs.EDstack.hydraulic_diameter\n",
      "2023-04-26 17:17:40 [WARNING] idaes.core.util.scaling: Missing scaling factor for fs.EDstack.N_Re\n",
      "2023-04-26 17:17:40 [WARNING] idaes.core.util.scaling: Missing scaling factor for fs.EDstack.N_Sc\n",
      "2023-04-26 17:17:40 [WARNING] idaes.core.util.scaling: Missing scaling factor for fs.EDstack.N_Sh\n",
      "2023-04-26 17:17:40 [WARNING] idaes.core.util.scaling: Missing scaling factor for fs.EDstack.friction_factor\n",
      "2023-04-26 17:17:40 [WARNING] idaes.core.util.scaling: Missing scaling factor for fs.EDstack.pressure_drop\n",
      "2023-04-26 17:17:40 [WARNING] idaes.core.util.scaling: Missing scaling factor for fs.EDstack.pressure_drop_total\n",
      "SFSFSFSF 5555.555555555557\n",
      "2023-04-26 17:17:40 [INFO] idaes.init.fs.feed: Initialization Complete.\n",
      "2023-04-26 17:17:40 [INFO] idaes.init.fs.sepa0: Initialization Step 2 Complete: optimal - Optimal Solution Found\n",
      "2023-04-26 17:17:40 [INFO] idaes.init.fs.pump1.control_volume: Initialization Complete\n",
      "2023-04-26 17:17:40 [INFO] idaes.init.fs.pump1: Initialization Complete: optimal - Optimal Solution Found\n",
      "2023-04-26 17:17:41 [INFO] idaes.init.fs.pump0.control_volume: Initialization Complete\n",
      "2023-04-26 17:17:41 [INFO] idaes.init.fs.pump0: Initialization Complete: optimal - Optimal Solution Found\n",
      "2023-04-26 17:17:41 [INFO] idaes.init.fs.EDstack.diluate: Initialization Complete\n",
      "2023-04-26 17:17:41 [WARNING] idaes.init.fs.EDstack: Non-zero degrees of freedom: Degrees of freedom on fs.EDstack = 5. Fix 5 more variable(s)\n",
      "2023-04-26 17:17:41 [INFO] idaes.init.fs.EDstack.concentrate: Initialization Complete\n",
      "2023-04-26 17:18:26 [INFO] idaes.init.fs.EDstack: Initialization Step 3 successful.\n",
      "2023-04-26 17:18:26 [INFO] idaes.init.fs.EDstack: Initialization Complete: optimal - Optimal Solution Found\n",
      "\n",
      "====================================================================================\n",
      "Unit : fs.EDstack                                                          Time: 0.0\n",
      "------------------------------------------------------------------------------------\n",
      "    Unit Performance\n",
      "\n",
      "    Variables: \n",
      "\n",
      "    Key                                               : Value   : Units         : Fixed : Bounds\n",
      "    Specific electrical power consumption (kW*h/m**3) :  15228. :        pascal : False : (0, 1000)\n",
      "             Total electrical power consumption(Watt) :  3.9550 :          watt : False : (0, 12100)\n",
      "                               Water recovery by mass : 0.49956 : dimensionless : False : (0, 1)\n",
      "\n",
      "------------------------------------------------------------------------------------\n",
      "    Stream Table\n",
      "                                            Units       Diluate Channel Inlet  Concentrate Channel Inlet  Diluate Channel Outlet  Concentrate Channel Outlet\n",
      "    flow_mol_phase_comp ('Liq', 'H2O')   mole / second           14.430                   14.430                    14.417                    14.443        \n",
      "    flow_mol_phase_comp ('Liq', 'Na_+')  mole / second        0.0044444                0.0044444                 0.0035243                 0.0053646        \n",
      "    flow_mol_phase_comp ('Liq', 'Cl_-')  mole / second        0.0044444                0.0044444                 0.0035243                 0.0053646        \n",
      "    temperature                                 kelvin           298.15                   298.15                    298.15                    298.15        \n",
      "    pressure                                    pascal       3.0132e+05               3.0132e+05                2.7426e+05                2.7426e+05        \n",
      "====================================================================================\n",
      "2023-04-26 17:18:26 [INFO] idaes.init.fs.prod: Initialization Complete.\n",
      "2023-04-26 17:18:26 [INFO] idaes.init.fs.prod: Initialization Complete.\n",
      "2023-04-26 17:18:26 [INFO] idaes.init.fs.sepa1: Initialization Step 2 Complete: optimal - Optimal Solution Found\n",
      "2023-04-26 17:18:26 [INFO] idaes.init.fs.disp: Initialization Complete.\n",
      "2023-04-26 17:18:26 [INFO] idaes.init.fs.mix0: Initialization Complete: optimal - Optimal Solution Found\n",
      "BADLY SCALED VARS & CONSTRAINS\n",
      "fs.mix0.from_conc_out_state[0.0].flow_mol_phase_comp[Liq,H2O] : 1.4442576933333607e-08\n",
      "fs.mix0.from_conc_out_state[0.0].flow_mol_phase_comp[Liq,Na_+] : 5.364566489922395e-09\n",
      "fs.mix0.from_conc_out_state[0.0].flow_mol_phase_comp[Liq,Cl_-] : 5.3645664899209866e-09\n",
      "fs.mix0.from_conc_out_state[0.0].flow_mass_phase_comp[Liq,H2O] : 1.4442576933333607e-08\n",
      "fs.mix0.from_conc_out_state[0.0].flow_mass_phase_comp[Liq,Na_+] : 5.364566489922395e-09\n",
      "fs.mix0.from_conc_out_state[0.0].flow_mass_phase_comp[Liq,Cl_-] : 5.364566489920987e-09\n",
      "fs.mix0.from_conc_out_state[0.0].flow_vol_phase[Liq] : 1.4460011774425854e-08\n",
      "fs.EDstack.diluate.material_flow_dx[0.0,1.0,Liq,H2O] : 0.000982095681469818\n",
      "fs.EDstack.diluate.mass_transfer_term[0.0,0.05,Liq,H2O] : 0.000973584777159222\n",
      "fs.EDstack.diluate.mass_transfer_term[0.0,0.1,Liq,H2O] : 0.0009422338331177094\n",
      "fs.EDstack.diluate.mass_transfer_term[0.0,0.15,Liq,H2O] : 0.0009123528322025883\n",
      "fs.EDstack.diluate.mass_transfer_term[0.0,0.2,Liq,H2O] : 0.0008839093736117132\n",
      "fs.EDstack.diluate.mass_transfer_term[0.0,0.25,Liq,H2O] : 0.0008568632688330478\n",
      "fs.EDstack.diluate.mass_transfer_term[0.0,0.3,Liq,H2O] : 0.0008311687362122596\n",
      "fs.EDstack.diluate.mass_transfer_term[0.0,0.35,Liq,H2O] : 0.0008067761673155381\n",
      "fs.EDstack.diluate.mass_transfer_term[0.0,0.4,Liq,H2O] : 0.0007836335392836581\n",
      "fs.EDstack.diluate.mass_transfer_term[0.0,0.45,Liq,H2O] : 0.0007616875356086263\n",
      "fs.EDstack.diluate.mass_transfer_term[0.0,0.5,Liq,H2O] : 0.0007408844276161372\n",
      "fs.EDstack.diluate.mass_transfer_term[0.0,0.55,Liq,H2O] : 0.0007211707602623087\n",
      "fs.EDstack.diluate.mass_transfer_term[0.0,0.6,Liq,H2O] : 0.0007024938784907276\n",
      "fs.EDstack.diluate.mass_transfer_term[0.0,0.65,Liq,H2O] : 0.0006848023241832989\n",
      "fs.EDstack.diluate.mass_transfer_term[0.0,0.7,Liq,H2O] : 0.0006680461285208847\n",
      "fs.EDstack.diluate.mass_transfer_term[0.0,0.75,Liq,H2O] : 0.0006521770202050113\n",
      "fs.EDstack.diluate.mass_transfer_term[0.0,0.8,Liq,H2O] : 0.0006371485663526674\n",
      "fs.EDstack.diluate.mass_transfer_term[0.0,0.85,Liq,H2O] : 0.0006229162598504422\n",
      "fs.EDstack.diluate.mass_transfer_term[0.0,0.9,Liq,H2O] : 0.0006094375644446072\n",
      "fs.EDstack.diluate.mass_transfer_term[0.0,0.95,Liq,H2O] : 0.0005966719267668215\n",
      "fs.EDstack.diluate.mass_transfer_term[0.0,1.0,Liq,H2O] : 0.000584580762779657\n",
      "fs.EDstack.concentrate.material_flow_dx[0.0,1.0,Liq,H2O] : 0.000982095681469832\n",
      "fs.EDstack.concentrate.mass_transfer_term[0.0,0.05,Liq,H2O] : 0.000973584777159222\n",
      "fs.EDstack.concentrate.mass_transfer_term[0.0,0.1,Liq,H2O] : 0.0009422338331177094\n",
      "fs.EDstack.concentrate.mass_transfer_term[0.0,0.15,Liq,H2O] : 0.0009123528322025883\n",
      "fs.EDstack.concentrate.mass_transfer_term[0.0,0.2,Liq,H2O] : 0.0008839093736117132\n",
      "fs.EDstack.concentrate.mass_transfer_term[0.0,0.25,Liq,H2O] : 0.000856863268833048\n",
      "fs.EDstack.concentrate.mass_transfer_term[0.0,0.3,Liq,H2O] : 0.0008311687362122596\n",
      "fs.EDstack.concentrate.mass_transfer_term[0.0,0.35,Liq,H2O] : 0.0008067761673155381\n",
      "fs.EDstack.concentrate.mass_transfer_term[0.0,0.4,Liq,H2O] : 0.0007836335392836581\n",
      "fs.EDstack.concentrate.mass_transfer_term[0.0,0.45,Liq,H2O] : 0.0007616875356086263\n",
      "fs.EDstack.concentrate.mass_transfer_term[0.0,0.5,Liq,H2O] : 0.0007408844276161372\n",
      "fs.EDstack.concentrate.mass_transfer_term[0.0,0.55,Liq,H2O] : 0.0007211707602623087\n",
      "fs.EDstack.concentrate.mass_transfer_term[0.0,0.6,Liq,H2O] : 0.0007024938784907278\n",
      "fs.EDstack.concentrate.mass_transfer_term[0.0,0.65,Liq,H2O] : 0.0006848023241832989\n",
      "fs.EDstack.concentrate.mass_transfer_term[0.0,0.7,Liq,H2O] : 0.0006680461285208847\n",
      "fs.EDstack.concentrate.mass_transfer_term[0.0,0.75,Liq,H2O] : 0.0006521770202050113\n",
      "fs.EDstack.concentrate.mass_transfer_term[0.0,0.8,Liq,H2O] : 0.0006371485663526673\n",
      "fs.EDstack.concentrate.mass_transfer_term[0.0,0.85,Liq,H2O] : 0.0006229162598504422\n",
      "fs.EDstack.concentrate.mass_transfer_term[0.0,0.9,Liq,H2O] : 0.0006094375644446072\n",
      "fs.EDstack.concentrate.mass_transfer_term[0.0,0.95,Liq,H2O] : 0.0005966719267668216\n",
      "fs.EDstack.concentrate.mass_transfer_term[0.0,1.0,Liq,H2O] : 0.0005845807627796571\n",
      "fs.sepa1.to_conc_in1_state[0.0].flow_mol_phase_comp[Liq,H2O] : 1.4442576933333607e-08\n",
      "fs.sepa1.to_conc_in1_state[0.0].flow_mol_phase_comp[Liq,Na_+] : 5.364566489922395e-09\n",
      "fs.sepa1.to_conc_in1_state[0.0].flow_mol_phase_comp[Liq,Cl_-] : 5.3645664899209866e-09\n",
      "fs.sepa1.to_conc_in1_state[0.0].flow_mass_phase_comp[Liq,H2O] : 1.4442576933333605e-08\n",
      "fs.sepa1.to_conc_in1_state[0.0].flow_mass_phase_comp[Liq,Na_+] : 5.364566489922395e-09\n",
      "fs.sepa1.to_conc_in1_state[0.0].flow_mass_phase_comp[Liq,Cl_-] : 5.364566489920987e-09\n",
      "fs.sepa1.to_conc_in1_state[0.0].flow_vol_phase[Liq] : 1.4460011774425849e-08\n"
     ]
    },
    {
     "name": "stdout",
     "output_type": "stream",
     "text": [
      "===Excecuting c0_mass= 1.0, WR=0.5,V=6.0===\n",
      "2023-04-26 17:18:28 [WARNING] idaes.core.base.costing_base: flow_expr is an expression with a lower bound of less than zero. Costing requires that all flows have a lower bound equal to or greater than zero to avoid negative costs.\n",
      "2023-04-26 17:18:28 [WARNING] idaes.core.base.costing_base: flow_expr is an expression with a lower bound of less than zero. Costing requires that all flows have a lower bound equal to or greater than zero to avoid negative costs.\n",
      "======DOF_intial======\n",
      "\n",
      "========================================================================\n",
      "Model Statistics   \n",
      "\n",
      "Degrees of Freedom: 38 \n",
      "\n",
      "Total No. Variables: 2374 \n",
      "    No. Fixed Variables: 24\n",
      "    No. Unused Variables: 16 (Fixed):5)\n",
      "    No. Variables only in Inequalities: 0 (Fixed: 0) \n",
      "\n",
      "Total No. Constraints: 2301 \n",
      "    No. Equality Constraints: 2301 (Deactivated: 0)\n",
      "    No. Inequality Constraints: 0 (Deactivated: 0)\n",
      "\n",
      "No. Objectives: 0 (Deactivated: 0)\n",
      "\n",
      "No. Blocks: 94 (Deactivated: 0) \n",
      "No. Expressions: 10 \n",
      "========================================================================\n",
      "\n",
      "2023-04-26 17:18:28 [WARNING] idaes.watertap.property_models.multicomp_aq_sol_prop_pack: While using the calculate_state method on fs.feed.properties[0.0], variable flow_vol_phase was provided as an argument in var_args, but it does not have a scaling factor. This suggests that the calculate_scaling_factor method has not been used or the variable was created on demand after the scaling factors were calculated. It is recommended to touch all relevant variables (i.e. call them or set an initial value) before using the calculate_scaling_factor method.\n",
      "2023-04-26 17:18:28 [WARNING] idaes.watertap.property_models.multicomp_aq_sol_prop_pack: While using the calculate_state method on fs.feed.properties[0.0], variable conc_mol_phase_comp was provided as an argument in var_args, but it does not have a scaling factor. This suggests that the calculate_scaling_factor method has not been used or the variable was created on demand after the scaling factors were calculated. It is recommended to touch all relevant variables (i.e. call them or set an initial value) before using the calculate_scaling_factor method.\n",
      "2023-04-26 17:18:28 [WARNING] idaes.watertap.property_models.multicomp_aq_sol_prop_pack: While using the calculate_state method on fs.feed.properties[0.0], variable conc_mol_phase_comp was provided as an argument in var_args, but it does not have a scaling factor. This suggests that the calculate_scaling_factor method has not been used or the variable was created on demand after the scaling factors were calculated. It is recommended to touch all relevant variables (i.e. call them or set an initial value) before using the calculate_scaling_factor method.\n",
      "2023-04-26 17:18:28 [WARNING] idaes.core.util.scaling: Missing scaling factor for fs.EDstack.diluate.area\n",
      "2023-04-26 17:18:28 [WARNING] idaes.core.util.scaling: Missing scaling factor for fs.EDstack.concentrate.area\n",
      "2023-04-26 17:18:28 [WARNING] idaes.core.util.scaling: Missing scaling factor for fs.EDstack.membrane_thickness\n",
      "2023-04-26 17:18:28 [WARNING] idaes.core.util.scaling: Missing scaling factor for fs.EDstack.membrane_areal_resistance\n",
      "2023-04-26 17:18:28 [WARNING] idaes.core.util.scaling: Missing scaling factor for fs.EDstack.solute_diffusivity_membrane\n",
      "2023-04-26 17:18:28 [WARNING] idaes.core.util.scaling: Missing scaling factor for fs.EDstack.diffus_mass\n",
      "2023-04-26 17:18:28 [WARNING] idaes.core.util.scaling: Missing scaling factor for fs.EDstack.water_permeability_membrane\n",
      "2023-04-26 17:18:28 [WARNING] idaes.core.util.scaling: Missing scaling factor for fs.EDstack.channel_height\n",
      "2023-04-26 17:18:28 [WARNING] idaes.core.util.scaling: Missing scaling factor for fs.EDstack.spacer_porosity\n",
      "2023-04-26 17:18:28 [WARNING] idaes.core.util.scaling: Missing scaling factor for fs.EDstack.electrodes_resistance\n",
      "2023-04-26 17:18:28 [WARNING] idaes.core.util.scaling: Missing scaling factor for fs.EDstack.spacer_specific_area\n",
      "2023-04-26 17:18:28 [WARNING] idaes.core.util.scaling: Missing scaling factor for fs.EDstack.hydraulic_diameter\n",
      "2023-04-26 17:18:28 [WARNING] idaes.core.util.scaling: Missing scaling factor for fs.EDstack.N_Re\n",
      "2023-04-26 17:18:28 [WARNING] idaes.core.util.scaling: Missing scaling factor for fs.EDstack.N_Sc\n",
      "2023-04-26 17:18:28 [WARNING] idaes.core.util.scaling: Missing scaling factor for fs.EDstack.N_Sh\n",
      "2023-04-26 17:18:28 [WARNING] idaes.core.util.scaling: Missing scaling factor for fs.EDstack.friction_factor\n",
      "2023-04-26 17:18:28 [WARNING] idaes.core.util.scaling: Missing scaling factor for fs.EDstack.pressure_drop\n",
      "2023-04-26 17:18:28 [WARNING] idaes.core.util.scaling: Missing scaling factor for fs.EDstack.pressure_drop_total\n",
      "SFSFSFSF 5555.555555555557\n",
      "2023-04-26 17:18:28 [INFO] idaes.init.fs.feed: Initialization Complete.\n",
      "2023-04-26 17:18:28 [INFO] idaes.init.fs.sepa0: Initialization Step 2 Complete: optimal - Optimal Solution Found\n",
      "2023-04-26 17:18:28 [INFO] idaes.init.fs.pump1.control_volume: Initialization Complete\n",
      "2023-04-26 17:18:28 [INFO] idaes.init.fs.pump1: Initialization Complete: optimal - Optimal Solution Found\n",
      "2023-04-26 17:18:29 [INFO] idaes.init.fs.pump0.control_volume: Initialization Complete\n",
      "2023-04-26 17:18:29 [INFO] idaes.init.fs.pump0: Initialization Complete: optimal - Optimal Solution Found\n",
      "2023-04-26 17:18:29 [INFO] idaes.init.fs.EDstack.diluate: Initialization Complete\n",
      "2023-04-26 17:18:29 [WARNING] idaes.init.fs.EDstack: Non-zero degrees of freedom: Degrees of freedom on fs.EDstack = 5. Fix 5 more variable(s)\n",
      "2023-04-26 17:18:29 [INFO] idaes.init.fs.EDstack.concentrate: Initialization Complete\n",
      "2023-04-26 17:18:44 [INFO] idaes.init.fs.EDstack: Initialization Step 3 successful.\n",
      "2023-04-26 17:18:44 [INFO] idaes.init.fs.EDstack: Initialization Complete: optimal - Optimal Solution Found\n",
      "\n",
      "====================================================================================\n",
      "Unit : fs.EDstack                                                          Time: 0.0\n",
      "------------------------------------------------------------------------------------\n",
      "    Unit Performance\n",
      "\n",
      "    Variables: \n",
      "\n",
      "    Key                                               : Value   : Units         : Fixed : Bounds\n",
      "    Specific electrical power consumption (kW*h/m**3) :  33424. :        pascal : False : (0, 1000)\n",
      "             Total electrical power consumption(Watt) :  8.6766 :          watt : False : (0, 12100)\n",
      "                               Water recovery by mass : 0.49936 : dimensionless : False : (0, 1)\n",
      "\n",
      "------------------------------------------------------------------------------------\n",
      "    Stream Table\n",
      "                                            Units       Diluate Channel Inlet  Concentrate Channel Inlet  Diluate Channel Outlet  Concentrate Channel Outlet\n",
      "    flow_mol_phase_comp ('Liq', 'H2O')   mole / second           14.430                   14.430                    14.412                    14.448        \n",
      "    flow_mol_phase_comp ('Liq', 'Na_+')  mole / second        0.0044444                0.0044444                 0.0031026                 0.0057863        \n",
      "    flow_mol_phase_comp ('Liq', 'Cl_-')  mole / second        0.0044444                0.0044444                 0.0031026                 0.0057863        \n",
      "    temperature                                 kelvin           298.15                   298.15                    298.15                    298.15        \n",
      "    pressure                                    pascal       3.0132e+05               3.0132e+05                2.7426e+05                2.7426e+05        \n",
      "====================================================================================\n",
      "2023-04-26 17:18:44 [INFO] idaes.init.fs.prod: Initialization Complete.\n",
      "2023-04-26 17:18:44 [INFO] idaes.init.fs.prod: Initialization Complete.\n",
      "2023-04-26 17:18:44 [INFO] idaes.init.fs.sepa1: Initialization Step 2 Complete: optimal - Optimal Solution Found\n",
      "2023-04-26 17:18:44 [INFO] idaes.init.fs.disp: Initialization Complete.\n",
      "2023-04-26 17:18:44 [INFO] idaes.init.fs.mix0: Initialization Complete: optimal - Optimal Solution Found\n",
      "BADLY SCALED VARS & CONSTRAINS\n",
      "fs.mix0.from_conc_out_state[0.0].flow_mol_phase_comp[Liq,H2O] : 1.4448476998360208e-08\n",
      "fs.mix0.from_conc_out_state[0.0].flow_mol_phase_comp[Liq,Na_+] : 5.786261985425619e-09\n",
      "fs.mix0.from_conc_out_state[0.0].flow_mol_phase_comp[Liq,Cl_-] : 5.786261985424211e-09\n",
      "fs.mix0.from_conc_out_state[0.0].flow_mass_phase_comp[Liq,H2O] : 1.4448476998360208e-08\n",
      "fs.mix0.from_conc_out_state[0.0].flow_mass_phase_comp[Liq,Na_+] : 5.786261985425618e-09\n",
      "fs.mix0.from_conc_out_state[0.0].flow_mass_phase_comp[Liq,Cl_-] : 5.78626198542421e-09\n",
      "fs.mix0.from_conc_out_state[0.0].flow_vol_phase[Liq] : 1.446728234981284e-08\n",
      "fs.EDstack.diluate.mass_transfer_term[0.0,0.65,Liq,H2O] : 0.0009976667763285428\n",
      "fs.EDstack.diluate.mass_transfer_term[0.0,0.7,Liq,H2O] : 0.0009712353524290118\n",
      "fs.EDstack.diluate.mass_transfer_term[0.0,0.75,Liq,H2O] : 0.0009462894204043207\n",
      "fs.EDstack.diluate.mass_transfer_term[0.0,0.8,Liq,H2O] : 0.0009227504629333392\n",
      "fs.EDstack.diluate.mass_transfer_term[0.0,0.85,Liq,H2O] : 0.0009005421454523346\n",
      "fs.EDstack.diluate.mass_transfer_term[0.0,0.9,Liq,H2O] : 0.0008795907550326834\n",
      "fs.EDstack.diluate.mass_transfer_term[0.0,0.95,Liq,H2O] : 0.0008598254977317939\n",
      "fs.EDstack.diluate.mass_transfer_term[0.0,1.0,Liq,H2O] : 0.0008411786847341431\n",
      "fs.EDstack.concentrate.mass_transfer_term[0.0,0.65,Liq,H2O] : 0.0009976667763285428\n",
      "fs.EDstack.concentrate.mass_transfer_term[0.0,0.7,Liq,H2O] : 0.0009712353524290118\n",
      "fs.EDstack.concentrate.mass_transfer_term[0.0,0.75,Liq,H2O] : 0.0009462894204043207\n",
      "fs.EDstack.concentrate.mass_transfer_term[0.0,0.8,Liq,H2O] : 0.0009227504629333392\n",
      "fs.EDstack.concentrate.mass_transfer_term[0.0,0.85,Liq,H2O] : 0.0009005421454523346\n",
      "fs.EDstack.concentrate.mass_transfer_term[0.0,0.9,Liq,H2O] : 0.0008795907550326835\n",
      "fs.EDstack.concentrate.mass_transfer_term[0.0,0.95,Liq,H2O] : 0.0008598254977317936\n",
      "fs.EDstack.concentrate.mass_transfer_term[0.0,1.0,Liq,H2O] : 0.0008411786847341431\n",
      "fs.sepa1.to_conc_in1_state[0.0].flow_mol_phase_comp[Liq,H2O] : 1.4448476998360208e-08\n",
      "fs.sepa1.to_conc_in1_state[0.0].flow_mol_phase_comp[Liq,Na_+] : 5.786261985425619e-09\n",
      "fs.sepa1.to_conc_in1_state[0.0].flow_mol_phase_comp[Liq,Cl_-] : 5.786261985424211e-09\n",
      "fs.sepa1.to_conc_in1_state[0.0].flow_mass_phase_comp[Liq,H2O] : 1.4448476998360207e-08\n",
      "fs.sepa1.to_conc_in1_state[0.0].flow_mass_phase_comp[Liq,Na_+] : 5.78626198542562e-09\n",
      "fs.sepa1.to_conc_in1_state[0.0].flow_mass_phase_comp[Liq,Cl_-] : 5.786261985424212e-09\n",
      "fs.sepa1.to_conc_in1_state[0.0].flow_vol_phase[Liq] : 1.4467282349812837e-08\n"
     ]
    },
    {
     "name": "stdout",
     "output_type": "stream",
     "text": [
      "===Excecuting c0_mass= 1.0, WR=0.5,V=8.0===\n",
      "2023-04-26 17:18:46 [WARNING] idaes.core.base.costing_base: flow_expr is an expression with a lower bound of less than zero. Costing requires that all flows have a lower bound equal to or greater than zero to avoid negative costs.\n",
      "2023-04-26 17:18:46 [WARNING] idaes.core.base.costing_base: flow_expr is an expression with a lower bound of less than zero. Costing requires that all flows have a lower bound equal to or greater than zero to avoid negative costs.\n",
      "======DOF_intial======\n",
      "\n",
      "========================================================================\n",
      "Model Statistics   \n",
      "\n",
      "Degrees of Freedom: 38 \n",
      "\n",
      "Total No. Variables: 2374 \n",
      "    No. Fixed Variables: 24\n",
      "    No. Unused Variables: 16 (Fixed):5)\n",
      "    No. Variables only in Inequalities: 0 (Fixed: 0) \n",
      "\n",
      "Total No. Constraints: 2301 \n",
      "    No. Equality Constraints: 2301 (Deactivated: 0)\n",
      "    No. Inequality Constraints: 0 (Deactivated: 0)\n",
      "\n",
      "No. Objectives: 0 (Deactivated: 0)\n",
      "\n",
      "No. Blocks: 94 (Deactivated: 0) \n",
      "No. Expressions: 10 \n",
      "========================================================================\n",
      "\n",
      "2023-04-26 17:18:46 [WARNING] idaes.watertap.property_models.multicomp_aq_sol_prop_pack: While using the calculate_state method on fs.feed.properties[0.0], variable flow_vol_phase was provided as an argument in var_args, but it does not have a scaling factor. This suggests that the calculate_scaling_factor method has not been used or the variable was created on demand after the scaling factors were calculated. It is recommended to touch all relevant variables (i.e. call them or set an initial value) before using the calculate_scaling_factor method.\n",
      "2023-04-26 17:18:46 [WARNING] idaes.watertap.property_models.multicomp_aq_sol_prop_pack: While using the calculate_state method on fs.feed.properties[0.0], variable conc_mol_phase_comp was provided as an argument in var_args, but it does not have a scaling factor. This suggests that the calculate_scaling_factor method has not been used or the variable was created on demand after the scaling factors were calculated. It is recommended to touch all relevant variables (i.e. call them or set an initial value) before using the calculate_scaling_factor method.\n",
      "2023-04-26 17:18:46 [WARNING] idaes.watertap.property_models.multicomp_aq_sol_prop_pack: While using the calculate_state method on fs.feed.properties[0.0], variable conc_mol_phase_comp was provided as an argument in var_args, but it does not have a scaling factor. This suggests that the calculate_scaling_factor method has not been used or the variable was created on demand after the scaling factors were calculated. It is recommended to touch all relevant variables (i.e. call them or set an initial value) before using the calculate_scaling_factor method.\n",
      "2023-04-26 17:18:46 [WARNING] idaes.core.util.scaling: Missing scaling factor for fs.EDstack.diluate.area\n",
      "2023-04-26 17:18:46 [WARNING] idaes.core.util.scaling: Missing scaling factor for fs.EDstack.concentrate.area\n",
      "2023-04-26 17:18:46 [WARNING] idaes.core.util.scaling: Missing scaling factor for fs.EDstack.membrane_thickness\n",
      "2023-04-26 17:18:46 [WARNING] idaes.core.util.scaling: Missing scaling factor for fs.EDstack.membrane_areal_resistance\n",
      "2023-04-26 17:18:46 [WARNING] idaes.core.util.scaling: Missing scaling factor for fs.EDstack.solute_diffusivity_membrane\n",
      "2023-04-26 17:18:46 [WARNING] idaes.core.util.scaling: Missing scaling factor for fs.EDstack.diffus_mass\n",
      "2023-04-26 17:18:46 [WARNING] idaes.core.util.scaling: Missing scaling factor for fs.EDstack.water_permeability_membrane\n",
      "2023-04-26 17:18:46 [WARNING] idaes.core.util.scaling: Missing scaling factor for fs.EDstack.channel_height\n",
      "2023-04-26 17:18:46 [WARNING] idaes.core.util.scaling: Missing scaling factor for fs.EDstack.spacer_porosity\n",
      "2023-04-26 17:18:46 [WARNING] idaes.core.util.scaling: Missing scaling factor for fs.EDstack.electrodes_resistance\n",
      "2023-04-26 17:18:46 [WARNING] idaes.core.util.scaling: Missing scaling factor for fs.EDstack.spacer_specific_area\n",
      "2023-04-26 17:18:46 [WARNING] idaes.core.util.scaling: Missing scaling factor for fs.EDstack.hydraulic_diameter\n",
      "2023-04-26 17:18:46 [WARNING] idaes.core.util.scaling: Missing scaling factor for fs.EDstack.N_Re\n",
      "2023-04-26 17:18:46 [WARNING] idaes.core.util.scaling: Missing scaling factor for fs.EDstack.N_Sc\n",
      "2023-04-26 17:18:46 [WARNING] idaes.core.util.scaling: Missing scaling factor for fs.EDstack.N_Sh\n",
      "2023-04-26 17:18:46 [WARNING] idaes.core.util.scaling: Missing scaling factor for fs.EDstack.friction_factor\n",
      "2023-04-26 17:18:46 [WARNING] idaes.core.util.scaling: Missing scaling factor for fs.EDstack.pressure_drop\n",
      "2023-04-26 17:18:46 [WARNING] idaes.core.util.scaling: Missing scaling factor for fs.EDstack.pressure_drop_total\n",
      "SFSFSFSF 5555.555555555557\n",
      "2023-04-26 17:18:46 [INFO] idaes.init.fs.feed: Initialization Complete.\n",
      "2023-04-26 17:18:46 [INFO] idaes.init.fs.sepa0: Initialization Step 2 Complete: optimal - Optimal Solution Found\n",
      "2023-04-26 17:18:46 [INFO] idaes.init.fs.pump1.control_volume: Initialization Complete\n",
      "2023-04-26 17:18:46 [INFO] idaes.init.fs.pump1: Initialization Complete: optimal - Optimal Solution Found\n",
      "2023-04-26 17:18:47 [INFO] idaes.init.fs.pump0.control_volume: Initialization Complete\n",
      "2023-04-26 17:18:47 [INFO] idaes.init.fs.pump0: Initialization Complete: optimal - Optimal Solution Found\n",
      "2023-04-26 17:18:47 [INFO] idaes.init.fs.EDstack.diluate: Initialization Complete\n",
      "2023-04-26 17:18:47 [WARNING] idaes.init.fs.EDstack: Non-zero degrees of freedom: Degrees of freedom on fs.EDstack = 5. Fix 5 more variable(s)\n",
      "2023-04-26 17:18:47 [INFO] idaes.init.fs.EDstack.concentrate: Initialization Complete\n",
      "2023-04-26 17:18:49 [INFO] idaes.init.fs.EDstack: Initialization Step 3 successful.\n",
      "2023-04-26 17:18:49 [INFO] idaes.init.fs.EDstack: Initialization Complete: optimal - Optimal Solution Found\n",
      "\n",
      "====================================================================================\n",
      "Unit : fs.EDstack                                                          Time: 0.0\n",
      "------------------------------------------------------------------------------------\n",
      "    Unit Performance\n",
      "\n",
      "    Variables: \n",
      "\n",
      "    Key                                               : Value   : Units         : Fixed : Bounds\n",
      "    Specific electrical power consumption (kW*h/m**3) :  57639. :        pascal : False : (0, 1000)\n",
      "             Total electrical power consumption(Watt) :  14.955 :          watt : False : (0, 12100)\n",
      "                               Water recovery by mass : 0.49917 : dimensionless : False : (0, 1)\n",
      "\n",
      "------------------------------------------------------------------------------------\n",
      "    Stream Table\n",
      "                                            Units       Diluate Channel Inlet  Concentrate Channel Inlet  Diluate Channel Outlet  Concentrate Channel Outlet\n",
      "    flow_mol_phase_comp ('Liq', 'H2O')   mole / second           14.430                   14.430                    14.406                    14.454        \n",
      "    flow_mol_phase_comp ('Liq', 'Na_+')  mole / second        0.0044444                0.0044444                 0.0027155                 0.0061734        \n",
      "    flow_mol_phase_comp ('Liq', 'Cl_-')  mole / second        0.0044444                0.0044444                 0.0027155                 0.0061734        \n",
      "    temperature                                 kelvin           298.15                   298.15                    298.15                    298.15        \n",
      "    pressure                                    pascal       3.0132e+05               3.0132e+05                2.7426e+05                2.7426e+05        \n",
      "====================================================================================\n",
      "2023-04-26 17:18:49 [INFO] idaes.init.fs.prod: Initialization Complete.\n",
      "2023-04-26 17:18:49 [INFO] idaes.init.fs.prod: Initialization Complete.\n",
      "2023-04-26 17:18:49 [INFO] idaes.init.fs.sepa1: Initialization Step 2 Complete: optimal - Optimal Solution Found\n",
      "2023-04-26 17:18:49 [INFO] idaes.init.fs.disp: Initialization Complete.\n",
      "2023-04-26 17:18:49 [INFO] idaes.init.fs.mix0: Initialization Complete: optimal - Optimal Solution Found\n",
      "BADLY SCALED VARS & CONSTRAINS\n",
      "fs.mix0.from_conc_out_state[0.0].flow_mol_phase_comp[Liq,H2O] : 1.4454007157054906e-08\n",
      "fs.mix0.from_conc_out_state[0.0].flow_mol_phase_comp[Liq,Na_+] : 6.173357481247913e-09\n",
      "fs.mix0.from_conc_out_state[0.0].flow_mol_phase_comp[Liq,Cl_-] : 6.173357481180953e-09\n",
      "fs.mix0.from_conc_out_state[0.0].flow_mass_phase_comp[Liq,H2O] : 1.4454007157054906e-08\n",
      "fs.mix0.from_conc_out_state[0.0].flow_mass_phase_comp[Liq,Na_+] : 6.173357481247913e-09\n",
      "fs.mix0.from_conc_out_state[0.0].flow_mass_phase_comp[Liq,Cl_-] : 6.173357481180952e-09\n",
      "fs.mix0.from_conc_out_state[0.0].flow_vol_phase[Liq] : 1.4474070568868831e-08\n",
      "fs.sepa1.to_conc_in1_state[0.0].flow_mol_phase_comp[Liq,H2O] : 1.4454007157054906e-08\n",
      "fs.sepa1.to_conc_in1_state[0.0].flow_mol_phase_comp[Liq,Na_+] : 6.173357481247913e-09\n",
      "fs.sepa1.to_conc_in1_state[0.0].flow_mol_phase_comp[Liq,Cl_-] : 6.173357481180953e-09\n",
      "fs.sepa1.to_conc_in1_state[0.0].flow_mass_phase_comp[Liq,H2O] : 1.4454007157054904e-08\n",
      "fs.sepa1.to_conc_in1_state[0.0].flow_mass_phase_comp[Liq,Na_+] : 6.173357481247914e-09\n",
      "fs.sepa1.to_conc_in1_state[0.0].flow_mass_phase_comp[Liq,Cl_-] : 6.1733574811809536e-09\n",
      "fs.sepa1.to_conc_in1_state[0.0].flow_vol_phase[Liq] : 1.447407056886883e-08\n"
     ]
    },
    {
     "name": "stdout",
     "output_type": "stream",
     "text": [
      "===Excecuting c0_mass= 1.0, WR=0.5,V=10.0===\n",
      "2023-04-26 17:18:51 [WARNING] idaes.core.base.costing_base: flow_expr is an expression with a lower bound of less than zero. Costing requires that all flows have a lower bound equal to or greater than zero to avoid negative costs.\n",
      "2023-04-26 17:18:51 [WARNING] idaes.core.base.costing_base: flow_expr is an expression with a lower bound of less than zero. Costing requires that all flows have a lower bound equal to or greater than zero to avoid negative costs.\n",
      "======DOF_intial======\n",
      "\n",
      "========================================================================\n",
      "Model Statistics   \n",
      "\n",
      "Degrees of Freedom: 38 \n",
      "\n",
      "Total No. Variables: 2374 \n",
      "    No. Fixed Variables: 24\n",
      "    No. Unused Variables: 16 (Fixed):5)\n",
      "    No. Variables only in Inequalities: 0 (Fixed: 0) \n",
      "\n",
      "Total No. Constraints: 2301 \n",
      "    No. Equality Constraints: 2301 (Deactivated: 0)\n",
      "    No. Inequality Constraints: 0 (Deactivated: 0)\n",
      "\n",
      "No. Objectives: 0 (Deactivated: 0)\n",
      "\n",
      "No. Blocks: 94 (Deactivated: 0) \n",
      "No. Expressions: 10 \n",
      "========================================================================\n",
      "\n",
      "2023-04-26 17:18:51 [WARNING] idaes.watertap.property_models.multicomp_aq_sol_prop_pack: While using the calculate_state method on fs.feed.properties[0.0], variable flow_vol_phase was provided as an argument in var_args, but it does not have a scaling factor. This suggests that the calculate_scaling_factor method has not been used or the variable was created on demand after the scaling factors were calculated. It is recommended to touch all relevant variables (i.e. call them or set an initial value) before using the calculate_scaling_factor method.\n",
      "2023-04-26 17:18:51 [WARNING] idaes.watertap.property_models.multicomp_aq_sol_prop_pack: While using the calculate_state method on fs.feed.properties[0.0], variable conc_mol_phase_comp was provided as an argument in var_args, but it does not have a scaling factor. This suggests that the calculate_scaling_factor method has not been used or the variable was created on demand after the scaling factors were calculated. It is recommended to touch all relevant variables (i.e. call them or set an initial value) before using the calculate_scaling_factor method.\n",
      "2023-04-26 17:18:51 [WARNING] idaes.watertap.property_models.multicomp_aq_sol_prop_pack: While using the calculate_state method on fs.feed.properties[0.0], variable conc_mol_phase_comp was provided as an argument in var_args, but it does not have a scaling factor. This suggests that the calculate_scaling_factor method has not been used or the variable was created on demand after the scaling factors were calculated. It is recommended to touch all relevant variables (i.e. call them or set an initial value) before using the calculate_scaling_factor method.\n",
      "2023-04-26 17:18:51 [WARNING] idaes.core.util.scaling: Missing scaling factor for fs.EDstack.diluate.area\n",
      "2023-04-26 17:18:51 [WARNING] idaes.core.util.scaling: Missing scaling factor for fs.EDstack.concentrate.area\n",
      "2023-04-26 17:18:51 [WARNING] idaes.core.util.scaling: Missing scaling factor for fs.EDstack.membrane_thickness\n",
      "2023-04-26 17:18:51 [WARNING] idaes.core.util.scaling: Missing scaling factor for fs.EDstack.membrane_areal_resistance\n",
      "2023-04-26 17:18:51 [WARNING] idaes.core.util.scaling: Missing scaling factor for fs.EDstack.solute_diffusivity_membrane\n",
      "2023-04-26 17:18:51 [WARNING] idaes.core.util.scaling: Missing scaling factor for fs.EDstack.diffus_mass\n",
      "2023-04-26 17:18:51 [WARNING] idaes.core.util.scaling: Missing scaling factor for fs.EDstack.water_permeability_membrane\n",
      "2023-04-26 17:18:51 [WARNING] idaes.core.util.scaling: Missing scaling factor for fs.EDstack.channel_height\n",
      "2023-04-26 17:18:51 [WARNING] idaes.core.util.scaling: Missing scaling factor for fs.EDstack.spacer_porosity\n",
      "2023-04-26 17:18:51 [WARNING] idaes.core.util.scaling: Missing scaling factor for fs.EDstack.electrodes_resistance\n",
      "2023-04-26 17:18:51 [WARNING] idaes.core.util.scaling: Missing scaling factor for fs.EDstack.spacer_specific_area\n",
      "2023-04-26 17:18:51 [WARNING] idaes.core.util.scaling: Missing scaling factor for fs.EDstack.hydraulic_diameter\n",
      "2023-04-26 17:18:51 [WARNING] idaes.core.util.scaling: Missing scaling factor for fs.EDstack.N_Re\n",
      "2023-04-26 17:18:51 [WARNING] idaes.core.util.scaling: Missing scaling factor for fs.EDstack.N_Sc\n",
      "2023-04-26 17:18:51 [WARNING] idaes.core.util.scaling: Missing scaling factor for fs.EDstack.N_Sh\n",
      "2023-04-26 17:18:51 [WARNING] idaes.core.util.scaling: Missing scaling factor for fs.EDstack.friction_factor\n",
      "2023-04-26 17:18:51 [WARNING] idaes.core.util.scaling: Missing scaling factor for fs.EDstack.pressure_drop\n",
      "2023-04-26 17:18:51 [WARNING] idaes.core.util.scaling: Missing scaling factor for fs.EDstack.pressure_drop_total\n",
      "SFSFSFSF 5555.555555555557\n",
      "2023-04-26 17:18:51 [INFO] idaes.init.fs.feed: Initialization Complete.\n",
      "2023-04-26 17:18:51 [INFO] idaes.init.fs.sepa0: Initialization Step 2 Complete: optimal - Optimal Solution Found\n",
      "2023-04-26 17:18:51 [INFO] idaes.init.fs.pump1.control_volume: Initialization Complete\n",
      "2023-04-26 17:18:52 [INFO] idaes.init.fs.pump1: Initialization Complete: optimal - Optimal Solution Found\n",
      "2023-04-26 17:18:52 [INFO] idaes.init.fs.pump0.control_volume: Initialization Complete\n",
      "2023-04-26 17:18:52 [INFO] idaes.init.fs.pump0: Initialization Complete: optimal - Optimal Solution Found\n",
      "2023-04-26 17:18:52 [INFO] idaes.init.fs.EDstack.diluate: Initialization Complete\n",
      "2023-04-26 17:18:52 [WARNING] idaes.init.fs.EDstack: Non-zero degrees of freedom: Degrees of freedom on fs.EDstack = 5. Fix 5 more variable(s)\n",
      "2023-04-26 17:18:52 [INFO] idaes.init.fs.EDstack.concentrate: Initialization Complete\n",
      "2023-04-26 17:18:53 [INFO] idaes.init.fs.EDstack: Initialization Step 3 successful.\n",
      "2023-04-26 17:18:53 [INFO] idaes.init.fs.EDstack: Initialization Complete: optimal - Optimal Solution Found\n",
      "\n",
      "====================================================================================\n",
      "Unit : fs.EDstack                                                          Time: 0.0\n",
      "------------------------------------------------------------------------------------\n",
      "    Unit Performance\n",
      "\n",
      "    Variables: \n",
      "\n",
      "    Key                                               : Value   : Units         : Fixed : Bounds\n",
      "    Specific electrical power consumption (kW*h/m**3) :  86945. :        pascal : False : (0, 1000)\n",
      "             Total electrical power consumption(Watt) :  22.550 :          watt : False : (0, 12100)\n",
      "                               Water recovery by mass : 0.49899 : dimensionless : False : (0, 1)\n",
      "\n",
      "------------------------------------------------------------------------------------\n",
      "    Stream Table\n",
      "                                            Units       Diluate Channel Inlet  Concentrate Channel Inlet  Diluate Channel Outlet  Concentrate Channel Outlet\n",
      "    flow_mol_phase_comp ('Liq', 'H2O')   mole / second           14.430                   14.430                    14.401                    14.459        \n",
      "    flow_mol_phase_comp ('Liq', 'Na_+')  mole / second        0.0044444                0.0044444                 0.0023666                 0.0065223        \n",
      "    flow_mol_phase_comp ('Liq', 'Cl_-')  mole / second        0.0044444                0.0044444                 0.0023666                 0.0065223        \n",
      "    temperature                                 kelvin           298.15                   298.15                    298.15                    298.15        \n",
      "    pressure                                    pascal       3.0132e+05               3.0132e+05                2.7426e+05                2.7426e+05        \n",
      "====================================================================================\n",
      "2023-04-26 17:18:53 [INFO] idaes.init.fs.prod: Initialization Complete.\n",
      "2023-04-26 17:18:53 [INFO] idaes.init.fs.prod: Initialization Complete.\n",
      "2023-04-26 17:18:53 [INFO] idaes.init.fs.sepa1: Initialization Step 2 Complete: optimal - Optimal Solution Found\n",
      "2023-04-26 17:18:53 [INFO] idaes.init.fs.disp: Initialization Complete.\n",
      "2023-04-26 17:18:54 [INFO] idaes.init.fs.mix0: Initialization Complete: optimal - Optimal Solution Found\n",
      "BADLY SCALED VARS & CONSTRAINS\n",
      "fs.mix0.from_conc_out_state[0.0].flow_mol_phase_comp[Liq,H2O] : 1.4459120079595976e-08\n",
      "fs.mix0.from_conc_out_state[0.0].flow_mol_phase_comp[Liq,Na_+] : 6.522314259912783e-09\n",
      "fs.mix0.from_conc_out_state[0.0].flow_mol_phase_comp[Liq,Cl_-] : 6.522314259912783e-09\n",
      "fs.mix0.from_conc_out_state[0.0].flow_mass_phase_comp[Liq,H2O] : 1.4459120079595976e-08\n",
      "fs.mix0.from_conc_out_state[0.0].flow_mass_phase_comp[Liq,Na_+] : 6.522314259912783e-09\n",
      "fs.mix0.from_conc_out_state[0.0].flow_mass_phase_comp[Liq,Cl_-] : 6.522314259912783e-09\n",
      "fs.mix0.from_conc_out_state[0.0].flow_vol_phase[Liq] : 1.4480317600940695e-08\n",
      "fs.sepa1.to_conc_in1_state[0.0].flow_mol_phase_comp[Liq,H2O] : 1.4459120079595976e-08\n",
      "fs.sepa1.to_conc_in1_state[0.0].flow_mol_phase_comp[Liq,Na_+] : 6.522314259912783e-09\n",
      "fs.sepa1.to_conc_in1_state[0.0].flow_mol_phase_comp[Liq,Cl_-] : 6.522314259912783e-09\n",
      "fs.sepa1.to_conc_in1_state[0.0].flow_mass_phase_comp[Liq,H2O] : 1.4459120079595976e-08\n",
      "fs.sepa1.to_conc_in1_state[0.0].flow_mass_phase_comp[Liq,Na_+] : 6.522314259912783e-09\n",
      "fs.sepa1.to_conc_in1_state[0.0].flow_mass_phase_comp[Liq,Cl_-] : 6.522314259912783e-09\n",
      "fs.sepa1.to_conc_in1_state[0.0].flow_vol_phase[Liq] : 1.4480317600940691e-08\n"
     ]
    },
    {
     "name": "stdout",
     "output_type": "stream",
     "text": [
      "===Excecuting c0_mass= 1.0, WR=0.5,V=12.0===\n",
      "2023-04-26 17:18:55 [WARNING] idaes.core.base.costing_base: flow_expr is an expression with a lower bound of less than zero. Costing requires that all flows have a lower bound equal to or greater than zero to avoid negative costs.\n",
      "2023-04-26 17:18:55 [WARNING] idaes.core.base.costing_base: flow_expr is an expression with a lower bound of less than zero. Costing requires that all flows have a lower bound equal to or greater than zero to avoid negative costs.\n",
      "======DOF_intial======\n",
      "\n",
      "========================================================================\n",
      "Model Statistics   \n",
      "\n",
      "Degrees of Freedom: 38 \n",
      "\n",
      "Total No. Variables: 2374 \n",
      "    No. Fixed Variables: 24\n",
      "    No. Unused Variables: 16 (Fixed):5)\n",
      "    No. Variables only in Inequalities: 0 (Fixed: 0) \n",
      "\n",
      "Total No. Constraints: 2301 \n",
      "    No. Equality Constraints: 2301 (Deactivated: 0)\n",
      "    No. Inequality Constraints: 0 (Deactivated: 0)\n",
      "\n",
      "No. Objectives: 0 (Deactivated: 0)\n",
      "\n",
      "No. Blocks: 94 (Deactivated: 0) \n",
      "No. Expressions: 10 \n",
      "========================================================================\n",
      "\n",
      "2023-04-26 17:18:55 [WARNING] idaes.watertap.property_models.multicomp_aq_sol_prop_pack: While using the calculate_state method on fs.feed.properties[0.0], variable flow_vol_phase was provided as an argument in var_args, but it does not have a scaling factor. This suggests that the calculate_scaling_factor method has not been used or the variable was created on demand after the scaling factors were calculated. It is recommended to touch all relevant variables (i.e. call them or set an initial value) before using the calculate_scaling_factor method.\n",
      "2023-04-26 17:18:55 [WARNING] idaes.watertap.property_models.multicomp_aq_sol_prop_pack: While using the calculate_state method on fs.feed.properties[0.0], variable conc_mol_phase_comp was provided as an argument in var_args, but it does not have a scaling factor. This suggests that the calculate_scaling_factor method has not been used or the variable was created on demand after the scaling factors were calculated. It is recommended to touch all relevant variables (i.e. call them or set an initial value) before using the calculate_scaling_factor method.\n",
      "2023-04-26 17:18:55 [WARNING] idaes.watertap.property_models.multicomp_aq_sol_prop_pack: While using the calculate_state method on fs.feed.properties[0.0], variable conc_mol_phase_comp was provided as an argument in var_args, but it does not have a scaling factor. This suggests that the calculate_scaling_factor method has not been used or the variable was created on demand after the scaling factors were calculated. It is recommended to touch all relevant variables (i.e. call them or set an initial value) before using the calculate_scaling_factor method.\n",
      "2023-04-26 17:18:55 [WARNING] idaes.core.util.scaling: Missing scaling factor for fs.EDstack.diluate.area\n",
      "2023-04-26 17:18:55 [WARNING] idaes.core.util.scaling: Missing scaling factor for fs.EDstack.concentrate.area\n",
      "2023-04-26 17:18:55 [WARNING] idaes.core.util.scaling: Missing scaling factor for fs.EDstack.membrane_thickness\n",
      "2023-04-26 17:18:55 [WARNING] idaes.core.util.scaling: Missing scaling factor for fs.EDstack.membrane_areal_resistance\n",
      "2023-04-26 17:18:55 [WARNING] idaes.core.util.scaling: Missing scaling factor for fs.EDstack.solute_diffusivity_membrane\n",
      "2023-04-26 17:18:55 [WARNING] idaes.core.util.scaling: Missing scaling factor for fs.EDstack.diffus_mass\n",
      "2023-04-26 17:18:55 [WARNING] idaes.core.util.scaling: Missing scaling factor for fs.EDstack.water_permeability_membrane\n",
      "2023-04-26 17:18:55 [WARNING] idaes.core.util.scaling: Missing scaling factor for fs.EDstack.channel_height\n",
      "2023-04-26 17:18:55 [WARNING] idaes.core.util.scaling: Missing scaling factor for fs.EDstack.spacer_porosity\n",
      "2023-04-26 17:18:55 [WARNING] idaes.core.util.scaling: Missing scaling factor for fs.EDstack.electrodes_resistance\n",
      "2023-04-26 17:18:55 [WARNING] idaes.core.util.scaling: Missing scaling factor for fs.EDstack.spacer_specific_area\n",
      "2023-04-26 17:18:55 [WARNING] idaes.core.util.scaling: Missing scaling factor for fs.EDstack.hydraulic_diameter\n",
      "2023-04-26 17:18:55 [WARNING] idaes.core.util.scaling: Missing scaling factor for fs.EDstack.N_Re\n",
      "2023-04-26 17:18:55 [WARNING] idaes.core.util.scaling: Missing scaling factor for fs.EDstack.N_Sc\n",
      "2023-04-26 17:18:55 [WARNING] idaes.core.util.scaling: Missing scaling factor for fs.EDstack.N_Sh\n",
      "2023-04-26 17:18:55 [WARNING] idaes.core.util.scaling: Missing scaling factor for fs.EDstack.friction_factor\n",
      "2023-04-26 17:18:55 [WARNING] idaes.core.util.scaling: Missing scaling factor for fs.EDstack.pressure_drop\n",
      "2023-04-26 17:18:55 [WARNING] idaes.core.util.scaling: Missing scaling factor for fs.EDstack.pressure_drop_total\n",
      "SFSFSFSF 5555.555555555557\n",
      "2023-04-26 17:18:56 [INFO] idaes.init.fs.feed: Initialization Complete.\n",
      "2023-04-26 17:18:56 [INFO] idaes.init.fs.sepa0: Initialization Step 2 Complete: optimal - Optimal Solution Found\n",
      "2023-04-26 17:18:56 [INFO] idaes.init.fs.pump1.control_volume: Initialization Complete\n",
      "2023-04-26 17:18:56 [INFO] idaes.init.fs.pump1: Initialization Complete: optimal - Optimal Solution Found\n",
      "2023-04-26 17:18:56 [INFO] idaes.init.fs.pump0.control_volume: Initialization Complete\n",
      "2023-04-26 17:18:56 [INFO] idaes.init.fs.pump0: Initialization Complete: optimal - Optimal Solution Found\n",
      "2023-04-26 17:18:56 [INFO] idaes.init.fs.EDstack.diluate: Initialization Complete\n",
      "2023-04-26 17:18:56 [WARNING] idaes.init.fs.EDstack: Non-zero degrees of freedom: Degrees of freedom on fs.EDstack = 5. Fix 5 more variable(s)\n",
      "2023-04-26 17:18:57 [INFO] idaes.init.fs.EDstack.concentrate: Initialization Complete\n",
      "2023-04-26 17:18:58 [INFO] idaes.init.fs.EDstack: Initialization Step 3 successful.\n",
      "2023-04-26 17:18:58 [INFO] idaes.init.fs.EDstack: Initialization Complete: optimal - Optimal Solution Found\n",
      "\n",
      "====================================================================================\n",
      "Unit : fs.EDstack                                                          Time: 0.0\n",
      "------------------------------------------------------------------------------------\n",
      "    Unit Performance\n",
      "\n",
      "    Variables: \n",
      "\n",
      "    Key                                               : Value      : Units         : Fixed : Bounds\n",
      "    Specific electrical power consumption (kW*h/m**3) : 1.2041e+05 :        pascal : False : (0, 1000)\n",
      "             Total electrical power consumption(Watt) :     31.215 :          watt : False : (0, 12100)\n",
      "                               Water recovery by mass :    0.49883 : dimensionless : False : (0, 1)\n",
      "\n",
      "------------------------------------------------------------------------------------\n",
      "    Stream Table\n",
      "                                            Units       Diluate Channel Inlet  Concentrate Channel Inlet  Diluate Channel Outlet  Concentrate Channel Outlet\n",
      "    flow_mol_phase_comp ('Liq', 'H2O')   mole / second           14.430                   14.430                    14.396                    14.464        \n",
      "    flow_mol_phase_comp ('Liq', 'Na_+')  mole / second        0.0044444                0.0044444                 0.0020570                 0.0068319        \n",
      "    flow_mol_phase_comp ('Liq', 'Cl_-')  mole / second        0.0044444                0.0044444                 0.0020570                 0.0068319        \n",
      "    temperature                                 kelvin           298.15                   298.15                    298.15                    298.15        \n",
      "    pressure                                    pascal       3.0132e+05               3.0132e+05                2.7426e+05                2.7426e+05        \n",
      "====================================================================================\n",
      "2023-04-26 17:18:58 [INFO] idaes.init.fs.prod: Initialization Complete.\n",
      "2023-04-26 17:18:58 [INFO] idaes.init.fs.prod: Initialization Complete.\n",
      "2023-04-26 17:18:58 [INFO] idaes.init.fs.sepa1: Initialization Step 2 Complete: optimal - Optimal Solution Found\n",
      "2023-04-26 17:18:58 [INFO] idaes.init.fs.disp: Initialization Complete.\n",
      "2023-04-26 17:18:58 [INFO] idaes.init.fs.mix0: Initialization Complete: optimal - Optimal Solution Found\n",
      "BADLY SCALED VARS & CONSTRAINS\n",
      "fs.mix0.from_conc_out_state[0.0].flow_mol_phase_comp[Liq,H2O] : 1.4463794713684837e-08\n",
      "fs.mix0.from_conc_out_state[0.0].flow_mol_phase_comp[Liq,Na_+] : 6.831927662719953e-09\n",
      "fs.mix0.from_conc_out_state[0.0].flow_mol_phase_comp[Liq,Cl_-] : 6.831927662719954e-09\n",
      "fs.mix0.from_conc_out_state[0.0].flow_mass_phase_comp[Liq,H2O] : 1.4463794713684837e-08\n",
      "fs.mix0.from_conc_out_state[0.0].flow_mass_phase_comp[Liq,Na_+] : 6.831927662719953e-09\n",
      "fs.mix0.from_conc_out_state[0.0].flow_mass_phase_comp[Liq,Cl_-] : 6.831927662719954e-09\n",
      "fs.mix0.from_conc_out_state[0.0].flow_vol_phase[Liq] : 1.4485998478588679e-08\n",
      "fs.sepa1.to_conc_in1_state[0.0].flow_mol_phase_comp[Liq,H2O] : 1.4463794713684837e-08\n",
      "fs.sepa1.to_conc_in1_state[0.0].flow_mol_phase_comp[Liq,Na_+] : 6.831927662719953e-09\n",
      "fs.sepa1.to_conc_in1_state[0.0].flow_mol_phase_comp[Liq,Cl_-] : 6.831927662719954e-09\n",
      "fs.sepa1.to_conc_in1_state[0.0].flow_mass_phase_comp[Liq,H2O] : 1.4463794713684835e-08\n",
      "fs.sepa1.to_conc_in1_state[0.0].flow_mass_phase_comp[Liq,Na_+] : 6.831927662719953e-09\n",
      "fs.sepa1.to_conc_in1_state[0.0].flow_mass_phase_comp[Liq,Cl_-] : 6.831927662719954e-09\n",
      "fs.sepa1.to_conc_in1_state[0.0].flow_vol_phase[Liq] : 1.4485998478588674e-08\n"
     ]
    },
    {
     "name": "stdout",
     "output_type": "stream",
     "text": [
      "===Excecuting c0_mass= 1.0, WR=0.5,V=14.0===\n",
      "2023-04-26 17:18:59 [WARNING] idaes.core.base.costing_base: flow_expr is an expression with a lower bound of less than zero. Costing requires that all flows have a lower bound equal to or greater than zero to avoid negative costs.\n",
      "2023-04-26 17:18:59 [WARNING] idaes.core.base.costing_base: flow_expr is an expression with a lower bound of less than zero. Costing requires that all flows have a lower bound equal to or greater than zero to avoid negative costs.\n",
      "======DOF_intial======\n",
      "\n",
      "========================================================================\n",
      "Model Statistics   \n",
      "\n",
      "Degrees of Freedom: 38 \n",
      "\n",
      "Total No. Variables: 2374 \n",
      "    No. Fixed Variables: 24\n",
      "    No. Unused Variables: 16 (Fixed):5)\n",
      "    No. Variables only in Inequalities: 0 (Fixed: 0) \n",
      "\n",
      "Total No. Constraints: 2301 \n",
      "    No. Equality Constraints: 2301 (Deactivated: 0)\n",
      "    No. Inequality Constraints: 0 (Deactivated: 0)\n",
      "\n",
      "No. Objectives: 0 (Deactivated: 0)\n",
      "\n",
      "No. Blocks: 94 (Deactivated: 0) \n",
      "No. Expressions: 10 \n",
      "========================================================================\n",
      "\n",
      "2023-04-26 17:19:00 [WARNING] idaes.watertap.property_models.multicomp_aq_sol_prop_pack: While using the calculate_state method on fs.feed.properties[0.0], variable flow_vol_phase was provided as an argument in var_args, but it does not have a scaling factor. This suggests that the calculate_scaling_factor method has not been used or the variable was created on demand after the scaling factors were calculated. It is recommended to touch all relevant variables (i.e. call them or set an initial value) before using the calculate_scaling_factor method.\n",
      "2023-04-26 17:19:00 [WARNING] idaes.watertap.property_models.multicomp_aq_sol_prop_pack: While using the calculate_state method on fs.feed.properties[0.0], variable conc_mol_phase_comp was provided as an argument in var_args, but it does not have a scaling factor. This suggests that the calculate_scaling_factor method has not been used or the variable was created on demand after the scaling factors were calculated. It is recommended to touch all relevant variables (i.e. call them or set an initial value) before using the calculate_scaling_factor method.\n",
      "2023-04-26 17:19:00 [WARNING] idaes.watertap.property_models.multicomp_aq_sol_prop_pack: While using the calculate_state method on fs.feed.properties[0.0], variable conc_mol_phase_comp was provided as an argument in var_args, but it does not have a scaling factor. This suggests that the calculate_scaling_factor method has not been used or the variable was created on demand after the scaling factors were calculated. It is recommended to touch all relevant variables (i.e. call them or set an initial value) before using the calculate_scaling_factor method.\n",
      "2023-04-26 17:19:00 [WARNING] idaes.core.util.scaling: Missing scaling factor for fs.EDstack.diluate.area\n",
      "2023-04-26 17:19:00 [WARNING] idaes.core.util.scaling: Missing scaling factor for fs.EDstack.concentrate.area\n",
      "2023-04-26 17:19:00 [WARNING] idaes.core.util.scaling: Missing scaling factor for fs.EDstack.membrane_thickness\n",
      "2023-04-26 17:19:00 [WARNING] idaes.core.util.scaling: Missing scaling factor for fs.EDstack.membrane_areal_resistance\n",
      "2023-04-26 17:19:00 [WARNING] idaes.core.util.scaling: Missing scaling factor for fs.EDstack.solute_diffusivity_membrane\n",
      "2023-04-26 17:19:00 [WARNING] idaes.core.util.scaling: Missing scaling factor for fs.EDstack.diffus_mass\n",
      "2023-04-26 17:19:00 [WARNING] idaes.core.util.scaling: Missing scaling factor for fs.EDstack.water_permeability_membrane\n",
      "2023-04-26 17:19:00 [WARNING] idaes.core.util.scaling: Missing scaling factor for fs.EDstack.channel_height\n",
      "2023-04-26 17:19:00 [WARNING] idaes.core.util.scaling: Missing scaling factor for fs.EDstack.spacer_porosity\n",
      "2023-04-26 17:19:00 [WARNING] idaes.core.util.scaling: Missing scaling factor for fs.EDstack.electrodes_resistance\n",
      "2023-04-26 17:19:00 [WARNING] idaes.core.util.scaling: Missing scaling factor for fs.EDstack.spacer_specific_area\n",
      "2023-04-26 17:19:00 [WARNING] idaes.core.util.scaling: Missing scaling factor for fs.EDstack.hydraulic_diameter\n",
      "2023-04-26 17:19:00 [WARNING] idaes.core.util.scaling: Missing scaling factor for fs.EDstack.N_Re\n",
      "2023-04-26 17:19:00 [WARNING] idaes.core.util.scaling: Missing scaling factor for fs.EDstack.N_Sc\n",
      "2023-04-26 17:19:00 [WARNING] idaes.core.util.scaling: Missing scaling factor for fs.EDstack.N_Sh\n",
      "2023-04-26 17:19:00 [WARNING] idaes.core.util.scaling: Missing scaling factor for fs.EDstack.friction_factor\n",
      "2023-04-26 17:19:00 [WARNING] idaes.core.util.scaling: Missing scaling factor for fs.EDstack.pressure_drop\n",
      "2023-04-26 17:19:00 [WARNING] idaes.core.util.scaling: Missing scaling factor for fs.EDstack.pressure_drop_total\n",
      "SFSFSFSF 5555.555555555557\n",
      "2023-04-26 17:19:00 [INFO] idaes.init.fs.feed: Initialization Complete.\n",
      "2023-04-26 17:19:00 [INFO] idaes.init.fs.sepa0: Initialization Step 2 Complete: optimal - Optimal Solution Found\n",
      "2023-04-26 17:19:00 [INFO] idaes.init.fs.pump1.control_volume: Initialization Complete\n",
      "2023-04-26 17:19:00 [INFO] idaes.init.fs.pump1: Initialization Complete: optimal - Optimal Solution Found\n",
      "2023-04-26 17:19:00 [INFO] idaes.init.fs.pump0.control_volume: Initialization Complete\n",
      "2023-04-26 17:19:00 [INFO] idaes.init.fs.pump0: Initialization Complete: optimal - Optimal Solution Found\n",
      "2023-04-26 17:19:01 [INFO] idaes.init.fs.EDstack.diluate: Initialization Complete\n",
      "2023-04-26 17:19:01 [WARNING] idaes.init.fs.EDstack: Non-zero degrees of freedom: Degrees of freedom on fs.EDstack = 5. Fix 5 more variable(s)\n",
      "2023-04-26 17:19:01 [INFO] idaes.init.fs.EDstack.concentrate: Initialization Complete\n",
      "2023-04-26 17:19:02 [INFO] idaes.init.fs.EDstack: Initialization Step 3 successful.\n",
      "2023-04-26 17:19:02 [INFO] idaes.init.fs.EDstack: Initialization Complete: optimal - Optimal Solution Found\n",
      "\n",
      "====================================================================================\n",
      "Unit : fs.EDstack                                                          Time: 0.0\n",
      "------------------------------------------------------------------------------------\n",
      "    Unit Performance\n",
      "\n",
      "    Variables: \n",
      "\n",
      "    Key                                               : Value      : Units         : Fixed : Bounds\n",
      "    Specific electrical power consumption (kW*h/m**3) : 1.5714e+05 :        pascal : False : (0, 1000)\n",
      "             Total electrical power consumption(Watt) :     40.724 :          watt : False : (0, 12100)\n",
      "                               Water recovery by mass :    0.49868 : dimensionless : False : (0, 1)\n",
      "\n",
      "------------------------------------------------------------------------------------\n",
      "    Stream Table\n",
      "                                            Units       Diluate Channel Inlet  Concentrate Channel Inlet  Diluate Channel Outlet  Concentrate Channel Outlet\n",
      "    flow_mol_phase_comp ('Liq', 'H2O')   mole / second           14.430                   14.430                    14.392                    14.468        \n",
      "    flow_mol_phase_comp ('Liq', 'Na_+')  mole / second        0.0044444                0.0044444                 0.0017860                 0.0071029        \n",
      "    flow_mol_phase_comp ('Liq', 'Cl_-')  mole / second        0.0044444                0.0044444                 0.0017860                 0.0071029        \n",
      "    temperature                                 kelvin           298.15                   298.15                    298.15                    298.15        \n",
      "    pressure                                    pascal       3.0132e+05               3.0132e+05                2.7426e+05                2.7426e+05        \n",
      "====================================================================================\n",
      "2023-04-26 17:19:02 [INFO] idaes.init.fs.prod: Initialization Complete.\n",
      "2023-04-26 17:19:02 [INFO] idaes.init.fs.prod: Initialization Complete.\n",
      "2023-04-26 17:19:02 [INFO] idaes.init.fs.sepa1: Initialization Step 2 Complete: optimal - Optimal Solution Found\n",
      "2023-04-26 17:19:02 [INFO] idaes.init.fs.disp: Initialization Complete.\n",
      "2023-04-26 17:19:02 [INFO] idaes.init.fs.mix0: Initialization Complete: optimal - Optimal Solution Found\n",
      "BADLY SCALED VARS & CONSTRAINS\n",
      "fs.mix0.from_conc_out_state[0.0].flow_mol_phase_comp[Liq,H2O] : 1.4468031653177285e-08\n",
      "fs.mix0.from_conc_out_state[0.0].flow_mol_phase_comp[Liq,Na_+] : 7.102891604314656e-09\n",
      "fs.mix0.from_conc_out_state[0.0].flow_mol_phase_comp[Liq,Cl_-] : 7.102891604314656e-09\n",
      "fs.mix0.from_conc_out_state[0.0].flow_mass_phase_comp[Liq,H2O] : 1.4468031653177287e-08\n",
      "fs.mix0.from_conc_out_state[0.0].flow_mass_phase_comp[Liq,Na_+] : 7.102891604314656e-09\n",
      "fs.mix0.from_conc_out_state[0.0].flow_mass_phase_comp[Liq,Cl_-] : 7.102891604314656e-09\n",
      "fs.mix0.from_conc_out_state[0.0].flow_vol_phase[Liq] : 1.4491116050891312e-08\n",
      "fs.sepa1.to_conc_in1_state[0.0].flow_mol_phase_comp[Liq,H2O] : 1.4468031653177285e-08\n",
      "fs.sepa1.to_conc_in1_state[0.0].flow_mol_phase_comp[Liq,Na_+] : 7.102891604314656e-09\n",
      "fs.sepa1.to_conc_in1_state[0.0].flow_mol_phase_comp[Liq,Cl_-] : 7.102891604314656e-09\n",
      "fs.sepa1.to_conc_in1_state[0.0].flow_mass_phase_comp[Liq,H2O] : 1.4468031653177287e-08\n",
      "fs.sepa1.to_conc_in1_state[0.0].flow_mass_phase_comp[Liq,Na_+] : 7.102891604314657e-09\n",
      "fs.sepa1.to_conc_in1_state[0.0].flow_mass_phase_comp[Liq,Cl_-] : 7.102891604314656e-09\n",
      "fs.sepa1.to_conc_in1_state[0.0].flow_vol_phase[Liq] : 1.4491116050891309e-08\n"
     ]
    },
    {
     "name": "stdout",
     "output_type": "stream",
     "text": [
      "===Excecuting c0_mass= 1.0, WR=0.5,V=16.0===\n",
      "2023-04-26 17:19:04 [WARNING] idaes.core.base.costing_base: flow_expr is an expression with a lower bound of less than zero. Costing requires that all flows have a lower bound equal to or greater than zero to avoid negative costs.\n",
      "2023-04-26 17:19:04 [WARNING] idaes.core.base.costing_base: flow_expr is an expression with a lower bound of less than zero. Costing requires that all flows have a lower bound equal to or greater than zero to avoid negative costs.\n",
      "======DOF_intial======\n",
      "\n",
      "========================================================================\n",
      "Model Statistics   \n",
      "\n",
      "Degrees of Freedom: 38 \n",
      "\n",
      "Total No. Variables: 2374 \n",
      "    No. Fixed Variables: 24\n",
      "    No. Unused Variables: 16 (Fixed):5)\n",
      "    No. Variables only in Inequalities: 0 (Fixed: 0) \n",
      "\n",
      "Total No. Constraints: 2301 \n",
      "    No. Equality Constraints: 2301 (Deactivated: 0)\n",
      "    No. Inequality Constraints: 0 (Deactivated: 0)\n",
      "\n",
      "No. Objectives: 0 (Deactivated: 0)\n",
      "\n",
      "No. Blocks: 94 (Deactivated: 0) \n",
      "No. Expressions: 10 \n",
      "========================================================================\n",
      "\n",
      "2023-04-26 17:19:04 [WARNING] idaes.watertap.property_models.multicomp_aq_sol_prop_pack: While using the calculate_state method on fs.feed.properties[0.0], variable flow_vol_phase was provided as an argument in var_args, but it does not have a scaling factor. This suggests that the calculate_scaling_factor method has not been used or the variable was created on demand after the scaling factors were calculated. It is recommended to touch all relevant variables (i.e. call them or set an initial value) before using the calculate_scaling_factor method.\n",
      "2023-04-26 17:19:04 [WARNING] idaes.watertap.property_models.multicomp_aq_sol_prop_pack: While using the calculate_state method on fs.feed.properties[0.0], variable conc_mol_phase_comp was provided as an argument in var_args, but it does not have a scaling factor. This suggests that the calculate_scaling_factor method has not been used or the variable was created on demand after the scaling factors were calculated. It is recommended to touch all relevant variables (i.e. call them or set an initial value) before using the calculate_scaling_factor method.\n",
      "2023-04-26 17:19:04 [WARNING] idaes.watertap.property_models.multicomp_aq_sol_prop_pack: While using the calculate_state method on fs.feed.properties[0.0], variable conc_mol_phase_comp was provided as an argument in var_args, but it does not have a scaling factor. This suggests that the calculate_scaling_factor method has not been used or the variable was created on demand after the scaling factors were calculated. It is recommended to touch all relevant variables (i.e. call them or set an initial value) before using the calculate_scaling_factor method.\n",
      "2023-04-26 17:19:04 [WARNING] idaes.core.util.scaling: Missing scaling factor for fs.EDstack.diluate.area\n",
      "2023-04-26 17:19:04 [WARNING] idaes.core.util.scaling: Missing scaling factor for fs.EDstack.concentrate.area\n",
      "2023-04-26 17:19:04 [WARNING] idaes.core.util.scaling: Missing scaling factor for fs.EDstack.membrane_thickness\n",
      "2023-04-26 17:19:04 [WARNING] idaes.core.util.scaling: Missing scaling factor for fs.EDstack.membrane_areal_resistance\n",
      "2023-04-26 17:19:04 [WARNING] idaes.core.util.scaling: Missing scaling factor for fs.EDstack.solute_diffusivity_membrane\n",
      "2023-04-26 17:19:04 [WARNING] idaes.core.util.scaling: Missing scaling factor for fs.EDstack.diffus_mass\n",
      "2023-04-26 17:19:04 [WARNING] idaes.core.util.scaling: Missing scaling factor for fs.EDstack.water_permeability_membrane\n",
      "2023-04-26 17:19:04 [WARNING] idaes.core.util.scaling: Missing scaling factor for fs.EDstack.channel_height\n",
      "2023-04-26 17:19:04 [WARNING] idaes.core.util.scaling: Missing scaling factor for fs.EDstack.spacer_porosity\n",
      "2023-04-26 17:19:04 [WARNING] idaes.core.util.scaling: Missing scaling factor for fs.EDstack.electrodes_resistance\n",
      "2023-04-26 17:19:04 [WARNING] idaes.core.util.scaling: Missing scaling factor for fs.EDstack.spacer_specific_area\n",
      "2023-04-26 17:19:04 [WARNING] idaes.core.util.scaling: Missing scaling factor for fs.EDstack.hydraulic_diameter\n",
      "2023-04-26 17:19:04 [WARNING] idaes.core.util.scaling: Missing scaling factor for fs.EDstack.N_Re\n",
      "2023-04-26 17:19:04 [WARNING] idaes.core.util.scaling: Missing scaling factor for fs.EDstack.N_Sc\n",
      "2023-04-26 17:19:04 [WARNING] idaes.core.util.scaling: Missing scaling factor for fs.EDstack.N_Sh\n",
      "2023-04-26 17:19:04 [WARNING] idaes.core.util.scaling: Missing scaling factor for fs.EDstack.friction_factor\n",
      "2023-04-26 17:19:04 [WARNING] idaes.core.util.scaling: Missing scaling factor for fs.EDstack.pressure_drop\n",
      "2023-04-26 17:19:04 [WARNING] idaes.core.util.scaling: Missing scaling factor for fs.EDstack.pressure_drop_total\n",
      "SFSFSFSF 5555.555555555557\n",
      "2023-04-26 17:19:04 [INFO] idaes.init.fs.feed: Initialization Complete.\n",
      "2023-04-26 17:19:04 [INFO] idaes.init.fs.sepa0: Initialization Step 2 Complete: optimal - Optimal Solution Found\n",
      "2023-04-26 17:19:04 [INFO] idaes.init.fs.pump1.control_volume: Initialization Complete\n",
      "2023-04-26 17:19:04 [INFO] idaes.init.fs.pump1: Initialization Complete: optimal - Optimal Solution Found\n",
      "2023-04-26 17:19:04 [INFO] idaes.init.fs.pump0.control_volume: Initialization Complete\n",
      "2023-04-26 17:19:05 [INFO] idaes.init.fs.pump0: Initialization Complete: optimal - Optimal Solution Found\n",
      "2023-04-26 17:19:05 [INFO] idaes.init.fs.EDstack.diluate: Initialization Complete\n",
      "2023-04-26 17:19:05 [WARNING] idaes.init.fs.EDstack: Non-zero degrees of freedom: Degrees of freedom on fs.EDstack = 5. Fix 5 more variable(s)\n",
      "2023-04-26 17:19:05 [INFO] idaes.init.fs.EDstack.concentrate: Initialization Complete\n",
      "2023-04-26 17:19:06 [INFO] idaes.init.fs.EDstack: Initialization Step 3 successful.\n",
      "2023-04-26 17:19:06 [INFO] idaes.init.fs.EDstack: Initialization Complete: optimal - Optimal Solution Found\n",
      "\n",
      "====================================================================================\n",
      "Unit : fs.EDstack                                                          Time: 0.0\n",
      "------------------------------------------------------------------------------------\n",
      "    Unit Performance\n",
      "\n",
      "    Variables: \n",
      "\n",
      "    Key                                               : Value      : Units         : Fixed : Bounds\n",
      "    Specific electrical power consumption (kW*h/m**3) : 1.9636e+05 :        pascal : False : (0, 1000)\n",
      "             Total electrical power consumption(Watt) :     50.873 :          watt : False : (0, 12100)\n",
      "                               Water recovery by mass :    0.49855 : dimensionless : False : (0, 1)\n",
      "\n",
      "------------------------------------------------------------------------------------\n",
      "    Stream Table\n",
      "                                            Units       Diluate Channel Inlet  Concentrate Channel Inlet  Diluate Channel Outlet  Concentrate Channel Outlet\n",
      "    flow_mol_phase_comp ('Liq', 'H2O')   mole / second           14.430                   14.430                    14.388                    14.472        \n",
      "    flow_mol_phase_comp ('Liq', 'Na_+')  mole / second        0.0044444                0.0044444                 0.0015516                 0.0073373        \n",
      "    flow_mol_phase_comp ('Liq', 'Cl_-')  mole / second        0.0044444                0.0044444                 0.0015516                 0.0073373        \n",
      "    temperature                                 kelvin           298.15                   298.15                    298.15                    298.15        \n",
      "    pressure                                    pascal       3.0132e+05               3.0132e+05                2.7426e+05                2.7426e+05        \n",
      "====================================================================================\n",
      "2023-04-26 17:19:06 [INFO] idaes.init.fs.prod: Initialization Complete.\n",
      "2023-04-26 17:19:06 [INFO] idaes.init.fs.prod: Initialization Complete.\n",
      "2023-04-26 17:19:06 [INFO] idaes.init.fs.sepa1: Initialization Step 2 Complete: optimal - Optimal Solution Found\n",
      "2023-04-26 17:19:06 [INFO] idaes.init.fs.disp: Initialization Complete.\n",
      "2023-04-26 17:19:07 [INFO] idaes.init.fs.mix0: Initialization Complete: optimal - Optimal Solution Found\n",
      "BADLY SCALED VARS & CONSTRAINS\n",
      "fs.mix0.from_conc_out_state[0.0].flow_mol_phase_comp[Liq,H2O] : 1.4471847640470837e-08\n",
      "fs.mix0.from_conc_out_state[0.0].flow_mol_phase_comp[Liq,Na_+] : 7.337292428311959e-09\n",
      "fs.mix0.from_conc_out_state[0.0].flow_mol_phase_comp[Liq,Cl_-] : 7.337292428311959e-09\n",
      "fs.mix0.from_conc_out_state[0.0].flow_mass_phase_comp[Liq,H2O] : 1.4471847640470837e-08\n",
      "fs.mix0.from_conc_out_state[0.0].flow_mass_phase_comp[Liq,Na_+] : 7.337292428311959e-09\n",
      "fs.mix0.from_conc_out_state[0.0].flow_mass_phase_comp[Liq,Cl_-] : 7.337292428311959e-09\n",
      "fs.mix0.from_conc_out_state[0.0].flow_vol_phase[Liq] : 1.4495693840862851e-08\n",
      "fs.sepa1.to_conc_in1_state[0.0].flow_mol_phase_comp[Liq,H2O] : 1.4471847640470837e-08\n",
      "fs.sepa1.to_conc_in1_state[0.0].flow_mol_phase_comp[Liq,Na_+] : 7.337292428311959e-09\n",
      "fs.sepa1.to_conc_in1_state[0.0].flow_mol_phase_comp[Liq,Cl_-] : 7.337292428311959e-09\n",
      "fs.sepa1.to_conc_in1_state[0.0].flow_mass_phase_comp[Liq,H2O] : 1.4471847640470835e-08\n",
      "fs.sepa1.to_conc_in1_state[0.0].flow_mass_phase_comp[Liq,Na_+] : 7.337292428311959e-09\n",
      "fs.sepa1.to_conc_in1_state[0.0].flow_mass_phase_comp[Liq,Cl_-] : 7.337292428311959e-09\n",
      "fs.sepa1.to_conc_in1_state[0.0].flow_vol_phase[Liq] : 1.4495693840862851e-08\n"
     ]
    },
    {
     "name": "stdout",
     "output_type": "stream",
     "text": [
      "===Excecuting c0_mass= 1.0, WR=0.5,V=18.0===\n",
      "2023-04-26 17:19:08 [WARNING] idaes.core.base.costing_base: flow_expr is an expression with a lower bound of less than zero. Costing requires that all flows have a lower bound equal to or greater than zero to avoid negative costs.\n",
      "2023-04-26 17:19:08 [WARNING] idaes.core.base.costing_base: flow_expr is an expression with a lower bound of less than zero. Costing requires that all flows have a lower bound equal to or greater than zero to avoid negative costs.\n",
      "======DOF_intial======\n",
      "\n",
      "========================================================================\n",
      "Model Statistics   \n",
      "\n",
      "Degrees of Freedom: 38 \n",
      "\n",
      "Total No. Variables: 2374 \n",
      "    No. Fixed Variables: 24\n",
      "    No. Unused Variables: 16 (Fixed):5)\n",
      "    No. Variables only in Inequalities: 0 (Fixed: 0) \n",
      "\n",
      "Total No. Constraints: 2301 \n",
      "    No. Equality Constraints: 2301 (Deactivated: 0)\n",
      "    No. Inequality Constraints: 0 (Deactivated: 0)\n",
      "\n",
      "No. Objectives: 0 (Deactivated: 0)\n",
      "\n",
      "No. Blocks: 94 (Deactivated: 0) \n",
      "No. Expressions: 10 \n",
      "========================================================================\n",
      "\n",
      "2023-04-26 17:19:08 [WARNING] idaes.watertap.property_models.multicomp_aq_sol_prop_pack: While using the calculate_state method on fs.feed.properties[0.0], variable flow_vol_phase was provided as an argument in var_args, but it does not have a scaling factor. This suggests that the calculate_scaling_factor method has not been used or the variable was created on demand after the scaling factors were calculated. It is recommended to touch all relevant variables (i.e. call them or set an initial value) before using the calculate_scaling_factor method.\n",
      "2023-04-26 17:19:08 [WARNING] idaes.watertap.property_models.multicomp_aq_sol_prop_pack: While using the calculate_state method on fs.feed.properties[0.0], variable conc_mol_phase_comp was provided as an argument in var_args, but it does not have a scaling factor. This suggests that the calculate_scaling_factor method has not been used or the variable was created on demand after the scaling factors were calculated. It is recommended to touch all relevant variables (i.e. call them or set an initial value) before using the calculate_scaling_factor method.\n",
      "2023-04-26 17:19:08 [WARNING] idaes.watertap.property_models.multicomp_aq_sol_prop_pack: While using the calculate_state method on fs.feed.properties[0.0], variable conc_mol_phase_comp was provided as an argument in var_args, but it does not have a scaling factor. This suggests that the calculate_scaling_factor method has not been used or the variable was created on demand after the scaling factors were calculated. It is recommended to touch all relevant variables (i.e. call them or set an initial value) before using the calculate_scaling_factor method.\n",
      "2023-04-26 17:19:08 [WARNING] idaes.core.util.scaling: Missing scaling factor for fs.EDstack.diluate.area\n",
      "2023-04-26 17:19:08 [WARNING] idaes.core.util.scaling: Missing scaling factor for fs.EDstack.concentrate.area\n",
      "2023-04-26 17:19:08 [WARNING] idaes.core.util.scaling: Missing scaling factor for fs.EDstack.membrane_thickness\n",
      "2023-04-26 17:19:08 [WARNING] idaes.core.util.scaling: Missing scaling factor for fs.EDstack.membrane_areal_resistance\n",
      "2023-04-26 17:19:08 [WARNING] idaes.core.util.scaling: Missing scaling factor for fs.EDstack.solute_diffusivity_membrane\n",
      "2023-04-26 17:19:08 [WARNING] idaes.core.util.scaling: Missing scaling factor for fs.EDstack.diffus_mass\n",
      "2023-04-26 17:19:08 [WARNING] idaes.core.util.scaling: Missing scaling factor for fs.EDstack.water_permeability_membrane\n",
      "2023-04-26 17:19:08 [WARNING] idaes.core.util.scaling: Missing scaling factor for fs.EDstack.channel_height\n",
      "2023-04-26 17:19:08 [WARNING] idaes.core.util.scaling: Missing scaling factor for fs.EDstack.spacer_porosity\n",
      "2023-04-26 17:19:08 [WARNING] idaes.core.util.scaling: Missing scaling factor for fs.EDstack.electrodes_resistance\n",
      "2023-04-26 17:19:08 [WARNING] idaes.core.util.scaling: Missing scaling factor for fs.EDstack.spacer_specific_area\n",
      "2023-04-26 17:19:08 [WARNING] idaes.core.util.scaling: Missing scaling factor for fs.EDstack.hydraulic_diameter\n",
      "2023-04-26 17:19:08 [WARNING] idaes.core.util.scaling: Missing scaling factor for fs.EDstack.N_Re\n",
      "2023-04-26 17:19:08 [WARNING] idaes.core.util.scaling: Missing scaling factor for fs.EDstack.N_Sc\n",
      "2023-04-26 17:19:08 [WARNING] idaes.core.util.scaling: Missing scaling factor for fs.EDstack.N_Sh\n",
      "2023-04-26 17:19:08 [WARNING] idaes.core.util.scaling: Missing scaling factor for fs.EDstack.friction_factor\n",
      "2023-04-26 17:19:08 [WARNING] idaes.core.util.scaling: Missing scaling factor for fs.EDstack.pressure_drop\n",
      "2023-04-26 17:19:08 [WARNING] idaes.core.util.scaling: Missing scaling factor for fs.EDstack.pressure_drop_total\n",
      "SFSFSFSF 5555.555555555557\n",
      "2023-04-26 17:19:08 [INFO] idaes.init.fs.feed: Initialization Complete.\n",
      "2023-04-26 17:19:09 [INFO] idaes.init.fs.sepa0: Initialization Step 2 Complete: optimal - Optimal Solution Found\n",
      "2023-04-26 17:19:09 [INFO] idaes.init.fs.pump1.control_volume: Initialization Complete\n",
      "2023-04-26 17:19:09 [INFO] idaes.init.fs.pump1: Initialization Complete: optimal - Optimal Solution Found\n",
      "2023-04-26 17:19:09 [INFO] idaes.init.fs.pump0.control_volume: Initialization Complete\n",
      "2023-04-26 17:19:09 [INFO] idaes.init.fs.pump0: Initialization Complete: optimal - Optimal Solution Found\n",
      "2023-04-26 17:19:09 [INFO] idaes.init.fs.EDstack.diluate: Initialization Complete\n",
      "2023-04-26 17:19:09 [WARNING] idaes.init.fs.EDstack: Non-zero degrees of freedom: Degrees of freedom on fs.EDstack = 5. Fix 5 more variable(s)\n",
      "2023-04-26 17:19:09 [INFO] idaes.init.fs.EDstack.concentrate: Initialization Complete\n",
      "2023-04-26 17:19:10 [INFO] idaes.init.fs.EDstack: Initialization Step 3 successful.\n",
      "2023-04-26 17:19:10 [INFO] idaes.init.fs.EDstack: Initialization Complete: optimal - Optimal Solution Found\n",
      "\n",
      "====================================================================================\n",
      "Unit : fs.EDstack                                                          Time: 0.0\n",
      "------------------------------------------------------------------------------------\n",
      "    Unit Performance\n",
      "\n",
      "    Variables: \n",
      "\n",
      "    Key                                               : Value      : Units         : Fixed : Bounds\n",
      "    Specific electrical power consumption (kW*h/m**3) : 2.3742e+05 :        pascal : False : (0, 1000)\n",
      "             Total electrical power consumption(Watt) :     61.492 :          watt : False : (0, 12100)\n",
      "                               Water recovery by mass :    0.49843 : dimensionless : False : (0, 1)\n",
      "\n",
      "------------------------------------------------------------------------------------\n",
      "    Stream Table\n",
      "                                            Units       Diluate Channel Inlet  Concentrate Channel Inlet  Diluate Channel Outlet  Concentrate Channel Outlet\n",
      "    flow_mol_phase_comp ('Liq', 'H2O')   mole / second           14.430                   14.430                    14.385                    14.475        \n",
      "    flow_mol_phase_comp ('Liq', 'Na_+')  mole / second        0.0044444                0.0044444                 0.0013508                 0.0075381        \n",
      "    flow_mol_phase_comp ('Liq', 'Cl_-')  mole / second        0.0044444                0.0044444                 0.0013508                 0.0075381        \n",
      "    temperature                                 kelvin           298.15                   298.15                    298.15                    298.15        \n",
      "    pressure                                    pascal       3.0132e+05               3.0132e+05                2.7426e+05                2.7426e+05        \n",
      "====================================================================================\n",
      "2023-04-26 17:19:10 [INFO] idaes.init.fs.prod: Initialization Complete.\n",
      "2023-04-26 17:19:11 [INFO] idaes.init.fs.prod: Initialization Complete.\n",
      "2023-04-26 17:19:11 [INFO] idaes.init.fs.sepa1: Initialization Step 2 Complete: optimal - Optimal Solution Found\n",
      "2023-04-26 17:19:11 [INFO] idaes.init.fs.disp: Initialization Complete.\n",
      "2023-04-26 17:19:11 [INFO] idaes.init.fs.mix0: Initialization Complete: optimal - Optimal Solution Found\n",
      "BADLY SCALED VARS & CONSTRAINS\n",
      "fs.mix0.from_conc_out_state[0.0].flow_mol_phase_comp[Liq,H2O] : 1.447527015307269e-08\n",
      "fs.mix0.from_conc_out_state[0.0].flow_mol_phase_comp[Liq,Na_+] : 7.538117872384255e-09\n",
      "fs.mix0.from_conc_out_state[0.0].flow_mol_phase_comp[Liq,Cl_-] : 7.538117872384255e-09\n",
      "fs.mix0.from_conc_out_state[0.0].flow_mass_phase_comp[Liq,H2O] : 1.447527015307269e-08\n",
      "fs.mix0.from_conc_out_state[0.0].flow_mass_phase_comp[Liq,Na_+] : 7.538117872384255e-09\n",
      "fs.mix0.from_conc_out_state[0.0].flow_mass_phase_comp[Liq,Cl_-] : 7.538117872384255e-09\n",
      "fs.mix0.from_conc_out_state[0.0].flow_vol_phase[Liq] : 1.449976903615794e-08\n",
      "fs.sepa1.to_conc_in1_state[0.0].flow_mol_phase_comp[Liq,H2O] : 1.447527015307269e-08\n",
      "fs.sepa1.to_conc_in1_state[0.0].flow_mol_phase_comp[Liq,Na_+] : 7.538117872384255e-09\n",
      "fs.sepa1.to_conc_in1_state[0.0].flow_mol_phase_comp[Liq,Cl_-] : 7.538117872384255e-09\n",
      "fs.sepa1.to_conc_in1_state[0.0].flow_mass_phase_comp[Liq,H2O] : 1.4475270153072688e-08\n",
      "fs.sepa1.to_conc_in1_state[0.0].flow_mass_phase_comp[Liq,Na_+] : 7.538117872384255e-09\n",
      "fs.sepa1.to_conc_in1_state[0.0].flow_mass_phase_comp[Liq,Cl_-] : 7.538117872384255e-09\n",
      "fs.sepa1.to_conc_in1_state[0.0].flow_vol_phase[Liq] : 1.449976903615794e-08\n"
     ]
    },
    {
     "name": "stdout",
     "output_type": "stream",
     "text": [
      "===Excecuting c0_mass= 1.0, WR=0.5,V=20.0===\n",
      "2023-04-26 17:19:12 [WARNING] idaes.core.base.costing_base: flow_expr is an expression with a lower bound of less than zero. Costing requires that all flows have a lower bound equal to or greater than zero to avoid negative costs.\n",
      "2023-04-26 17:19:12 [WARNING] idaes.core.base.costing_base: flow_expr is an expression with a lower bound of less than zero. Costing requires that all flows have a lower bound equal to or greater than zero to avoid negative costs.\n",
      "======DOF_intial======\n",
      "\n",
      "========================================================================\n",
      "Model Statistics   \n",
      "\n",
      "Degrees of Freedom: 38 \n",
      "\n",
      "Total No. Variables: 2374 \n",
      "    No. Fixed Variables: 24\n",
      "    No. Unused Variables: 16 (Fixed):5)\n",
      "    No. Variables only in Inequalities: 0 (Fixed: 0) \n",
      "\n",
      "Total No. Constraints: 2301 \n",
      "    No. Equality Constraints: 2301 (Deactivated: 0)\n",
      "    No. Inequality Constraints: 0 (Deactivated: 0)\n",
      "\n",
      "No. Objectives: 0 (Deactivated: 0)\n",
      "\n",
      "No. Blocks: 94 (Deactivated: 0) \n",
      "No. Expressions: 10 \n",
      "========================================================================\n",
      "\n",
      "2023-04-26 17:19:13 [WARNING] idaes.watertap.property_models.multicomp_aq_sol_prop_pack: While using the calculate_state method on fs.feed.properties[0.0], variable flow_vol_phase was provided as an argument in var_args, but it does not have a scaling factor. This suggests that the calculate_scaling_factor method has not been used or the variable was created on demand after the scaling factors were calculated. It is recommended to touch all relevant variables (i.e. call them or set an initial value) before using the calculate_scaling_factor method.\n",
      "2023-04-26 17:19:13 [WARNING] idaes.watertap.property_models.multicomp_aq_sol_prop_pack: While using the calculate_state method on fs.feed.properties[0.0], variable conc_mol_phase_comp was provided as an argument in var_args, but it does not have a scaling factor. This suggests that the calculate_scaling_factor method has not been used or the variable was created on demand after the scaling factors were calculated. It is recommended to touch all relevant variables (i.e. call them or set an initial value) before using the calculate_scaling_factor method.\n",
      "2023-04-26 17:19:13 [WARNING] idaes.watertap.property_models.multicomp_aq_sol_prop_pack: While using the calculate_state method on fs.feed.properties[0.0], variable conc_mol_phase_comp was provided as an argument in var_args, but it does not have a scaling factor. This suggests that the calculate_scaling_factor method has not been used or the variable was created on demand after the scaling factors were calculated. It is recommended to touch all relevant variables (i.e. call them or set an initial value) before using the calculate_scaling_factor method.\n",
      "2023-04-26 17:19:13 [WARNING] idaes.core.util.scaling: Missing scaling factor for fs.EDstack.diluate.area\n",
      "2023-04-26 17:19:13 [WARNING] idaes.core.util.scaling: Missing scaling factor for fs.EDstack.concentrate.area\n",
      "2023-04-26 17:19:13 [WARNING] idaes.core.util.scaling: Missing scaling factor for fs.EDstack.membrane_thickness\n",
      "2023-04-26 17:19:13 [WARNING] idaes.core.util.scaling: Missing scaling factor for fs.EDstack.membrane_areal_resistance\n",
      "2023-04-26 17:19:13 [WARNING] idaes.core.util.scaling: Missing scaling factor for fs.EDstack.solute_diffusivity_membrane\n",
      "2023-04-26 17:19:13 [WARNING] idaes.core.util.scaling: Missing scaling factor for fs.EDstack.diffus_mass\n",
      "2023-04-26 17:19:13 [WARNING] idaes.core.util.scaling: Missing scaling factor for fs.EDstack.water_permeability_membrane\n",
      "2023-04-26 17:19:13 [WARNING] idaes.core.util.scaling: Missing scaling factor for fs.EDstack.channel_height\n",
      "2023-04-26 17:19:13 [WARNING] idaes.core.util.scaling: Missing scaling factor for fs.EDstack.spacer_porosity\n",
      "2023-04-26 17:19:13 [WARNING] idaes.core.util.scaling: Missing scaling factor for fs.EDstack.electrodes_resistance\n",
      "2023-04-26 17:19:13 [WARNING] idaes.core.util.scaling: Missing scaling factor for fs.EDstack.spacer_specific_area\n",
      "2023-04-26 17:19:13 [WARNING] idaes.core.util.scaling: Missing scaling factor for fs.EDstack.hydraulic_diameter\n",
      "2023-04-26 17:19:13 [WARNING] idaes.core.util.scaling: Missing scaling factor for fs.EDstack.N_Re\n",
      "2023-04-26 17:19:13 [WARNING] idaes.core.util.scaling: Missing scaling factor for fs.EDstack.N_Sc\n",
      "2023-04-26 17:19:13 [WARNING] idaes.core.util.scaling: Missing scaling factor for fs.EDstack.N_Sh\n",
      "2023-04-26 17:19:13 [WARNING] idaes.core.util.scaling: Missing scaling factor for fs.EDstack.friction_factor\n",
      "2023-04-26 17:19:13 [WARNING] idaes.core.util.scaling: Missing scaling factor for fs.EDstack.pressure_drop\n",
      "2023-04-26 17:19:13 [WARNING] idaes.core.util.scaling: Missing scaling factor for fs.EDstack.pressure_drop_total\n",
      "SFSFSFSF 5555.555555555557\n",
      "2023-04-26 17:19:13 [INFO] idaes.init.fs.feed: Initialization Complete.\n",
      "2023-04-26 17:19:13 [INFO] idaes.init.fs.sepa0: Initialization Step 2 Complete: optimal - Optimal Solution Found\n",
      "2023-04-26 17:19:13 [INFO] idaes.init.fs.pump1.control_volume: Initialization Complete\n",
      "2023-04-26 17:19:13 [INFO] idaes.init.fs.pump1: Initialization Complete: optimal - Optimal Solution Found\n",
      "2023-04-26 17:19:13 [INFO] idaes.init.fs.pump0.control_volume: Initialization Complete\n",
      "2023-04-26 17:19:13 [INFO] idaes.init.fs.pump0: Initialization Complete: optimal - Optimal Solution Found\n",
      "2023-04-26 17:19:13 [INFO] idaes.init.fs.EDstack.diluate: Initialization Complete\n",
      "2023-04-26 17:19:14 [WARNING] idaes.init.fs.EDstack: Non-zero degrees of freedom: Degrees of freedom on fs.EDstack = 5. Fix 5 more variable(s)\n",
      "2023-04-26 17:19:14 [INFO] idaes.init.fs.EDstack.concentrate: Initialization Complete\n",
      "2023-04-26 17:19:15 [INFO] idaes.init.fs.EDstack: Initialization Step 3 successful.\n",
      "2023-04-26 17:19:15 [INFO] idaes.init.fs.EDstack: Initialization Complete: optimal - Optimal Solution Found\n",
      "\n",
      "====================================================================================\n",
      "Unit : fs.EDstack                                                          Time: 0.0\n",
      "------------------------------------------------------------------------------------\n",
      "    Unit Performance\n",
      "\n",
      "    Variables: \n",
      "\n",
      "    Key                                               : Value      : Units         : Fixed : Bounds\n",
      "    Specific electrical power consumption (kW*h/m**3) : 2.7976e+05 :        pascal : False : (0, 1000)\n",
      "             Total electrical power consumption(Watt) :     72.441 :          watt : False : (0, 12100)\n",
      "                               Water recovery by mass :    0.49833 : dimensionless : False : (0, 1)\n",
      "\n",
      "------------------------------------------------------------------------------------\n",
      "    Stream Table\n",
      "                                            Units       Diluate Channel Inlet  Concentrate Channel Inlet  Diluate Channel Outlet  Concentrate Channel Outlet\n",
      "    flow_mol_phase_comp ('Liq', 'H2O')   mole / second           14.430                   14.430                    14.382                    14.478        \n",
      "    flow_mol_phase_comp ('Liq', 'Na_+')  mole / second        0.0044444                0.0044444                 0.0011801                 0.0077088        \n",
      "    flow_mol_phase_comp ('Liq', 'Cl_-')  mole / second        0.0044444                0.0044444                 0.0011801                 0.0077088        \n",
      "    temperature                                 kelvin           298.15                   298.15                    298.15                    298.15        \n",
      "    pressure                                    pascal       3.0132e+05               3.0132e+05                2.7426e+05                2.7426e+05        \n",
      "====================================================================================\n",
      "2023-04-26 17:19:15 [INFO] idaes.init.fs.prod: Initialization Complete.\n",
      "2023-04-26 17:19:15 [INFO] idaes.init.fs.prod: Initialization Complete.\n",
      "2023-04-26 17:19:15 [INFO] idaes.init.fs.sepa1: Initialization Step 2 Complete: optimal - Optimal Solution Found\n",
      "2023-04-26 17:19:15 [INFO] idaes.init.fs.disp: Initialization Complete.\n",
      "2023-04-26 17:19:15 [INFO] idaes.init.fs.mix0: Initialization Complete: optimal - Optimal Solution Found\n",
      "BADLY SCALED VARS & CONSTRAINS\n",
      "fs.mix0.from_conc_out_state[0.0].flow_mol_phase_comp[Liq,H2O] : 1.4478332678151729e-08\n",
      "fs.mix0.from_conc_out_state[0.0].flow_mol_phase_comp[Liq,Na_+] : 7.708834617614897e-09\n",
      "fs.mix0.from_conc_out_state[0.0].flow_mol_phase_comp[Liq,Cl_-] : 7.708834617614897e-09\n",
      "fs.mix0.from_conc_out_state[0.0].flow_mass_phase_comp[Liq,H2O] : 1.447833267815173e-08\n",
      "fs.mix0.from_conc_out_state[0.0].flow_mass_phase_comp[Liq,Na_+] : 7.708834617614897e-09\n",
      "fs.mix0.from_conc_out_state[0.0].flow_mass_phase_comp[Liq,Cl_-] : 7.708834617614897e-09\n",
      "fs.mix0.from_conc_out_state[0.0].flow_vol_phase[Liq] : 1.4503386390658977e-08\n",
      "fs.sepa1.to_conc_in1_state[0.0].flow_mol_phase_comp[Liq,H2O] : 1.4478332678151729e-08\n",
      "fs.sepa1.to_conc_in1_state[0.0].flow_mol_phase_comp[Liq,Na_+] : 7.708834617614897e-09\n",
      "fs.sepa1.to_conc_in1_state[0.0].flow_mol_phase_comp[Liq,Cl_-] : 7.708834617614897e-09\n",
      "fs.sepa1.to_conc_in1_state[0.0].flow_mass_phase_comp[Liq,H2O] : 1.447833267815173e-08\n",
      "fs.sepa1.to_conc_in1_state[0.0].flow_mass_phase_comp[Liq,Na_+] : 7.708834617614897e-09\n",
      "fs.sepa1.to_conc_in1_state[0.0].flow_mass_phase_comp[Liq,Cl_-] : 7.708834617614897e-09\n",
      "fs.sepa1.to_conc_in1_state[0.0].flow_vol_phase[Liq] : 1.4503386390658977e-08\n"
     ]
    },
    {
     "name": "stdout",
     "output_type": "stream",
     "text": [
      "===Excecuting c0_mass= 1.0, WR=0.5,V=22.0===\n",
      "2023-04-26 17:19:17 [WARNING] idaes.core.base.costing_base: flow_expr is an expression with a lower bound of less than zero. Costing requires that all flows have a lower bound equal to or greater than zero to avoid negative costs.\n",
      "2023-04-26 17:19:17 [WARNING] idaes.core.base.costing_base: flow_expr is an expression with a lower bound of less than zero. Costing requires that all flows have a lower bound equal to or greater than zero to avoid negative costs.\n",
      "======DOF_intial======\n",
      "\n",
      "========================================================================\n",
      "Model Statistics   \n",
      "\n",
      "Degrees of Freedom: 38 \n",
      "\n",
      "Total No. Variables: 2374 \n",
      "    No. Fixed Variables: 24\n",
      "    No. Unused Variables: 16 (Fixed):5)\n",
      "    No. Variables only in Inequalities: 0 (Fixed: 0) \n",
      "\n",
      "Total No. Constraints: 2301 \n",
      "    No. Equality Constraints: 2301 (Deactivated: 0)\n",
      "    No. Inequality Constraints: 0 (Deactivated: 0)\n",
      "\n",
      "No. Objectives: 0 (Deactivated: 0)\n",
      "\n",
      "No. Blocks: 94 (Deactivated: 0) \n",
      "No. Expressions: 10 \n",
      "========================================================================\n",
      "\n",
      "2023-04-26 17:19:17 [WARNING] idaes.watertap.property_models.multicomp_aq_sol_prop_pack: While using the calculate_state method on fs.feed.properties[0.0], variable flow_vol_phase was provided as an argument in var_args, but it does not have a scaling factor. This suggests that the calculate_scaling_factor method has not been used or the variable was created on demand after the scaling factors were calculated. It is recommended to touch all relevant variables (i.e. call them or set an initial value) before using the calculate_scaling_factor method.\n",
      "2023-04-26 17:19:17 [WARNING] idaes.watertap.property_models.multicomp_aq_sol_prop_pack: While using the calculate_state method on fs.feed.properties[0.0], variable conc_mol_phase_comp was provided as an argument in var_args, but it does not have a scaling factor. This suggests that the calculate_scaling_factor method has not been used or the variable was created on demand after the scaling factors were calculated. It is recommended to touch all relevant variables (i.e. call them or set an initial value) before using the calculate_scaling_factor method.\n",
      "2023-04-26 17:19:17 [WARNING] idaes.watertap.property_models.multicomp_aq_sol_prop_pack: While using the calculate_state method on fs.feed.properties[0.0], variable conc_mol_phase_comp was provided as an argument in var_args, but it does not have a scaling factor. This suggests that the calculate_scaling_factor method has not been used or the variable was created on demand after the scaling factors were calculated. It is recommended to touch all relevant variables (i.e. call them or set an initial value) before using the calculate_scaling_factor method.\n",
      "2023-04-26 17:19:17 [WARNING] idaes.core.util.scaling: Missing scaling factor for fs.EDstack.diluate.area\n",
      "2023-04-26 17:19:17 [WARNING] idaes.core.util.scaling: Missing scaling factor for fs.EDstack.concentrate.area\n",
      "2023-04-26 17:19:17 [WARNING] idaes.core.util.scaling: Missing scaling factor for fs.EDstack.membrane_thickness\n",
      "2023-04-26 17:19:17 [WARNING] idaes.core.util.scaling: Missing scaling factor for fs.EDstack.membrane_areal_resistance\n",
      "2023-04-26 17:19:17 [WARNING] idaes.core.util.scaling: Missing scaling factor for fs.EDstack.solute_diffusivity_membrane\n",
      "2023-04-26 17:19:17 [WARNING] idaes.core.util.scaling: Missing scaling factor for fs.EDstack.diffus_mass\n",
      "2023-04-26 17:19:17 [WARNING] idaes.core.util.scaling: Missing scaling factor for fs.EDstack.water_permeability_membrane\n",
      "2023-04-26 17:19:17 [WARNING] idaes.core.util.scaling: Missing scaling factor for fs.EDstack.channel_height\n",
      "2023-04-26 17:19:17 [WARNING] idaes.core.util.scaling: Missing scaling factor for fs.EDstack.spacer_porosity\n",
      "2023-04-26 17:19:17 [WARNING] idaes.core.util.scaling: Missing scaling factor for fs.EDstack.electrodes_resistance\n",
      "2023-04-26 17:19:17 [WARNING] idaes.core.util.scaling: Missing scaling factor for fs.EDstack.spacer_specific_area\n",
      "2023-04-26 17:19:17 [WARNING] idaes.core.util.scaling: Missing scaling factor for fs.EDstack.hydraulic_diameter\n",
      "2023-04-26 17:19:17 [WARNING] idaes.core.util.scaling: Missing scaling factor for fs.EDstack.N_Re\n",
      "2023-04-26 17:19:17 [WARNING] idaes.core.util.scaling: Missing scaling factor for fs.EDstack.N_Sc\n",
      "2023-04-26 17:19:17 [WARNING] idaes.core.util.scaling: Missing scaling factor for fs.EDstack.N_Sh\n",
      "2023-04-26 17:19:17 [WARNING] idaes.core.util.scaling: Missing scaling factor for fs.EDstack.friction_factor\n",
      "2023-04-26 17:19:17 [WARNING] idaes.core.util.scaling: Missing scaling factor for fs.EDstack.pressure_drop\n",
      "2023-04-26 17:19:17 [WARNING] idaes.core.util.scaling: Missing scaling factor for fs.EDstack.pressure_drop_total\n",
      "SFSFSFSF 5555.555555555557\n",
      "2023-04-26 17:19:17 [INFO] idaes.init.fs.feed: Initialization Complete.\n",
      "2023-04-26 17:19:17 [INFO] idaes.init.fs.sepa0: Initialization Step 2 Complete: optimal - Optimal Solution Found\n",
      "2023-04-26 17:19:17 [INFO] idaes.init.fs.pump1.control_volume: Initialization Complete\n",
      "2023-04-26 17:19:17 [INFO] idaes.init.fs.pump1: Initialization Complete: optimal - Optimal Solution Found\n",
      "2023-04-26 17:19:17 [INFO] idaes.init.fs.pump0.control_volume: Initialization Complete\n",
      "2023-04-26 17:19:18 [INFO] idaes.init.fs.pump0: Initialization Complete: optimal - Optimal Solution Found\n",
      "2023-04-26 17:19:18 [INFO] idaes.init.fs.EDstack.diluate: Initialization Complete\n",
      "2023-04-26 17:19:18 [WARNING] idaes.init.fs.EDstack: Non-zero degrees of freedom: Degrees of freedom on fs.EDstack = 5. Fix 5 more variable(s)\n",
      "2023-04-26 17:19:18 [INFO] idaes.init.fs.EDstack.concentrate: Initialization Complete\n",
      "2023-04-26 17:19:19 [INFO] idaes.init.fs.EDstack: Initialization Step 3 successful.\n",
      "2023-04-26 17:19:19 [INFO] idaes.init.fs.EDstack: Initialization Complete: optimal - Optimal Solution Found\n",
      "\n",
      "====================================================================================\n",
      "Unit : fs.EDstack                                                          Time: 0.0\n",
      "------------------------------------------------------------------------------------\n",
      "    Unit Performance\n",
      "\n",
      "    Variables: \n",
      "\n",
      "    Key                                               : Value      : Units         : Fixed : Bounds\n",
      "    Specific electrical power consumption (kW*h/m**3) : 3.2298e+05 :        pascal : False : (0, 1000)\n",
      "             Total electrical power consumption(Watt) :     83.614 :          watt : False : (0, 12100)\n",
      "                               Water recovery by mass :    0.49823 : dimensionless : False : (0, 1)\n",
      "\n",
      "------------------------------------------------------------------------------------\n",
      "    Stream Table\n",
      "                                            Units       Diluate Channel Inlet  Concentrate Channel Inlet  Diluate Channel Outlet  Concentrate Channel Outlet\n",
      "    flow_mol_phase_comp ('Liq', 'H2O')   mole / second           14.430                   14.430                    14.379                    14.481        \n",
      "    flow_mol_phase_comp ('Liq', 'Na_+')  mole / second        0.0044444                0.0044444                 0.0010358                 0.0078531        \n",
      "    flow_mol_phase_comp ('Liq', 'Cl_-')  mole / second        0.0044444                0.0044444                 0.0010358                 0.0078531        \n",
      "    temperature                                 kelvin           298.15                   298.15                    298.15                    298.15        \n",
      "    pressure                                    pascal       3.0132e+05               3.0132e+05                2.7426e+05                2.7426e+05        \n",
      "====================================================================================\n",
      "2023-04-26 17:19:19 [INFO] idaes.init.fs.prod: Initialization Complete.\n",
      "2023-04-26 17:19:19 [INFO] idaes.init.fs.prod: Initialization Complete.\n",
      "2023-04-26 17:19:19 [INFO] idaes.init.fs.sepa1: Initialization Step 2 Complete: optimal - Optimal Solution Found\n",
      "2023-04-26 17:19:19 [INFO] idaes.init.fs.disp: Initialization Complete.\n",
      "2023-04-26 17:19:20 [INFO] idaes.init.fs.mix0: Initialization Complete: optimal - Optimal Solution Found\n",
      "BADLY SCALED VARS & CONSTRAINS\n",
      "fs.mix0.from_conc_out_state[0.0].flow_mol_phase_comp[Liq,H2O] : 1.4481070965872646e-08\n",
      "fs.mix0.from_conc_out_state[0.0].flow_mol_phase_comp[Liq,Na_+] : 7.853058743701227e-09\n",
      "fs.mix0.from_conc_out_state[0.0].flow_mol_phase_comp[Liq,Cl_-] : 7.853058743701227e-09\n",
      "fs.mix0.from_conc_out_state[0.0].flow_mass_phase_comp[Liq,H2O] : 1.4481070965872647e-08\n",
      "fs.mix0.from_conc_out_state[0.0].flow_mass_phase_comp[Liq,Na_+] : 7.853058743701227e-09\n",
      "fs.mix0.from_conc_out_state[0.0].flow_mass_phase_comp[Liq,Cl_-] : 7.853058743701227e-09\n",
      "fs.mix0.from_conc_out_state[0.0].flow_vol_phase[Liq] : 1.4506593406789674e-08\n",
      "fs.sepa1.to_conc_in1_state[0.0].flow_mol_phase_comp[Liq,H2O] : 1.4481070965872646e-08\n",
      "fs.sepa1.to_conc_in1_state[0.0].flow_mol_phase_comp[Liq,Na_+] : 7.853058743701227e-09\n",
      "fs.sepa1.to_conc_in1_state[0.0].flow_mol_phase_comp[Liq,Cl_-] : 7.853058743701227e-09\n",
      "fs.sepa1.to_conc_in1_state[0.0].flow_mass_phase_comp[Liq,H2O] : 1.4481070965872644e-08\n",
      "fs.sepa1.to_conc_in1_state[0.0].flow_mass_phase_comp[Liq,Na_+] : 7.853058743701227e-09\n",
      "fs.sepa1.to_conc_in1_state[0.0].flow_mass_phase_comp[Liq,Cl_-] : 7.853058743701227e-09\n",
      "fs.sepa1.to_conc_in1_state[0.0].flow_vol_phase[Liq] : 1.4506593406789674e-08\n"
     ]
    },
    {
     "name": "stdout",
     "output_type": "stream",
     "text": [
      "===Excecuting c0_mass= 1.0, WR=0.5,V=24.0===\n",
      "2023-04-26 17:19:21 [WARNING] idaes.core.base.costing_base: flow_expr is an expression with a lower bound of less than zero. Costing requires that all flows have a lower bound equal to or greater than zero to avoid negative costs.\n",
      "2023-04-26 17:19:21 [WARNING] idaes.core.base.costing_base: flow_expr is an expression with a lower bound of less than zero. Costing requires that all flows have a lower bound equal to or greater than zero to avoid negative costs.\n",
      "======DOF_intial======\n",
      "\n",
      "========================================================================\n",
      "Model Statistics   \n",
      "\n",
      "Degrees of Freedom: 38 \n",
      "\n",
      "Total No. Variables: 2374 \n",
      "    No. Fixed Variables: 24\n",
      "    No. Unused Variables: 16 (Fixed):5)\n",
      "    No. Variables only in Inequalities: 0 (Fixed: 0) \n",
      "\n",
      "Total No. Constraints: 2301 \n",
      "    No. Equality Constraints: 2301 (Deactivated: 0)\n",
      "    No. Inequality Constraints: 0 (Deactivated: 0)\n",
      "\n",
      "No. Objectives: 0 (Deactivated: 0)\n",
      "\n",
      "No. Blocks: 94 (Deactivated: 0) \n",
      "No. Expressions: 10 \n",
      "========================================================================\n",
      "\n",
      "2023-04-26 17:19:21 [WARNING] idaes.watertap.property_models.multicomp_aq_sol_prop_pack: While using the calculate_state method on fs.feed.properties[0.0], variable flow_vol_phase was provided as an argument in var_args, but it does not have a scaling factor. This suggests that the calculate_scaling_factor method has not been used or the variable was created on demand after the scaling factors were calculated. It is recommended to touch all relevant variables (i.e. call them or set an initial value) before using the calculate_scaling_factor method.\n",
      "2023-04-26 17:19:21 [WARNING] idaes.watertap.property_models.multicomp_aq_sol_prop_pack: While using the calculate_state method on fs.feed.properties[0.0], variable conc_mol_phase_comp was provided as an argument in var_args, but it does not have a scaling factor. This suggests that the calculate_scaling_factor method has not been used or the variable was created on demand after the scaling factors were calculated. It is recommended to touch all relevant variables (i.e. call them or set an initial value) before using the calculate_scaling_factor method.\n",
      "2023-04-26 17:19:21 [WARNING] idaes.watertap.property_models.multicomp_aq_sol_prop_pack: While using the calculate_state method on fs.feed.properties[0.0], variable conc_mol_phase_comp was provided as an argument in var_args, but it does not have a scaling factor. This suggests that the calculate_scaling_factor method has not been used or the variable was created on demand after the scaling factors were calculated. It is recommended to touch all relevant variables (i.e. call them or set an initial value) before using the calculate_scaling_factor method.\n",
      "2023-04-26 17:19:21 [WARNING] idaes.core.util.scaling: Missing scaling factor for fs.EDstack.diluate.area\n",
      "2023-04-26 17:19:21 [WARNING] idaes.core.util.scaling: Missing scaling factor for fs.EDstack.concentrate.area\n",
      "2023-04-26 17:19:21 [WARNING] idaes.core.util.scaling: Missing scaling factor for fs.EDstack.membrane_thickness\n",
      "2023-04-26 17:19:21 [WARNING] idaes.core.util.scaling: Missing scaling factor for fs.EDstack.membrane_areal_resistance\n",
      "2023-04-26 17:19:21 [WARNING] idaes.core.util.scaling: Missing scaling factor for fs.EDstack.solute_diffusivity_membrane\n",
      "2023-04-26 17:19:21 [WARNING] idaes.core.util.scaling: Missing scaling factor for fs.EDstack.diffus_mass\n",
      "2023-04-26 17:19:21 [WARNING] idaes.core.util.scaling: Missing scaling factor for fs.EDstack.water_permeability_membrane\n",
      "2023-04-26 17:19:21 [WARNING] idaes.core.util.scaling: Missing scaling factor for fs.EDstack.channel_height\n",
      "2023-04-26 17:19:21 [WARNING] idaes.core.util.scaling: Missing scaling factor for fs.EDstack.spacer_porosity\n",
      "2023-04-26 17:19:21 [WARNING] idaes.core.util.scaling: Missing scaling factor for fs.EDstack.electrodes_resistance\n",
      "2023-04-26 17:19:21 [WARNING] idaes.core.util.scaling: Missing scaling factor for fs.EDstack.spacer_specific_area\n",
      "2023-04-26 17:19:21 [WARNING] idaes.core.util.scaling: Missing scaling factor for fs.EDstack.hydraulic_diameter\n",
      "2023-04-26 17:19:21 [WARNING] idaes.core.util.scaling: Missing scaling factor for fs.EDstack.N_Re\n",
      "2023-04-26 17:19:21 [WARNING] idaes.core.util.scaling: Missing scaling factor for fs.EDstack.N_Sc\n",
      "2023-04-26 17:19:21 [WARNING] idaes.core.util.scaling: Missing scaling factor for fs.EDstack.N_Sh\n",
      "2023-04-26 17:19:21 [WARNING] idaes.core.util.scaling: Missing scaling factor for fs.EDstack.friction_factor\n",
      "2023-04-26 17:19:21 [WARNING] idaes.core.util.scaling: Missing scaling factor for fs.EDstack.pressure_drop\n",
      "2023-04-26 17:19:21 [WARNING] idaes.core.util.scaling: Missing scaling factor for fs.EDstack.pressure_drop_total\n",
      "SFSFSFSF 5555.555555555557\n",
      "2023-04-26 17:19:21 [INFO] idaes.init.fs.feed: Initialization Complete.\n",
      "2023-04-26 17:19:22 [INFO] idaes.init.fs.sepa0: Initialization Step 2 Complete: optimal - Optimal Solution Found\n",
      "2023-04-26 17:19:22 [INFO] idaes.init.fs.pump1.control_volume: Initialization Complete\n",
      "2023-04-26 17:19:22 [INFO] idaes.init.fs.pump1: Initialization Complete: optimal - Optimal Solution Found\n",
      "2023-04-26 17:19:22 [INFO] idaes.init.fs.pump0.control_volume: Initialization Complete\n",
      "2023-04-26 17:19:22 [INFO] idaes.init.fs.pump0: Initialization Complete: optimal - Optimal Solution Found\n",
      "2023-04-26 17:19:22 [INFO] idaes.init.fs.EDstack.diluate: Initialization Complete\n",
      "2023-04-26 17:19:22 [WARNING] idaes.init.fs.EDstack: Non-zero degrees of freedom: Degrees of freedom on fs.EDstack = 5. Fix 5 more variable(s)\n",
      "2023-04-26 17:19:22 [INFO] idaes.init.fs.EDstack.concentrate: Initialization Complete\n",
      "2023-04-26 17:19:23 [INFO] idaes.init.fs.EDstack: Initialization Step 3 successful.\n",
      "2023-04-26 17:19:23 [INFO] idaes.init.fs.EDstack: Initialization Complete: optimal - Optimal Solution Found\n",
      "\n",
      "====================================================================================\n",
      "Unit : fs.EDstack                                                          Time: 0.0\n",
      "------------------------------------------------------------------------------------\n",
      "    Unit Performance\n",
      "\n",
      "    Variables: \n",
      "\n",
      "    Key                                               : Value      : Units         : Fixed : Bounds\n",
      "    Specific electrical power consumption (kW*h/m**3) : 3.6675e+05 :        pascal : False : (0, 1000)\n",
      "             Total electrical power consumption(Watt) :     94.927 :          watt : False : (0, 12100)\n",
      "                               Water recovery by mass :    0.49815 : dimensionless : False : (0, 1)\n",
      "\n",
      "------------------------------------------------------------------------------------\n",
      "    Stream Table\n",
      "                                            Units       Diluate Channel Inlet  Concentrate Channel Inlet  Diluate Channel Outlet  Concentrate Channel Outlet\n",
      "    flow_mol_phase_comp ('Liq', 'H2O')   mole / second           14.430                   14.430                    14.376                    14.484        \n",
      "    flow_mol_phase_comp ('Liq', 'Na_+')  mole / second        0.0044444                0.0044444                0.00091457                 0.0079743        \n",
      "    flow_mol_phase_comp ('Liq', 'Cl_-')  mole / second        0.0044444                0.0044444                0.00091457                 0.0079743        \n",
      "    temperature                                 kelvin           298.15                   298.15                    298.15                    298.15        \n",
      "    pressure                                    pascal       3.0132e+05               3.0132e+05                2.7426e+05                2.7426e+05        \n",
      "====================================================================================\n",
      "2023-04-26 17:19:23 [INFO] idaes.init.fs.prod: Initialization Complete.\n",
      "2023-04-26 17:19:24 [INFO] idaes.init.fs.prod: Initialization Complete.\n",
      "2023-04-26 17:19:24 [INFO] idaes.init.fs.sepa1: Initialization Step 2 Complete: optimal - Optimal Solution Found\n",
      "2023-04-26 17:19:24 [INFO] idaes.init.fs.disp: Initialization Complete.\n",
      "2023-04-26 17:19:24 [INFO] idaes.init.fs.mix0: Initialization Complete: optimal - Optimal Solution Found\n",
      "BADLY SCALED VARS & CONSTRAINS\n",
      "fs.mix0.from_conc_out_state[0.0].flow_mol_phase_comp[Liq,H2O] : 1.4483520312254946e-08\n",
      "fs.mix0.from_conc_out_state[0.0].flow_mol_phase_comp[Liq,Na_+] : 7.974321410287613e-09\n",
      "fs.mix0.from_conc_out_state[0.0].flow_mol_phase_comp[Liq,Cl_-] : 7.974321410287613e-09\n",
      "fs.mix0.from_conc_out_state[0.0].flow_mass_phase_comp[Liq,H2O] : 1.4483520312254944e-08\n",
      "fs.mix0.from_conc_out_state[0.0].flow_mass_phase_comp[Liq,Na_+] : 7.974321410287613e-09\n",
      "fs.mix0.from_conc_out_state[0.0].flow_mass_phase_comp[Liq,Cl_-] : 7.974321410287613e-09\n",
      "fs.mix0.from_conc_out_state[0.0].flow_vol_phase[Liq] : 1.4509436856838382e-08\n",
      "fs.sepa1.to_conc_in1_state[0.0].flow_mol_phase_comp[Liq,H2O] : 1.4483520312254946e-08\n",
      "fs.sepa1.to_conc_in1_state[0.0].flow_mol_phase_comp[Liq,Na_+] : 7.974321410287613e-09\n",
      "fs.sepa1.to_conc_in1_state[0.0].flow_mol_phase_comp[Liq,Cl_-] : 7.974321410287613e-09\n",
      "fs.sepa1.to_conc_in1_state[0.0].flow_mass_phase_comp[Liq,H2O] : 1.4483520312254944e-08\n",
      "fs.sepa1.to_conc_in1_state[0.0].flow_mass_phase_comp[Liq,Na_+] : 7.974321410287613e-09\n",
      "fs.sepa1.to_conc_in1_state[0.0].flow_mass_phase_comp[Liq,Cl_-] : 7.974321410287613e-09\n",
      "fs.sepa1.to_conc_in1_state[0.0].flow_vol_phase[Liq] : 1.4509436856838379e-08\n"
     ]
    },
    {
     "name": "stdout",
     "output_type": "stream",
     "text": [
      "===Excecuting c0_mass= 1.0, WR=0.5,V=26.0===\n",
      "2023-04-26 17:19:25 [WARNING] idaes.core.base.costing_base: flow_expr is an expression with a lower bound of less than zero. Costing requires that all flows have a lower bound equal to or greater than zero to avoid negative costs.\n",
      "2023-04-26 17:19:25 [WARNING] idaes.core.base.costing_base: flow_expr is an expression with a lower bound of less than zero. Costing requires that all flows have a lower bound equal to or greater than zero to avoid negative costs.\n",
      "======DOF_intial======\n",
      "\n",
      "========================================================================\n",
      "Model Statistics   \n",
      "\n",
      "Degrees of Freedom: 38 \n",
      "\n",
      "Total No. Variables: 2374 \n",
      "    No. Fixed Variables: 24\n",
      "    No. Unused Variables: 16 (Fixed):5)\n",
      "    No. Variables only in Inequalities: 0 (Fixed: 0) \n",
      "\n",
      "Total No. Constraints: 2301 \n",
      "    No. Equality Constraints: 2301 (Deactivated: 0)\n",
      "    No. Inequality Constraints: 0 (Deactivated: 0)\n",
      "\n",
      "No. Objectives: 0 (Deactivated: 0)\n",
      "\n",
      "No. Blocks: 94 (Deactivated: 0) \n",
      "No. Expressions: 10 \n",
      "========================================================================\n",
      "\n",
      "2023-04-26 17:19:25 [WARNING] idaes.watertap.property_models.multicomp_aq_sol_prop_pack: While using the calculate_state method on fs.feed.properties[0.0], variable flow_vol_phase was provided as an argument in var_args, but it does not have a scaling factor. This suggests that the calculate_scaling_factor method has not been used or the variable was created on demand after the scaling factors were calculated. It is recommended to touch all relevant variables (i.e. call them or set an initial value) before using the calculate_scaling_factor method.\n",
      "2023-04-26 17:19:25 [WARNING] idaes.watertap.property_models.multicomp_aq_sol_prop_pack: While using the calculate_state method on fs.feed.properties[0.0], variable conc_mol_phase_comp was provided as an argument in var_args, but it does not have a scaling factor. This suggests that the calculate_scaling_factor method has not been used or the variable was created on demand after the scaling factors were calculated. It is recommended to touch all relevant variables (i.e. call them or set an initial value) before using the calculate_scaling_factor method.\n",
      "2023-04-26 17:19:25 [WARNING] idaes.watertap.property_models.multicomp_aq_sol_prop_pack: While using the calculate_state method on fs.feed.properties[0.0], variable conc_mol_phase_comp was provided as an argument in var_args, but it does not have a scaling factor. This suggests that the calculate_scaling_factor method has not been used or the variable was created on demand after the scaling factors were calculated. It is recommended to touch all relevant variables (i.e. call them or set an initial value) before using the calculate_scaling_factor method.\n",
      "2023-04-26 17:19:26 [WARNING] idaes.core.util.scaling: Missing scaling factor for fs.EDstack.diluate.area\n",
      "2023-04-26 17:19:26 [WARNING] idaes.core.util.scaling: Missing scaling factor for fs.EDstack.concentrate.area\n",
      "2023-04-26 17:19:26 [WARNING] idaes.core.util.scaling: Missing scaling factor for fs.EDstack.membrane_thickness\n",
      "2023-04-26 17:19:26 [WARNING] idaes.core.util.scaling: Missing scaling factor for fs.EDstack.membrane_areal_resistance\n",
      "2023-04-26 17:19:26 [WARNING] idaes.core.util.scaling: Missing scaling factor for fs.EDstack.solute_diffusivity_membrane\n",
      "2023-04-26 17:19:26 [WARNING] idaes.core.util.scaling: Missing scaling factor for fs.EDstack.diffus_mass\n",
      "2023-04-26 17:19:26 [WARNING] idaes.core.util.scaling: Missing scaling factor for fs.EDstack.water_permeability_membrane\n",
      "2023-04-26 17:19:26 [WARNING] idaes.core.util.scaling: Missing scaling factor for fs.EDstack.channel_height\n",
      "2023-04-26 17:19:26 [WARNING] idaes.core.util.scaling: Missing scaling factor for fs.EDstack.spacer_porosity\n",
      "2023-04-26 17:19:26 [WARNING] idaes.core.util.scaling: Missing scaling factor for fs.EDstack.electrodes_resistance\n",
      "2023-04-26 17:19:26 [WARNING] idaes.core.util.scaling: Missing scaling factor for fs.EDstack.spacer_specific_area\n",
      "2023-04-26 17:19:26 [WARNING] idaes.core.util.scaling: Missing scaling factor for fs.EDstack.hydraulic_diameter\n",
      "2023-04-26 17:19:26 [WARNING] idaes.core.util.scaling: Missing scaling factor for fs.EDstack.N_Re\n",
      "2023-04-26 17:19:26 [WARNING] idaes.core.util.scaling: Missing scaling factor for fs.EDstack.N_Sc\n",
      "2023-04-26 17:19:26 [WARNING] idaes.core.util.scaling: Missing scaling factor for fs.EDstack.N_Sh\n",
      "2023-04-26 17:19:26 [WARNING] idaes.core.util.scaling: Missing scaling factor for fs.EDstack.friction_factor\n",
      "2023-04-26 17:19:26 [WARNING] idaes.core.util.scaling: Missing scaling factor for fs.EDstack.pressure_drop\n",
      "2023-04-26 17:19:26 [WARNING] idaes.core.util.scaling: Missing scaling factor for fs.EDstack.pressure_drop_total\n",
      "SFSFSFSF 5555.555555555557\n",
      "2023-04-26 17:19:26 [INFO] idaes.init.fs.feed: Initialization Complete.\n",
      "2023-04-26 17:19:26 [INFO] idaes.init.fs.sepa0: Initialization Step 2 Complete: optimal - Optimal Solution Found\n",
      "2023-04-26 17:19:26 [INFO] idaes.init.fs.pump1.control_volume: Initialization Complete\n",
      "2023-04-26 17:19:26 [INFO] idaes.init.fs.pump1: Initialization Complete: optimal - Optimal Solution Found\n",
      "2023-04-26 17:19:26 [INFO] idaes.init.fs.pump0.control_volume: Initialization Complete\n",
      "2023-04-26 17:19:26 [INFO] idaes.init.fs.pump0: Initialization Complete: optimal - Optimal Solution Found\n",
      "2023-04-26 17:19:26 [INFO] idaes.init.fs.EDstack.diluate: Initialization Complete\n",
      "2023-04-26 17:19:26 [WARNING] idaes.init.fs.EDstack: Non-zero degrees of freedom: Degrees of freedom on fs.EDstack = 5. Fix 5 more variable(s)\n",
      "2023-04-26 17:19:27 [INFO] idaes.init.fs.EDstack.concentrate: Initialization Complete\n",
      "2023-04-26 17:19:28 [INFO] idaes.init.fs.EDstack: Initialization Step 3 successful.\n",
      "2023-04-26 17:19:28 [INFO] idaes.init.fs.EDstack: Initialization Complete: optimal - Optimal Solution Found\n",
      "\n",
      "====================================================================================\n",
      "Unit : fs.EDstack                                                          Time: 0.0\n",
      "------------------------------------------------------------------------------------\n",
      "    Unit Performance\n",
      "\n",
      "    Variables: \n",
      "\n",
      "    Key                                               : Value      : Units         : Fixed : Bounds\n",
      "    Specific electrical power consumption (kW*h/m**3) : 4.1084e+05 :        pascal : False : (0, 1000)\n",
      "             Total electrical power consumption(Watt) :     106.32 :          watt : False : (0, 12100)\n",
      "                               Water recovery by mass :    0.49807 : dimensionless : False : (0, 1)\n",
      "\n",
      "------------------------------------------------------------------------------------\n",
      "    Stream Table\n",
      "                                            Units       Diluate Channel Inlet  Concentrate Channel Inlet  Diluate Channel Outlet  Concentrate Channel Outlet\n",
      "    flow_mol_phase_comp ('Liq', 'H2O')   mole / second           14.430                   14.430                    14.374                    14.486        \n",
      "    flow_mol_phase_comp ('Liq', 'Na_+')  mole / second        0.0044444                0.0044444                0.00081297                 0.0080759        \n",
      "    flow_mol_phase_comp ('Liq', 'Cl_-')  mole / second        0.0044444                0.0044444                0.00081297                 0.0080759        \n",
      "    temperature                                 kelvin           298.15                   298.15                    298.15                    298.15        \n",
      "    pressure                                    pascal       3.0132e+05               3.0132e+05                2.7426e+05                2.7426e+05        \n",
      "====================================================================================\n",
      "2023-04-26 17:19:28 [INFO] idaes.init.fs.prod: Initialization Complete.\n",
      "2023-04-26 17:19:28 [INFO] idaes.init.fs.prod: Initialization Complete.\n",
      "2023-04-26 17:19:28 [INFO] idaes.init.fs.sepa1: Initialization Step 2 Complete: optimal - Optimal Solution Found\n",
      "2023-04-26 17:19:28 [INFO] idaes.init.fs.disp: Initialization Complete.\n",
      "2023-04-26 17:19:28 [INFO] idaes.init.fs.mix0: Initialization Complete: optimal - Optimal Solution Found\n",
      "BADLY SCALED VARS & CONSTRAINS\n",
      "fs.mix0.from_conc_out_state[0.0].flow_mol_phase_comp[Liq,H2O] : 1.4485713773448266e-08\n",
      "fs.mix0.from_conc_out_state[0.0].flow_mol_phase_comp[Liq,Na_+] : 8.075918720546038e-09\n",
      "fs.mix0.from_conc_out_state[0.0].flow_mol_phase_comp[Liq,Cl_-] : 8.075918720546038e-09\n",
      "fs.mix0.from_conc_out_state[0.0].flow_mass_phase_comp[Liq,H2O] : 1.4485713773448266e-08\n",
      "fs.mix0.from_conc_out_state[0.0].flow_mass_phase_comp[Liq,Na_+] : 8.075918720546038e-09\n",
      "fs.mix0.from_conc_out_state[0.0].flow_mass_phase_comp[Liq,Cl_-] : 8.075918720546038e-09\n",
      "fs.mix0.from_conc_out_state[0.0].flow_vol_phase[Liq] : 1.4511960509290042e-08\n",
      "fs.sepa1.to_conc_in1_state[0.0].flow_mol_phase_comp[Liq,H2O] : 1.4485713773448266e-08\n",
      "fs.sepa1.to_conc_in1_state[0.0].flow_mol_phase_comp[Liq,Na_+] : 8.075918720546038e-09\n",
      "fs.sepa1.to_conc_in1_state[0.0].flow_mol_phase_comp[Liq,Cl_-] : 8.075918720546038e-09\n",
      "fs.sepa1.to_conc_in1_state[0.0].flow_mass_phase_comp[Liq,H2O] : 1.4485713773448265e-08\n",
      "fs.sepa1.to_conc_in1_state[0.0].flow_mass_phase_comp[Liq,Na_+] : 8.075918720546038e-09\n",
      "fs.sepa1.to_conc_in1_state[0.0].flow_mass_phase_comp[Liq,Cl_-] : 8.075918720546038e-09\n",
      "fs.sepa1.to_conc_in1_state[0.0].flow_vol_phase[Liq] : 1.451196050929004e-08\n"
     ]
    },
    {
     "name": "stdout",
     "output_type": "stream",
     "text": [
      "===Excecuting c0_mass= 1.0, WR=0.5,V=28.0===\n",
      "2023-04-26 17:19:30 [WARNING] idaes.core.base.costing_base: flow_expr is an expression with a lower bound of less than zero. Costing requires that all flows have a lower bound equal to or greater than zero to avoid negative costs.\n",
      "2023-04-26 17:19:30 [WARNING] idaes.core.base.costing_base: flow_expr is an expression with a lower bound of less than zero. Costing requires that all flows have a lower bound equal to or greater than zero to avoid negative costs.\n",
      "======DOF_intial======\n",
      "\n",
      "========================================================================\n",
      "Model Statistics   \n",
      "\n",
      "Degrees of Freedom: 38 \n",
      "\n",
      "Total No. Variables: 2374 \n",
      "    No. Fixed Variables: 24\n",
      "    No. Unused Variables: 16 (Fixed):5)\n",
      "    No. Variables only in Inequalities: 0 (Fixed: 0) \n",
      "\n",
      "Total No. Constraints: 2301 \n",
      "    No. Equality Constraints: 2301 (Deactivated: 0)\n",
      "    No. Inequality Constraints: 0 (Deactivated: 0)\n",
      "\n",
      "No. Objectives: 0 (Deactivated: 0)\n",
      "\n",
      "No. Blocks: 94 (Deactivated: 0) \n",
      "No. Expressions: 10 \n",
      "========================================================================\n",
      "\n",
      "2023-04-26 17:19:30 [WARNING] idaes.watertap.property_models.multicomp_aq_sol_prop_pack: While using the calculate_state method on fs.feed.properties[0.0], variable flow_vol_phase was provided as an argument in var_args, but it does not have a scaling factor. This suggests that the calculate_scaling_factor method has not been used or the variable was created on demand after the scaling factors were calculated. It is recommended to touch all relevant variables (i.e. call them or set an initial value) before using the calculate_scaling_factor method.\n",
      "2023-04-26 17:19:30 [WARNING] idaes.watertap.property_models.multicomp_aq_sol_prop_pack: While using the calculate_state method on fs.feed.properties[0.0], variable conc_mol_phase_comp was provided as an argument in var_args, but it does not have a scaling factor. This suggests that the calculate_scaling_factor method has not been used or the variable was created on demand after the scaling factors were calculated. It is recommended to touch all relevant variables (i.e. call them or set an initial value) before using the calculate_scaling_factor method.\n",
      "2023-04-26 17:19:30 [WARNING] idaes.watertap.property_models.multicomp_aq_sol_prop_pack: While using the calculate_state method on fs.feed.properties[0.0], variable conc_mol_phase_comp was provided as an argument in var_args, but it does not have a scaling factor. This suggests that the calculate_scaling_factor method has not been used or the variable was created on demand after the scaling factors were calculated. It is recommended to touch all relevant variables (i.e. call them or set an initial value) before using the calculate_scaling_factor method.\n",
      "2023-04-26 17:19:30 [WARNING] idaes.core.util.scaling: Missing scaling factor for fs.EDstack.diluate.area\n",
      "2023-04-26 17:19:30 [WARNING] idaes.core.util.scaling: Missing scaling factor for fs.EDstack.concentrate.area\n",
      "2023-04-26 17:19:30 [WARNING] idaes.core.util.scaling: Missing scaling factor for fs.EDstack.membrane_thickness\n",
      "2023-04-26 17:19:30 [WARNING] idaes.core.util.scaling: Missing scaling factor for fs.EDstack.membrane_areal_resistance\n",
      "2023-04-26 17:19:30 [WARNING] idaes.core.util.scaling: Missing scaling factor for fs.EDstack.solute_diffusivity_membrane\n",
      "2023-04-26 17:19:30 [WARNING] idaes.core.util.scaling: Missing scaling factor for fs.EDstack.diffus_mass\n",
      "2023-04-26 17:19:30 [WARNING] idaes.core.util.scaling: Missing scaling factor for fs.EDstack.water_permeability_membrane\n",
      "2023-04-26 17:19:30 [WARNING] idaes.core.util.scaling: Missing scaling factor for fs.EDstack.channel_height\n",
      "2023-04-26 17:19:30 [WARNING] idaes.core.util.scaling: Missing scaling factor for fs.EDstack.spacer_porosity\n",
      "2023-04-26 17:19:30 [WARNING] idaes.core.util.scaling: Missing scaling factor for fs.EDstack.electrodes_resistance\n",
      "2023-04-26 17:19:30 [WARNING] idaes.core.util.scaling: Missing scaling factor for fs.EDstack.spacer_specific_area\n",
      "2023-04-26 17:19:30 [WARNING] idaes.core.util.scaling: Missing scaling factor for fs.EDstack.hydraulic_diameter\n",
      "2023-04-26 17:19:30 [WARNING] idaes.core.util.scaling: Missing scaling factor for fs.EDstack.N_Re\n",
      "2023-04-26 17:19:30 [WARNING] idaes.core.util.scaling: Missing scaling factor for fs.EDstack.N_Sc\n",
      "2023-04-26 17:19:30 [WARNING] idaes.core.util.scaling: Missing scaling factor for fs.EDstack.N_Sh\n",
      "2023-04-26 17:19:30 [WARNING] idaes.core.util.scaling: Missing scaling factor for fs.EDstack.friction_factor\n",
      "2023-04-26 17:19:30 [WARNING] idaes.core.util.scaling: Missing scaling factor for fs.EDstack.pressure_drop\n",
      "2023-04-26 17:19:30 [WARNING] idaes.core.util.scaling: Missing scaling factor for fs.EDstack.pressure_drop_total\n",
      "SFSFSFSF 5555.555555555557\n",
      "2023-04-26 17:19:30 [INFO] idaes.init.fs.feed: Initialization Complete.\n",
      "2023-04-26 17:19:30 [INFO] idaes.init.fs.sepa0: Initialization Step 2 Complete: optimal - Optimal Solution Found\n",
      "2023-04-26 17:19:30 [INFO] idaes.init.fs.pump1.control_volume: Initialization Complete\n",
      "2023-04-26 17:19:30 [INFO] idaes.init.fs.pump1: Initialization Complete: optimal - Optimal Solution Found\n",
      "2023-04-26 17:19:30 [INFO] idaes.init.fs.pump0.control_volume: Initialization Complete\n",
      "2023-04-26 17:19:30 [INFO] idaes.init.fs.pump0: Initialization Complete: optimal - Optimal Solution Found\n",
      "2023-04-26 17:19:31 [INFO] idaes.init.fs.EDstack.diluate: Initialization Complete\n",
      "2023-04-26 17:19:31 [WARNING] idaes.init.fs.EDstack: Non-zero degrees of freedom: Degrees of freedom on fs.EDstack = 5. Fix 5 more variable(s)\n",
      "2023-04-26 17:19:31 [INFO] idaes.init.fs.EDstack.concentrate: Initialization Complete\n",
      "2023-04-26 17:19:32 [INFO] idaes.init.fs.EDstack: Initialization Step 3 successful.\n",
      "2023-04-26 17:19:32 [INFO] idaes.init.fs.EDstack: Initialization Complete: optimal - Optimal Solution Found\n",
      "\n",
      "====================================================================================\n",
      "Unit : fs.EDstack                                                          Time: 0.0\n",
      "------------------------------------------------------------------------------------\n",
      "    Unit Performance\n",
      "\n",
      "    Variables: \n",
      "\n",
      "    Key                                               : Value      : Units         : Fixed : Bounds\n",
      "    Specific electrical power consumption (kW*h/m**3) : 4.5507e+05 :        pascal : False : (0, 1000)\n",
      "             Total electrical power consumption(Watt) :     117.75 :          watt : False : (0, 12100)\n",
      "                               Water recovery by mass :    0.49800 : dimensionless : False : (0, 1)\n",
      "\n",
      "------------------------------------------------------------------------------------\n",
      "    Stream Table\n",
      "                                            Units       Diluate Channel Inlet  Concentrate Channel Inlet  Diluate Channel Outlet  Concentrate Channel Outlet\n",
      "    flow_mol_phase_comp ('Liq', 'H2O')   mole / second           14.430                   14.430                    14.372                    14.488        \n",
      "    flow_mol_phase_comp ('Liq', 'Na_+')  mole / second        0.0044444                0.0044444                0.00072806                 0.0081608        \n",
      "    flow_mol_phase_comp ('Liq', 'Cl_-')  mole / second        0.0044444                0.0044444                0.00072806                 0.0081608        \n",
      "    temperature                                 kelvin           298.15                   298.15                    298.15                    298.15        \n",
      "    pressure                                    pascal       3.0132e+05               3.0132e+05                2.7426e+05                2.7426e+05        \n",
      "====================================================================================\n",
      "2023-04-26 17:19:32 [INFO] idaes.init.fs.prod: Initialization Complete.\n",
      "2023-04-26 17:19:32 [INFO] idaes.init.fs.prod: Initialization Complete.\n",
      "2023-04-26 17:19:32 [INFO] idaes.init.fs.sepa1: Initialization Step 2 Complete: optimal - Optimal Solution Found\n",
      "2023-04-26 17:19:32 [INFO] idaes.init.fs.disp: Initialization Complete.\n",
      "2023-04-26 17:19:32 [INFO] idaes.init.fs.mix0: Initialization Complete: optimal - Optimal Solution Found\n",
      "BADLY SCALED VARS & CONSTRAINS\n",
      "fs.mix0.from_conc_out_state[0.0].flow_mol_phase_comp[Liq,H2O] : 1.4487681142982511e-08\n",
      "fs.mix0.from_conc_out_state[0.0].flow_mol_phase_comp[Liq,Na_+] : 8.160828723347078e-09\n",
      "fs.mix0.from_conc_out_state[0.0].flow_mol_phase_comp[Liq,Cl_-] : 8.160828723347078e-09\n",
      "fs.mix0.from_conc_out_state[0.0].flow_mass_phase_comp[Liq,H2O] : 1.448768114298251e-08\n",
      "fs.mix0.from_conc_out_state[0.0].flow_mass_phase_comp[Liq,Na_+] : 8.160828723347078e-09\n",
      "fs.mix0.from_conc_out_state[0.0].flow_mass_phase_comp[Liq,Cl_-] : 8.160828723347078e-09\n",
      "fs.mix0.from_conc_out_state[0.0].flow_vol_phase[Liq] : 1.4514203836333391e-08\n",
      "fs.sepa1.to_conc_in1_state[0.0].flow_mol_phase_comp[Liq,H2O] : 1.4487681142982511e-08\n",
      "fs.sepa1.to_conc_in1_state[0.0].flow_mol_phase_comp[Liq,Na_+] : 8.160828723347078e-09\n",
      "fs.sepa1.to_conc_in1_state[0.0].flow_mol_phase_comp[Liq,Cl_-] : 8.160828723347078e-09\n",
      "fs.sepa1.to_conc_in1_state[0.0].flow_mass_phase_comp[Liq,H2O] : 1.448768114298251e-08\n",
      "fs.sepa1.to_conc_in1_state[0.0].flow_mass_phase_comp[Liq,Na_+] : 8.160828723347078e-09\n",
      "fs.sepa1.to_conc_in1_state[0.0].flow_mass_phase_comp[Liq,Cl_-] : 8.160828723347078e-09\n",
      "fs.sepa1.to_conc_in1_state[0.0].flow_vol_phase[Liq] : 1.451420383633339e-08\n"
     ]
    },
    {
     "name": "stdout",
     "output_type": "stream",
     "text": [
      "===Excecuting c0_mass= 1.0, WR=0.5,V=30.0===\n",
      "2023-04-26 17:19:34 [WARNING] idaes.core.base.costing_base: flow_expr is an expression with a lower bound of less than zero. Costing requires that all flows have a lower bound equal to or greater than zero to avoid negative costs.\n",
      "2023-04-26 17:19:34 [WARNING] idaes.core.base.costing_base: flow_expr is an expression with a lower bound of less than zero. Costing requires that all flows have a lower bound equal to or greater than zero to avoid negative costs.\n",
      "======DOF_intial======\n",
      "\n",
      "========================================================================\n",
      "Model Statistics   \n",
      "\n",
      "Degrees of Freedom: 38 \n",
      "\n",
      "Total No. Variables: 2374 \n",
      "    No. Fixed Variables: 24\n",
      "    No. Unused Variables: 16 (Fixed):5)\n",
      "    No. Variables only in Inequalities: 0 (Fixed: 0) \n",
      "\n",
      "Total No. Constraints: 2301 \n",
      "    No. Equality Constraints: 2301 (Deactivated: 0)\n",
      "    No. Inequality Constraints: 0 (Deactivated: 0)\n",
      "\n",
      "No. Objectives: 0 (Deactivated: 0)\n",
      "\n",
      "No. Blocks: 94 (Deactivated: 0) \n",
      "No. Expressions: 10 \n",
      "========================================================================\n",
      "\n",
      "2023-04-26 17:19:34 [WARNING] idaes.watertap.property_models.multicomp_aq_sol_prop_pack: While using the calculate_state method on fs.feed.properties[0.0], variable flow_vol_phase was provided as an argument in var_args, but it does not have a scaling factor. This suggests that the calculate_scaling_factor method has not been used or the variable was created on demand after the scaling factors were calculated. It is recommended to touch all relevant variables (i.e. call them or set an initial value) before using the calculate_scaling_factor method.\n",
      "2023-04-26 17:19:34 [WARNING] idaes.watertap.property_models.multicomp_aq_sol_prop_pack: While using the calculate_state method on fs.feed.properties[0.0], variable conc_mol_phase_comp was provided as an argument in var_args, but it does not have a scaling factor. This suggests that the calculate_scaling_factor method has not been used or the variable was created on demand after the scaling factors were calculated. It is recommended to touch all relevant variables (i.e. call them or set an initial value) before using the calculate_scaling_factor method.\n",
      "2023-04-26 17:19:34 [WARNING] idaes.watertap.property_models.multicomp_aq_sol_prop_pack: While using the calculate_state method on fs.feed.properties[0.0], variable conc_mol_phase_comp was provided as an argument in var_args, but it does not have a scaling factor. This suggests that the calculate_scaling_factor method has not been used or the variable was created on demand after the scaling factors were calculated. It is recommended to touch all relevant variables (i.e. call them or set an initial value) before using the calculate_scaling_factor method.\n",
      "2023-04-26 17:19:34 [WARNING] idaes.core.util.scaling: Missing scaling factor for fs.EDstack.diluate.area\n",
      "2023-04-26 17:19:34 [WARNING] idaes.core.util.scaling: Missing scaling factor for fs.EDstack.concentrate.area\n",
      "2023-04-26 17:19:34 [WARNING] idaes.core.util.scaling: Missing scaling factor for fs.EDstack.membrane_thickness\n",
      "2023-04-26 17:19:34 [WARNING] idaes.core.util.scaling: Missing scaling factor for fs.EDstack.membrane_areal_resistance\n",
      "2023-04-26 17:19:34 [WARNING] idaes.core.util.scaling: Missing scaling factor for fs.EDstack.solute_diffusivity_membrane\n",
      "2023-04-26 17:19:34 [WARNING] idaes.core.util.scaling: Missing scaling factor for fs.EDstack.diffus_mass\n",
      "2023-04-26 17:19:34 [WARNING] idaes.core.util.scaling: Missing scaling factor for fs.EDstack.water_permeability_membrane\n",
      "2023-04-26 17:19:34 [WARNING] idaes.core.util.scaling: Missing scaling factor for fs.EDstack.channel_height\n",
      "2023-04-26 17:19:34 [WARNING] idaes.core.util.scaling: Missing scaling factor for fs.EDstack.spacer_porosity\n",
      "2023-04-26 17:19:34 [WARNING] idaes.core.util.scaling: Missing scaling factor for fs.EDstack.electrodes_resistance\n",
      "2023-04-26 17:19:34 [WARNING] idaes.core.util.scaling: Missing scaling factor for fs.EDstack.spacer_specific_area\n",
      "2023-04-26 17:19:34 [WARNING] idaes.core.util.scaling: Missing scaling factor for fs.EDstack.hydraulic_diameter\n",
      "2023-04-26 17:19:34 [WARNING] idaes.core.util.scaling: Missing scaling factor for fs.EDstack.N_Re\n",
      "2023-04-26 17:19:34 [WARNING] idaes.core.util.scaling: Missing scaling factor for fs.EDstack.N_Sc\n",
      "2023-04-26 17:19:34 [WARNING] idaes.core.util.scaling: Missing scaling factor for fs.EDstack.N_Sh\n",
      "2023-04-26 17:19:34 [WARNING] idaes.core.util.scaling: Missing scaling factor for fs.EDstack.friction_factor\n",
      "2023-04-26 17:19:34 [WARNING] idaes.core.util.scaling: Missing scaling factor for fs.EDstack.pressure_drop\n",
      "2023-04-26 17:19:34 [WARNING] idaes.core.util.scaling: Missing scaling factor for fs.EDstack.pressure_drop_total\n",
      "SFSFSFSF 5555.555555555557\n",
      "2023-04-26 17:19:34 [INFO] idaes.init.fs.feed: Initialization Complete.\n",
      "2023-04-26 17:19:35 [INFO] idaes.init.fs.sepa0: Initialization Step 2 Complete: optimal - Optimal Solution Found\n",
      "2023-04-26 17:19:35 [INFO] idaes.init.fs.pump1.control_volume: Initialization Complete\n",
      "2023-04-26 17:19:35 [INFO] idaes.init.fs.pump1: Initialization Complete: optimal - Optimal Solution Found\n",
      "2023-04-26 17:19:35 [INFO] idaes.init.fs.pump0.control_volume: Initialization Complete\n",
      "2023-04-26 17:19:35 [INFO] idaes.init.fs.pump0: Initialization Complete: optimal - Optimal Solution Found\n",
      "2023-04-26 17:19:35 [INFO] idaes.init.fs.EDstack.diluate: Initialization Complete\n",
      "2023-04-26 17:19:35 [WARNING] idaes.init.fs.EDstack: Non-zero degrees of freedom: Degrees of freedom on fs.EDstack = 5. Fix 5 more variable(s)\n",
      "2023-04-26 17:19:35 [INFO] idaes.init.fs.EDstack.concentrate: Initialization Complete\n",
      "2023-04-26 17:19:36 [INFO] idaes.init.fs.EDstack: Initialization Step 3 successful.\n",
      "2023-04-26 17:19:36 [INFO] idaes.init.fs.EDstack: Initialization Complete: optimal - Optimal Solution Found\n",
      "\n",
      "====================================================================================\n",
      "Unit : fs.EDstack                                                          Time: 0.0\n",
      "------------------------------------------------------------------------------------\n",
      "    Unit Performance\n",
      "\n",
      "    Variables: \n",
      "\n",
      "    Key                                               : Value      : Units         : Fixed : Bounds\n",
      "    Specific electrical power consumption (kW*h/m**3) : 4.9932e+05 :        pascal : False : (0, 1000)\n",
      "             Total electrical power consumption(Watt) :     129.18 :          watt : False : (0, 12100)\n",
      "                               Water recovery by mass :    0.49794 : dimensionless : False : (0, 1)\n",
      "\n",
      "------------------------------------------------------------------------------------\n",
      "    Stream Table\n",
      "                                            Units       Diluate Channel Inlet  Concentrate Channel Inlet  Diluate Channel Outlet  Concentrate Channel Outlet\n",
      "    flow_mol_phase_comp ('Liq', 'H2O')   mole / second           14.430                   14.430                    14.371                    14.489        \n",
      "    flow_mol_phase_comp ('Liq', 'Na_+')  mole / second        0.0044444                0.0044444                0.00065721                 0.0082317        \n",
      "    flow_mol_phase_comp ('Liq', 'Cl_-')  mole / second        0.0044444                0.0044444                0.00065721                 0.0082317        \n",
      "    temperature                                 kelvin           298.15                   298.15                    298.15                    298.15        \n",
      "    pressure                                    pascal       3.0132e+05               3.0132e+05                2.7426e+05                2.7426e+05        \n",
      "====================================================================================\n",
      "2023-04-26 17:19:37 [INFO] idaes.init.fs.prod: Initialization Complete.\n",
      "2023-04-26 17:19:37 [INFO] idaes.init.fs.prod: Initialization Complete.\n",
      "2023-04-26 17:19:37 [INFO] idaes.init.fs.sepa1: Initialization Step 2 Complete: optimal - Optimal Solution Found\n",
      "2023-04-26 17:19:37 [INFO] idaes.init.fs.disp: Initialization Complete.\n",
      "2023-04-26 17:19:37 [INFO] idaes.init.fs.mix0: Initialization Complete: optimal - Optimal Solution Found\n",
      "BADLY SCALED VARS & CONSTRAINS\n",
      "fs.mix0.from_conc_out_state[0.0].flow_mol_phase_comp[Liq,H2O] : 1.448944850823899e-08\n",
      "fs.mix0.from_conc_out_state[0.0].flow_mol_phase_comp[Liq,Na_+] : 8.23167762402551e-09\n",
      "fs.mix0.from_conc_out_state[0.0].flow_mol_phase_comp[Liq,Cl_-] : 8.23167762402551e-09\n",
      "fs.mix0.from_conc_out_state[0.0].flow_mass_phase_comp[Liq,H2O] : 1.448944850823899e-08\n",
      "fs.mix0.from_conc_out_state[0.0].flow_mass_phase_comp[Liq,Na_+] : 8.23167762402551e-09\n",
      "fs.mix0.from_conc_out_state[0.0].flow_mass_phase_comp[Liq,Cl_-] : 8.23167762402551e-09\n",
      "fs.mix0.from_conc_out_state[0.0].flow_vol_phase[Liq] : 1.4516201460517073e-08\n",
      "fs.sepa1.to_conc_in1_state[0.0].flow_mol_phase_comp[Liq,H2O] : 1.448944850823899e-08\n",
      "fs.sepa1.to_conc_in1_state[0.0].flow_mol_phase_comp[Liq,Na_+] : 8.23167762402551e-09\n",
      "fs.sepa1.to_conc_in1_state[0.0].flow_mol_phase_comp[Liq,Cl_-] : 8.23167762402551e-09\n",
      "fs.sepa1.to_conc_in1_state[0.0].flow_mass_phase_comp[Liq,H2O] : 1.4489448508238989e-08\n",
      "fs.sepa1.to_conc_in1_state[0.0].flow_mass_phase_comp[Liq,Na_+] : 8.23167762402551e-09\n",
      "fs.sepa1.to_conc_in1_state[0.0].flow_mass_phase_comp[Liq,Cl_-] : 8.23167762402551e-09\n",
      "fs.sepa1.to_conc_in1_state[0.0].flow_vol_phase[Liq] : 1.4516201460517068e-08\n"
     ]
    },
    {
     "name": "stdout",
     "output_type": "stream",
     "text": [
      "===Excecuting c0_mass= 1.0, WR=0.5,V=32.0===\n",
      "2023-04-26 17:19:38 [WARNING] idaes.core.base.costing_base: flow_expr is an expression with a lower bound of less than zero. Costing requires that all flows have a lower bound equal to or greater than zero to avoid negative costs.\n",
      "2023-04-26 17:19:38 [WARNING] idaes.core.base.costing_base: flow_expr is an expression with a lower bound of less than zero. Costing requires that all flows have a lower bound equal to or greater than zero to avoid negative costs.\n",
      "======DOF_intial======\n",
      "\n",
      "========================================================================\n",
      "Model Statistics   \n",
      "\n",
      "Degrees of Freedom: 38 \n",
      "\n",
      "Total No. Variables: 2374 \n",
      "    No. Fixed Variables: 24\n",
      "    No. Unused Variables: 16 (Fixed):5)\n",
      "    No. Variables only in Inequalities: 0 (Fixed: 0) \n",
      "\n",
      "Total No. Constraints: 2301 \n",
      "    No. Equality Constraints: 2301 (Deactivated: 0)\n",
      "    No. Inequality Constraints: 0 (Deactivated: 0)\n",
      "\n",
      "No. Objectives: 0 (Deactivated: 0)\n",
      "\n",
      "No. Blocks: 94 (Deactivated: 0) \n",
      "No. Expressions: 10 \n",
      "========================================================================\n",
      "\n",
      "2023-04-26 17:19:38 [WARNING] idaes.watertap.property_models.multicomp_aq_sol_prop_pack: While using the calculate_state method on fs.feed.properties[0.0], variable flow_vol_phase was provided as an argument in var_args, but it does not have a scaling factor. This suggests that the calculate_scaling_factor method has not been used or the variable was created on demand after the scaling factors were calculated. It is recommended to touch all relevant variables (i.e. call them or set an initial value) before using the calculate_scaling_factor method.\n",
      "2023-04-26 17:19:38 [WARNING] idaes.watertap.property_models.multicomp_aq_sol_prop_pack: While using the calculate_state method on fs.feed.properties[0.0], variable conc_mol_phase_comp was provided as an argument in var_args, but it does not have a scaling factor. This suggests that the calculate_scaling_factor method has not been used or the variable was created on demand after the scaling factors were calculated. It is recommended to touch all relevant variables (i.e. call them or set an initial value) before using the calculate_scaling_factor method.\n",
      "2023-04-26 17:19:38 [WARNING] idaes.watertap.property_models.multicomp_aq_sol_prop_pack: While using the calculate_state method on fs.feed.properties[0.0], variable conc_mol_phase_comp was provided as an argument in var_args, but it does not have a scaling factor. This suggests that the calculate_scaling_factor method has not been used or the variable was created on demand after the scaling factors were calculated. It is recommended to touch all relevant variables (i.e. call them or set an initial value) before using the calculate_scaling_factor method.\n",
      "2023-04-26 17:19:39 [WARNING] idaes.core.util.scaling: Missing scaling factor for fs.EDstack.diluate.area\n",
      "2023-04-26 17:19:39 [WARNING] idaes.core.util.scaling: Missing scaling factor for fs.EDstack.concentrate.area\n",
      "2023-04-26 17:19:39 [WARNING] idaes.core.util.scaling: Missing scaling factor for fs.EDstack.membrane_thickness\n",
      "2023-04-26 17:19:39 [WARNING] idaes.core.util.scaling: Missing scaling factor for fs.EDstack.membrane_areal_resistance\n",
      "2023-04-26 17:19:39 [WARNING] idaes.core.util.scaling: Missing scaling factor for fs.EDstack.solute_diffusivity_membrane\n",
      "2023-04-26 17:19:39 [WARNING] idaes.core.util.scaling: Missing scaling factor for fs.EDstack.diffus_mass\n",
      "2023-04-26 17:19:39 [WARNING] idaes.core.util.scaling: Missing scaling factor for fs.EDstack.water_permeability_membrane\n",
      "2023-04-26 17:19:39 [WARNING] idaes.core.util.scaling: Missing scaling factor for fs.EDstack.channel_height\n",
      "2023-04-26 17:19:39 [WARNING] idaes.core.util.scaling: Missing scaling factor for fs.EDstack.spacer_porosity\n",
      "2023-04-26 17:19:39 [WARNING] idaes.core.util.scaling: Missing scaling factor for fs.EDstack.electrodes_resistance\n",
      "2023-04-26 17:19:39 [WARNING] idaes.core.util.scaling: Missing scaling factor for fs.EDstack.spacer_specific_area\n",
      "2023-04-26 17:19:39 [WARNING] idaes.core.util.scaling: Missing scaling factor for fs.EDstack.hydraulic_diameter\n",
      "2023-04-26 17:19:39 [WARNING] idaes.core.util.scaling: Missing scaling factor for fs.EDstack.N_Re\n",
      "2023-04-26 17:19:39 [WARNING] idaes.core.util.scaling: Missing scaling factor for fs.EDstack.N_Sc\n",
      "2023-04-26 17:19:39 [WARNING] idaes.core.util.scaling: Missing scaling factor for fs.EDstack.N_Sh\n",
      "2023-04-26 17:19:39 [WARNING] idaes.core.util.scaling: Missing scaling factor for fs.EDstack.friction_factor\n",
      "2023-04-26 17:19:39 [WARNING] idaes.core.util.scaling: Missing scaling factor for fs.EDstack.pressure_drop\n",
      "2023-04-26 17:19:39 [WARNING] idaes.core.util.scaling: Missing scaling factor for fs.EDstack.pressure_drop_total\n",
      "SFSFSFSF 5555.555555555557\n",
      "2023-04-26 17:19:39 [INFO] idaes.init.fs.feed: Initialization Complete.\n",
      "2023-04-26 17:19:39 [INFO] idaes.init.fs.sepa0: Initialization Step 2 Complete: optimal - Optimal Solution Found\n",
      "2023-04-26 17:19:39 [INFO] idaes.init.fs.pump1.control_volume: Initialization Complete\n",
      "2023-04-26 17:19:39 [INFO] idaes.init.fs.pump1: Initialization Complete: optimal - Optimal Solution Found\n",
      "2023-04-26 17:19:39 [INFO] idaes.init.fs.pump0.control_volume: Initialization Complete\n",
      "2023-04-26 17:19:39 [INFO] idaes.init.fs.pump0: Initialization Complete: optimal - Optimal Solution Found\n",
      "2023-04-26 17:19:39 [INFO] idaes.init.fs.EDstack.diluate: Initialization Complete\n",
      "2023-04-26 17:19:40 [WARNING] idaes.init.fs.EDstack: Non-zero degrees of freedom: Degrees of freedom on fs.EDstack = 5. Fix 5 more variable(s)\n",
      "2023-04-26 17:19:40 [INFO] idaes.init.fs.EDstack.concentrate: Initialization Complete\n",
      "2023-04-26 17:19:41 [INFO] idaes.init.fs.EDstack: Initialization Step 3 successful.\n",
      "2023-04-26 17:19:41 [INFO] idaes.init.fs.EDstack: Initialization Complete: optimal - Optimal Solution Found\n",
      "\n",
      "====================================================================================\n",
      "Unit : fs.EDstack                                                          Time: 0.0\n",
      "------------------------------------------------------------------------------------\n",
      "    Unit Performance\n",
      "\n",
      "    Variables: \n",
      "\n",
      "    Key                                               : Value      : Units         : Fixed : Bounds\n",
      "    Specific electrical power consumption (kW*h/m**3) : 5.4351e+05 :        pascal : False : (0, 1000)\n",
      "             Total electrical power consumption(Watt) :     140.59 :          watt : False : (0, 12100)\n",
      "                               Water recovery by mass :    0.49789 : dimensionless : False : (0, 1)\n",
      "\n",
      "------------------------------------------------------------------------------------\n",
      "    Stream Table\n",
      "                                            Units       Diluate Channel Inlet  Concentrate Channel Inlet  Diluate Channel Outlet  Concentrate Channel Outlet\n",
      "    flow_mol_phase_comp ('Liq', 'H2O')   mole / second           14.430                   14.430                    14.369                    14.491        \n",
      "    flow_mol_phase_comp ('Liq', 'Na_+')  mole / second        0.0044444                0.0044444                0.00059815                 0.0082907        \n",
      "    flow_mol_phase_comp ('Liq', 'Cl_-')  mole / second        0.0044444                0.0044444                0.00059815                 0.0082907        \n",
      "    temperature                                 kelvin           298.15                   298.15                    298.15                    298.15        \n",
      "    pressure                                    pascal       3.0132e+05               3.0132e+05                2.7426e+05                2.7426e+05        \n",
      "====================================================================================\n",
      "2023-04-26 17:19:41 [INFO] idaes.init.fs.prod: Initialization Complete.\n",
      "2023-04-26 17:19:41 [INFO] idaes.init.fs.prod: Initialization Complete.\n",
      "2023-04-26 17:19:41 [INFO] idaes.init.fs.sepa1: Initialization Step 2 Complete: optimal - Optimal Solution Found\n",
      "2023-04-26 17:19:41 [INFO] idaes.init.fs.disp: Initialization Complete.\n",
      "2023-04-26 17:19:41 [INFO] idaes.init.fs.mix0: Initialization Complete: optimal - Optimal Solution Found\n",
      "BADLY SCALED VARS & CONSTRAINS\n",
      "fs.mix0.from_conc_out_state[0.0].flow_mol_phase_comp[Liq,H2O] : 1.4491038218504146e-08\n",
      "fs.mix0.from_conc_out_state[0.0].flow_mol_phase_comp[Liq,Na_+] : 8.29073928035691e-09\n",
      "fs.mix0.from_conc_out_state[0.0].flow_mol_phase_comp[Liq,Cl_-] : 8.29073928035691e-09\n",
      "fs.mix0.from_conc_out_state[0.0].flow_mass_phase_comp[Liq,H2O] : 1.4491038218504144e-08\n",
      "fs.mix0.from_conc_out_state[0.0].flow_mass_phase_comp[Liq,Na_+] : 8.29073928035691e-09\n",
      "fs.mix0.from_conc_out_state[0.0].flow_mass_phase_comp[Liq,Cl_-] : 8.29073928035691e-09\n",
      "fs.mix0.from_conc_out_state[0.0].flow_vol_phase[Liq] : 1.4517983121165306e-08\n",
      "fs.sepa1.to_conc_in1_state[0.0].flow_mol_phase_comp[Liq,H2O] : 1.4491038218504146e-08\n",
      "fs.sepa1.to_conc_in1_state[0.0].flow_mol_phase_comp[Liq,Na_+] : 8.29073928035691e-09\n",
      "fs.sepa1.to_conc_in1_state[0.0].flow_mol_phase_comp[Liq,Cl_-] : 8.29073928035691e-09\n",
      "fs.sepa1.to_conc_in1_state[0.0].flow_mass_phase_comp[Liq,H2O] : 1.4491038218504144e-08\n",
      "fs.sepa1.to_conc_in1_state[0.0].flow_mass_phase_comp[Liq,Na_+] : 8.29073928035691e-09\n",
      "fs.sepa1.to_conc_in1_state[0.0].flow_mass_phase_comp[Liq,Cl_-] : 8.29073928035691e-09\n",
      "fs.sepa1.to_conc_in1_state[0.0].flow_vol_phase[Liq] : 1.4517983121165305e-08\n"
     ]
    },
    {
     "name": "stdout",
     "output_type": "stream",
     "text": [
      "===Excecuting c0_mass= 1.0, WR=0.5,V=34.0===\n",
      "2023-04-26 17:19:43 [WARNING] idaes.core.base.costing_base: flow_expr is an expression with a lower bound of less than zero. Costing requires that all flows have a lower bound equal to or greater than zero to avoid negative costs.\n",
      "2023-04-26 17:19:43 [WARNING] idaes.core.base.costing_base: flow_expr is an expression with a lower bound of less than zero. Costing requires that all flows have a lower bound equal to or greater than zero to avoid negative costs.\n",
      "======DOF_intial======\n",
      "\n",
      "========================================================================\n",
      "Model Statistics   \n",
      "\n",
      "Degrees of Freedom: 38 \n",
      "\n",
      "Total No. Variables: 2374 \n",
      "    No. Fixed Variables: 24\n",
      "    No. Unused Variables: 16 (Fixed):5)\n",
      "    No. Variables only in Inequalities: 0 (Fixed: 0) \n",
      "\n",
      "Total No. Constraints: 2301 \n",
      "    No. Equality Constraints: 2301 (Deactivated: 0)\n",
      "    No. Inequality Constraints: 0 (Deactivated: 0)\n",
      "\n",
      "No. Objectives: 0 (Deactivated: 0)\n",
      "\n",
      "No. Blocks: 94 (Deactivated: 0) \n",
      "No. Expressions: 10 \n",
      "========================================================================\n",
      "\n",
      "2023-04-26 17:19:43 [WARNING] idaes.watertap.property_models.multicomp_aq_sol_prop_pack: While using the calculate_state method on fs.feed.properties[0.0], variable flow_vol_phase was provided as an argument in var_args, but it does not have a scaling factor. This suggests that the calculate_scaling_factor method has not been used or the variable was created on demand after the scaling factors were calculated. It is recommended to touch all relevant variables (i.e. call them or set an initial value) before using the calculate_scaling_factor method.\n",
      "2023-04-26 17:19:43 [WARNING] idaes.watertap.property_models.multicomp_aq_sol_prop_pack: While using the calculate_state method on fs.feed.properties[0.0], variable conc_mol_phase_comp was provided as an argument in var_args, but it does not have a scaling factor. This suggests that the calculate_scaling_factor method has not been used or the variable was created on demand after the scaling factors were calculated. It is recommended to touch all relevant variables (i.e. call them or set an initial value) before using the calculate_scaling_factor method.\n",
      "2023-04-26 17:19:43 [WARNING] idaes.watertap.property_models.multicomp_aq_sol_prop_pack: While using the calculate_state method on fs.feed.properties[0.0], variable conc_mol_phase_comp was provided as an argument in var_args, but it does not have a scaling factor. This suggests that the calculate_scaling_factor method has not been used or the variable was created on demand after the scaling factors were calculated. It is recommended to touch all relevant variables (i.e. call them or set an initial value) before using the calculate_scaling_factor method.\n",
      "2023-04-26 17:19:43 [WARNING] idaes.core.util.scaling: Missing scaling factor for fs.EDstack.diluate.area\n",
      "2023-04-26 17:19:43 [WARNING] idaes.core.util.scaling: Missing scaling factor for fs.EDstack.concentrate.area\n",
      "2023-04-26 17:19:43 [WARNING] idaes.core.util.scaling: Missing scaling factor for fs.EDstack.membrane_thickness\n",
      "2023-04-26 17:19:43 [WARNING] idaes.core.util.scaling: Missing scaling factor for fs.EDstack.membrane_areal_resistance\n",
      "2023-04-26 17:19:43 [WARNING] idaes.core.util.scaling: Missing scaling factor for fs.EDstack.solute_diffusivity_membrane\n",
      "2023-04-26 17:19:43 [WARNING] idaes.core.util.scaling: Missing scaling factor for fs.EDstack.diffus_mass\n",
      "2023-04-26 17:19:43 [WARNING] idaes.core.util.scaling: Missing scaling factor for fs.EDstack.water_permeability_membrane\n",
      "2023-04-26 17:19:43 [WARNING] idaes.core.util.scaling: Missing scaling factor for fs.EDstack.channel_height\n",
      "2023-04-26 17:19:43 [WARNING] idaes.core.util.scaling: Missing scaling factor for fs.EDstack.spacer_porosity\n",
      "2023-04-26 17:19:43 [WARNING] idaes.core.util.scaling: Missing scaling factor for fs.EDstack.electrodes_resistance\n",
      "2023-04-26 17:19:43 [WARNING] idaes.core.util.scaling: Missing scaling factor for fs.EDstack.spacer_specific_area\n",
      "2023-04-26 17:19:43 [WARNING] idaes.core.util.scaling: Missing scaling factor for fs.EDstack.hydraulic_diameter\n",
      "2023-04-26 17:19:43 [WARNING] idaes.core.util.scaling: Missing scaling factor for fs.EDstack.N_Re\n",
      "2023-04-26 17:19:43 [WARNING] idaes.core.util.scaling: Missing scaling factor for fs.EDstack.N_Sc\n",
      "2023-04-26 17:19:43 [WARNING] idaes.core.util.scaling: Missing scaling factor for fs.EDstack.N_Sh\n",
      "2023-04-26 17:19:43 [WARNING] idaes.core.util.scaling: Missing scaling factor for fs.EDstack.friction_factor\n",
      "2023-04-26 17:19:43 [WARNING] idaes.core.util.scaling: Missing scaling factor for fs.EDstack.pressure_drop\n",
      "2023-04-26 17:19:43 [WARNING] idaes.core.util.scaling: Missing scaling factor for fs.EDstack.pressure_drop_total\n",
      "SFSFSFSF 5555.555555555557\n",
      "2023-04-26 17:19:43 [INFO] idaes.init.fs.feed: Initialization Complete.\n",
      "2023-04-26 17:19:43 [INFO] idaes.init.fs.sepa0: Initialization Step 2 Complete: optimal - Optimal Solution Found\n",
      "2023-04-26 17:19:43 [INFO] idaes.init.fs.pump1.control_volume: Initialization Complete\n",
      "2023-04-26 17:19:43 [INFO] idaes.init.fs.pump1: Initialization Complete: optimal - Optimal Solution Found\n",
      "2023-04-26 17:19:43 [INFO] idaes.init.fs.pump0.control_volume: Initialization Complete\n",
      "2023-04-26 17:19:43 [INFO] idaes.init.fs.pump0: Initialization Complete: optimal - Optimal Solution Found\n",
      "2023-04-26 17:19:44 [INFO] idaes.init.fs.EDstack.diluate: Initialization Complete\n",
      "2023-04-26 17:19:44 [WARNING] idaes.init.fs.EDstack: Non-zero degrees of freedom: Degrees of freedom on fs.EDstack = 5. Fix 5 more variable(s)\n",
      "2023-04-26 17:19:44 [INFO] idaes.init.fs.EDstack.concentrate: Initialization Complete\n",
      "2023-04-26 17:19:45 [INFO] idaes.init.fs.EDstack: Initialization Step 3 successful.\n",
      "2023-04-26 17:19:45 [INFO] idaes.init.fs.EDstack: Initialization Complete: optimal - Optimal Solution Found\n",
      "\n",
      "====================================================================================\n",
      "Unit : fs.EDstack                                                          Time: 0.0\n",
      "------------------------------------------------------------------------------------\n",
      "    Unit Performance\n",
      "\n",
      "    Variables: \n",
      "\n",
      "    Key                                               : Value      : Units         : Fixed : Bounds\n",
      "    Specific electrical power consumption (kW*h/m**3) : 5.8756e+05 :        pascal : False : (0, 1000)\n",
      "             Total electrical power consumption(Watt) :     151.97 :          watt : False : (0, 12100)\n",
      "                               Water recovery by mass :    0.49784 : dimensionless : False : (0, 1)\n",
      "\n",
      "------------------------------------------------------------------------------------\n",
      "    Stream Table\n",
      "                                            Units       Diluate Channel Inlet  Concentrate Channel Inlet  Diluate Channel Outlet  Concentrate Channel Outlet\n",
      "    flow_mol_phase_comp ('Liq', 'H2O')   mole / second           14.430                   14.430                    14.368                    14.492        \n",
      "    flow_mol_phase_comp ('Liq', 'Na_+')  mole / second        0.0044444                0.0044444                0.00054893                 0.0083400        \n",
      "    flow_mol_phase_comp ('Liq', 'Cl_-')  mole / second        0.0044444                0.0044444                0.00054893                 0.0083400        \n",
      "    temperature                                 kelvin           298.15                   298.15                    298.15                    298.15        \n",
      "    pressure                                    pascal       3.0132e+05               3.0132e+05                2.7426e+05                2.7426e+05        \n",
      "====================================================================================\n",
      "2023-04-26 17:19:45 [INFO] idaes.init.fs.prod: Initialization Complete.\n",
      "2023-04-26 17:19:45 [INFO] idaes.init.fs.prod: Initialization Complete.\n",
      "2023-04-26 17:19:45 [INFO] idaes.init.fs.sepa1: Initialization Step 2 Complete: optimal - Optimal Solution Found\n",
      "2023-04-26 17:19:45 [INFO] idaes.init.fs.disp: Initialization Complete.\n",
      "2023-04-26 17:19:46 [INFO] idaes.init.fs.mix0: Initialization Complete: optimal - Optimal Solution Found\n",
      "BADLY SCALED VARS & CONSTRAINS\n",
      "fs.mix0.from_conc_out_state[0.0].flow_mol_phase_comp[Liq,H2O] : 1.4492469126302528e-08\n",
      "fs.mix0.from_conc_out_state[0.0].flow_mol_phase_comp[Liq,Na_+] : 8.339955265406181e-09\n",
      "fs.mix0.from_conc_out_state[0.0].flow_mol_phase_comp[Liq,Cl_-] : 8.339955265406181e-09\n",
      "fs.mix0.from_conc_out_state[0.0].flow_mass_phase_comp[Liq,H2O] : 1.4492469126302528e-08\n",
      "fs.mix0.from_conc_out_state[0.0].flow_mass_phase_comp[Liq,Na_+] : 8.339955265406181e-09\n",
      "fs.mix0.from_conc_out_state[0.0].flow_mass_phase_comp[Liq,Cl_-] : 8.339955265406181e-09\n",
      "fs.mix0.from_conc_out_state[0.0].flow_vol_phase[Liq] : 1.4519573980915099e-08\n",
      "fs.sepa1.to_conc_in1_state[0.0].flow_mol_phase_comp[Liq,H2O] : 1.4492469126302528e-08\n",
      "fs.sepa1.to_conc_in1_state[0.0].flow_mol_phase_comp[Liq,Na_+] : 8.339955265406181e-09\n",
      "fs.sepa1.to_conc_in1_state[0.0].flow_mol_phase_comp[Liq,Cl_-] : 8.339955265406181e-09\n",
      "fs.sepa1.to_conc_in1_state[0.0].flow_mass_phase_comp[Liq,H2O] : 1.4492469126302528e-08\n",
      "fs.sepa1.to_conc_in1_state[0.0].flow_mass_phase_comp[Liq,Na_+] : 8.339955265406181e-09\n",
      "fs.sepa1.to_conc_in1_state[0.0].flow_mass_phase_comp[Liq,Cl_-] : 8.339955265406181e-09\n",
      "fs.sepa1.to_conc_in1_state[0.0].flow_vol_phase[Liq] : 1.4519573980915099e-08\n"
     ]
    },
    {
     "name": "stdout",
     "output_type": "stream",
     "text": [
      "===Excecuting c0_mass= 1.0, WR=0.5,V=36.0===\n",
      "2023-04-26 17:19:47 [WARNING] idaes.core.base.costing_base: flow_expr is an expression with a lower bound of less than zero. Costing requires that all flows have a lower bound equal to or greater than zero to avoid negative costs.\n",
      "2023-04-26 17:19:47 [WARNING] idaes.core.base.costing_base: flow_expr is an expression with a lower bound of less than zero. Costing requires that all flows have a lower bound equal to or greater than zero to avoid negative costs.\n",
      "======DOF_intial======\n",
      "\n",
      "========================================================================\n",
      "Model Statistics   \n",
      "\n",
      "Degrees of Freedom: 38 \n",
      "\n",
      "Total No. Variables: 2374 \n",
      "    No. Fixed Variables: 24\n",
      "    No. Unused Variables: 16 (Fixed):5)\n",
      "    No. Variables only in Inequalities: 0 (Fixed: 0) \n",
      "\n",
      "Total No. Constraints: 2301 \n",
      "    No. Equality Constraints: 2301 (Deactivated: 0)\n",
      "    No. Inequality Constraints: 0 (Deactivated: 0)\n",
      "\n",
      "No. Objectives: 0 (Deactivated: 0)\n",
      "\n",
      "No. Blocks: 94 (Deactivated: 0) \n",
      "No. Expressions: 10 \n",
      "========================================================================\n",
      "\n",
      "2023-04-26 17:19:47 [WARNING] idaes.watertap.property_models.multicomp_aq_sol_prop_pack: While using the calculate_state method on fs.feed.properties[0.0], variable flow_vol_phase was provided as an argument in var_args, but it does not have a scaling factor. This suggests that the calculate_scaling_factor method has not been used or the variable was created on demand after the scaling factors were calculated. It is recommended to touch all relevant variables (i.e. call them or set an initial value) before using the calculate_scaling_factor method.\n",
      "2023-04-26 17:19:47 [WARNING] idaes.watertap.property_models.multicomp_aq_sol_prop_pack: While using the calculate_state method on fs.feed.properties[0.0], variable conc_mol_phase_comp was provided as an argument in var_args, but it does not have a scaling factor. This suggests that the calculate_scaling_factor method has not been used or the variable was created on demand after the scaling factors were calculated. It is recommended to touch all relevant variables (i.e. call them or set an initial value) before using the calculate_scaling_factor method.\n",
      "2023-04-26 17:19:47 [WARNING] idaes.watertap.property_models.multicomp_aq_sol_prop_pack: While using the calculate_state method on fs.feed.properties[0.0], variable conc_mol_phase_comp was provided as an argument in var_args, but it does not have a scaling factor. This suggests that the calculate_scaling_factor method has not been used or the variable was created on demand after the scaling factors were calculated. It is recommended to touch all relevant variables (i.e. call them or set an initial value) before using the calculate_scaling_factor method.\n",
      "2023-04-26 17:19:47 [WARNING] idaes.core.util.scaling: Missing scaling factor for fs.EDstack.diluate.area\n",
      "2023-04-26 17:19:47 [WARNING] idaes.core.util.scaling: Missing scaling factor for fs.EDstack.concentrate.area\n",
      "2023-04-26 17:19:47 [WARNING] idaes.core.util.scaling: Missing scaling factor for fs.EDstack.membrane_thickness\n",
      "2023-04-26 17:19:47 [WARNING] idaes.core.util.scaling: Missing scaling factor for fs.EDstack.membrane_areal_resistance\n",
      "2023-04-26 17:19:47 [WARNING] idaes.core.util.scaling: Missing scaling factor for fs.EDstack.solute_diffusivity_membrane\n",
      "2023-04-26 17:19:47 [WARNING] idaes.core.util.scaling: Missing scaling factor for fs.EDstack.diffus_mass\n",
      "2023-04-26 17:19:47 [WARNING] idaes.core.util.scaling: Missing scaling factor for fs.EDstack.water_permeability_membrane\n",
      "2023-04-26 17:19:47 [WARNING] idaes.core.util.scaling: Missing scaling factor for fs.EDstack.channel_height\n",
      "2023-04-26 17:19:47 [WARNING] idaes.core.util.scaling: Missing scaling factor for fs.EDstack.spacer_porosity\n",
      "2023-04-26 17:19:47 [WARNING] idaes.core.util.scaling: Missing scaling factor for fs.EDstack.electrodes_resistance\n",
      "2023-04-26 17:19:47 [WARNING] idaes.core.util.scaling: Missing scaling factor for fs.EDstack.spacer_specific_area\n",
      "2023-04-26 17:19:47 [WARNING] idaes.core.util.scaling: Missing scaling factor for fs.EDstack.hydraulic_diameter\n",
      "2023-04-26 17:19:47 [WARNING] idaes.core.util.scaling: Missing scaling factor for fs.EDstack.N_Re\n",
      "2023-04-26 17:19:47 [WARNING] idaes.core.util.scaling: Missing scaling factor for fs.EDstack.N_Sc\n",
      "2023-04-26 17:19:47 [WARNING] idaes.core.util.scaling: Missing scaling factor for fs.EDstack.N_Sh\n",
      "2023-04-26 17:19:47 [WARNING] idaes.core.util.scaling: Missing scaling factor for fs.EDstack.friction_factor\n",
      "2023-04-26 17:19:47 [WARNING] idaes.core.util.scaling: Missing scaling factor for fs.EDstack.pressure_drop\n",
      "2023-04-26 17:19:47 [WARNING] idaes.core.util.scaling: Missing scaling factor for fs.EDstack.pressure_drop_total\n",
      "SFSFSFSF 5555.555555555557\n",
      "2023-04-26 17:19:47 [INFO] idaes.init.fs.feed: Initialization Complete.\n",
      "2023-04-26 17:19:48 [INFO] idaes.init.fs.sepa0: Initialization Step 2 Complete: optimal - Optimal Solution Found\n",
      "2023-04-26 17:19:48 [INFO] idaes.init.fs.pump1.control_volume: Initialization Complete\n",
      "2023-04-26 17:19:48 [INFO] idaes.init.fs.pump1: Initialization Complete: optimal - Optimal Solution Found\n",
      "2023-04-26 17:19:48 [INFO] idaes.init.fs.pump0.control_volume: Initialization Complete\n",
      "2023-04-26 17:19:48 [INFO] idaes.init.fs.pump0: Initialization Complete: optimal - Optimal Solution Found\n",
      "2023-04-26 17:19:48 [INFO] idaes.init.fs.EDstack.diluate: Initialization Complete\n",
      "2023-04-26 17:19:48 [WARNING] idaes.init.fs.EDstack: Non-zero degrees of freedom: Degrees of freedom on fs.EDstack = 5. Fix 5 more variable(s)\n",
      "2023-04-26 17:19:48 [INFO] idaes.init.fs.EDstack.concentrate: Initialization Complete\n",
      "2023-04-26 17:19:49 [INFO] idaes.init.fs.EDstack: Initialization Step 3 successful.\n",
      "2023-04-26 17:19:49 [INFO] idaes.init.fs.EDstack: Initialization Complete: optimal - Optimal Solution Found\n",
      "\n",
      "====================================================================================\n",
      "Unit : fs.EDstack                                                          Time: 0.0\n",
      "------------------------------------------------------------------------------------\n",
      "    Unit Performance\n",
      "\n",
      "    Variables: \n",
      "\n",
      "    Key                                               : Value      : Units         : Fixed : Bounds\n",
      "    Specific electrical power consumption (kW*h/m**3) : 6.3143e+05 :        pascal : False : (0, 1000)\n",
      "             Total electrical power consumption(Watt) :     163.30 :          watt : False : (0, 12100)\n",
      "                               Water recovery by mass :    0.49779 : dimensionless : False : (0, 1)\n",
      "\n",
      "------------------------------------------------------------------------------------\n",
      "    Stream Table\n",
      "                                            Units       Diluate Channel Inlet  Concentrate Channel Inlet  Diluate Channel Outlet  Concentrate Channel Outlet\n",
      "    flow_mol_phase_comp ('Liq', 'H2O')   mole / second           14.430                   14.430                    14.366                    14.494        \n",
      "    flow_mol_phase_comp ('Liq', 'Na_+')  mole / second        0.0044444                0.0044444                0.00050792                 0.0083810        \n",
      "    flow_mol_phase_comp ('Liq', 'Cl_-')  mole / second        0.0044444                0.0044444                0.00050792                 0.0083810        \n",
      "    temperature                                 kelvin           298.15                   298.15                    298.15                    298.15        \n",
      "    pressure                                    pascal       3.0132e+05               3.0132e+05                2.7426e+05                2.7426e+05        \n",
      "====================================================================================\n",
      "2023-04-26 17:19:49 [INFO] idaes.init.fs.prod: Initialization Complete.\n",
      "2023-04-26 17:19:49 [INFO] idaes.init.fs.prod: Initialization Complete.\n",
      "2023-04-26 17:19:50 [INFO] idaes.init.fs.sepa1: Initialization Step 2 Complete: optimal - Optimal Solution Found\n",
      "2023-04-26 17:19:50 [INFO] idaes.init.fs.disp: Initialization Complete.\n",
      "2023-04-26 17:19:50 [INFO] idaes.init.fs.mix0: Initialization Complete: optimal - Optimal Solution Found\n",
      "BADLY SCALED VARS & CONSTRAINS\n",
      "fs.mix0.from_conc_out_state[0.0].flow_mol_phase_comp[Liq,H2O] : 1.4493756994726572e-08\n",
      "fs.mix0.from_conc_out_state[0.0].flow_mol_phase_comp[Liq,Na_+] : 8.380966113865559e-09\n",
      "fs.mix0.from_conc_out_state[0.0].flow_mol_phase_comp[Liq,Cl_-] : 8.380966113865557e-09\n",
      "fs.mix0.from_conc_out_state[0.0].flow_mass_phase_comp[Liq,H2O] : 1.4493756994726572e-08\n",
      "fs.mix0.from_conc_out_state[0.0].flow_mass_phase_comp[Liq,Na_+] : 8.380966113865559e-09\n",
      "fs.mix0.from_conc_out_state[0.0].flow_mass_phase_comp[Liq,Cl_-] : 8.380966113865557e-09\n",
      "fs.mix0.from_conc_out_state[0.0].flow_vol_phase[Liq] : 1.4520995134596635e-08\n",
      "fs.sepa1.to_conc_in1_state[0.0].flow_mol_phase_comp[Liq,H2O] : 1.4493756994726572e-08\n",
      "fs.sepa1.to_conc_in1_state[0.0].flow_mol_phase_comp[Liq,Na_+] : 8.380966113865559e-09\n",
      "fs.sepa1.to_conc_in1_state[0.0].flow_mol_phase_comp[Liq,Cl_-] : 8.380966113865557e-09\n",
      "fs.sepa1.to_conc_in1_state[0.0].flow_mass_phase_comp[Liq,H2O] : 1.4493756994726572e-08\n",
      "fs.sepa1.to_conc_in1_state[0.0].flow_mass_phase_comp[Liq,Na_+] : 8.380966113865559e-09\n",
      "fs.sepa1.to_conc_in1_state[0.0].flow_mass_phase_comp[Liq,Cl_-] : 8.380966113865557e-09\n",
      "fs.sepa1.to_conc_in1_state[0.0].flow_vol_phase[Liq] : 1.4520995134596634e-08\n"
     ]
    },
    {
     "name": "stdout",
     "output_type": "stream",
     "text": [
      "===Excecuting c0_mass= 1.0, WR=0.5,V=38.0===\n",
      "2023-04-26 17:19:51 [WARNING] idaes.core.base.costing_base: flow_expr is an expression with a lower bound of less than zero. Costing requires that all flows have a lower bound equal to or greater than zero to avoid negative costs.\n",
      "2023-04-26 17:19:51 [WARNING] idaes.core.base.costing_base: flow_expr is an expression with a lower bound of less than zero. Costing requires that all flows have a lower bound equal to or greater than zero to avoid negative costs.\n",
      "======DOF_intial======\n",
      "\n",
      "========================================================================\n",
      "Model Statistics   \n",
      "\n",
      "Degrees of Freedom: 38 \n",
      "\n",
      "Total No. Variables: 2374 \n",
      "    No. Fixed Variables: 24\n",
      "    No. Unused Variables: 16 (Fixed):5)\n",
      "    No. Variables only in Inequalities: 0 (Fixed: 0) \n",
      "\n",
      "Total No. Constraints: 2301 \n",
      "    No. Equality Constraints: 2301 (Deactivated: 0)\n",
      "    No. Inequality Constraints: 0 (Deactivated: 0)\n",
      "\n",
      "No. Objectives: 0 (Deactivated: 0)\n",
      "\n",
      "No. Blocks: 94 (Deactivated: 0) \n",
      "No. Expressions: 10 \n",
      "========================================================================\n",
      "\n",
      "2023-04-26 17:19:51 [WARNING] idaes.watertap.property_models.multicomp_aq_sol_prop_pack: While using the calculate_state method on fs.feed.properties[0.0], variable flow_vol_phase was provided as an argument in var_args, but it does not have a scaling factor. This suggests that the calculate_scaling_factor method has not been used or the variable was created on demand after the scaling factors were calculated. It is recommended to touch all relevant variables (i.e. call them or set an initial value) before using the calculate_scaling_factor method.\n",
      "2023-04-26 17:19:51 [WARNING] idaes.watertap.property_models.multicomp_aq_sol_prop_pack: While using the calculate_state method on fs.feed.properties[0.0], variable conc_mol_phase_comp was provided as an argument in var_args, but it does not have a scaling factor. This suggests that the calculate_scaling_factor method has not been used or the variable was created on demand after the scaling factors were calculated. It is recommended to touch all relevant variables (i.e. call them or set an initial value) before using the calculate_scaling_factor method.\n",
      "2023-04-26 17:19:51 [WARNING] idaes.watertap.property_models.multicomp_aq_sol_prop_pack: While using the calculate_state method on fs.feed.properties[0.0], variable conc_mol_phase_comp was provided as an argument in var_args, but it does not have a scaling factor. This suggests that the calculate_scaling_factor method has not been used or the variable was created on demand after the scaling factors were calculated. It is recommended to touch all relevant variables (i.e. call them or set an initial value) before using the calculate_scaling_factor method.\n",
      "2023-04-26 17:19:52 [WARNING] idaes.core.util.scaling: Missing scaling factor for fs.EDstack.diluate.area\n",
      "2023-04-26 17:19:52 [WARNING] idaes.core.util.scaling: Missing scaling factor for fs.EDstack.concentrate.area\n",
      "2023-04-26 17:19:52 [WARNING] idaes.core.util.scaling: Missing scaling factor for fs.EDstack.membrane_thickness\n",
      "2023-04-26 17:19:52 [WARNING] idaes.core.util.scaling: Missing scaling factor for fs.EDstack.membrane_areal_resistance\n",
      "2023-04-26 17:19:52 [WARNING] idaes.core.util.scaling: Missing scaling factor for fs.EDstack.solute_diffusivity_membrane\n",
      "2023-04-26 17:19:52 [WARNING] idaes.core.util.scaling: Missing scaling factor for fs.EDstack.diffus_mass\n",
      "2023-04-26 17:19:52 [WARNING] idaes.core.util.scaling: Missing scaling factor for fs.EDstack.water_permeability_membrane\n",
      "2023-04-26 17:19:52 [WARNING] idaes.core.util.scaling: Missing scaling factor for fs.EDstack.channel_height\n",
      "2023-04-26 17:19:52 [WARNING] idaes.core.util.scaling: Missing scaling factor for fs.EDstack.spacer_porosity\n",
      "2023-04-26 17:19:52 [WARNING] idaes.core.util.scaling: Missing scaling factor for fs.EDstack.electrodes_resistance\n",
      "2023-04-26 17:19:52 [WARNING] idaes.core.util.scaling: Missing scaling factor for fs.EDstack.spacer_specific_area\n",
      "2023-04-26 17:19:52 [WARNING] idaes.core.util.scaling: Missing scaling factor for fs.EDstack.hydraulic_diameter\n",
      "2023-04-26 17:19:52 [WARNING] idaes.core.util.scaling: Missing scaling factor for fs.EDstack.N_Re\n",
      "2023-04-26 17:19:52 [WARNING] idaes.core.util.scaling: Missing scaling factor for fs.EDstack.N_Sc\n",
      "2023-04-26 17:19:52 [WARNING] idaes.core.util.scaling: Missing scaling factor for fs.EDstack.N_Sh\n",
      "2023-04-26 17:19:52 [WARNING] idaes.core.util.scaling: Missing scaling factor for fs.EDstack.friction_factor\n",
      "2023-04-26 17:19:52 [WARNING] idaes.core.util.scaling: Missing scaling factor for fs.EDstack.pressure_drop\n",
      "2023-04-26 17:19:52 [WARNING] idaes.core.util.scaling: Missing scaling factor for fs.EDstack.pressure_drop_total\n",
      "SFSFSFSF 5555.555555555557\n",
      "2023-04-26 17:19:52 [INFO] idaes.init.fs.feed: Initialization Complete.\n",
      "2023-04-26 17:19:52 [INFO] idaes.init.fs.sepa0: Initialization Step 2 Complete: optimal - Optimal Solution Found\n",
      "2023-04-26 17:19:52 [INFO] idaes.init.fs.pump1.control_volume: Initialization Complete\n",
      "2023-04-26 17:19:52 [INFO] idaes.init.fs.pump1: Initialization Complete: optimal - Optimal Solution Found\n",
      "2023-04-26 17:19:52 [INFO] idaes.init.fs.pump0.control_volume: Initialization Complete\n",
      "2023-04-26 17:19:52 [INFO] idaes.init.fs.pump0: Initialization Complete: optimal - Optimal Solution Found\n",
      "2023-04-26 17:19:52 [INFO] idaes.init.fs.EDstack.diluate: Initialization Complete\n",
      "2023-04-26 17:19:52 [WARNING] idaes.init.fs.EDstack: Non-zero degrees of freedom: Degrees of freedom on fs.EDstack = 5. Fix 5 more variable(s)\n",
      "2023-04-26 17:19:53 [INFO] idaes.init.fs.EDstack.concentrate: Initialization Complete\n",
      "2023-04-26 17:19:54 [INFO] idaes.init.fs.EDstack: Initialization Step 3 successful.\n",
      "2023-04-26 17:19:54 [INFO] idaes.init.fs.EDstack: Initialization Complete: optimal - Optimal Solution Found\n",
      "\n",
      "====================================================================================\n",
      "Unit : fs.EDstack                                                          Time: 0.0\n",
      "------------------------------------------------------------------------------------\n",
      "    Unit Performance\n",
      "\n",
      "    Variables: \n",
      "\n",
      "    Key                                               : Value      : Units         : Fixed : Bounds\n",
      "    Specific electrical power consumption (kW*h/m**3) : 6.7508e+05 :        pascal : False : (0, 1000)\n",
      "             Total electrical power consumption(Watt) :     174.58 :          watt : False : (0, 12100)\n",
      "                               Water recovery by mass :    0.49775 : dimensionless : False : (0, 1)\n",
      "\n",
      "------------------------------------------------------------------------------------\n",
      "    Stream Table\n",
      "                                            Units       Diluate Channel Inlet  Concentrate Channel Inlet  Diluate Channel Outlet  Concentrate Channel Outlet\n",
      "    flow_mol_phase_comp ('Liq', 'H2O')   mole / second           14.430                   14.430                    14.365                    14.495        \n",
      "    flow_mol_phase_comp ('Liq', 'Na_+')  mole / second        0.0044444                0.0044444                0.00047374                 0.0084151        \n",
      "    flow_mol_phase_comp ('Liq', 'Cl_-')  mole / second        0.0044444                0.0044444                0.00047374                 0.0084151        \n",
      "    temperature                                 kelvin           298.15                   298.15                    298.15                    298.15        \n",
      "    pressure                                    pascal       3.0132e+05               3.0132e+05                2.7426e+05                2.7426e+05        \n",
      "====================================================================================\n",
      "2023-04-26 17:19:54 [INFO] idaes.init.fs.prod: Initialization Complete.\n",
      "2023-04-26 17:19:54 [INFO] idaes.init.fs.prod: Initialization Complete.\n",
      "2023-04-26 17:19:54 [INFO] idaes.init.fs.sepa1: Initialization Step 2 Complete: optimal - Optimal Solution Found\n",
      "2023-04-26 17:19:54 [INFO] idaes.init.fs.disp: Initialization Complete.\n",
      "2023-04-26 17:19:54 [INFO] idaes.init.fs.mix0: Initialization Complete: optimal - Optimal Solution Found\n",
      "BADLY SCALED VARS & CONSTRAINS\n",
      "fs.mix0.from_conc_out_state[0.0].flow_mol_phase_comp[Liq,H2O] : 1.4494914990353047e-08\n",
      "fs.mix0.from_conc_out_state[0.0].flow_mol_phase_comp[Liq,Na_+] : 8.415147283719453e-09\n",
      "fs.mix0.from_conc_out_state[0.0].flow_mol_phase_comp[Liq,Cl_-] : 8.415147283719451e-09\n",
      "fs.mix0.from_conc_out_state[0.0].flow_mass_phase_comp[Liq,H2O] : 1.4494914990353047e-08\n",
      "fs.mix0.from_conc_out_state[0.0].flow_mass_phase_comp[Liq,Na_+] : 8.415147283719453e-09\n",
      "fs.mix0.from_conc_out_state[0.0].flow_mass_phase_comp[Liq,Cl_-] : 8.415147283719451e-09\n",
      "fs.mix0.from_conc_out_state[0.0].flow_vol_phase[Liq] : 1.4522264219025135e-08\n",
      "fs.sepa1.to_conc_in1_state[0.0].flow_mol_phase_comp[Liq,H2O] : 1.4494914990353047e-08\n",
      "fs.sepa1.to_conc_in1_state[0.0].flow_mol_phase_comp[Liq,Na_+] : 8.415147283719453e-09\n",
      "fs.sepa1.to_conc_in1_state[0.0].flow_mol_phase_comp[Liq,Cl_-] : 8.415147283719451e-09\n",
      "fs.sepa1.to_conc_in1_state[0.0].flow_mass_phase_comp[Liq,H2O] : 1.4494914990353047e-08\n",
      "fs.sepa1.to_conc_in1_state[0.0].flow_mass_phase_comp[Liq,Na_+] : 8.415147283719453e-09\n",
      "fs.sepa1.to_conc_in1_state[0.0].flow_mass_phase_comp[Liq,Cl_-] : 8.415147283719451e-09\n",
      "fs.sepa1.to_conc_in1_state[0.0].flow_vol_phase[Liq] : 1.4522264219025133e-08\n"
     ]
    },
    {
     "name": "stdout",
     "output_type": "stream",
     "text": [
      "===Excecuting c0_mass= 1.0, WR=0.5,V=40.0===\n",
      "2023-04-26 17:19:56 [WARNING] idaes.core.base.costing_base: flow_expr is an expression with a lower bound of less than zero. Costing requires that all flows have a lower bound equal to or greater than zero to avoid negative costs.\n",
      "2023-04-26 17:19:56 [WARNING] idaes.core.base.costing_base: flow_expr is an expression with a lower bound of less than zero. Costing requires that all flows have a lower bound equal to or greater than zero to avoid negative costs.\n",
      "======DOF_intial======\n",
      "\n",
      "========================================================================\n",
      "Model Statistics   \n",
      "\n",
      "Degrees of Freedom: 38 \n",
      "\n",
      "Total No. Variables: 2374 \n",
      "    No. Fixed Variables: 24\n",
      "    No. Unused Variables: 16 (Fixed):5)\n",
      "    No. Variables only in Inequalities: 0 (Fixed: 0) \n",
      "\n",
      "Total No. Constraints: 2301 \n",
      "    No. Equality Constraints: 2301 (Deactivated: 0)\n",
      "    No. Inequality Constraints: 0 (Deactivated: 0)\n",
      "\n",
      "No. Objectives: 0 (Deactivated: 0)\n",
      "\n",
      "No. Blocks: 94 (Deactivated: 0) \n",
      "No. Expressions: 10 \n",
      "========================================================================\n",
      "\n",
      "2023-04-26 17:19:56 [WARNING] idaes.watertap.property_models.multicomp_aq_sol_prop_pack: While using the calculate_state method on fs.feed.properties[0.0], variable flow_vol_phase was provided as an argument in var_args, but it does not have a scaling factor. This suggests that the calculate_scaling_factor method has not been used or the variable was created on demand after the scaling factors were calculated. It is recommended to touch all relevant variables (i.e. call them or set an initial value) before using the calculate_scaling_factor method.\n",
      "2023-04-26 17:19:56 [WARNING] idaes.watertap.property_models.multicomp_aq_sol_prop_pack: While using the calculate_state method on fs.feed.properties[0.0], variable conc_mol_phase_comp was provided as an argument in var_args, but it does not have a scaling factor. This suggests that the calculate_scaling_factor method has not been used or the variable was created on demand after the scaling factors were calculated. It is recommended to touch all relevant variables (i.e. call them or set an initial value) before using the calculate_scaling_factor method.\n",
      "2023-04-26 17:19:56 [WARNING] idaes.watertap.property_models.multicomp_aq_sol_prop_pack: While using the calculate_state method on fs.feed.properties[0.0], variable conc_mol_phase_comp was provided as an argument in var_args, but it does not have a scaling factor. This suggests that the calculate_scaling_factor method has not been used or the variable was created on demand after the scaling factors were calculated. It is recommended to touch all relevant variables (i.e. call them or set an initial value) before using the calculate_scaling_factor method.\n",
      "2023-04-26 17:19:56 [WARNING] idaes.core.util.scaling: Missing scaling factor for fs.EDstack.diluate.area\n",
      "2023-04-26 17:19:56 [WARNING] idaes.core.util.scaling: Missing scaling factor for fs.EDstack.concentrate.area\n",
      "2023-04-26 17:19:56 [WARNING] idaes.core.util.scaling: Missing scaling factor for fs.EDstack.membrane_thickness\n",
      "2023-04-26 17:19:56 [WARNING] idaes.core.util.scaling: Missing scaling factor for fs.EDstack.membrane_areal_resistance\n",
      "2023-04-26 17:19:56 [WARNING] idaes.core.util.scaling: Missing scaling factor for fs.EDstack.solute_diffusivity_membrane\n",
      "2023-04-26 17:19:56 [WARNING] idaes.core.util.scaling: Missing scaling factor for fs.EDstack.diffus_mass\n",
      "2023-04-26 17:19:56 [WARNING] idaes.core.util.scaling: Missing scaling factor for fs.EDstack.water_permeability_membrane\n",
      "2023-04-26 17:19:56 [WARNING] idaes.core.util.scaling: Missing scaling factor for fs.EDstack.channel_height\n",
      "2023-04-26 17:19:56 [WARNING] idaes.core.util.scaling: Missing scaling factor for fs.EDstack.spacer_porosity\n",
      "2023-04-26 17:19:56 [WARNING] idaes.core.util.scaling: Missing scaling factor for fs.EDstack.electrodes_resistance\n",
      "2023-04-26 17:19:56 [WARNING] idaes.core.util.scaling: Missing scaling factor for fs.EDstack.spacer_specific_area\n",
      "2023-04-26 17:19:56 [WARNING] idaes.core.util.scaling: Missing scaling factor for fs.EDstack.hydraulic_diameter\n",
      "2023-04-26 17:19:56 [WARNING] idaes.core.util.scaling: Missing scaling factor for fs.EDstack.N_Re\n",
      "2023-04-26 17:19:56 [WARNING] idaes.core.util.scaling: Missing scaling factor for fs.EDstack.N_Sc\n",
      "2023-04-26 17:19:56 [WARNING] idaes.core.util.scaling: Missing scaling factor for fs.EDstack.N_Sh\n",
      "2023-04-26 17:19:56 [WARNING] idaes.core.util.scaling: Missing scaling factor for fs.EDstack.friction_factor\n",
      "2023-04-26 17:19:56 [WARNING] idaes.core.util.scaling: Missing scaling factor for fs.EDstack.pressure_drop\n",
      "2023-04-26 17:19:56 [WARNING] idaes.core.util.scaling: Missing scaling factor for fs.EDstack.pressure_drop_total\n",
      "SFSFSFSF 5555.555555555557\n",
      "2023-04-26 17:19:56 [INFO] idaes.init.fs.feed: Initialization Complete.\n",
      "2023-04-26 17:19:56 [INFO] idaes.init.fs.sepa0: Initialization Step 2 Complete: optimal - Optimal Solution Found\n",
      "2023-04-26 17:19:56 [INFO] idaes.init.fs.pump1.control_volume: Initialization Complete\n",
      "2023-04-26 17:19:56 [INFO] idaes.init.fs.pump1: Initialization Complete: optimal - Optimal Solution Found\n",
      "2023-04-26 17:19:56 [INFO] idaes.init.fs.pump0.control_volume: Initialization Complete\n",
      "2023-04-26 17:19:56 [INFO] idaes.init.fs.pump0: Initialization Complete: optimal - Optimal Solution Found\n",
      "2023-04-26 17:19:57 [INFO] idaes.init.fs.EDstack.diluate: Initialization Complete\n",
      "2023-04-26 17:19:57 [WARNING] idaes.init.fs.EDstack: Non-zero degrees of freedom: Degrees of freedom on fs.EDstack = 5. Fix 5 more variable(s)\n",
      "2023-04-26 17:19:57 [INFO] idaes.init.fs.EDstack.concentrate: Initialization Complete\n",
      "2023-04-26 17:20:00 [INFO] idaes.init.fs.EDstack: Initialization Step 3 successful.\n",
      "2023-04-26 17:20:00 [INFO] idaes.init.fs.EDstack: Initialization Complete: optimal - Optimal Solution Found\n",
      "\n",
      "====================================================================================\n",
      "Unit : fs.EDstack                                                          Time: 0.0\n",
      "------------------------------------------------------------------------------------\n",
      "    Unit Performance\n",
      "\n",
      "    Variables: \n",
      "\n",
      "    Key                                               : Value      : Units         : Fixed : Bounds\n",
      "    Specific electrical power consumption (kW*h/m**3) : 7.1850e+05 :        pascal : False : (0, 1000)\n",
      "             Total electrical power consumption(Watt) :     185.79 :          watt : False : (0, 12100)\n",
      "                               Water recovery by mass :    0.49771 : dimensionless : False : (0, 1)\n",
      "\n",
      "------------------------------------------------------------------------------------\n",
      "    Stream Table\n",
      "                                            Units       Diluate Channel Inlet  Concentrate Channel Inlet  Diluate Channel Outlet  Concentrate Channel Outlet\n",
      "    flow_mol_phase_comp ('Liq', 'H2O')   mole / second           14.430                   14.430                    14.364                    14.496        \n",
      "    flow_mol_phase_comp ('Liq', 'Na_+')  mole / second        0.0044444                0.0044444                0.00044524                 0.0084436        \n",
      "    flow_mol_phase_comp ('Liq', 'Cl_-')  mole / second        0.0044444                0.0044444                0.00044524                 0.0084436        \n",
      "    temperature                                 kelvin           298.15                   298.15                    298.15                    298.15        \n",
      "    pressure                                    pascal       3.0132e+05               3.0132e+05                2.7426e+05                2.7426e+05        \n",
      "====================================================================================\n",
      "2023-04-26 17:20:00 [INFO] idaes.init.fs.prod: Initialization Complete.\n",
      "2023-04-26 17:20:01 [INFO] idaes.init.fs.prod: Initialization Complete.\n",
      "2023-04-26 17:20:01 [INFO] idaes.init.fs.sepa1: Initialization Step 2 Complete: optimal - Optimal Solution Found\n",
      "2023-04-26 17:20:01 [INFO] idaes.init.fs.disp: Initialization Complete.\n",
      "2023-04-26 17:20:01 [INFO] idaes.init.fs.mix0: Initialization Complete: optimal - Optimal Solution Found\n",
      "BADLY SCALED VARS & CONSTRAINS\n",
      "fs.mix0.from_conc_out_state[0.0].flow_mol_phase_comp[Liq,H2O] : 1.4495954202221994e-08\n",
      "fs.mix0.from_conc_out_state[0.0].flow_mol_phase_comp[Liq,Na_+] : 8.443645662269732e-09\n",
      "fs.mix0.from_conc_out_state[0.0].flow_mol_phase_comp[Liq,Cl_-] : 8.443645662269765e-09\n",
      "fs.mix0.from_conc_out_state[0.0].flow_mass_phase_comp[Liq,H2O] : 1.4495954202221994e-08\n",
      "fs.mix0.from_conc_out_state[0.0].flow_mass_phase_comp[Liq,Na_+] : 8.443645662269732e-09\n",
      "fs.mix0.from_conc_out_state[0.0].flow_mass_phase_comp[Liq,Cl_-] : 8.443645662269765e-09\n",
      "fs.mix0.from_conc_out_state[0.0].flow_vol_phase[Liq] : 1.4523396050624371e-08\n",
      "fs.sepa1.to_conc_in1_state[0.0].flow_mol_phase_comp[Liq,H2O] : 1.4495954202221994e-08\n",
      "fs.sepa1.to_conc_in1_state[0.0].flow_mol_phase_comp[Liq,Na_+] : 8.443645662269732e-09\n",
      "fs.sepa1.to_conc_in1_state[0.0].flow_mol_phase_comp[Liq,Cl_-] : 8.443645662269765e-09\n",
      "fs.sepa1.to_conc_in1_state[0.0].flow_mass_phase_comp[Liq,H2O] : 1.4495954202221994e-08\n",
      "fs.sepa1.to_conc_in1_state[0.0].flow_mass_phase_comp[Liq,Na_+] : 8.443645662269732e-09\n",
      "fs.sepa1.to_conc_in1_state[0.0].flow_mass_phase_comp[Liq,Cl_-] : 8.443645662269765e-09\n",
      "fs.sepa1.to_conc_in1_state[0.0].flow_vol_phase[Liq] : 1.4523396050624373e-08\n"
     ]
    },
    {
     "name": "stdout",
     "output_type": "stream",
     "text": [
      "===Excecuting c0_mass= 1.0, WR=0.5,V=42.0===\n",
      "2023-04-26 17:20:02 [WARNING] idaes.core.base.costing_base: flow_expr is an expression with a lower bound of less than zero. Costing requires that all flows have a lower bound equal to or greater than zero to avoid negative costs.\n",
      "2023-04-26 17:20:02 [WARNING] idaes.core.base.costing_base: flow_expr is an expression with a lower bound of less than zero. Costing requires that all flows have a lower bound equal to or greater than zero to avoid negative costs.\n",
      "======DOF_intial======\n",
      "\n",
      "========================================================================\n",
      "Model Statistics   \n",
      "\n",
      "Degrees of Freedom: 38 \n",
      "\n",
      "Total No. Variables: 2374 \n",
      "    No. Fixed Variables: 24\n",
      "    No. Unused Variables: 16 (Fixed):5)\n",
      "    No. Variables only in Inequalities: 0 (Fixed: 0) \n",
      "\n",
      "Total No. Constraints: 2301 \n",
      "    No. Equality Constraints: 2301 (Deactivated: 0)\n",
      "    No. Inequality Constraints: 0 (Deactivated: 0)\n",
      "\n",
      "No. Objectives: 0 (Deactivated: 0)\n",
      "\n",
      "No. Blocks: 94 (Deactivated: 0) \n",
      "No. Expressions: 10 \n",
      "========================================================================\n",
      "\n",
      "2023-04-26 17:20:02 [WARNING] idaes.watertap.property_models.multicomp_aq_sol_prop_pack: While using the calculate_state method on fs.feed.properties[0.0], variable flow_vol_phase was provided as an argument in var_args, but it does not have a scaling factor. This suggests that the calculate_scaling_factor method has not been used or the variable was created on demand after the scaling factors were calculated. It is recommended to touch all relevant variables (i.e. call them or set an initial value) before using the calculate_scaling_factor method.\n",
      "2023-04-26 17:20:02 [WARNING] idaes.watertap.property_models.multicomp_aq_sol_prop_pack: While using the calculate_state method on fs.feed.properties[0.0], variable conc_mol_phase_comp was provided as an argument in var_args, but it does not have a scaling factor. This suggests that the calculate_scaling_factor method has not been used or the variable was created on demand after the scaling factors were calculated. It is recommended to touch all relevant variables (i.e. call them or set an initial value) before using the calculate_scaling_factor method.\n",
      "2023-04-26 17:20:02 [WARNING] idaes.watertap.property_models.multicomp_aq_sol_prop_pack: While using the calculate_state method on fs.feed.properties[0.0], variable conc_mol_phase_comp was provided as an argument in var_args, but it does not have a scaling factor. This suggests that the calculate_scaling_factor method has not been used or the variable was created on demand after the scaling factors were calculated. It is recommended to touch all relevant variables (i.e. call them or set an initial value) before using the calculate_scaling_factor method.\n",
      "2023-04-26 17:20:03 [WARNING] idaes.core.util.scaling: Missing scaling factor for fs.EDstack.diluate.area\n",
      "2023-04-26 17:20:03 [WARNING] idaes.core.util.scaling: Missing scaling factor for fs.EDstack.concentrate.area\n",
      "2023-04-26 17:20:03 [WARNING] idaes.core.util.scaling: Missing scaling factor for fs.EDstack.membrane_thickness\n",
      "2023-04-26 17:20:03 [WARNING] idaes.core.util.scaling: Missing scaling factor for fs.EDstack.membrane_areal_resistance\n",
      "2023-04-26 17:20:03 [WARNING] idaes.core.util.scaling: Missing scaling factor for fs.EDstack.solute_diffusivity_membrane\n",
      "2023-04-26 17:20:03 [WARNING] idaes.core.util.scaling: Missing scaling factor for fs.EDstack.diffus_mass\n",
      "2023-04-26 17:20:03 [WARNING] idaes.core.util.scaling: Missing scaling factor for fs.EDstack.water_permeability_membrane\n",
      "2023-04-26 17:20:03 [WARNING] idaes.core.util.scaling: Missing scaling factor for fs.EDstack.channel_height\n",
      "2023-04-26 17:20:03 [WARNING] idaes.core.util.scaling: Missing scaling factor for fs.EDstack.spacer_porosity\n",
      "2023-04-26 17:20:03 [WARNING] idaes.core.util.scaling: Missing scaling factor for fs.EDstack.electrodes_resistance\n",
      "2023-04-26 17:20:03 [WARNING] idaes.core.util.scaling: Missing scaling factor for fs.EDstack.spacer_specific_area\n",
      "2023-04-26 17:20:03 [WARNING] idaes.core.util.scaling: Missing scaling factor for fs.EDstack.hydraulic_diameter\n",
      "2023-04-26 17:20:03 [WARNING] idaes.core.util.scaling: Missing scaling factor for fs.EDstack.N_Re\n",
      "2023-04-26 17:20:03 [WARNING] idaes.core.util.scaling: Missing scaling factor for fs.EDstack.N_Sc\n",
      "2023-04-26 17:20:03 [WARNING] idaes.core.util.scaling: Missing scaling factor for fs.EDstack.N_Sh\n",
      "2023-04-26 17:20:03 [WARNING] idaes.core.util.scaling: Missing scaling factor for fs.EDstack.friction_factor\n",
      "2023-04-26 17:20:03 [WARNING] idaes.core.util.scaling: Missing scaling factor for fs.EDstack.pressure_drop\n",
      "2023-04-26 17:20:03 [WARNING] idaes.core.util.scaling: Missing scaling factor for fs.EDstack.pressure_drop_total\n",
      "SFSFSFSF 5555.555555555557\n",
      "2023-04-26 17:20:03 [INFO] idaes.init.fs.feed: Initialization Complete.\n",
      "2023-04-26 17:20:03 [INFO] idaes.init.fs.sepa0: Initialization Step 2 Complete: optimal - Optimal Solution Found\n",
      "2023-04-26 17:20:03 [INFO] idaes.init.fs.pump1.control_volume: Initialization Complete\n",
      "2023-04-26 17:20:03 [INFO] idaes.init.fs.pump1: Initialization Complete: optimal - Optimal Solution Found\n",
      "2023-04-26 17:20:03 [INFO] idaes.init.fs.pump0.control_volume: Initialization Complete\n",
      "2023-04-26 17:20:03 [INFO] idaes.init.fs.pump0: Initialization Complete: optimal - Optimal Solution Found\n",
      "2023-04-26 17:20:03 [INFO] idaes.init.fs.EDstack.diluate: Initialization Complete\n",
      "2023-04-26 17:20:03 [WARNING] idaes.init.fs.EDstack: Non-zero degrees of freedom: Degrees of freedom on fs.EDstack = 5. Fix 5 more variable(s)\n",
      "2023-04-26 17:20:04 [INFO] idaes.init.fs.EDstack.concentrate: Initialization Complete\n",
      "2023-04-26 17:20:56 [INFO] idaes.init.fs.EDstack: Initialization Step 3 successful.\n",
      "2023-04-26 17:20:56 [INFO] idaes.init.fs.EDstack: Initialization Complete: optimal - Optimal Solution Found\n",
      "\n",
      "====================================================================================\n",
      "Unit : fs.EDstack                                                          Time: 0.0\n",
      "------------------------------------------------------------------------------------\n",
      "    Unit Performance\n",
      "\n",
      "    Variables: \n",
      "\n",
      "    Key                                               : Value      : Units         : Fixed : Bounds\n",
      "    Specific electrical power consumption (kW*h/m**3) : 7.6165e+05 :        pascal : False : (0, 1000)\n",
      "             Total electrical power consumption(Watt) :     196.93 :          watt : False : (0, 12100)\n",
      "                               Water recovery by mass :    0.49768 : dimensionless : False : (0, 1)\n",
      "\n",
      "------------------------------------------------------------------------------------\n",
      "    Stream Table\n",
      "                                            Units       Diluate Channel Inlet  Concentrate Channel Inlet  Diluate Channel Outlet  Concentrate Channel Outlet\n",
      "    flow_mol_phase_comp ('Liq', 'H2O')   mole / second           14.430                   14.430                    14.363                    14.497        \n",
      "    flow_mol_phase_comp ('Liq', 'Na_+')  mole / second        0.0044444                0.0044444                0.00042147                 0.0084674        \n",
      "    flow_mol_phase_comp ('Liq', 'Cl_-')  mole / second        0.0044444                0.0044444                0.00042147                 0.0084674        \n",
      "    temperature                                 kelvin           298.15                   298.15                    298.15                    298.15        \n",
      "    pressure                                    pascal       3.0132e+05               3.0132e+05                2.7426e+05                2.7426e+05        \n",
      "====================================================================================\n",
      "2023-04-26 17:20:56 [INFO] idaes.init.fs.prod: Initialization Complete.\n",
      "2023-04-26 17:20:56 [INFO] idaes.init.fs.prod: Initialization Complete.\n",
      "2023-04-26 17:20:56 [INFO] idaes.init.fs.sepa1: Initialization Step 2 Complete: optimal - Optimal Solution Found\n",
      "2023-04-26 17:20:56 [INFO] idaes.init.fs.disp: Initialization Complete.\n",
      "2023-04-26 17:20:56 [INFO] idaes.init.fs.mix0: Initialization Complete: optimal - Optimal Solution Found\n",
      "BADLY SCALED VARS & CONSTRAINS\n",
      "fs.mix0.from_conc_out_state[0.0].flow_mol_phase_comp[Liq,H2O] : 1.4496884142786706e-08\n",
      "fs.mix0.from_conc_out_state[0.0].flow_mol_phase_comp[Liq,Na_+] : 8.467414126905502e-09\n",
      "fs.mix0.from_conc_out_state[0.0].flow_mol_phase_comp[Liq,Cl_-] : 8.467414126905532e-09\n",
      "fs.mix0.from_conc_out_state[0.0].flow_mass_phase_comp[Liq,H2O] : 1.4496884142786705e-08\n",
      "fs.mix0.from_conc_out_state[0.0].flow_mass_phase_comp[Liq,Na_+] : 8.467414126905502e-09\n",
      "fs.mix0.from_conc_out_state[0.0].flow_mass_phase_comp[Liq,Cl_-] : 8.467414126905532e-09\n",
      "fs.mix0.from_conc_out_state[0.0].flow_vol_phase[Liq] : 1.4524403238699151e-08\n",
      "fs.sepa1.to_conc_in1_state[0.0].flow_mol_phase_comp[Liq,H2O] : 1.4496884142786706e-08\n",
      "fs.sepa1.to_conc_in1_state[0.0].flow_mol_phase_comp[Liq,Na_+] : 8.467414126905502e-09\n",
      "fs.sepa1.to_conc_in1_state[0.0].flow_mol_phase_comp[Liq,Cl_-] : 8.467414126905532e-09\n",
      "fs.sepa1.to_conc_in1_state[0.0].flow_mass_phase_comp[Liq,H2O] : 1.4496884142786705e-08\n",
      "fs.sepa1.to_conc_in1_state[0.0].flow_mass_phase_comp[Liq,Na_+] : 8.467414126905502e-09\n",
      "fs.sepa1.to_conc_in1_state[0.0].flow_mass_phase_comp[Liq,Cl_-] : 8.467414126905532e-09\n",
      "fs.sepa1.to_conc_in1_state[0.0].flow_vol_phase[Liq] : 1.4524403238699151e-08\n"
     ]
    },
    {
     "name": "stdout",
     "output_type": "stream",
     "text": [
      "===Excecuting c0_mass= 1.0, WR=0.5,V=44.0===\n",
      "2023-04-26 17:20:57 [WARNING] idaes.core.base.costing_base: flow_expr is an expression with a lower bound of less than zero. Costing requires that all flows have a lower bound equal to or greater than zero to avoid negative costs.\n",
      "2023-04-26 17:20:57 [WARNING] idaes.core.base.costing_base: flow_expr is an expression with a lower bound of less than zero. Costing requires that all flows have a lower bound equal to or greater than zero to avoid negative costs.\n",
      "======DOF_intial======\n",
      "\n",
      "========================================================================\n",
      "Model Statistics   \n",
      "\n",
      "Degrees of Freedom: 38 \n",
      "\n",
      "Total No. Variables: 2374 \n",
      "    No. Fixed Variables: 24\n",
      "    No. Unused Variables: 16 (Fixed):5)\n",
      "    No. Variables only in Inequalities: 0 (Fixed: 0) \n",
      "\n",
      "Total No. Constraints: 2301 \n",
      "    No. Equality Constraints: 2301 (Deactivated: 0)\n",
      "    No. Inequality Constraints: 0 (Deactivated: 0)\n",
      "\n",
      "No. Objectives: 0 (Deactivated: 0)\n",
      "\n",
      "No. Blocks: 94 (Deactivated: 0) \n",
      "No. Expressions: 10 \n",
      "========================================================================\n",
      "\n",
      "2023-04-26 17:20:58 [WARNING] idaes.watertap.property_models.multicomp_aq_sol_prop_pack: While using the calculate_state method on fs.feed.properties[0.0], variable flow_vol_phase was provided as an argument in var_args, but it does not have a scaling factor. This suggests that the calculate_scaling_factor method has not been used or the variable was created on demand after the scaling factors were calculated. It is recommended to touch all relevant variables (i.e. call them or set an initial value) before using the calculate_scaling_factor method.\n",
      "2023-04-26 17:20:58 [WARNING] idaes.watertap.property_models.multicomp_aq_sol_prop_pack: While using the calculate_state method on fs.feed.properties[0.0], variable conc_mol_phase_comp was provided as an argument in var_args, but it does not have a scaling factor. This suggests that the calculate_scaling_factor method has not been used or the variable was created on demand after the scaling factors were calculated. It is recommended to touch all relevant variables (i.e. call them or set an initial value) before using the calculate_scaling_factor method.\n",
      "2023-04-26 17:20:58 [WARNING] idaes.watertap.property_models.multicomp_aq_sol_prop_pack: While using the calculate_state method on fs.feed.properties[0.0], variable conc_mol_phase_comp was provided as an argument in var_args, but it does not have a scaling factor. This suggests that the calculate_scaling_factor method has not been used or the variable was created on demand after the scaling factors were calculated. It is recommended to touch all relevant variables (i.e. call them or set an initial value) before using the calculate_scaling_factor method.\n",
      "2023-04-26 17:20:58 [WARNING] idaes.core.util.scaling: Missing scaling factor for fs.EDstack.diluate.area\n",
      "2023-04-26 17:20:58 [WARNING] idaes.core.util.scaling: Missing scaling factor for fs.EDstack.concentrate.area\n",
      "2023-04-26 17:20:58 [WARNING] idaes.core.util.scaling: Missing scaling factor for fs.EDstack.membrane_thickness\n",
      "2023-04-26 17:20:58 [WARNING] idaes.core.util.scaling: Missing scaling factor for fs.EDstack.membrane_areal_resistance\n",
      "2023-04-26 17:20:58 [WARNING] idaes.core.util.scaling: Missing scaling factor for fs.EDstack.solute_diffusivity_membrane\n",
      "2023-04-26 17:20:58 [WARNING] idaes.core.util.scaling: Missing scaling factor for fs.EDstack.diffus_mass\n",
      "2023-04-26 17:20:58 [WARNING] idaes.core.util.scaling: Missing scaling factor for fs.EDstack.water_permeability_membrane\n",
      "2023-04-26 17:20:58 [WARNING] idaes.core.util.scaling: Missing scaling factor for fs.EDstack.channel_height\n",
      "2023-04-26 17:20:58 [WARNING] idaes.core.util.scaling: Missing scaling factor for fs.EDstack.spacer_porosity\n",
      "2023-04-26 17:20:58 [WARNING] idaes.core.util.scaling: Missing scaling factor for fs.EDstack.electrodes_resistance\n",
      "2023-04-26 17:20:58 [WARNING] idaes.core.util.scaling: Missing scaling factor for fs.EDstack.spacer_specific_area\n",
      "2023-04-26 17:20:58 [WARNING] idaes.core.util.scaling: Missing scaling factor for fs.EDstack.hydraulic_diameter\n",
      "2023-04-26 17:20:58 [WARNING] idaes.core.util.scaling: Missing scaling factor for fs.EDstack.N_Re\n",
      "2023-04-26 17:20:58 [WARNING] idaes.core.util.scaling: Missing scaling factor for fs.EDstack.N_Sc\n",
      "2023-04-26 17:20:58 [WARNING] idaes.core.util.scaling: Missing scaling factor for fs.EDstack.N_Sh\n",
      "2023-04-26 17:20:58 [WARNING] idaes.core.util.scaling: Missing scaling factor for fs.EDstack.friction_factor\n",
      "2023-04-26 17:20:58 [WARNING] idaes.core.util.scaling: Missing scaling factor for fs.EDstack.pressure_drop\n",
      "2023-04-26 17:20:58 [WARNING] idaes.core.util.scaling: Missing scaling factor for fs.EDstack.pressure_drop_total\n",
      "SFSFSFSF 5555.555555555557\n",
      "2023-04-26 17:20:58 [INFO] idaes.init.fs.feed: Initialization Complete.\n",
      "2023-04-26 17:20:58 [INFO] idaes.init.fs.sepa0: Initialization Step 2 Complete: optimal - Optimal Solution Found\n",
      "2023-04-26 17:20:58 [INFO] idaes.init.fs.pump1.control_volume: Initialization Complete\n",
      "2023-04-26 17:20:58 [INFO] idaes.init.fs.pump1: Initialization Complete: optimal - Optimal Solution Found\n",
      "2023-04-26 17:20:58 [INFO] idaes.init.fs.pump0.control_volume: Initialization Complete\n",
      "2023-04-26 17:20:58 [INFO] idaes.init.fs.pump0: Initialization Complete: optimal - Optimal Solution Found\n",
      "2023-04-26 17:20:59 [INFO] idaes.init.fs.EDstack.diluate: Initialization Complete\n",
      "2023-04-26 17:20:59 [WARNING] idaes.init.fs.EDstack: Non-zero degrees of freedom: Degrees of freedom on fs.EDstack = 5. Fix 5 more variable(s)\n",
      "2023-04-26 17:20:59 [INFO] idaes.init.fs.EDstack.concentrate: Initialization Complete\n",
      "2023-04-26 17:21:06 [INFO] idaes.init.fs.EDstack: Initialization Step 3 successful.\n",
      "2023-04-26 17:21:06 [INFO] idaes.init.fs.EDstack: Initialization Complete: optimal - Optimal Solution Found\n",
      "\n",
      "====================================================================================\n",
      "Unit : fs.EDstack                                                          Time: 0.0\n",
      "------------------------------------------------------------------------------------\n",
      "    Unit Performance\n",
      "\n",
      "    Variables: \n",
      "\n",
      "    Key                                               : Value      : Units         : Fixed : Bounds\n",
      "    Specific electrical power consumption (kW*h/m**3) : 8.0451e+05 :        pascal : False : (0, 1000)\n",
      "             Total electrical power consumption(Watt) :     208.00 :          watt : False : (0, 12100)\n",
      "                               Water recovery by mass :    0.49765 : dimensionless : False : (0, 1)\n",
      "\n",
      "------------------------------------------------------------------------------------\n",
      "    Stream Table\n",
      "                                            Units       Diluate Channel Inlet  Concentrate Channel Inlet  Diluate Channel Outlet  Concentrate Channel Outlet\n",
      "    flow_mol_phase_comp ('Liq', 'H2O')   mole / second           14.430                   14.430                    14.362                    14.498        \n",
      "    flow_mol_phase_comp ('Liq', 'Na_+')  mole / second        0.0044444                0.0044444                0.00040165                 0.0084872        \n",
      "    flow_mol_phase_comp ('Liq', 'Cl_-')  mole / second        0.0044444                0.0044444                0.00040165                 0.0084872        \n",
      "    temperature                                 kelvin           298.15                   298.15                    298.15                    298.15        \n",
      "    pressure                                    pascal       3.0132e+05               3.0132e+05                2.7426e+05                2.7426e+05        \n",
      "====================================================================================\n",
      "2023-04-26 17:21:06 [INFO] idaes.init.fs.prod: Initialization Complete.\n",
      "2023-04-26 17:21:06 [INFO] idaes.init.fs.prod: Initialization Complete.\n",
      "2023-04-26 17:21:06 [INFO] idaes.init.fs.sepa1: Initialization Step 2 Complete: optimal - Optimal Solution Found\n",
      "2023-04-26 17:21:06 [INFO] idaes.init.fs.disp: Initialization Complete.\n",
      "2023-04-26 17:21:06 [INFO] idaes.init.fs.mix0: Initialization Complete: optimal - Optimal Solution Found\n",
      "BADLY SCALED VARS & CONSTRAINS\n",
      "fs.mix0.from_conc_out_state[0.0].flow_mol_phase_comp[Liq,H2O] : 1.4497713198360281e-08\n",
      "fs.mix0.from_conc_out_state[0.0].flow_mol_phase_comp[Liq,Na_+] : 8.487242831557405e-09\n",
      "fs.mix0.from_conc_out_state[0.0].flow_mol_phase_comp[Liq,Cl_-] : 8.487242831557372e-09\n",
      "fs.mix0.from_conc_out_state[0.0].flow_mass_phase_comp[Liq,H2O] : 1.4497713198360281e-08\n",
      "fs.mix0.from_conc_out_state[0.0].flow_mass_phase_comp[Liq,Na_+] : 8.487242831557405e-09\n",
      "fs.mix0.from_conc_out_state[0.0].flow_mass_phase_comp[Liq,Cl_-] : 8.487242831557372e-09\n",
      "fs.mix0.from_conc_out_state[0.0].flow_vol_phase[Liq] : 1.4525296737562842e-08\n",
      "fs.sepa1.to_conc_in1_state[0.0].flow_mol_phase_comp[Liq,H2O] : 1.4497713198360281e-08\n",
      "fs.sepa1.to_conc_in1_state[0.0].flow_mol_phase_comp[Liq,Na_+] : 8.487242831557405e-09\n",
      "fs.sepa1.to_conc_in1_state[0.0].flow_mol_phase_comp[Liq,Cl_-] : 8.487242831557372e-09\n",
      "fs.sepa1.to_conc_in1_state[0.0].flow_mass_phase_comp[Liq,H2O] : 1.4497713198360281e-08\n",
      "fs.sepa1.to_conc_in1_state[0.0].flow_mass_phase_comp[Liq,Na_+] : 8.487242831557405e-09\n",
      "fs.sepa1.to_conc_in1_state[0.0].flow_mass_phase_comp[Liq,Cl_-] : 8.487242831557372e-09\n",
      "fs.sepa1.to_conc_in1_state[0.0].flow_vol_phase[Liq] : 1.4525296737562844e-08\n"
     ]
    },
    {
     "name": "stdout",
     "output_type": "stream",
     "text": [
      "===Excecuting c0_mass= 1.0, WR=0.5,V=46.0===\n",
      "2023-04-26 17:21:08 [WARNING] idaes.core.base.costing_base: flow_expr is an expression with a lower bound of less than zero. Costing requires that all flows have a lower bound equal to or greater than zero to avoid negative costs.\n",
      "2023-04-26 17:21:08 [WARNING] idaes.core.base.costing_base: flow_expr is an expression with a lower bound of less than zero. Costing requires that all flows have a lower bound equal to or greater than zero to avoid negative costs.\n",
      "======DOF_intial======\n",
      "\n",
      "========================================================================\n",
      "Model Statistics   \n",
      "\n",
      "Degrees of Freedom: 38 \n",
      "\n",
      "Total No. Variables: 2374 \n",
      "    No. Fixed Variables: 24\n",
      "    No. Unused Variables: 16 (Fixed):5)\n",
      "    No. Variables only in Inequalities: 0 (Fixed: 0) \n",
      "\n",
      "Total No. Constraints: 2301 \n",
      "    No. Equality Constraints: 2301 (Deactivated: 0)\n",
      "    No. Inequality Constraints: 0 (Deactivated: 0)\n",
      "\n",
      "No. Objectives: 0 (Deactivated: 0)\n",
      "\n",
      "No. Blocks: 94 (Deactivated: 0) \n",
      "No. Expressions: 10 \n",
      "========================================================================\n",
      "\n",
      "2023-04-26 17:21:08 [WARNING] idaes.watertap.property_models.multicomp_aq_sol_prop_pack: While using the calculate_state method on fs.feed.properties[0.0], variable flow_vol_phase was provided as an argument in var_args, but it does not have a scaling factor. This suggests that the calculate_scaling_factor method has not been used or the variable was created on demand after the scaling factors were calculated. It is recommended to touch all relevant variables (i.e. call them or set an initial value) before using the calculate_scaling_factor method.\n",
      "2023-04-26 17:21:08 [WARNING] idaes.watertap.property_models.multicomp_aq_sol_prop_pack: While using the calculate_state method on fs.feed.properties[0.0], variable conc_mol_phase_comp was provided as an argument in var_args, but it does not have a scaling factor. This suggests that the calculate_scaling_factor method has not been used or the variable was created on demand after the scaling factors were calculated. It is recommended to touch all relevant variables (i.e. call them or set an initial value) before using the calculate_scaling_factor method.\n",
      "2023-04-26 17:21:08 [WARNING] idaes.watertap.property_models.multicomp_aq_sol_prop_pack: While using the calculate_state method on fs.feed.properties[0.0], variable conc_mol_phase_comp was provided as an argument in var_args, but it does not have a scaling factor. This suggests that the calculate_scaling_factor method has not been used or the variable was created on demand after the scaling factors were calculated. It is recommended to touch all relevant variables (i.e. call them or set an initial value) before using the calculate_scaling_factor method.\n",
      "2023-04-26 17:21:08 [WARNING] idaes.core.util.scaling: Missing scaling factor for fs.EDstack.diluate.area\n",
      "2023-04-26 17:21:08 [WARNING] idaes.core.util.scaling: Missing scaling factor for fs.EDstack.concentrate.area\n",
      "2023-04-26 17:21:08 [WARNING] idaes.core.util.scaling: Missing scaling factor for fs.EDstack.membrane_thickness\n",
      "2023-04-26 17:21:08 [WARNING] idaes.core.util.scaling: Missing scaling factor for fs.EDstack.membrane_areal_resistance\n",
      "2023-04-26 17:21:08 [WARNING] idaes.core.util.scaling: Missing scaling factor for fs.EDstack.solute_diffusivity_membrane\n",
      "2023-04-26 17:21:08 [WARNING] idaes.core.util.scaling: Missing scaling factor for fs.EDstack.diffus_mass\n",
      "2023-04-26 17:21:08 [WARNING] idaes.core.util.scaling: Missing scaling factor for fs.EDstack.water_permeability_membrane\n",
      "2023-04-26 17:21:08 [WARNING] idaes.core.util.scaling: Missing scaling factor for fs.EDstack.channel_height\n",
      "2023-04-26 17:21:08 [WARNING] idaes.core.util.scaling: Missing scaling factor for fs.EDstack.spacer_porosity\n",
      "2023-04-26 17:21:08 [WARNING] idaes.core.util.scaling: Missing scaling factor for fs.EDstack.electrodes_resistance\n",
      "2023-04-26 17:21:08 [WARNING] idaes.core.util.scaling: Missing scaling factor for fs.EDstack.spacer_specific_area\n",
      "2023-04-26 17:21:08 [WARNING] idaes.core.util.scaling: Missing scaling factor for fs.EDstack.hydraulic_diameter\n",
      "2023-04-26 17:21:08 [WARNING] idaes.core.util.scaling: Missing scaling factor for fs.EDstack.N_Re\n",
      "2023-04-26 17:21:08 [WARNING] idaes.core.util.scaling: Missing scaling factor for fs.EDstack.N_Sc\n",
      "2023-04-26 17:21:08 [WARNING] idaes.core.util.scaling: Missing scaling factor for fs.EDstack.N_Sh\n",
      "2023-04-26 17:21:08 [WARNING] idaes.core.util.scaling: Missing scaling factor for fs.EDstack.friction_factor\n",
      "2023-04-26 17:21:08 [WARNING] idaes.core.util.scaling: Missing scaling factor for fs.EDstack.pressure_drop\n",
      "2023-04-26 17:21:08 [WARNING] idaes.core.util.scaling: Missing scaling factor for fs.EDstack.pressure_drop_total\n",
      "SFSFSFSF 5555.555555555557\n",
      "2023-04-26 17:21:08 [INFO] idaes.init.fs.feed: Initialization Complete.\n",
      "2023-04-26 17:21:08 [INFO] idaes.init.fs.sepa0: Initialization Step 2 Complete: optimal - Optimal Solution Found\n",
      "2023-04-26 17:21:09 [INFO] idaes.init.fs.pump1.control_volume: Initialization Complete\n",
      "2023-04-26 17:21:09 [INFO] idaes.init.fs.pump1: Initialization Complete: optimal - Optimal Solution Found\n",
      "2023-04-26 17:21:09 [INFO] idaes.init.fs.pump0.control_volume: Initialization Complete\n",
      "2023-04-26 17:21:09 [INFO] idaes.init.fs.pump0: Initialization Complete: optimal - Optimal Solution Found\n",
      "2023-04-26 17:21:09 [INFO] idaes.init.fs.EDstack.diluate: Initialization Complete\n",
      "2023-04-26 17:21:09 [WARNING] idaes.init.fs.EDstack: Non-zero degrees of freedom: Degrees of freedom on fs.EDstack = 5. Fix 5 more variable(s)\n",
      "2023-04-26 17:21:09 [INFO] idaes.init.fs.EDstack.concentrate: Initialization Complete\n",
      "2023-04-26 17:22:05 [WARNING] idaes.init.fs.EDstack:  The solver at the Initialization Step 3 step failed to converge to an optimal solution.This suggests that the user provided infeasible inputs or that the model is poorly scaled, poorly initialized, or degenerate.\n",
      "2023-04-26 17:22:05 [INFO] idaes.init.fs.EDstack: Initialization Complete: maxIterations - Maximum Number of Iterations Exceeded.\n",
      "2023-04-26 17:22:05 [WARNING] idaes.watertap.examples.flowsheets.electrodialysis.electrodialysis_1stack_concentrate_recirc: Initialization Fails in initialize_dof0_system:Unit model fs.EDstack failed to initialize\n",
      "WARNING: Loading a SolverResults object with a warning status into\n",
      "    model.name=\"unknown\";\n",
      "      - termination condition: infeasible\n",
      "      - message from solver: Ipopt 3.13.2\\x3a Converged to a locally\n",
      "        infeasible point. Problem may be infeasible.\n",
      "===Excecuting c0_mass= 1.0, WR=0.5,V=48.0===\n",
      "2023-04-26 17:22:19 [WARNING] idaes.core.base.costing_base: flow_expr is an expression with a lower bound of less than zero. Costing requires that all flows have a lower bound equal to or greater than zero to avoid negative costs.\n",
      "2023-04-26 17:22:19 [WARNING] idaes.core.base.costing_base: flow_expr is an expression with a lower bound of less than zero. Costing requires that all flows have a lower bound equal to or greater than zero to avoid negative costs.\n",
      "======DOF_intial======\n",
      "\n",
      "========================================================================\n",
      "Model Statistics   \n",
      "\n",
      "Degrees of Freedom: 38 \n",
      "\n",
      "Total No. Variables: 2374 \n",
      "    No. Fixed Variables: 24\n",
      "    No. Unused Variables: 16 (Fixed):5)\n",
      "    No. Variables only in Inequalities: 0 (Fixed: 0) \n",
      "\n",
      "Total No. Constraints: 2301 \n",
      "    No. Equality Constraints: 2301 (Deactivated: 0)\n",
      "    No. Inequality Constraints: 0 (Deactivated: 0)\n",
      "\n",
      "No. Objectives: 0 (Deactivated: 0)\n",
      "\n",
      "No. Blocks: 94 (Deactivated: 0) \n",
      "No. Expressions: 10 \n",
      "========================================================================\n",
      "\n",
      "2023-04-26 17:22:19 [WARNING] idaes.watertap.property_models.multicomp_aq_sol_prop_pack: While using the calculate_state method on fs.feed.properties[0.0], variable flow_vol_phase was provided as an argument in var_args, but it does not have a scaling factor. This suggests that the calculate_scaling_factor method has not been used or the variable was created on demand after the scaling factors were calculated. It is recommended to touch all relevant variables (i.e. call them or set an initial value) before using the calculate_scaling_factor method.\n",
      "2023-04-26 17:22:19 [WARNING] idaes.watertap.property_models.multicomp_aq_sol_prop_pack: While using the calculate_state method on fs.feed.properties[0.0], variable conc_mol_phase_comp was provided as an argument in var_args, but it does not have a scaling factor. This suggests that the calculate_scaling_factor method has not been used or the variable was created on demand after the scaling factors were calculated. It is recommended to touch all relevant variables (i.e. call them or set an initial value) before using the calculate_scaling_factor method.\n"
     ]
    },
    {
     "name": "stdout",
     "output_type": "stream",
     "text": [
      "2023-04-26 17:22:19 [WARNING] idaes.watertap.property_models.multicomp_aq_sol_prop_pack: While using the calculate_state method on fs.feed.properties[0.0], variable conc_mol_phase_comp was provided as an argument in var_args, but it does not have a scaling factor. This suggests that the calculate_scaling_factor method has not been used or the variable was created on demand after the scaling factors were calculated. It is recommended to touch all relevant variables (i.e. call them or set an initial value) before using the calculate_scaling_factor method.\n",
      "2023-04-26 17:22:19 [WARNING] idaes.core.util.scaling: Missing scaling factor for fs.EDstack.diluate.area\n",
      "2023-04-26 17:22:19 [WARNING] idaes.core.util.scaling: Missing scaling factor for fs.EDstack.concentrate.area\n",
      "2023-04-26 17:22:19 [WARNING] idaes.core.util.scaling: Missing scaling factor for fs.EDstack.membrane_thickness\n",
      "2023-04-26 17:22:19 [WARNING] idaes.core.util.scaling: Missing scaling factor for fs.EDstack.membrane_areal_resistance\n",
      "2023-04-26 17:22:19 [WARNING] idaes.core.util.scaling: Missing scaling factor for fs.EDstack.solute_diffusivity_membrane\n",
      "2023-04-26 17:22:19 [WARNING] idaes.core.util.scaling: Missing scaling factor for fs.EDstack.diffus_mass\n",
      "2023-04-26 17:22:19 [WARNING] idaes.core.util.scaling: Missing scaling factor for fs.EDstack.water_permeability_membrane\n",
      "2023-04-26 17:22:19 [WARNING] idaes.core.util.scaling: Missing scaling factor for fs.EDstack.channel_height\n",
      "2023-04-26 17:22:19 [WARNING] idaes.core.util.scaling: Missing scaling factor for fs.EDstack.spacer_porosity\n",
      "2023-04-26 17:22:19 [WARNING] idaes.core.util.scaling: Missing scaling factor for fs.EDstack.electrodes_resistance\n",
      "2023-04-26 17:22:19 [WARNING] idaes.core.util.scaling: Missing scaling factor for fs.EDstack.spacer_specific_area\n",
      "2023-04-26 17:22:19 [WARNING] idaes.core.util.scaling: Missing scaling factor for fs.EDstack.hydraulic_diameter\n",
      "2023-04-26 17:22:19 [WARNING] idaes.core.util.scaling: Missing scaling factor for fs.EDstack.N_Re\n",
      "2023-04-26 17:22:19 [WARNING] idaes.core.util.scaling: Missing scaling factor for fs.EDstack.N_Sc\n",
      "2023-04-26 17:22:19 [WARNING] idaes.core.util.scaling: Missing scaling factor for fs.EDstack.N_Sh\n",
      "2023-04-26 17:22:19 [WARNING] idaes.core.util.scaling: Missing scaling factor for fs.EDstack.friction_factor\n",
      "2023-04-26 17:22:19 [WARNING] idaes.core.util.scaling: Missing scaling factor for fs.EDstack.pressure_drop\n",
      "2023-04-26 17:22:19 [WARNING] idaes.core.util.scaling: Missing scaling factor for fs.EDstack.pressure_drop_total\n",
      "SFSFSFSF 5555.555555555557\n",
      "2023-04-26 17:22:19 [INFO] idaes.init.fs.feed: Initialization Complete.\n",
      "2023-04-26 17:22:19 [INFO] idaes.init.fs.sepa0: Initialization Step 2 Complete: optimal - Optimal Solution Found\n",
      "2023-04-26 17:22:19 [INFO] idaes.init.fs.pump1.control_volume: Initialization Complete\n",
      "2023-04-26 17:22:19 [INFO] idaes.init.fs.pump1: Initialization Complete: optimal - Optimal Solution Found\n",
      "2023-04-26 17:22:19 [INFO] idaes.init.fs.pump0.control_volume: Initialization Complete\n",
      "2023-04-26 17:22:19 [INFO] idaes.init.fs.pump0: Initialization Complete: optimal - Optimal Solution Found\n",
      "2023-04-26 17:22:20 [INFO] idaes.init.fs.EDstack.diluate: Initialization Complete\n",
      "2023-04-26 17:22:20 [WARNING] idaes.init.fs.EDstack: Non-zero degrees of freedom: Degrees of freedom on fs.EDstack = 5. Fix 5 more variable(s)\n",
      "2023-04-26 17:22:20 [INFO] idaes.init.fs.EDstack.concentrate: Initialization Complete\n",
      "2023-04-26 17:22:36 [INFO] idaes.init.fs.EDstack: Initialization Step 3 successful.\n",
      "2023-04-26 17:22:36 [INFO] idaes.init.fs.EDstack: Initialization Complete: optimal - Optimal Solution Found\n",
      "\n",
      "====================================================================================\n",
      "Unit : fs.EDstack                                                          Time: 0.0\n",
      "------------------------------------------------------------------------------------\n",
      "    Unit Performance\n",
      "\n",
      "    Variables: \n",
      "\n",
      "    Key                                               : Value      : Units         : Fixed : Bounds\n",
      "    Specific electrical power consumption (kW*h/m**3) : 8.8934e+05 :        pascal : False : (0, 1000)\n",
      "             Total electrical power consumption(Watt) :     229.91 :          watt : False : (0, 12100)\n",
      "                               Water recovery by mass :    0.49761 : dimensionless : False : (0, 1)\n",
      "\n",
      "------------------------------------------------------------------------------------\n",
      "    Stream Table\n",
      "                                            Units       Diluate Channel Inlet  Concentrate Channel Inlet  Diluate Channel Outlet  Concentrate Channel Outlet\n",
      "    flow_mol_phase_comp ('Liq', 'H2O')   mole / second           14.430                   14.430                    14.361                    14.499        \n",
      "    flow_mol_phase_comp ('Liq', 'Na_+')  mole / second        0.0044444                0.0044444                0.00037130                 0.0085176        \n",
      "    flow_mol_phase_comp ('Liq', 'Cl_-')  mole / second        0.0044444                0.0044444                0.00037130                 0.0085176        \n",
      "    temperature                                 kelvin           298.15                   298.15                    298.15                    298.15        \n",
      "    pressure                                    pascal       3.0132e+05               3.0132e+05                2.7426e+05                2.7426e+05        \n",
      "====================================================================================\n",
      "2023-04-26 17:22:36 [INFO] idaes.init.fs.prod: Initialization Complete.\n",
      "2023-04-26 17:22:36 [INFO] idaes.init.fs.prod: Initialization Complete.\n",
      "2023-04-26 17:22:36 [INFO] idaes.init.fs.sepa1: Initialization Step 2 Complete: optimal - Optimal Solution Found\n",
      "2023-04-26 17:22:36 [INFO] idaes.init.fs.disp: Initialization Complete.\n",
      "2023-04-26 17:22:37 [INFO] idaes.init.fs.mix0: Initialization Complete: optimal - Optimal Solution Found\n",
      "BADLY SCALED VARS & CONSTRAINS\n",
      "fs.mix0.from_conc_out_state[0.0].flow_mol_phase_comp[Liq,H2O] : 1.4499098744713211e-08\n",
      "fs.mix0.from_conc_out_state[0.0].flow_mol_phase_comp[Liq,Na_+] : 8.517588692144421e-09\n",
      "fs.mix0.from_conc_out_state[0.0].flow_mol_phase_comp[Liq,Cl_-] : 8.517588692143508e-09\n",
      "fs.mix0.from_conc_out_state[0.0].flow_mass_phase_comp[Liq,H2O] : 1.4499098744713211e-08\n",
      "fs.mix0.from_conc_out_state[0.0].flow_mass_phase_comp[Liq,Na_+] : 8.517588692144421e-09\n",
      "fs.mix0.from_conc_out_state[0.0].flow_mass_phase_comp[Liq,Cl_-] : 8.517588692143508e-09\n",
      "fs.mix0.from_conc_out_state[0.0].flow_vol_phase[Liq] : 1.4526780907962682e-08\n",
      "fs.sepa1.to_conc_in1_state[0.0].flow_mol_phase_comp[Liq,H2O] : 1.4499098744713211e-08\n",
      "fs.sepa1.to_conc_in1_state[0.0].flow_mol_phase_comp[Liq,Na_+] : 8.517588692144421e-09\n",
      "fs.sepa1.to_conc_in1_state[0.0].flow_mol_phase_comp[Liq,Cl_-] : 8.517588692143508e-09\n",
      "fs.sepa1.to_conc_in1_state[0.0].flow_mass_phase_comp[Liq,H2O] : 1.4499098744713211e-08\n",
      "fs.sepa1.to_conc_in1_state[0.0].flow_mass_phase_comp[Liq,Na_+] : 8.517588692144421e-09\n",
      "fs.sepa1.to_conc_in1_state[0.0].flow_mass_phase_comp[Liq,Cl_-] : 8.517588692143508e-09\n",
      "fs.sepa1.to_conc_in1_state[0.0].flow_vol_phase[Liq] : 1.4526780907962682e-08\n",
      "===Excecuting c0_mass= 1.0, WR=0.5,V=50.0===\n",
      "2023-04-26 17:22:38 [WARNING] idaes.core.base.costing_base: flow_expr is an expression with a lower bound of less than zero. Costing requires that all flows have a lower bound equal to or greater than zero to avoid negative costs.\n",
      "2023-04-26 17:22:38 [WARNING] idaes.core.base.costing_base: flow_expr is an expression with a lower bound of less than zero. Costing requires that all flows have a lower bound equal to or greater than zero to avoid negative costs.\n",
      "======DOF_intial======\n",
      "\n",
      "========================================================================\n",
      "Model Statistics   \n",
      "\n",
      "Degrees of Freedom: 38 \n",
      "\n",
      "Total No. Variables: 2374 \n",
      "    No. Fixed Variables: 24\n",
      "    No. Unused Variables: 16 (Fixed):5)\n",
      "    No. Variables only in Inequalities: 0 (Fixed: 0) \n",
      "\n",
      "Total No. Constraints: 2301 \n",
      "    No. Equality Constraints: 2301 (Deactivated: 0)\n",
      "    No. Inequality Constraints: 0 (Deactivated: 0)\n",
      "\n",
      "No. Objectives: 0 (Deactivated: 0)\n",
      "\n",
      "No. Blocks: 94 (Deactivated: 0) \n",
      "No. Expressions: 10 \n",
      "========================================================================\n",
      "\n",
      "2023-04-26 17:22:38 [WARNING] idaes.watertap.property_models.multicomp_aq_sol_prop_pack: While using the calculate_state method on fs.feed.properties[0.0], variable flow_vol_phase was provided as an argument in var_args, but it does not have a scaling factor. This suggests that the calculate_scaling_factor method has not been used or the variable was created on demand after the scaling factors were calculated. It is recommended to touch all relevant variables (i.e. call them or set an initial value) before using the calculate_scaling_factor method.\n"
     ]
    },
    {
     "name": "stdout",
     "output_type": "stream",
     "text": [
      "2023-04-26 17:22:38 [WARNING] idaes.watertap.property_models.multicomp_aq_sol_prop_pack: While using the calculate_state method on fs.feed.properties[0.0], variable conc_mol_phase_comp was provided as an argument in var_args, but it does not have a scaling factor. This suggests that the calculate_scaling_factor method has not been used or the variable was created on demand after the scaling factors were calculated. It is recommended to touch all relevant variables (i.e. call them or set an initial value) before using the calculate_scaling_factor method.\n",
      "2023-04-26 17:22:38 [WARNING] idaes.watertap.property_models.multicomp_aq_sol_prop_pack: While using the calculate_state method on fs.feed.properties[0.0], variable conc_mol_phase_comp was provided as an argument in var_args, but it does not have a scaling factor. This suggests that the calculate_scaling_factor method has not been used or the variable was created on demand after the scaling factors were calculated. It is recommended to touch all relevant variables (i.e. call them or set an initial value) before using the calculate_scaling_factor method.\n",
      "2023-04-26 17:22:38 [WARNING] idaes.core.util.scaling: Missing scaling factor for fs.EDstack.diluate.area\n",
      "2023-04-26 17:22:38 [WARNING] idaes.core.util.scaling: Missing scaling factor for fs.EDstack.concentrate.area\n",
      "2023-04-26 17:22:38 [WARNING] idaes.core.util.scaling: Missing scaling factor for fs.EDstack.membrane_thickness\n",
      "2023-04-26 17:22:38 [WARNING] idaes.core.util.scaling: Missing scaling factor for fs.EDstack.membrane_areal_resistance\n",
      "2023-04-26 17:22:38 [WARNING] idaes.core.util.scaling: Missing scaling factor for fs.EDstack.solute_diffusivity_membrane\n",
      "2023-04-26 17:22:38 [WARNING] idaes.core.util.scaling: Missing scaling factor for fs.EDstack.diffus_mass\n",
      "2023-04-26 17:22:38 [WARNING] idaes.core.util.scaling: Missing scaling factor for fs.EDstack.water_permeability_membrane\n",
      "2023-04-26 17:22:38 [WARNING] idaes.core.util.scaling: Missing scaling factor for fs.EDstack.channel_height\n",
      "2023-04-26 17:22:38 [WARNING] idaes.core.util.scaling: Missing scaling factor for fs.EDstack.spacer_porosity\n",
      "2023-04-26 17:22:38 [WARNING] idaes.core.util.scaling: Missing scaling factor for fs.EDstack.electrodes_resistance\n",
      "2023-04-26 17:22:38 [WARNING] idaes.core.util.scaling: Missing scaling factor for fs.EDstack.spacer_specific_area\n",
      "2023-04-26 17:22:38 [WARNING] idaes.core.util.scaling: Missing scaling factor for fs.EDstack.hydraulic_diameter\n",
      "2023-04-26 17:22:38 [WARNING] idaes.core.util.scaling: Missing scaling factor for fs.EDstack.N_Re\n",
      "2023-04-26 17:22:38 [WARNING] idaes.core.util.scaling: Missing scaling factor for fs.EDstack.N_Sc\n",
      "2023-04-26 17:22:38 [WARNING] idaes.core.util.scaling: Missing scaling factor for fs.EDstack.N_Sh\n",
      "2023-04-26 17:22:38 [WARNING] idaes.core.util.scaling: Missing scaling factor for fs.EDstack.friction_factor\n",
      "2023-04-26 17:22:38 [WARNING] idaes.core.util.scaling: Missing scaling factor for fs.EDstack.pressure_drop\n",
      "2023-04-26 17:22:38 [WARNING] idaes.core.util.scaling: Missing scaling factor for fs.EDstack.pressure_drop_total\n",
      "SFSFSFSF 5555.555555555557\n",
      "2023-04-26 17:22:39 [INFO] idaes.init.fs.feed: Initialization Complete.\n",
      "2023-04-26 17:22:39 [INFO] idaes.init.fs.sepa0: Initialization Step 2 Complete: optimal - Optimal Solution Found\n",
      "2023-04-26 17:22:39 [INFO] idaes.init.fs.pump1.control_volume: Initialization Complete\n",
      "2023-04-26 17:22:39 [INFO] idaes.init.fs.pump1: Initialization Complete: optimal - Optimal Solution Found\n",
      "2023-04-26 17:22:39 [INFO] idaes.init.fs.pump0.control_volume: Initialization Complete\n",
      "2023-04-26 17:22:39 [INFO] idaes.init.fs.pump0: Initialization Complete: optimal - Optimal Solution Found\n",
      "2023-04-26 17:22:39 [INFO] idaes.init.fs.EDstack.diluate: Initialization Complete\n",
      "2023-04-26 17:22:39 [WARNING] idaes.init.fs.EDstack: Non-zero degrees of freedom: Degrees of freedom on fs.EDstack = 5. Fix 5 more variable(s)\n",
      "2023-04-26 17:22:40 [INFO] idaes.init.fs.EDstack.concentrate: Initialization Complete\n",
      "2023-04-26 17:22:45 [INFO] idaes.init.fs.EDstack: Initialization Step 3 successful.\n",
      "2023-04-26 17:22:45 [INFO] idaes.init.fs.EDstack: Initialization Complete: optimal - Optimal Solution Found\n",
      "\n",
      "====================================================================================\n",
      "Unit : fs.EDstack                                                          Time: 0.0\n",
      "------------------------------------------------------------------------------------\n",
      "    Unit Performance\n",
      "\n",
      "    Variables: \n",
      "\n",
      "    Key                                               : Value      : Units         : Fixed : Bounds\n",
      "    Specific electrical power consumption (kW*h/m**3) : 9.3128e+05 :        pascal : False : (0, 1000)\n",
      "             Total electrical power consumption(Watt) :     240.74 :          watt : False : (0, 12100)\n",
      "                               Water recovery by mass :    0.49759 : dimensionless : False : (0, 1)\n",
      "\n",
      "------------------------------------------------------------------------------------\n",
      "    Stream Table\n",
      "                                            Units       Diluate Channel Inlet  Concentrate Channel Inlet  Diluate Channel Outlet  Concentrate Channel Outlet\n",
      "    flow_mol_phase_comp ('Liq', 'H2O')   mole / second           14.430                   14.430                    14.360                    14.500        \n",
      "    flow_mol_phase_comp ('Liq', 'Na_+')  mole / second        0.0044444                0.0044444                0.00035979                 0.0085291        \n",
      "    flow_mol_phase_comp ('Liq', 'Cl_-')  mole / second        0.0044444                0.0044444                0.00035979                 0.0085291        \n",
      "    temperature                                 kelvin           298.15                   298.15                    298.15                    298.15        \n",
      "    pressure                                    pascal       3.0132e+05               3.0132e+05                2.7426e+05                2.7426e+05        \n",
      "====================================================================================\n",
      "2023-04-26 17:22:45 [INFO] idaes.init.fs.prod: Initialization Complete.\n",
      "2023-04-26 17:22:45 [INFO] idaes.init.fs.prod: Initialization Complete.\n",
      "2023-04-26 17:22:45 [INFO] idaes.init.fs.sepa1: Initialization Step 2 Complete: optimal - Optimal Solution Found\n",
      "2023-04-26 17:22:45 [INFO] idaes.init.fs.disp: Initialization Complete.\n",
      "2023-04-26 17:22:46 [INFO] idaes.init.fs.mix0: Initialization Complete: optimal - Optimal Solution Found\n",
      "BADLY SCALED VARS & CONSTRAINS\n",
      "fs.mix0.from_conc_out_state[0.0].flow_mol_phase_comp[Liq,H2O] : 1.4499669331508788e-08\n",
      "fs.mix0.from_conc_out_state[0.0].flow_mol_phase_comp[Liq,Na_+] : 8.529100063847072e-09\n",
      "fs.mix0.from_conc_out_state[0.0].flow_mol_phase_comp[Liq,Cl_-] : 8.529100063844904e-09\n",
      "fs.mix0.from_conc_out_state[0.0].flow_mass_phase_comp[Liq,H2O] : 1.4499669331508788e-08\n",
      "fs.mix0.from_conc_out_state[0.0].flow_mass_phase_comp[Liq,Na_+] : 8.529100063847072e-09\n",
      "fs.mix0.from_conc_out_state[0.0].flow_mass_phase_comp[Liq,Cl_-] : 8.529100063844904e-09\n",
      "fs.mix0.from_conc_out_state[0.0].flow_vol_phase[Liq] : 1.4527388906716288e-08\n",
      "fs.sepa1.to_conc_in1_state[0.0].flow_mol_phase_comp[Liq,H2O] : 1.4499669331508788e-08\n",
      "fs.sepa1.to_conc_in1_state[0.0].flow_mol_phase_comp[Liq,Na_+] : 8.529100063847072e-09\n",
      "fs.sepa1.to_conc_in1_state[0.0].flow_mol_phase_comp[Liq,Cl_-] : 8.529100063844904e-09\n",
      "fs.sepa1.to_conc_in1_state[0.0].flow_mass_phase_comp[Liq,H2O] : 1.4499669331508788e-08\n",
      "fs.sepa1.to_conc_in1_state[0.0].flow_mass_phase_comp[Liq,Na_+] : 8.529100063847072e-09\n",
      "fs.sepa1.to_conc_in1_state[0.0].flow_mass_phase_comp[Liq,Cl_-] : 8.529100063844904e-09\n",
      "fs.sepa1.to_conc_in1_state[0.0].flow_vol_phase[Liq] : 1.452738890671629e-08\n",
      "===Excecuting c0_mass= 1.0, WR=0.5,V=52.0===\n",
      "2023-04-26 17:22:47 [WARNING] idaes.core.base.costing_base: flow_expr is an expression with a lower bound of less than zero. Costing requires that all flows have a lower bound equal to or greater than zero to avoid negative costs.\n",
      "2023-04-26 17:22:47 [WARNING] idaes.core.base.costing_base: flow_expr is an expression with a lower bound of less than zero. Costing requires that all flows have a lower bound equal to or greater than zero to avoid negative costs.\n"
     ]
    },
    {
     "name": "stdout",
     "output_type": "stream",
     "text": [
      "======DOF_intial======\n",
      "\n",
      "========================================================================\n",
      "Model Statistics   \n",
      "\n",
      "Degrees of Freedom: 38 \n",
      "\n",
      "Total No. Variables: 2374 \n",
      "    No. Fixed Variables: 24\n",
      "    No. Unused Variables: 16 (Fixed):5)\n",
      "    No. Variables only in Inequalities: 0 (Fixed: 0) \n",
      "\n",
      "Total No. Constraints: 2301 \n",
      "    No. Equality Constraints: 2301 (Deactivated: 0)\n",
      "    No. Inequality Constraints: 0 (Deactivated: 0)\n",
      "\n",
      "No. Objectives: 0 (Deactivated: 0)\n",
      "\n",
      "No. Blocks: 94 (Deactivated: 0) \n",
      "No. Expressions: 10 \n",
      "========================================================================\n",
      "\n",
      "2023-04-26 17:22:47 [WARNING] idaes.watertap.property_models.multicomp_aq_sol_prop_pack: While using the calculate_state method on fs.feed.properties[0.0], variable flow_vol_phase was provided as an argument in var_args, but it does not have a scaling factor. This suggests that the calculate_scaling_factor method has not been used or the variable was created on demand after the scaling factors were calculated. It is recommended to touch all relevant variables (i.e. call them or set an initial value) before using the calculate_scaling_factor method.\n",
      "2023-04-26 17:22:47 [WARNING] idaes.watertap.property_models.multicomp_aq_sol_prop_pack: While using the calculate_state method on fs.feed.properties[0.0], variable conc_mol_phase_comp was provided as an argument in var_args, but it does not have a scaling factor. This suggests that the calculate_scaling_factor method has not been used or the variable was created on demand after the scaling factors were calculated. It is recommended to touch all relevant variables (i.e. call them or set an initial value) before using the calculate_scaling_factor method.\n",
      "2023-04-26 17:22:47 [WARNING] idaes.watertap.property_models.multicomp_aq_sol_prop_pack: While using the calculate_state method on fs.feed.properties[0.0], variable conc_mol_phase_comp was provided as an argument in var_args, but it does not have a scaling factor. This suggests that the calculate_scaling_factor method has not been used or the variable was created on demand after the scaling factors were calculated. It is recommended to touch all relevant variables (i.e. call them or set an initial value) before using the calculate_scaling_factor method.\n",
      "2023-04-26 17:22:47 [WARNING] idaes.core.util.scaling: Missing scaling factor for fs.EDstack.diluate.area\n",
      "2023-04-26 17:22:47 [WARNING] idaes.core.util.scaling: Missing scaling factor for fs.EDstack.concentrate.area\n",
      "2023-04-26 17:22:47 [WARNING] idaes.core.util.scaling: Missing scaling factor for fs.EDstack.membrane_thickness\n",
      "2023-04-26 17:22:47 [WARNING] idaes.core.util.scaling: Missing scaling factor for fs.EDstack.membrane_areal_resistance\n",
      "2023-04-26 17:22:47 [WARNING] idaes.core.util.scaling: Missing scaling factor for fs.EDstack.solute_diffusivity_membrane\n",
      "2023-04-26 17:22:47 [WARNING] idaes.core.util.scaling: Missing scaling factor for fs.EDstack.diffus_mass\n",
      "2023-04-26 17:22:47 [WARNING] idaes.core.util.scaling: Missing scaling factor for fs.EDstack.water_permeability_membrane\n",
      "2023-04-26 17:22:47 [WARNING] idaes.core.util.scaling: Missing scaling factor for fs.EDstack.channel_height\n",
      "2023-04-26 17:22:47 [WARNING] idaes.core.util.scaling: Missing scaling factor for fs.EDstack.spacer_porosity\n",
      "2023-04-26 17:22:47 [WARNING] idaes.core.util.scaling: Missing scaling factor for fs.EDstack.electrodes_resistance\n",
      "2023-04-26 17:22:47 [WARNING] idaes.core.util.scaling: Missing scaling factor for fs.EDstack.spacer_specific_area\n",
      "2023-04-26 17:22:47 [WARNING] idaes.core.util.scaling: Missing scaling factor for fs.EDstack.hydraulic_diameter\n",
      "2023-04-26 17:22:47 [WARNING] idaes.core.util.scaling: Missing scaling factor for fs.EDstack.N_Re\n",
      "2023-04-26 17:22:47 [WARNING] idaes.core.util.scaling: Missing scaling factor for fs.EDstack.N_Sc\n",
      "2023-04-26 17:22:47 [WARNING] idaes.core.util.scaling: Missing scaling factor for fs.EDstack.N_Sh\n",
      "2023-04-26 17:22:47 [WARNING] idaes.core.util.scaling: Missing scaling factor for fs.EDstack.friction_factor\n",
      "2023-04-26 17:22:47 [WARNING] idaes.core.util.scaling: Missing scaling factor for fs.EDstack.pressure_drop\n",
      "2023-04-26 17:22:47 [WARNING] idaes.core.util.scaling: Missing scaling factor for fs.EDstack.pressure_drop_total\n",
      "SFSFSFSF 5555.555555555557\n",
      "2023-04-26 17:22:47 [INFO] idaes.init.fs.feed: Initialization Complete.\n",
      "2023-04-26 17:22:48 [INFO] idaes.init.fs.sepa0: Initialization Step 2 Complete: optimal - Optimal Solution Found\n",
      "2023-04-26 17:22:48 [INFO] idaes.init.fs.pump1.control_volume: Initialization Complete\n",
      "2023-04-26 17:22:48 [INFO] idaes.init.fs.pump1: Initialization Complete: optimal - Optimal Solution Found\n",
      "2023-04-26 17:22:48 [INFO] idaes.init.fs.pump0.control_volume: Initialization Complete\n",
      "2023-04-26 17:22:48 [INFO] idaes.init.fs.pump0: Initialization Complete: optimal - Optimal Solution Found\n",
      "2023-04-26 17:22:48 [INFO] idaes.init.fs.EDstack.diluate: Initialization Complete\n",
      "2023-04-26 17:22:48 [WARNING] idaes.init.fs.EDstack: Non-zero degrees of freedom: Degrees of freedom on fs.EDstack = 5. Fix 5 more variable(s)\n",
      "2023-04-26 17:22:48 [INFO] idaes.init.fs.EDstack.concentrate: Initialization Complete\n",
      "2023-04-26 17:23:17 [INFO] idaes.init.fs.EDstack: Initialization Step 3 successful.\n",
      "2023-04-26 17:23:17 [INFO] idaes.init.fs.EDstack: Initialization Complete: optimal - Optimal Solution Found\n",
      "\n",
      "====================================================================================\n",
      "Unit : fs.EDstack                                                          Time: 0.0\n",
      "------------------------------------------------------------------------------------\n",
      "    Unit Performance\n",
      "\n",
      "    Variables: \n",
      "\n",
      "    Key                                               : Value      : Units         : Fixed : Bounds\n",
      "    Specific electrical power consumption (kW*h/m**3) : 9.7292e+05 :        pascal : False : (0, 1000)\n",
      "             Total electrical power consumption(Watt) :     251.50 :          watt : False : (0, 12100)\n",
      "                               Water recovery by mass :    0.49757 : dimensionless : False : (0, 1)\n",
      "\n",
      "------------------------------------------------------------------------------------\n",
      "    Stream Table\n",
      "                                            Units       Diluate Channel Inlet  Concentrate Channel Inlet  Diluate Channel Outlet  Concentrate Channel Outlet\n",
      "    flow_mol_phase_comp ('Liq', 'H2O')   mole / second           14.430                   14.430                    14.360                    14.500        \n",
      "    flow_mol_phase_comp ('Liq', 'Na_+')  mole / second        0.0044444                0.0044444                0.00035019                 0.0085387        \n",
      "    flow_mol_phase_comp ('Liq', 'Cl_-')  mole / second        0.0044444                0.0044444                0.00035019                 0.0085387        \n",
      "    temperature                                 kelvin           298.15                   298.15                    298.15                    298.15        \n",
      "    pressure                                    pascal       3.0132e+05               3.0132e+05                2.7426e+05                2.7426e+05        \n",
      "====================================================================================\n",
      "2023-04-26 17:23:17 [INFO] idaes.init.fs.prod: Initialization Complete.\n",
      "2023-04-26 17:23:17 [INFO] idaes.init.fs.prod: Initialization Complete.\n",
      "2023-04-26 17:23:18 [INFO] idaes.init.fs.sepa1: Initialization Step 2 Complete: optimal - Optimal Solution Found\n",
      "2023-04-26 17:23:18 [INFO] idaes.init.fs.disp: Initialization Complete.\n",
      "2023-04-26 17:23:18 [INFO] idaes.init.fs.mix0: Initialization Complete: optimal - Optimal Solution Found\n",
      "BADLY SCALED VARS & CONSTRAINS\n",
      "fs.mix0.from_conc_out_state[0.0].flow_mol_phase_comp[Liq,H2O] : 1.4500167534793865e-08\n",
      "fs.mix0.from_conc_out_state[0.0].flow_mol_phase_comp[Liq,Na_+] : 8.538696256784209e-09\n",
      "fs.mix0.from_conc_out_state[0.0].flow_mol_phase_comp[Liq,Cl_-] : 8.538696256779868e-09\n",
      "fs.mix0.from_conc_out_state[0.0].flow_mass_phase_comp[Liq,H2O] : 1.4500167534793865e-08\n",
      "fs.mix0.from_conc_out_state[0.0].flow_mass_phase_comp[Liq,Na_+] : 8.538696256784209e-09\n",
      "fs.mix0.from_conc_out_state[0.0].flow_mass_phase_comp[Liq,Cl_-] : 8.538696256779868e-09\n",
      "fs.mix0.from_conc_out_state[0.0].flow_vol_phase[Liq] : 1.4527918297628405e-08\n",
      "fs.sepa1.to_conc_in1_state[0.0].flow_mol_phase_comp[Liq,H2O] : 1.4500167534793865e-08\n",
      "fs.sepa1.to_conc_in1_state[0.0].flow_mol_phase_comp[Liq,Na_+] : 8.538696256784209e-09\n",
      "fs.sepa1.to_conc_in1_state[0.0].flow_mol_phase_comp[Liq,Cl_-] : 8.538696256779868e-09\n",
      "fs.sepa1.to_conc_in1_state[0.0].flow_mass_phase_comp[Liq,H2O] : 1.4500167534793863e-08\n",
      "fs.sepa1.to_conc_in1_state[0.0].flow_mass_phase_comp[Liq,Na_+] : 8.538696256784209e-09\n",
      "fs.sepa1.to_conc_in1_state[0.0].flow_mass_phase_comp[Liq,Cl_-] : 8.538696256779868e-09\n",
      "fs.sepa1.to_conc_in1_state[0.0].flow_vol_phase[Liq] : 1.45279182976284e-08\n"
     ]
    },
    {
     "name": "stdout",
     "output_type": "stream",
     "text": [
      "===Excecuting c0_mass= 1.0, WR=0.5,V=54.0===\n",
      "2023-04-26 17:23:19 [WARNING] idaes.core.base.costing_base: flow_expr is an expression with a lower bound of less than zero. Costing requires that all flows have a lower bound equal to or greater than zero to avoid negative costs.\n",
      "2023-04-26 17:23:19 [WARNING] idaes.core.base.costing_base: flow_expr is an expression with a lower bound of less than zero. Costing requires that all flows have a lower bound equal to or greater than zero to avoid negative costs.\n",
      "======DOF_intial======\n",
      "\n",
      "========================================================================\n",
      "Model Statistics   \n",
      "\n",
      "Degrees of Freedom: 38 \n",
      "\n",
      "Total No. Variables: 2374 \n",
      "    No. Fixed Variables: 24\n",
      "    No. Unused Variables: 16 (Fixed):5)\n",
      "    No. Variables only in Inequalities: 0 (Fixed: 0) \n",
      "\n",
      "Total No. Constraints: 2301 \n",
      "    No. Equality Constraints: 2301 (Deactivated: 0)\n",
      "    No. Inequality Constraints: 0 (Deactivated: 0)\n",
      "\n",
      "No. Objectives: 0 (Deactivated: 0)\n",
      "\n",
      "No. Blocks: 94 (Deactivated: 0) \n",
      "No. Expressions: 10 \n",
      "========================================================================\n",
      "\n",
      "2023-04-26 17:23:19 [WARNING] idaes.watertap.property_models.multicomp_aq_sol_prop_pack: While using the calculate_state method on fs.feed.properties[0.0], variable flow_vol_phase was provided as an argument in var_args, but it does not have a scaling factor. This suggests that the calculate_scaling_factor method has not been used or the variable was created on demand after the scaling factors were calculated. It is recommended to touch all relevant variables (i.e. call them or set an initial value) before using the calculate_scaling_factor method.\n",
      "2023-04-26 17:23:19 [WARNING] idaes.watertap.property_models.multicomp_aq_sol_prop_pack: While using the calculate_state method on fs.feed.properties[0.0], variable conc_mol_phase_comp was provided as an argument in var_args, but it does not have a scaling factor. This suggests that the calculate_scaling_factor method has not been used or the variable was created on demand after the scaling factors were calculated. It is recommended to touch all relevant variables (i.e. call them or set an initial value) before using the calculate_scaling_factor method.\n",
      "2023-04-26 17:23:19 [WARNING] idaes.watertap.property_models.multicomp_aq_sol_prop_pack: While using the calculate_state method on fs.feed.properties[0.0], variable conc_mol_phase_comp was provided as an argument in var_args, but it does not have a scaling factor. This suggests that the calculate_scaling_factor method has not been used or the variable was created on demand after the scaling factors were calculated. It is recommended to touch all relevant variables (i.e. call them or set an initial value) before using the calculate_scaling_factor method.\n",
      "2023-04-26 17:23:19 [WARNING] idaes.core.util.scaling: Missing scaling factor for fs.EDstack.diluate.area\n",
      "2023-04-26 17:23:20 [WARNING] idaes.core.util.scaling: Missing scaling factor for fs.EDstack.concentrate.area\n",
      "2023-04-26 17:23:20 [WARNING] idaes.core.util.scaling: Missing scaling factor for fs.EDstack.membrane_thickness\n",
      "2023-04-26 17:23:20 [WARNING] idaes.core.util.scaling: Missing scaling factor for fs.EDstack.membrane_areal_resistance\n",
      "2023-04-26 17:23:20 [WARNING] idaes.core.util.scaling: Missing scaling factor for fs.EDstack.solute_diffusivity_membrane\n",
      "2023-04-26 17:23:20 [WARNING] idaes.core.util.scaling: Missing scaling factor for fs.EDstack.diffus_mass\n",
      "2023-04-26 17:23:20 [WARNING] idaes.core.util.scaling: Missing scaling factor for fs.EDstack.water_permeability_membrane\n",
      "2023-04-26 17:23:20 [WARNING] idaes.core.util.scaling: Missing scaling factor for fs.EDstack.channel_height\n",
      "2023-04-26 17:23:20 [WARNING] idaes.core.util.scaling: Missing scaling factor for fs.EDstack.spacer_porosity\n",
      "2023-04-26 17:23:20 [WARNING] idaes.core.util.scaling: Missing scaling factor for fs.EDstack.electrodes_resistance\n",
      "2023-04-26 17:23:20 [WARNING] idaes.core.util.scaling: Missing scaling factor for fs.EDstack.spacer_specific_area\n",
      "2023-04-26 17:23:20 [WARNING] idaes.core.util.scaling: Missing scaling factor for fs.EDstack.hydraulic_diameter\n",
      "2023-04-26 17:23:20 [WARNING] idaes.core.util.scaling: Missing scaling factor for fs.EDstack.N_Re\n",
      "2023-04-26 17:23:20 [WARNING] idaes.core.util.scaling: Missing scaling factor for fs.EDstack.N_Sc\n",
      "2023-04-26 17:23:20 [WARNING] idaes.core.util.scaling: Missing scaling factor for fs.EDstack.N_Sh\n",
      "2023-04-26 17:23:20 [WARNING] idaes.core.util.scaling: Missing scaling factor for fs.EDstack.friction_factor\n",
      "2023-04-26 17:23:20 [WARNING] idaes.core.util.scaling: Missing scaling factor for fs.EDstack.pressure_drop\n",
      "2023-04-26 17:23:20 [WARNING] idaes.core.util.scaling: Missing scaling factor for fs.EDstack.pressure_drop_total\n",
      "SFSFSFSF 5555.555555555557\n",
      "2023-04-26 17:23:20 [INFO] idaes.init.fs.feed: Initialization Complete.\n",
      "2023-04-26 17:23:20 [INFO] idaes.init.fs.sepa0: Initialization Step 2 Complete: optimal - Optimal Solution Found\n",
      "2023-04-26 17:23:20 [INFO] idaes.init.fs.pump1.control_volume: Initialization Complete\n",
      "2023-04-26 17:23:20 [INFO] idaes.init.fs.pump1: Initialization Complete: optimal - Optimal Solution Found\n",
      "2023-04-26 17:23:20 [INFO] idaes.init.fs.pump0.control_volume: Initialization Complete\n",
      "2023-04-26 17:23:20 [INFO] idaes.init.fs.pump0: Initialization Complete: optimal - Optimal Solution Found\n",
      "2023-04-26 17:23:20 [INFO] idaes.init.fs.EDstack.diluate: Initialization Complete\n",
      "2023-04-26 17:23:20 [WARNING] idaes.init.fs.EDstack: Non-zero degrees of freedom: Degrees of freedom on fs.EDstack = 5. Fix 5 more variable(s)\n",
      "2023-04-26 17:23:21 [INFO] idaes.init.fs.EDstack.concentrate: Initialization Complete\n",
      "2023-04-26 17:23:27 [INFO] idaes.init.fs.EDstack: Initialization Step 3 successful.\n",
      "2023-04-26 17:23:27 [INFO] idaes.init.fs.EDstack: Initialization Complete: optimal - Optimal Solution Found\n",
      "\n",
      "====================================================================================\n",
      "Unit : fs.EDstack                                                          Time: 0.0\n",
      "------------------------------------------------------------------------------------\n",
      "    Unit Performance\n",
      "\n",
      "    Variables: \n",
      "\n",
      "    Key                                               : Value      : Units         : Fixed : Bounds\n",
      "    Specific electrical power consumption (kW*h/m**3) : 1.0142e+06 :        pascal : False : (0, 1000)\n",
      "             Total electrical power consumption(Watt) :     262.17 :          watt : False : (0, 12100)\n",
      "                               Water recovery by mass :    0.49755 : dimensionless : False : (0, 1)\n",
      "\n",
      "------------------------------------------------------------------------------------\n",
      "    Stream Table\n",
      "                                            Units       Diluate Channel Inlet  Concentrate Channel Inlet  Diluate Channel Outlet  Concentrate Channel Outlet\n",
      "    flow_mol_phase_comp ('Liq', 'H2O')   mole / second           14.430                   14.430                    14.359                    14.501        \n",
      "    flow_mol_phase_comp ('Liq', 'Na_+')  mole / second        0.0044444                0.0044444                0.00034220                 0.0085467        \n",
      "    flow_mol_phase_comp ('Liq', 'Cl_-')  mole / second        0.0044444                0.0044444                0.00034220                 0.0085467        \n",
      "    temperature                                 kelvin           298.15                   298.15                    298.15                    298.15        \n",
      "    pressure                                    pascal       3.0132e+05               3.0132e+05                2.7426e+05                2.7426e+05        \n",
      "====================================================================================\n",
      "2023-04-26 17:23:27 [INFO] idaes.init.fs.prod: Initialization Complete.\n",
      "2023-04-26 17:23:27 [INFO] idaes.init.fs.prod: Initialization Complete.\n",
      "2023-04-26 17:23:27 [INFO] idaes.init.fs.sepa1: Initialization Step 2 Complete: optimal - Optimal Solution Found\n",
      "2023-04-26 17:23:28 [INFO] idaes.init.fs.disp: Initialization Complete.\n",
      "2023-04-26 17:23:28 [INFO] idaes.init.fs.mix0: Initialization Complete: optimal - Optimal Solution Found\n",
      "BADLY SCALED VARS & CONSTRAINS\n",
      "fs.mix0.from_conc_out_state[0.0].flow_mol_phase_comp[Liq,H2O] : 1.4500600009186549e-08\n",
      "fs.mix0.from_conc_out_state[0.0].flow_mol_phase_comp[Liq,Na_+] : 8.546690558165998e-09\n",
      "fs.mix0.from_conc_out_state[0.0].flow_mol_phase_comp[Liq,Cl_-] : 8.546690558158294e-09\n",
      "fs.mix0.from_conc_out_state[0.0].flow_mass_phase_comp[Liq,H2O] : 1.450060000918655e-08\n",
      "fs.mix0.from_conc_out_state[0.0].flow_mass_phase_comp[Liq,Na_+] : 8.546690558165998e-09\n",
      "fs.mix0.from_conc_out_state[0.0].flow_mass_phase_comp[Liq,Cl_-] : 8.546690558158294e-09\n",
      "fs.mix0.from_conc_out_state[0.0].flow_vol_phase[Liq] : 1.4528376753500577e-08\n",
      "fs.sepa1.to_conc_in1_state[0.0].flow_mol_phase_comp[Liq,H2O] : 1.4500600009186549e-08\n",
      "fs.sepa1.to_conc_in1_state[0.0].flow_mol_phase_comp[Liq,Na_+] : 8.546690558165998e-09\n",
      "fs.sepa1.to_conc_in1_state[0.0].flow_mol_phase_comp[Liq,Cl_-] : 8.546690558158294e-09\n",
      "fs.sepa1.to_conc_in1_state[0.0].flow_mass_phase_comp[Liq,H2O] : 1.4500600009186547e-08\n",
      "fs.sepa1.to_conc_in1_state[0.0].flow_mass_phase_comp[Liq,Na_+] : 8.546690558165998e-09\n",
      "fs.sepa1.to_conc_in1_state[0.0].flow_mass_phase_comp[Liq,Cl_-] : 8.546690558158294e-09\n",
      "fs.sepa1.to_conc_in1_state[0.0].flow_vol_phase[Liq] : 1.4528376753500573e-08\n"
     ]
    },
    {
     "name": "stdout",
     "output_type": "stream",
     "text": [
      "===Excecuting c0_mass= 1.0, WR=0.5,V=56.0===\n",
      "2023-04-26 17:23:29 [WARNING] idaes.core.base.costing_base: flow_expr is an expression with a lower bound of less than zero. Costing requires that all flows have a lower bound equal to or greater than zero to avoid negative costs.\n",
      "2023-04-26 17:23:29 [WARNING] idaes.core.base.costing_base: flow_expr is an expression with a lower bound of less than zero. Costing requires that all flows have a lower bound equal to or greater than zero to avoid negative costs.\n",
      "======DOF_intial======\n",
      "\n",
      "========================================================================\n",
      "Model Statistics   \n",
      "\n",
      "Degrees of Freedom: 38 \n",
      "\n",
      "Total No. Variables: 2374 \n",
      "    No. Fixed Variables: 24\n",
      "    No. Unused Variables: 16 (Fixed):5)\n",
      "    No. Variables only in Inequalities: 0 (Fixed: 0) \n",
      "\n",
      "Total No. Constraints: 2301 \n",
      "    No. Equality Constraints: 2301 (Deactivated: 0)\n",
      "    No. Inequality Constraints: 0 (Deactivated: 0)\n",
      "\n",
      "No. Objectives: 0 (Deactivated: 0)\n",
      "\n",
      "No. Blocks: 94 (Deactivated: 0) \n",
      "No. Expressions: 10 \n",
      "========================================================================\n",
      "\n",
      "2023-04-26 17:23:29 [WARNING] idaes.watertap.property_models.multicomp_aq_sol_prop_pack: While using the calculate_state method on fs.feed.properties[0.0], variable flow_vol_phase was provided as an argument in var_args, but it does not have a scaling factor. This suggests that the calculate_scaling_factor method has not been used or the variable was created on demand after the scaling factors were calculated. It is recommended to touch all relevant variables (i.e. call them or set an initial value) before using the calculate_scaling_factor method.\n",
      "2023-04-26 17:23:29 [WARNING] idaes.watertap.property_models.multicomp_aq_sol_prop_pack: While using the calculate_state method on fs.feed.properties[0.0], variable conc_mol_phase_comp was provided as an argument in var_args, but it does not have a scaling factor. This suggests that the calculate_scaling_factor method has not been used or the variable was created on demand after the scaling factors were calculated. It is recommended to touch all relevant variables (i.e. call them or set an initial value) before using the calculate_scaling_factor method.\n",
      "2023-04-26 17:23:29 [WARNING] idaes.watertap.property_models.multicomp_aq_sol_prop_pack: While using the calculate_state method on fs.feed.properties[0.0], variable conc_mol_phase_comp was provided as an argument in var_args, but it does not have a scaling factor. This suggests that the calculate_scaling_factor method has not been used or the variable was created on demand after the scaling factors were calculated. It is recommended to touch all relevant variables (i.e. call them or set an initial value) before using the calculate_scaling_factor method.\n",
      "2023-04-26 17:23:29 [WARNING] idaes.core.util.scaling: Missing scaling factor for fs.EDstack.diluate.area\n",
      "2023-04-26 17:23:29 [WARNING] idaes.core.util.scaling: Missing scaling factor for fs.EDstack.concentrate.area\n",
      "2023-04-26 17:23:29 [WARNING] idaes.core.util.scaling: Missing scaling factor for fs.EDstack.membrane_thickness\n",
      "2023-04-26 17:23:29 [WARNING] idaes.core.util.scaling: Missing scaling factor for fs.EDstack.membrane_areal_resistance\n",
      "2023-04-26 17:23:29 [WARNING] idaes.core.util.scaling: Missing scaling factor for fs.EDstack.solute_diffusivity_membrane\n",
      "2023-04-26 17:23:29 [WARNING] idaes.core.util.scaling: Missing scaling factor for fs.EDstack.diffus_mass\n",
      "2023-04-26 17:23:29 [WARNING] idaes.core.util.scaling: Missing scaling factor for fs.EDstack.water_permeability_membrane\n",
      "2023-04-26 17:23:29 [WARNING] idaes.core.util.scaling: Missing scaling factor for fs.EDstack.channel_height\n",
      "2023-04-26 17:23:29 [WARNING] idaes.core.util.scaling: Missing scaling factor for fs.EDstack.spacer_porosity\n",
      "2023-04-26 17:23:29 [WARNING] idaes.core.util.scaling: Missing scaling factor for fs.EDstack.electrodes_resistance\n",
      "2023-04-26 17:23:29 [WARNING] idaes.core.util.scaling: Missing scaling factor for fs.EDstack.spacer_specific_area\n",
      "2023-04-26 17:23:29 [WARNING] idaes.core.util.scaling: Missing scaling factor for fs.EDstack.hydraulic_diameter\n",
      "2023-04-26 17:23:29 [WARNING] idaes.core.util.scaling: Missing scaling factor for fs.EDstack.N_Re\n",
      "2023-04-26 17:23:29 [WARNING] idaes.core.util.scaling: Missing scaling factor for fs.EDstack.N_Sc\n",
      "2023-04-26 17:23:29 [WARNING] idaes.core.util.scaling: Missing scaling factor for fs.EDstack.N_Sh\n",
      "2023-04-26 17:23:29 [WARNING] idaes.core.util.scaling: Missing scaling factor for fs.EDstack.friction_factor\n",
      "2023-04-26 17:23:29 [WARNING] idaes.core.util.scaling: Missing scaling factor for fs.EDstack.pressure_drop\n",
      "2023-04-26 17:23:29 [WARNING] idaes.core.util.scaling: Missing scaling factor for fs.EDstack.pressure_drop_total\n",
      "SFSFSFSF 5555.555555555557\n",
      "2023-04-26 17:23:30 [INFO] idaes.init.fs.feed: Initialization Complete.\n",
      "2023-04-26 17:23:30 [INFO] idaes.init.fs.sepa0: Initialization Step 2 Complete: optimal - Optimal Solution Found\n",
      "2023-04-26 17:23:30 [INFO] idaes.init.fs.pump1.control_volume: Initialization Complete\n",
      "2023-04-26 17:23:30 [INFO] idaes.init.fs.pump1: Initialization Complete: optimal - Optimal Solution Found\n",
      "2023-04-26 17:23:30 [INFO] idaes.init.fs.pump0.control_volume: Initialization Complete\n",
      "2023-04-26 17:23:30 [INFO] idaes.init.fs.pump0: Initialization Complete: optimal - Optimal Solution Found\n",
      "2023-04-26 17:23:30 [INFO] idaes.init.fs.EDstack.diluate: Initialization Complete\n",
      "2023-04-26 17:23:30 [WARNING] idaes.init.fs.EDstack: Non-zero degrees of freedom: Degrees of freedom on fs.EDstack = 5. Fix 5 more variable(s)\n",
      "2023-04-26 17:23:30 [INFO] idaes.init.fs.EDstack.concentrate: Initialization Complete\n",
      "2023-04-26 17:24:02 [WARNING] idaes.watertap.examples.flowsheets.electrodialysis.electrodialysis_1stack_concentrate_recirc: Initialization Fails in initialize_dof0_system:Cannot load a SolverResults object with bad status: error\n",
      "WARNING: Loading a SolverResults object with a warning status into\n",
      "    model.name=\"unknown\";\n",
      "      - termination condition: other\n",
      "      - message from solver: Too few degrees of freedom (rethrown)!\n",
      "===Excecuting c0_mass= 1.0, WR=0.5,V=58.0===\n",
      "2023-04-26 17:24:03 [WARNING] idaes.core.base.costing_base: flow_expr is an expression with a lower bound of less than zero. Costing requires that all flows have a lower bound equal to or greater than zero to avoid negative costs.\n",
      "2023-04-26 17:24:03 [WARNING] idaes.core.base.costing_base: flow_expr is an expression with a lower bound of less than zero. Costing requires that all flows have a lower bound equal to or greater than zero to avoid negative costs.\n",
      "======DOF_intial======\n",
      "\n",
      "========================================================================\n",
      "Model Statistics   \n",
      "\n",
      "Degrees of Freedom: 38 \n",
      "\n",
      "Total No. Variables: 2374 \n",
      "    No. Fixed Variables: 24\n",
      "    No. Unused Variables: 16 (Fixed):5)\n",
      "    No. Variables only in Inequalities: 0 (Fixed: 0) \n",
      "\n",
      "Total No. Constraints: 2301 \n",
      "    No. Equality Constraints: 2301 (Deactivated: 0)\n",
      "    No. Inequality Constraints: 0 (Deactivated: 0)\n",
      "\n",
      "No. Objectives: 0 (Deactivated: 0)\n",
      "\n",
      "No. Blocks: 94 (Deactivated: 0) \n",
      "No. Expressions: 10 \n",
      "========================================================================\n",
      "\n",
      "2023-04-26 17:24:03 [WARNING] idaes.watertap.property_models.multicomp_aq_sol_prop_pack: While using the calculate_state method on fs.feed.properties[0.0], variable flow_vol_phase was provided as an argument in var_args, but it does not have a scaling factor. This suggests that the calculate_scaling_factor method has not been used or the variable was created on demand after the scaling factors were calculated. It is recommended to touch all relevant variables (i.e. call them or set an initial value) before using the calculate_scaling_factor method.\n",
      "2023-04-26 17:24:03 [WARNING] idaes.watertap.property_models.multicomp_aq_sol_prop_pack: While using the calculate_state method on fs.feed.properties[0.0], variable conc_mol_phase_comp was provided as an argument in var_args, but it does not have a scaling factor. This suggests that the calculate_scaling_factor method has not been used or the variable was created on demand after the scaling factors were calculated. It is recommended to touch all relevant variables (i.e. call them or set an initial value) before using the calculate_scaling_factor method.\n"
     ]
    },
    {
     "name": "stdout",
     "output_type": "stream",
     "text": [
      "2023-04-26 17:24:03 [WARNING] idaes.watertap.property_models.multicomp_aq_sol_prop_pack: While using the calculate_state method on fs.feed.properties[0.0], variable conc_mol_phase_comp was provided as an argument in var_args, but it does not have a scaling factor. This suggests that the calculate_scaling_factor method has not been used or the variable was created on demand after the scaling factors were calculated. It is recommended to touch all relevant variables (i.e. call them or set an initial value) before using the calculate_scaling_factor method.\n",
      "2023-04-26 17:24:03 [WARNING] idaes.core.util.scaling: Missing scaling factor for fs.EDstack.diluate.area\n",
      "2023-04-26 17:24:03 [WARNING] idaes.core.util.scaling: Missing scaling factor for fs.EDstack.concentrate.area\n",
      "2023-04-26 17:24:03 [WARNING] idaes.core.util.scaling: Missing scaling factor for fs.EDstack.membrane_thickness\n",
      "2023-04-26 17:24:03 [WARNING] idaes.core.util.scaling: Missing scaling factor for fs.EDstack.membrane_areal_resistance\n",
      "2023-04-26 17:24:03 [WARNING] idaes.core.util.scaling: Missing scaling factor for fs.EDstack.solute_diffusivity_membrane\n",
      "2023-04-26 17:24:03 [WARNING] idaes.core.util.scaling: Missing scaling factor for fs.EDstack.diffus_mass\n",
      "2023-04-26 17:24:03 [WARNING] idaes.core.util.scaling: Missing scaling factor for fs.EDstack.water_permeability_membrane\n",
      "2023-04-26 17:24:03 [WARNING] idaes.core.util.scaling: Missing scaling factor for fs.EDstack.channel_height\n",
      "2023-04-26 17:24:03 [WARNING] idaes.core.util.scaling: Missing scaling factor for fs.EDstack.spacer_porosity\n",
      "2023-04-26 17:24:03 [WARNING] idaes.core.util.scaling: Missing scaling factor for fs.EDstack.electrodes_resistance\n",
      "2023-04-26 17:24:03 [WARNING] idaes.core.util.scaling: Missing scaling factor for fs.EDstack.spacer_specific_area\n",
      "2023-04-26 17:24:03 [WARNING] idaes.core.util.scaling: Missing scaling factor for fs.EDstack.hydraulic_diameter\n",
      "2023-04-26 17:24:03 [WARNING] idaes.core.util.scaling: Missing scaling factor for fs.EDstack.N_Re\n",
      "2023-04-26 17:24:03 [WARNING] idaes.core.util.scaling: Missing scaling factor for fs.EDstack.N_Sc\n",
      "2023-04-26 17:24:03 [WARNING] idaes.core.util.scaling: Missing scaling factor for fs.EDstack.N_Sh\n",
      "2023-04-26 17:24:03 [WARNING] idaes.core.util.scaling: Missing scaling factor for fs.EDstack.friction_factor\n",
      "2023-04-26 17:24:03 [WARNING] idaes.core.util.scaling: Missing scaling factor for fs.EDstack.pressure_drop\n",
      "2023-04-26 17:24:03 [WARNING] idaes.core.util.scaling: Missing scaling factor for fs.EDstack.pressure_drop_total\n",
      "SFSFSFSF 5555.555555555557\n",
      "2023-04-26 17:24:03 [INFO] idaes.init.fs.feed: Initialization Complete.\n",
      "2023-04-26 17:24:04 [INFO] idaes.init.fs.sepa0: Initialization Step 2 Complete: optimal - Optimal Solution Found\n",
      "2023-04-26 17:24:04 [INFO] idaes.init.fs.pump1.control_volume: Initialization Complete\n",
      "2023-04-26 17:24:04 [INFO] idaes.init.fs.pump1: Initialization Complete: optimal - Optimal Solution Found\n",
      "2023-04-26 17:24:04 [INFO] idaes.init.fs.pump0.control_volume: Initialization Complete\n",
      "2023-04-26 17:24:04 [INFO] idaes.init.fs.pump0: Initialization Complete: optimal - Optimal Solution Found\n",
      "2023-04-26 17:24:04 [INFO] idaes.init.fs.EDstack.diluate: Initialization Complete\n",
      "2023-04-26 17:24:04 [WARNING] idaes.init.fs.EDstack: Non-zero degrees of freedom: Degrees of freedom on fs.EDstack = 5. Fix 5 more variable(s)\n",
      "2023-04-26 17:24:04 [INFO] idaes.init.fs.EDstack.concentrate: Initialization Complete\n",
      "2023-04-26 17:24:14 [INFO] idaes.init.fs.EDstack: Initialization Step 3 successful.\n",
      "2023-04-26 17:24:14 [INFO] idaes.init.fs.EDstack: Initialization Complete: optimal - Optimal Solution Found\n",
      "\n",
      "====================================================================================\n",
      "Unit : fs.EDstack                                                          Time: 0.0\n",
      "------------------------------------------------------------------------------------\n",
      "    Unit Performance\n",
      "\n",
      "    Variables: \n",
      "\n",
      "    Key                                               : Value      : Units         : Fixed : Bounds\n",
      "    Specific electrical power consumption (kW*h/m**3) : 1.0960e+06 :        pascal : False : (0, 1000)\n",
      "             Total electrical power consumption(Watt) :     283.29 :          watt : False : (0, 12100)\n",
      "                               Water recovery by mass :    0.49753 : dimensionless : False : (0, 1)\n",
      "\n",
      "------------------------------------------------------------------------------------\n",
      "    Stream Table\n",
      "                                            Units       Diluate Channel Inlet  Concentrate Channel Inlet  Diluate Channel Outlet  Concentrate Channel Outlet\n",
      "    flow_mol_phase_comp ('Liq', 'H2O')   mole / second           14.430                   14.430                    14.359                    14.501        \n",
      "    flow_mol_phase_comp ('Liq', 'Na_+')  mole / second        0.0044444                0.0044444                0.00033001                 0.0085589        \n",
      "    flow_mol_phase_comp ('Liq', 'Cl_-')  mole / second        0.0044444                0.0044444                0.00033001                 0.0085589        \n",
      "    temperature                                 kelvin           298.15                   298.15                    298.15                    298.15        \n",
      "    pressure                                    pascal       3.0132e+05               3.0132e+05                2.7426e+05                2.7426e+05        \n",
      "====================================================================================\n",
      "2023-04-26 17:24:14 [INFO] idaes.init.fs.prod: Initialization Complete.\n",
      "2023-04-26 17:24:14 [INFO] idaes.init.fs.prod: Initialization Complete.\n",
      "2023-04-26 17:24:14 [INFO] idaes.init.fs.sepa1: Initialization Step 2 Complete: optimal - Optimal Solution Found\n",
      "2023-04-26 17:24:14 [INFO] idaes.init.fs.disp: Initialization Complete.\n",
      "2023-04-26 17:24:15 [INFO] idaes.init.fs.mix0: Initialization Complete: optimal - Optimal Solution Found\n",
      "BADLY SCALED VARS & CONSTRAINS\n",
      "fs.mix0.from_conc_out_state[0.0].flow_mol_phase_comp[Liq,H2O] : 1.4501293657433687e-08\n",
      "fs.mix0.from_conc_out_state[0.0].flow_mol_phase_comp[Liq,Na_+] : 8.558878933270296e-09\n",
      "fs.mix0.from_conc_out_state[0.0].flow_mol_phase_comp[Liq,Cl_-] : 8.558878933251423e-09\n",
      "fs.mix0.from_conc_out_state[0.0].flow_mass_phase_comp[Liq,H2O] : 1.4501293657433687e-08\n",
      "fs.mix0.from_conc_out_state[0.0].flow_mass_phase_comp[Liq,Na_+] : 8.558878933270296e-09\n",
      "fs.mix0.from_conc_out_state[0.0].flow_mass_phase_comp[Liq,Cl_-] : 8.558878933251423e-09\n",
      "fs.mix0.from_conc_out_state[0.0].flow_vol_phase[Liq] : 1.452911001396678e-08\n",
      "fs.sepa1.to_conc_in1_state[0.0].flow_mol_phase_comp[Liq,H2O] : 1.4501293657433687e-08\n",
      "fs.sepa1.to_conc_in1_state[0.0].flow_mol_phase_comp[Liq,Na_+] : 8.558878933270296e-09\n",
      "fs.sepa1.to_conc_in1_state[0.0].flow_mol_phase_comp[Liq,Cl_-] : 8.558878933251423e-09\n",
      "fs.sepa1.to_conc_in1_state[0.0].flow_mass_phase_comp[Liq,H2O] : 1.4501293657433686e-08\n",
      "fs.sepa1.to_conc_in1_state[0.0].flow_mass_phase_comp[Liq,Na_+] : 8.558878933270296e-09\n",
      "fs.sepa1.to_conc_in1_state[0.0].flow_mass_phase_comp[Liq,Cl_-] : 8.558878933251423e-09\n",
      "fs.sepa1.to_conc_in1_state[0.0].flow_vol_phase[Liq] : 1.4529110013966778e-08\n",
      "===Excecuting c0_mass= 1.0, WR=0.5,V=60.0===\n",
      "2023-04-26 17:24:16 [WARNING] idaes.core.base.costing_base: flow_expr is an expression with a lower bound of less than zero. Costing requires that all flows have a lower bound equal to or greater than zero to avoid negative costs.\n",
      "2023-04-26 17:24:16 [WARNING] idaes.core.base.costing_base: flow_expr is an expression with a lower bound of less than zero. Costing requires that all flows have a lower bound equal to or greater than zero to avoid negative costs.\n",
      "======DOF_intial======\n",
      "\n",
      "========================================================================\n",
      "Model Statistics   \n",
      "\n",
      "Degrees of Freedom: 38 \n",
      "\n",
      "Total No. Variables: 2374 \n",
      "    No. Fixed Variables: 24\n",
      "    No. Unused Variables: 16 (Fixed):5)\n",
      "    No. Variables only in Inequalities: 0 (Fixed: 0) \n",
      "\n",
      "Total No. Constraints: 2301 \n",
      "    No. Equality Constraints: 2301 (Deactivated: 0)\n",
      "    No. Inequality Constraints: 0 (Deactivated: 0)\n",
      "\n",
      "No. Objectives: 0 (Deactivated: 0)\n",
      "\n",
      "No. Blocks: 94 (Deactivated: 0) \n",
      "No. Expressions: 10 \n",
      "========================================================================\n",
      "\n",
      "2023-04-26 17:24:16 [WARNING] idaes.watertap.property_models.multicomp_aq_sol_prop_pack: While using the calculate_state method on fs.feed.properties[0.0], variable flow_vol_phase was provided as an argument in var_args, but it does not have a scaling factor. This suggests that the calculate_scaling_factor method has not been used or the variable was created on demand after the scaling factors were calculated. It is recommended to touch all relevant variables (i.e. call them or set an initial value) before using the calculate_scaling_factor method.\n"
     ]
    },
    {
     "name": "stdout",
     "output_type": "stream",
     "text": [
      "2023-04-26 17:24:16 [WARNING] idaes.watertap.property_models.multicomp_aq_sol_prop_pack: While using the calculate_state method on fs.feed.properties[0.0], variable conc_mol_phase_comp was provided as an argument in var_args, but it does not have a scaling factor. This suggests that the calculate_scaling_factor method has not been used or the variable was created on demand after the scaling factors were calculated. It is recommended to touch all relevant variables (i.e. call them or set an initial value) before using the calculate_scaling_factor method.\n",
      "2023-04-26 17:24:16 [WARNING] idaes.watertap.property_models.multicomp_aq_sol_prop_pack: While using the calculate_state method on fs.feed.properties[0.0], variable conc_mol_phase_comp was provided as an argument in var_args, but it does not have a scaling factor. This suggests that the calculate_scaling_factor method has not been used or the variable was created on demand after the scaling factors were calculated. It is recommended to touch all relevant variables (i.e. call them or set an initial value) before using the calculate_scaling_factor method.\n",
      "2023-04-26 17:24:16 [WARNING] idaes.core.util.scaling: Missing scaling factor for fs.EDstack.diluate.area\n",
      "2023-04-26 17:24:16 [WARNING] idaes.core.util.scaling: Missing scaling factor for fs.EDstack.concentrate.area\n",
      "2023-04-26 17:24:16 [WARNING] idaes.core.util.scaling: Missing scaling factor for fs.EDstack.membrane_thickness\n",
      "2023-04-26 17:24:16 [WARNING] idaes.core.util.scaling: Missing scaling factor for fs.EDstack.membrane_areal_resistance\n",
      "2023-04-26 17:24:16 [WARNING] idaes.core.util.scaling: Missing scaling factor for fs.EDstack.solute_diffusivity_membrane\n",
      "2023-04-26 17:24:16 [WARNING] idaes.core.util.scaling: Missing scaling factor for fs.EDstack.diffus_mass\n",
      "2023-04-26 17:24:16 [WARNING] idaes.core.util.scaling: Missing scaling factor for fs.EDstack.water_permeability_membrane\n",
      "2023-04-26 17:24:16 [WARNING] idaes.core.util.scaling: Missing scaling factor for fs.EDstack.channel_height\n",
      "2023-04-26 17:24:16 [WARNING] idaes.core.util.scaling: Missing scaling factor for fs.EDstack.spacer_porosity\n",
      "2023-04-26 17:24:16 [WARNING] idaes.core.util.scaling: Missing scaling factor for fs.EDstack.electrodes_resistance\n",
      "2023-04-26 17:24:16 [WARNING] idaes.core.util.scaling: Missing scaling factor for fs.EDstack.spacer_specific_area\n",
      "2023-04-26 17:24:16 [WARNING] idaes.core.util.scaling: Missing scaling factor for fs.EDstack.hydraulic_diameter\n",
      "2023-04-26 17:24:16 [WARNING] idaes.core.util.scaling: Missing scaling factor for fs.EDstack.N_Re\n",
      "2023-04-26 17:24:16 [WARNING] idaes.core.util.scaling: Missing scaling factor for fs.EDstack.N_Sc\n",
      "2023-04-26 17:24:16 [WARNING] idaes.core.util.scaling: Missing scaling factor for fs.EDstack.N_Sh\n",
      "2023-04-26 17:24:16 [WARNING] idaes.core.util.scaling: Missing scaling factor for fs.EDstack.friction_factor\n",
      "2023-04-26 17:24:16 [WARNING] idaes.core.util.scaling: Missing scaling factor for fs.EDstack.pressure_drop\n",
      "2023-04-26 17:24:16 [WARNING] idaes.core.util.scaling: Missing scaling factor for fs.EDstack.pressure_drop_total\n",
      "SFSFSFSF 5555.555555555557\n",
      "2023-04-26 17:24:16 [INFO] idaes.init.fs.feed: Initialization Complete.\n",
      "2023-04-26 17:24:17 [INFO] idaes.init.fs.sepa0: Initialization Step 2 Complete: optimal - Optimal Solution Found\n",
      "2023-04-26 17:24:17 [INFO] idaes.init.fs.pump1.control_volume: Initialization Complete\n",
      "2023-04-26 17:24:17 [INFO] idaes.init.fs.pump1: Initialization Complete: optimal - Optimal Solution Found\n",
      "2023-04-26 17:24:17 [INFO] idaes.init.fs.pump0.control_volume: Initialization Complete\n",
      "2023-04-26 17:24:17 [INFO] idaes.init.fs.pump0: Initialization Complete: optimal - Optimal Solution Found\n",
      "2023-04-26 17:24:17 [INFO] idaes.init.fs.EDstack.diluate: Initialization Complete\n",
      "2023-04-26 17:24:17 [WARNING] idaes.init.fs.EDstack: Non-zero degrees of freedom: Degrees of freedom on fs.EDstack = 5. Fix 5 more variable(s)\n",
      "2023-04-26 17:24:17 [INFO] idaes.init.fs.EDstack.concentrate: Initialization Complete\n",
      "2023-04-26 17:24:29 [WARNING] idaes.watertap.examples.flowsheets.electrodialysis.electrodialysis_1stack_concentrate_recirc: Initialization Fails in initialize_dof0_system:Cannot load a SolverResults object with bad status: error\n",
      "WARNING: Loading a SolverResults object with a warning status into\n",
      "    model.name=\"unknown\";\n",
      "      - termination condition: other\n",
      "      - message from solver: Too few degrees of freedom (rethrown)!\n",
      "    c0_mass   WR  Volt  c_prod_mass    Sol_Cond\n",
      "0         1  0.5     2     0.894809     optimal\n",
      "1         1  0.5     4     0.794033     optimal\n",
      "2         1  0.5     6     0.699591     optimal\n",
      "3         1  0.5     8     0.612840     optimal\n",
      "4         1  0.5    10     0.534571     optimal\n",
      "5         1  0.5    12     0.465058     optimal\n",
      "6         1  0.5    14     0.404157     optimal\n",
      "7         1  0.5    16     0.351416     optimal\n",
      "8         1  0.5    18     0.306179     optimal\n",
      "9         1  0.5    20     0.267681     optimal\n",
      "10        1  0.5    22     0.235122     optimal\n",
      "11        1  0.5    24     0.207719     optimal\n",
      "12        1  0.5    26     0.184736     optimal\n",
      "13        1  0.5    28     0.165510     optimal\n",
      "14        1  0.5    30     0.149454     optimal\n",
      "15        1  0.5    32     0.136058     optimal\n",
      "16        1  0.5    34     0.124886     optimal\n",
      "17        1  0.5    36     0.115571     optimal\n",
      "18        1  0.5    38     0.107801     optimal\n",
      "19        1  0.5    40     0.101320     optimal\n",
      "20        1  0.5    42     0.095911     optimal\n",
      "21        1  0.5    44     0.091396     optimal\n",
      "22        1  0.5    46     0.086648  infeasible\n",
      "23        1  0.5    48     0.084482     optimal\n",
      "24        1  0.5    50     0.081858     optimal\n",
      "25        1  0.5    52     0.079669     optimal\n",
      "26        1  0.5    54     0.077845     optimal\n",
      "27        1  0.5    56     1.000000       other\n",
      "28        1  0.5    58     0.075063     optimal\n",
      "29        1  0.5    60     1.000000       other\n"
     ]
    },
    {
     "data": {
      "text/plain": [
       "'\\n\\ninit_arg = {\\n    (\"flow_vol_phase\", (\"Liq\")): 5.2e-4,\\n    (\"conc_mol_phase_comp\", (\"Liq\", \"Na_+\")): 34.188,\\n    (\"conc_mol_phase_comp\", (\"Liq\", \"Cl_-\")): 34.188,\\n}  # Corresponding to C_feed = 2g/L\\nm.fs.feed.properties.calculate_state(\\n    init_arg,\\n    hold_state=True,\\n)\\nm.fs.EDstack.voltage_applied[0].fix(10)\\nm.fs.recovery_vol_H2O.fix(0.7)\\nedfs.condition_base(m)\\ncheck_dof(m)\\n'"
      ]
     },
     "execution_count": 10,
     "metadata": {},
     "output_type": "execute_result"
    }
   ],
   "source": [
    "# To visualize the product salinity as a funciton of applied potential at \n",
    "# different feed salinity and water recoveries. \n",
    "_log = idaeslog.getLogger(__name__)\n",
    "try:\n",
    "    del m\n",
    "except:\n",
    "    pass\n",
    "#m = ef.build()\n",
    "fd_sal=[1] # in g/L\n",
    "c_mass_fd=pd.DataFrame(fd_sal,columns=[\"c0_mass\"])\n",
    "initarg_list=ef.make_initarg_list(fd_sal)\n",
    "wr_list = [0.5]\n",
    "wr=pd.DataFrame(wr_list,columns=[\"WR\"])\n",
    "volt_list= list(np.arange(2,62,2))\n",
    "volt=pd.DataFrame(volt_list,columns=[\"Volt\"])\n",
    "c_wr_v=c_mass_fd.merge(wr,how='cross').merge(volt,how='cross')\n",
    "solver = get_solver()\n",
    "try:\n",
    "    del outdt\n",
    "except:\n",
    "    pass\n",
    "outdt=c_wr_v.copy()\n",
    "for i,r in c_wr_v.iterrows():\n",
    "    print(f\"===Excecuting c0_mass= {r['c0_mass']}, WR={r['WR']},V={r['Volt']}===\")\n",
    "    if (i>1 and\n",
    "        outdt.loc[i-1, \"c0_mass\"]==outdt.loc[i, \"c0_mass\"]\n",
    "        and\n",
    "        outdt.loc[i-1, \"WR\"]==outdt.loc[i, \"WR\"]\n",
    "        and\n",
    "        pd.isna(outdt.loc[i-1, \"c_prod_mass\"])\n",
    "        and pd.isna(outdt.loc[i-2, \"c_prod_mass\"])):\n",
    "        \n",
    "        outdt.loc[i,\"c_prod_mass\"]= float(\"nan\")\n",
    "        print(\"Consective Fails, pass solving!!\")\n",
    "        continue                                                 \n",
    "                                                      \n",
    "    m=ef.build()\n",
    "    print(\"======DOF_intial======\")\n",
    "    report_statistics(m)\n",
    "    initarg=ef.make_initarg_list([r[\"c0_mass\"]])\n",
    "    #print(f\"Initial State Var: \\n{initarg}\")\n",
    "    deci_var_dict={\"voltage_applied[0]\":r[\"Volt\"],\"recovery_vol_H2O\": r[\"WR\"]}\n",
    "    \n",
    "    deci_comp=ef.initialize_dof0_system(m=m,initargs=initarg[0],**deci_var_dict)\n",
    "    try: \n",
    "        solres=ef.solve(m, tee=False,check_termination=True)\n",
    "    except:\n",
    "        if solres.solver.termination_condition==\"maxIterations\":\n",
    "            solres=solver.solve(m,tee=False)\n",
    "            if check_optimal_termination(solres):\n",
    "                outdt.loc[i,\"c_prod_mass\"]= value(m.fs.prod_salinity)\n",
    "                outdt.loc[i,\"Sol_Cond\"]=solres.solver.termination_condition\n",
    "        else:\n",
    "    #except:\n",
    "            _log.warning(\"Solving FAILING at {} with solver status of {}\"\n",
    "                         \" and termination condition of {} \".format(\n",
    "                             r,solres.solver.status, solres.solver.termination_condition))\n",
    "            outdt.loc[i,\"c_prod_mass\"]= float(\"nan\")\n",
    "            outdt.loc[i,\"Sol_Cond\"]=solres.solver.termination_condition\n",
    "            \n",
    "    outdt.loc[i,\"c_prod_mass\"]= value(m.fs.prod_salinity)\n",
    "    outdt.loc[i,\"Sol_Cond\"]=solres.solver.termination_condition\n",
    "    outdt.to_csv(\"~/Documents/Projects/wt_untracked/output290323/opt_prod_sal_volt_c0_wr_2_102_d_qc2.csv\")\n",
    "    \n",
    "    #for comp in deci_comp:\n",
    "        #comp.unfix()\n",
    "    #print(\"======DOF_after======\")\n",
    "    #report_statistics(m)\n",
    " \n",
    "print(outdt)\n",
    "outdt.to_csv(\"~/Documents/Projects/wt_untracked/output290323/opt_prod_sal_volt_c0_wr_2_102_d_qc2.csv\")\n",
    "\n",
    "\n",
    " \n",
    "\n",
    "\"\"\"\n",
    "\n",
    "init_arg = {\n",
    "    (\"flow_vol_phase\", (\"Liq\")): 5.2e-4,\n",
    "    (\"conc_mol_phase_comp\", (\"Liq\", \"Na_+\")): 34.188,\n",
    "    (\"conc_mol_phase_comp\", (\"Liq\", \"Cl_-\")): 34.188,\n",
    "}  # Corresponding to C_feed = 2g/L\n",
    "m.fs.feed.properties.calculate_state(\n",
    "    init_arg,\n",
    "    hold_state=True,\n",
    ")\n",
    "m.fs.EDstack.voltage_applied[0].fix(10)\n",
    "m.fs.recovery_vol_H2O.fix(0.7)\n",
    "edfs.condition_base(m)\n",
    "check_dof(m)\n",
    "\"\"\""
   ]
  },
  {
   "cell_type": "code",
   "execution_count": 171,
   "id": "a486ea8f",
   "metadata": {},
   "outputs": [
    {
     "name": "stdout",
     "output_type": "stream",
     "text": [
      "[2, 4, 6, 8, 10, 12, 14, 16, 18, 20, 22, 24, 26, 28, 30, 32, 34, 36, 38, 40, 42, 44, 46, 48, 50, 52, 54, 56, 58, 60]\n"
     ]
    }
   ],
   "source": [
    "volt_list= list(np.arange(2, 62, 2))\n",
    "print(volt_list)"
   ]
  }
 ],
 "metadata": {
  "kernelspec": {
   "display_name": "Python 3 (ipykernel)",
   "language": "python",
   "name": "python3"
  },
  "language_info": {
   "codemirror_mode": {
    "name": "ipython",
    "version": 3
   },
   "file_extension": ".py",
   "mimetype": "text/x-python",
   "name": "python",
   "nbconvert_exporter": "python",
   "pygments_lexer": "ipython3",
   "version": "3.10.8"
  }
 },
 "nbformat": 4,
 "nbformat_minor": 5
}

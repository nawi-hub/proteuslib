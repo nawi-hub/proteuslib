{
 "cells": [
  {
   "cell_type": "code",
   "execution_count": null,
   "id": "9fc955f6",
   "metadata": {},
   "outputs": [],
   "source": [
    "import watertap.examples.flowsheets.electrodialysis.electrodialysis_1stack_concentrate_recirc as ef\n",
    "import importlib\n",
    "from idaes.core.solvers import get_solver\n",
    "import pandas as pd\n",
    "import numpy as np\n",
    "from pyomo.environ import value, check_optimal_termination\n",
    "import idaes.logger as idaeslog\n",
    "importlib.reload(ef)"
   ]
  },
  {
   "cell_type": "code",
   "execution_count": null,
   "id": "3c86fd25",
   "metadata": {},
   "outputs": [],
   "source": [
    "# To visualize the product salinity as a funciton of applied potential at \n",
    "# different feed salinity and water recoveries. \n",
    "_log = idaeslog.getLogger(__name__)\n",
    "solver = get_solver()\n",
    "m = ef.build()\n",
    "fd_sal=[1, 5, 15] # in g/L\n",
    "c_mass_fd=pd.DataFrame(fd_sal,columns=[\"c0_mass\"])\n",
    "initarg_list=ef.make_initarg_list(fd_sal)\n",
    "wr_list = [0.5, 0.7, 0.9]\n",
    "wr=pd.DataFrame(wr_list,columns=[\"WR\"])\n",
    "volt_list= list(np.arange(5, 25, 5))\n",
    "volt=pd.DataFrame(volt_list,columns=[\"Volt\"])\n",
    "c_wr_v=c_mass_fd.merge(wr,how='cross').merge(volt,how='cross')\n",
    "solver = get_solver()\n",
    "if not outdt is None:\n",
    "    del outdt\n",
    "outdt=c_wr_v.copy()\n",
    "for i,r in c_wr_v[(c_wr_v[\"c0_mass\"]==1) & (c_wr_v[\"WR\"]==0.7)].iterrows():\n",
    "    m.fs.feed.find_component(\"flow_mol_phase_comp\").unfix()\n",
    "    initarg=ef.make_initarg_list([r[\"c0_mass\"]])\n",
    "    deci_var_dict={\"voltage_applied[0]\":r[\"Volt\"],\"recovery_vol_H2O\": r[\"WR\"]}\n",
    "    try:\n",
    "        deci_comp=ef.initialize_dof0_system(m=m,initargs=initarg[0],**deci_var_dict)\n",
    "    except:\n",
    "        _log.warning(\"Initialization FAILING: {}\".format(r))\n",
    "        pass\n",
    "    solres=solver.solve(m)\n",
    "    if check_optimal_termination(solres):\n",
    "        outdt.loc[i,\"c_prod_mass\"]= value(m.fs.prod_salinity)\n",
    "        outdt.loc[i,\"Sol_Cond\"]=solres.solver.termination_condition\n",
    "    else:\n",
    "        _log.warning(\"Solving FAILING at {} with solver status {}\".format(r,solres.solver.status))\n",
    "        outdt.loc[i,\"c_prod_mass\"]= float(\"nan\")\n",
    "        outdt.loc[i,\"Sol_Cond\"]=solres.solver.termination_condition\n",
    "    for comp in deci_comp:\n",
    "        comp.unfix()\n",
    " \n",
    "print(outdt)   "
   ]
  }
 ],
 "metadata": {
  "kernelspec": {
   "display_name": "Python 3 (ipykernel)",
   "language": "python",
   "name": "python3"
  },
  "language_info": {
   "codemirror_mode": {
    "name": "ipython",
    "version": 3
   },
   "file_extension": ".py",
   "mimetype": "text/x-python",
   "name": "python",
   "nbconvert_exporter": "python",
   "pygments_lexer": "ipython3",
   "version": "3.10.8"
  }
 },
 "nbformat": 4,
 "nbformat_minor": 5
}
